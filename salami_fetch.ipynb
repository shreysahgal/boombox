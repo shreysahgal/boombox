{
 "cells": [
  {
   "cell_type": "code",
   "execution_count": 51,
   "metadata": {},
   "outputs": [],
   "source": [
    "import os\n",
    "import youtube_dl\n",
    "import pytube\n",
    "import csv\n",
    "import yt_dlp\n",
    "from MetadataParser import MetadataParser\n",
    "import pathlib"
   ]
  },
  {
   "attachments": {},
   "cell_type": "markdown",
   "metadata": {},
   "source": [
    "### Helper Functions"
   ]
  },
  {
   "cell_type": "code",
   "execution_count": 52,
   "metadata": {},
   "outputs": [],
   "source": [
    "downloaded_audio_folder = os.getcwd() + \"/downloaded_audio\"\n",
    "if not os.path.exists(downloaded_audio_folder):\n",
    "\tos.makedirs(downloaded_audio_folder)\n",
    "\n",
    "# Youtube download and post-processing options\n",
    "ydl_opts = {\n",
    "\t'outtmpl': os.path.join(downloaded_audio_folder, u'%(id)s.%(ext)s'),\n",
    "\t'format': 'bestaudio/best',\n",
    "\t'postprocessors': [{\n",
    "\t\t'key': 'FFmpegExtractAudio',\n",
    "\t\t'preferredcodec': 'mp3',\n",
    "\t\t'preferredquality': '192',\n",
    "\t}],\n",
    "}"
   ]
  },
  {
   "cell_type": "code",
   "execution_count": 53,
   "metadata": {},
   "outputs": [],
   "source": [
    "def get_info_from_youtube(youtube_id):\n",
    "\tglobal ydl_opts\n",
    "\ttry:\n",
    "\t\twith youtube_dl.YoutubeDL(ydl_opts) as ydl:\n",
    "\t\t\tx = ydl.extract_info('http://www.youtube.com/watch?v='+youtube_id, download=False)\n",
    "\t\t\t# video_length = x['duration']\n",
    "\t\t\treturn x\n",
    "\texcept (KeyboardInterrupt):\n",
    "\t\traise\n",
    "\texcept:\n",
    "\t\tprint (\"Video connection failed.\")\n",
    "\t\treturn None\n",
    "\n",
    "def download_and_report(youtube_id, redownload=False, sleep=0, downloaded_audio_folder=downloaded_audio_folder):\n",
    "\tglobal ydl_opts\n",
    "\tif (not os.path.exists(downloaded_audio_folder + \"/\" + youtube_id + \".mp3\")) or (redownload):\n",
    "\t\ttry:\n",
    "\t\t\twith yt_dlp.YoutubeDL(ydl_opts) as ydl:\n",
    "\t\t\t\tx = ydl.download(['http://www.youtube.com/watch?v='+youtube_id])\n",
    "\t\t\tprint(\"Successfully downloaded ({0})\".format(youtube_id))\n",
    "\t\t\treturn \"downloaded\"\n",
    "\t\t\ttime.sleep(sleep)\n",
    "\t\texcept (KeyboardInterrupt):\n",
    "\t\t\traise\n",
    "\t\texcept:\n",
    "\t\t\tprint(\"Error downloading video ({0})\".format(youtube_id))\n",
    "\t\t\tif (not os.path.exists(downloaded_audio_folder + \"/\" + youtube_id + \".txt\")):\n",
    "\t\t\t\topen(downloaded_audio_folder + \"/\" + youtube_id + \".txt\", 'a').close()\n",
    "\t\t\treturn \"error\"\n",
    "\telse:\n",
    "\t\treturn \"downloaded\""
   ]
  },
  {
   "cell_type": "markdown",
   "metadata": {},
   "source": [
    "### Youtube download"
   ]
  },
  {
   "cell_type": "code",
   "execution_count": null,
   "metadata": {},
   "outputs": [],
   "source": [
    "data = []\n",
    "# read the csv file at 'matching-salami/salami_youtube_pairings.csv'\n",
    "with open('matching-salami/salami_youtube_pairings.csv', 'r') as f:\n",
    "    reader = csv.DictReader(f)\n",
    "    data = list(reader) \n",
    "    print(data[0].keys())\n",
    "    \n",
    "for row in data:\n",
    "    # salami_id, youtube_id, coverage_percent\n",
    "    print(row['salami_id'], row['youtube_id'], row['coverage_percent'])"
   ]
  },
  {
   "cell_type": "code",
   "execution_count": 54,
   "metadata": {},
   "outputs": [
    {
     "name": "stdout",
     "output_type": "stream",
     "text": [
      "2 DKzFw_i6Ffg 0.9871601208459213\n",
      "3 E6iGez4BLjQ 0.9770015621452559\n",
      "4 ct8gCRPST9s 0.9847744689983114\n",
      "5 IBdrzoz9o0o 0.9655935147091493\n",
      "6 QurVLnYoFqo 0.9591317950723504\n",
      "7 50JtpsgyQF4 0.9669518808792127\n",
      "8 HF03S-1mVR8 0.9669203747072601\n",
      "10 s08jD3E6Mpg 0.9734837846847354\n",
      "11 bbC_8YrU3D4 0.9753821273946551\n",
      "12 3noiG0gtlbU 0.9633211133913198\n"
     ]
    }
   ],
   "source": [
    "for i in range(0, 10):\n",
    "    row = data[i]\n",
    "    print(row['salami_id'], row['youtube_id'], row['coverage_percent'])\n",
    "    #download_and_report(row['youtube_id'])"
   ]
  },
  {
   "attachments": {},
   "cell_type": "markdown",
   "metadata": {},
   "source": [
    "### Alignment?"
   ]
  },
  {
   "attachments": {},
   "cell_type": "markdown",
   "metadata": {},
   "source": [
    "IDK how to do this, but just install the following stuff and then run align_audio.py from matching-salami.\n",
    "\n",
    "`\n",
    "sudo apt-get install sox libsox-fmt-mp3\n",
    "`"
   ]
  },
  {
   "cell_type": "code",
   "execution_count": 55,
   "metadata": {},
   "outputs": [],
   "source": [
    "transformed_audio_folder = os.getcwd() + \"/transformed_audio\""
   ]
  },
  {
   "cell_type": "code",
   "execution_count": 56,
   "metadata": {},
   "outputs": [],
   "source": [
    "PROJECT_ROOT = pathlib.Path('.').resolve()\n",
    "metadata_path = PROJECT_ROOT/'salami-data-public'/'metadata'/'metadata.csv'\n",
    "parser = MetadataParser(metadata_path)"
   ]
  },
  {
   "cell_type": "code",
   "execution_count": 57,
   "metadata": {},
   "outputs": [],
   "source": [
    "def get_annotation_text(row):\n",
    "    print(row['salami_id'], parser.metadata[(row['salami_id'])][2], parser.metadata[(row['salami_id'])][3])\n",
    "    if os.path.exists(downloaded_audio_folder + \"/\" + row['youtube_id'] + \".mp3\"):\n",
    "        print(row['salami_id'], row['youtube_id'], row['coverage_percent'])\n",
    "        metadata = parser.metadata[(row['salami_id'])]\n",
    "        if(metadata[5] != ''):\n",
    "            textfile_1_path = PROJECT_ROOT/'salami-data-public'/'annotations'/row['salami_id']/'parsed'/'textfile1_functions.txt'\n",
    "            with open(textfile_1_path, 'r') as f:\n",
    "                textfile_1 = f.read()\n",
    "                print(\"=== Annotation 1 ===\")\n",
    "                print(textfile_1)\n",
    "        if(metadata[6] != ''):\n",
    "            textfile_2_path = PROJECT_ROOT/'salami-data-public'/'annotations'/row['salami_id']/'parsed'/'textfile2_functions.txt'\n",
    "            with open(textfile_2_path, 'r') as f:\n",
    "                textfile_2 = f.read()\n",
    "                print(\"=== Annotation 2 ===\")\n",
    "                print(textfile_2)\n",
    "        if(metadata[5] == '' and metadata[6] == ''):\n",
    "            print(\"No text file found for this song\")\n",
    "    else:\n",
    "        print(\"No audio file found for this song\")\n",
    "        "
   ]
  },
  {
   "cell_type": "code",
   "execution_count": 58,
   "metadata": {},
   "outputs": [
    {
     "name": "stdout",
     "output_type": "stream",
     "text": [
      "10 How_Beautiful_You_Are The_Cure\n",
      "10 s08jD3E6Mpg 0.9734837846847354\n",
      "=== Annotation 1 ===\n",
      "0.0\tSilence\n",
      "0.223492063\tIntro\n",
      "53.162222222\tVerse\n",
      "92.820453514\tInterlude\n",
      "119.207777777\tVerse\n",
      "172.03600907\tBridge\n",
      "224.810566893\tVerse\n",
      "277.775170068\tOutro\n",
      "314.269342403\tEnd\n",
      "=== Annotation 2 ===\n",
      "0.0\tSilence\n",
      "0.185759637\tIntro\n",
      "26.878253968\tBridge\n",
      "53.142358276\tVerse\n",
      "92.817528344\tBridge\n",
      "119.054217687\tVerse\n",
      "158.725895691\tChorus\n",
      "198.561723356\tBridge\n",
      "224.975056689\tVerse\n",
      "264.46079365\tChorus\n",
      "303.947505668\tFade-out\n",
      "309.80063492\tSilence\n",
      "314.232267573\tEnd\n"
     ]
    }
   ],
   "source": [
    "get_annotation_text(data[7])"
   ]
  },
  {
   "cell_type": "code",
   "execution_count": 67,
   "metadata": {},
   "outputs": [
    {
     "name": "stdout",
     "output_type": "stream",
     "text": [
      "Running on device:  cuda\n"
     ]
    },
    {
     "name": "stderr",
     "output_type": "stream",
     "text": [
      "You are using a model of type mert_model to instantiate a model of type hubert. This is not supported for all configurations of models and can yield errors.\n"
     ]
    }
   ],
   "source": [
    "from MusicVectorizer import MusicVectorizer\n",
    "mv = MusicVectorizer()"
   ]
  },
  {
   "cell_type": "code",
   "execution_count": 79,
   "metadata": {},
   "outputs": [],
   "source": [
    "# for song in folder: (transformed_audio_folder + \"/\" + row['salami_id'] + \".mp3\")\n",
    "SAMPLE_RATE = 16000\n",
    "import librosa\n",
    "import librosa.display\n",
    "import matplotlib.pyplot as plt\n",
    "import numpy as np"
   ]
  },
  {
   "cell_type": "code",
   "execution_count": 84,
   "metadata": {},
   "outputs": [],
   "source": [
    "song = librosa.load(transformed_audio_folder + \"/7.mp3\" , sr=SAMPLE_RATE)\n",
    "song = np.array(song[0])"
   ]
  },
  {
   "cell_type": "code",
   "execution_count": 90,
   "metadata": {},
   "outputs": [],
   "source": [
    "trajectory = mv.trajectorize_song(song, SAMPLE_RATE)"
   ]
  },
  {
   "cell_type": "code",
   "execution_count": 92,
   "metadata": {},
   "outputs": [
    {
     "data": {
      "text/plain": [
       "(44, 768)"
      ]
     },
     "execution_count": 92,
     "metadata": {},
     "output_type": "execute_result"
    }
   ],
   "source": [
    "trajectory = trajectory[:,12,:]\n",
    "trajectory.shape"
   ]
  },
  {
   "cell_type": "code",
   "execution_count": 93,
   "metadata": {},
   "outputs": [],
   "source": [
    "import ruptures as rpt"
   ]
  },
  {
   "cell_type": "code",
   "execution_count": 94,
   "metadata": {},
   "outputs": [],
   "source": [
    "def fig_ax(figsize=(15, 5), dpi=150):\n",
    "    \"\"\"Return a (matplotlib) figure and ax objects with given size.\"\"\"\n",
    "    return plt.subplots(figsize=figsize, dpi=dpi)"
   ]
  },
  {
   "cell_type": "code",
   "execution_count": 120,
   "metadata": {},
   "outputs": [
    {
     "data": {
      "image/png": "[encoded data removed]",
      "text/plain": [
       "<Figure size 1050x600 with 1 Axes>"
      ]
     },
     "metadata": {},
     "output_type": "display_data"
    }
   ],
   "source": [
    "# Choose detection method\n",
    "algo = rpt.KernelCPD(kernel=\"linear\").fit(trajectory)\n",
    "#algo = rpt.Dynp(model=\"l2\").fit(song)\n",
    "\n",
    "# Choose the number of changes (elbow heuristic)\n",
    "n_bkps_max = 20  # K_max\n",
    "# Start by computing the segmentation with most changes.\n",
    "# After start, all segmentations with 1, 2,..., K_max-1 changes are also available for free.\n",
    "_ = algo.predict(n_bkps_max)\n",
    "\n",
    "array_of_n_bkps = np.arange(1, n_bkps_max + 1)\n",
    "\n",
    "\n",
    "def get_sum_of_cost(algo, n_bkps) -> float:\n",
    "    \"\"\"Return the sum of costs for the change points `bkps`\"\"\"\n",
    "    bkps = algo.predict(n_bkps=n_bkps)\n",
    "    return algo.cost.sum_of_costs(bkps)\n",
    "\n",
    "\n",
    "fig, ax = fig_ax((7, 4))\n",
    "ax.plot(\n",
    "    array_of_n_bkps,\n",
    "    [get_sum_of_cost(algo=algo, n_bkps=n_bkps) for n_bkps in array_of_n_bkps],\n",
    "    \"-*\",\n",
    "    alpha=0.5,\n",
    ")\n",
    "ax.set_xticks(array_of_n_bkps)\n",
    "ax.set_xlabel(\"Number of change points\")\n",
    "ax.set_title(\"Sum of costs\")\n",
    "ax.grid(axis=\"x\")\n",
    "ax.set_xlim(0, n_bkps_max + 1)\n",
    "\n",
    "# Visually we choose n_bkps=5 (highlighted in red on the elbow plot)\n",
    "n_bkps = 9                        \n",
    "_ = ax.scatter([n_bkps], [get_sum_of_cost(algo=algo, n_bkps=n_bkps)], color=\"r\", s=100)\n"
   ]
  },
  {
   "cell_type": "code",
   "execution_count": 121,
   "metadata": {},
   "outputs": [
    {
     "name": "stdout",
     "output_type": "stream",
     "text": [
      "Change points: [2, 7, 10, 16, 18, 24, 28, 38, 41, 44] (frame counts)\n"
     ]
    }
   ],
   "source": [
    "bkps = algo.predict(n_bkps=n_bkps)\n",
    "print(f\"Change points: {bkps} (frame counts)\")"
   ]
  },
  {
   "cell_type": "code",
   "execution_count": 123,
   "metadata": {},
   "outputs": [],
   "source": [
    "change_timestamps = np.array(bkps) * 5\n",
    "change_timestamps = np.insert(change_timestamps, 0, 0)\n",
    "change_timestamps"
   ]
  },
  {
   "cell_type": "code",
   "execution_count": 111,
   "metadata": {},
   "outputs": [
    {
     "name": "stdout",
     "output_type": "stream",
     "text": [
      "7 Swagger Compilations\n",
      "7 50JtpsgyQF4 0.9669518808792127\n",
      "=== Annotation 1 ===\n",
      "0.0\tSilence\n",
      "0.143673469\tIntro\n",
      "7.261655328\tIntro\n",
      "35.769909297\tIntro\n",
      "50.005283446\tVerse\n",
      "78.400272108\tChorus\n",
      "92.604535147\tVerse\n",
      "121.018117913\tSolo\n",
      "135.214535147\tChorus\n",
      "149.391995464\tVerse\n",
      "177.810816326\tno_function\n",
      "192.000907029\tOutro\n",
      "206.159705215\tOutro\n",
      "214.347664399\tSilence\n",
      "218.638390022\tEnd\n",
      "=== Annotation 2 ===\n",
      "0.0\tSilence\n",
      "1.933287981\tIntro\n",
      "7.31356009\tno_function\n",
      "21.504331065\tno_function\n",
      "35.684535147\tTransition\n",
      "49.988548752\tVerse\n",
      "64.140929705\tVerse\n",
      "78.365056689\tChorus\n",
      "92.550022675\tVerse\n",
      "106.797437641\tVerse\n",
      "120.988480725\tTransition\n",
      "135.159682539\tChorus\n",
      "149.365215419\tChorus\n",
      "163.542585034\tChorus\n",
      "177.741609977\tChorus\n",
      "191.972721088\tOutro\n",
      "199.013424036\tno_function\n",
      "206.086961451\tno_function\n",
      "213.188503401\tno_function\n",
      "214.257324263\tSilence\n",
      "218.62095238\tEnd\n"
     ]
    }
   ],
   "source": [
    "get_annotation_text(data[5])"
   ]
  }
 ],
 "metadata": {
  "kernelspec": {
   "display_name": "Python 3",
   "language": "python",
   "name": "python3"
  },
  "language_info": {
   "codemirror_mode": {
    "name": "ipython",
    "version": 3
   },
   "file_extension": ".py",
   "mimetype": "text/x-python",
   "name": "python",
   "nbconvert_exporter": "python",
   "pygments_lexer": "ipython3",
   "version": "3.10.6"
  },
  "orig_nbformat": 4
 },
 "nbformat": 4,
 "nbformat_minor": 2
}
