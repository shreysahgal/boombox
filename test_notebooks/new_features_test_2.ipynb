{
 "cells": [
  {
   "cell_type": "code",
   "execution_count": 1,
   "metadata": {},
   "outputs": [],
   "source": [
    "import numpy as np\n",
    "from BoomboxProcessor import BoomboxProcessor\n",
    "from train_encoding_model import BoomboxNet"
   ]
  },
  {
   "cell_type": "code",
   "execution_count": 2,
   "metadata": {},
   "outputs": [
    {
     "name": "stdout",
     "output_type": "stream",
     "text": [
      "Loaded 93 trajectories from 90s_hiphop\n",
      "Loaded 70 trajectories from 90s_rock\n",
      "Loaded 67 trajectories from 2010s_pop\n",
      "Loaded 60 trajectories from classical\n",
      "Loaded 75 trajectories from country\n"
     ]
    },
    {
     "name": "stderr",
     "output_type": "stream",
     "text": [
      "100%|██████████| 93/93 [00:00<00:00, 238.58it/s]\n",
      "100%|██████████| 70/70 [00:00<00:00, 215.71it/s]\n",
      "100%|██████████| 67/67 [00:00<00:00, 218.09it/s]\n",
      "100%|██████████| 60/60 [00:00<00:00, 209.48it/s]\n",
      "100%|██████████| 75/75 [00:00<00:00, 264.98it/s]\n"
     ]
    }
   ],
   "source": [
    "data_folder = [\"90s_hiphop\", \"90s_rock\", \"2010s_pop\", \"classical\", \"country\"]\n",
    "\n",
    "boombox = BoomboxProcessor(verbose=True)\n",
    "boombox.load_trajectories(data_folder) # load trajectories\n",
    "boombox.load_encoding_model('models/model_50000.pt', BoomboxNet)\n",
    "boombox.encode_trajectories() # encode trajectories\n",
    "trajectories, labels = boombox.get_all_encoded_trajectories() # get all songlet trajectories"
   ]
  },
  {
   "cell_type": "code",
   "execution_count": 4,
   "metadata": {},
   "outputs": [
    {
     "data": {
      "text/plain": [
       "(51, 768)"
      ]
     },
     "execution_count": 4,
     "metadata": {},
     "output_type": "execute_result"
    }
   ],
   "source": [
    "trajectories[0].shape"
   ]
  },
  {
   "cell_type": "code",
   "execution_count": null,
   "metadata": {},
   "outputs": [],
   "source": [
    "# idea: train a network "
   ]
  }
 ],
 "metadata": {
  "kernelspec": {
   "display_name": "Python 3",
   "language": "python",
   "name": "python3"
  },
  "language_info": {
   "codemirror_mode": {
    "name": "ipython",
    "version": 3
   },
   "file_extension": ".py",
   "mimetype": "text/x-python",
   "name": "python",
   "nbconvert_exporter": "python",
   "pygments_lexer": "ipython3",
   "version": "3.10.6"
  },
  "orig_nbformat": 4
 },
 "nbformat": 4,
 "nbformat_minor": 2
}
