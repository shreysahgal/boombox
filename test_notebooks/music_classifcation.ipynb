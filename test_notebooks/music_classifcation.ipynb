{
 "cells": [
  {
   "cell_type": "code",
   "execution_count": 1,
   "metadata": {},
   "outputs": [
    {
     "ename": "ImportError",
     "evalue": "dlopen(/Users/bensmacbook/dev/eecs_448/eecs448-boombox/env/lib/python3.10/site-packages/ruptures/utils/_utils/convert_path_matrix.cpython-310-darwin.so, 0x0002): tried: '/Users/bensmacbook/dev/eecs_448/eecs448-boombox/env/lib/python3.10/site-packages/ruptures/utils/_utils/convert_path_matrix.cpython-310-darwin.so' (mach-o file, but is an incompatible architecture (have 'x86_64', need 'arm64')), '/System/Volumes/Preboot/Cryptexes/OS/Users/bensmacbook/dev/eecs_448/eecs448-boombox/env/lib/python3.10/site-packages/ruptures/utils/_utils/convert_path_matrix.cpython-310-darwin.so' (no such file), '/Users/bensmacbook/dev/eecs_448/eecs448-boombox/env/lib/python3.10/site-packages/ruptures/utils/_utils/convert_path_matrix.cpython-310-darwin.so' (mach-o file, but is an incompatible architecture (have 'x86_64', need 'arm64'))",
     "output_type": "error",
     "traceback": [
      "\u001b[0;31m---------------------------------------------------------------------------\u001b[0m",
      "\u001b[0;31mImportError\u001b[0m                               Traceback (most recent call last)",
      "Cell \u001b[0;32mIn[1], line 14\u001b[0m\n\u001b[1;32m     11\u001b[0m \u001b[39mimport\u001b[39;00m \u001b[39mmatplotlib\u001b[39;00m\u001b[39m.\u001b[39;00m\u001b[39mpyplot\u001b[39;00m \u001b[39mas\u001b[39;00m \u001b[39mplt\u001b[39;00m\n\u001b[1;32m     12\u001b[0m \u001b[39mfrom\u001b[39;00m \u001b[39mIPython\u001b[39;00m\u001b[39m.\u001b[39;00m\u001b[39mdisplay\u001b[39;00m \u001b[39mimport\u001b[39;00m Audio, display\n\u001b[0;32m---> 14\u001b[0m \u001b[39mimport\u001b[39;00m \u001b[39mruptures\u001b[39;00m \u001b[39mas\u001b[39;00m \u001b[39mrpt\u001b[39;00m  \u001b[39m# our package\u001b[39;00m\n\u001b[1;32m     16\u001b[0m SAMPLE_RATE \u001b[39m=\u001b[39m \u001b[39m16000\u001b[39m\n",
      "File \u001b[0;32m~/dev/eecs_448/eecs448-boombox/env/lib/python3.10/site-packages/ruptures/__init__.py:3\u001b[0m\n\u001b[1;32m      1\u001b[0m \u001b[39m\"\"\"Offline change point detection for Python.\"\"\"\u001b[39;00m\n\u001b[0;32m----> 3\u001b[0m \u001b[39mfrom\u001b[39;00m \u001b[39m.\u001b[39;00m\u001b[39mdatasets\u001b[39;00m \u001b[39mimport\u001b[39;00m pw_constant, pw_linear, pw_normal, pw_wavy\n\u001b[1;32m      4\u001b[0m \u001b[39mfrom\u001b[39;00m \u001b[39m.\u001b[39;00m\u001b[39mdetection\u001b[39;00m \u001b[39mimport\u001b[39;00m Binseg, BottomUp, Dynp, KernelCPD, Pelt, Window\n\u001b[1;32m      5\u001b[0m \u001b[39mfrom\u001b[39;00m \u001b[39m.\u001b[39;00m\u001b[39mexceptions\u001b[39;00m \u001b[39mimport\u001b[39;00m NotEnoughPoints\n",
      "File \u001b[0;32m~/dev/eecs_448/eecs448-boombox/env/lib/python3.10/site-packages/ruptures/datasets/__init__.py:2\u001b[0m\n\u001b[1;32m      1\u001b[0m \u001b[39m\"\"\"Utility functions to load or generate data sets.\"\"\"\u001b[39;00m\n\u001b[0;32m----> 2\u001b[0m \u001b[39mfrom\u001b[39;00m \u001b[39m.\u001b[39;00m\u001b[39mpw_constant\u001b[39;00m \u001b[39mimport\u001b[39;00m pw_constant\n\u001b[1;32m      3\u001b[0m \u001b[39mfrom\u001b[39;00m \u001b[39m.\u001b[39;00m\u001b[39mpw_linear\u001b[39;00m \u001b[39mimport\u001b[39;00m pw_linear\n\u001b[1;32m      4\u001b[0m \u001b[39mfrom\u001b[39;00m \u001b[39m.\u001b[39;00m\u001b[39mpw_normal\u001b[39;00m \u001b[39mimport\u001b[39;00m pw_normal\n",
      "File \u001b[0;32m~/dev/eecs_448/eecs448-boombox/env/lib/python3.10/site-packages/ruptures/datasets/pw_constant.py:5\u001b[0m\n\u001b[1;32m      1\u001b[0m \u001b[39m\"\"\"Piecewise constant signal (with noise)\"\"\"\u001b[39;00m\n\u001b[1;32m      3\u001b[0m \u001b[39mimport\u001b[39;00m \u001b[39mnumpy\u001b[39;00m \u001b[39mas\u001b[39;00m \u001b[39mnp\u001b[39;00m\n\u001b[0;32m----> 5\u001b[0m \u001b[39mfrom\u001b[39;00m \u001b[39mruptures\u001b[39;00m\u001b[39m.\u001b[39;00m\u001b[39mutils\u001b[39;00m \u001b[39mimport\u001b[39;00m draw_bkps\n\u001b[1;32m      8\u001b[0m \u001b[39mdef\u001b[39;00m \u001b[39mpw_constant\u001b[39m(\n\u001b[1;32m      9\u001b[0m     n_samples\u001b[39m=\u001b[39m\u001b[39m200\u001b[39m, n_features\u001b[39m=\u001b[39m\u001b[39m1\u001b[39m, n_bkps\u001b[39m=\u001b[39m\u001b[39m3\u001b[39m, noise_std\u001b[39m=\u001b[39m\u001b[39mNone\u001b[39;00m, delta\u001b[39m=\u001b[39m(\u001b[39m1\u001b[39m, \u001b[39m10\u001b[39m), seed\u001b[39m=\u001b[39m\u001b[39mNone\u001b[39;00m\n\u001b[1;32m     10\u001b[0m ):\n\u001b[1;32m     11\u001b[0m \u001b[39m    \u001b[39m\u001b[39m\"\"\"Return a piecewise constant signal and the associated changepoints.\u001b[39;00m\n\u001b[1;32m     12\u001b[0m \n\u001b[1;32m     13\u001b[0m \u001b[39m    Args:\u001b[39;00m\n\u001b[0;32m   (...)\u001b[0m\n\u001b[1;32m     22\u001b[0m \u001b[39m        tuple: signal of shape (n_samples, n_features), list of breakpoints\u001b[39;00m\n\u001b[1;32m     23\u001b[0m \u001b[39m    \"\"\"\u001b[39;00m\n",
      "File \u001b[0;32m~/dev/eecs_448/eecs448-boombox/env/lib/python3.10/site-packages/ruptures/utils/__init__.py:2\u001b[0m\n\u001b[1;32m      1\u001b[0m \u001b[39m\"\"\"Import utils functions.\"\"\"\u001b[39;00m\n\u001b[0;32m----> 2\u001b[0m \u001b[39mfrom\u001b[39;00m \u001b[39mruptures\u001b[39;00m\u001b[39m.\u001b[39;00m\u001b[39mutils\u001b[39;00m\u001b[39m.\u001b[39;00m\u001b[39m_utils\u001b[39;00m\u001b[39m.\u001b[39;00m\u001b[39mconvert_path_matrix\u001b[39;00m \u001b[39mimport\u001b[39;00m from_path_matrix_to_bkps_list\n\u001b[1;32m      4\u001b[0m \u001b[39mfrom\u001b[39;00m \u001b[39m.\u001b[39;00m\u001b[39mbnode\u001b[39;00m \u001b[39mimport\u001b[39;00m Bnode\n\u001b[1;32m      5\u001b[0m \u001b[39mfrom\u001b[39;00m \u001b[39m.\u001b[39;00m\u001b[39mdrawbkps\u001b[39;00m \u001b[39mimport\u001b[39;00m draw_bkps\n",
      "\u001b[0;31mImportError\u001b[0m: dlopen(/Users/bensmacbook/dev/eecs_448/eecs448-boombox/env/lib/python3.10/site-packages/ruptures/utils/_utils/convert_path_matrix.cpython-310-darwin.so, 0x0002): tried: '/Users/bensmacbook/dev/eecs_448/eecs448-boombox/env/lib/python3.10/site-packages/ruptures/utils/_utils/convert_path_matrix.cpython-310-darwin.so' (mach-o file, but is an incompatible architecture (have 'x86_64', need 'arm64')), '/System/Volumes/Preboot/Cryptexes/OS/Users/bensmacbook/dev/eecs_448/eecs448-boombox/env/lib/python3.10/site-packages/ruptures/utils/_utils/convert_path_matrix.cpython-310-darwin.so' (no such file), '/Users/bensmacbook/dev/eecs_448/eecs448-boombox/env/lib/python3.10/site-packages/ruptures/utils/_utils/convert_path_matrix.cpython-310-darwin.so' (mach-o file, but is an incompatible architecture (have 'x86_64', need 'arm64'))"
     ]
    }
   ],
   "source": [
    "import numpy as np\n",
    "import librosa\n",
    "import glob\n",
    "import pickle\n",
    "from tqdm import tqdm\n",
    "\n",
    "from MusicVectorizer import MusicVectorizer\n",
    "\n",
    "import librosa\n",
    "import librosa.display\n"
   ]
  },
  {
   "cell_type": "code",
   "execution_count": null,
   "metadata": {},
   "outputs": [],
   "source": [
    "import matplotlib.pyplot as plt\n",
    "from IPython.display import Audio, display\n",
    "\n",
    "import ruptures as rpt \n",
    "\n",
    "SAMPLE_RATE = 16000"
   ]
  },
  {
   "cell_type": "code",
   "execution_count": 2,
   "metadata": {},
   "outputs": [],
   "source": [
    "data_folders = [\"90s_hiphop\", \"90s_rock\", \"2010s_pop\", \"classical\", \"country\"]"
   ]
  },
  {
   "cell_type": "code",
   "execution_count": 3,
   "metadata": {},
   "outputs": [],
   "source": [
    "# load trajectories\n",
    "trajectories = dict()\n",
    "for folder in data_folders:\n",
    "    trajectories[folder] = np.load(f\"data/{folder}_trajectories.npy\", allow_pickle=True).item()"
   ]
  },
  {
   "cell_type": "code",
   "execution_count": 4,
   "metadata": {},
   "outputs": [],
   "source": [
    "lengths = list()\n",
    "for folder in data_folders:\n",
    "    for file in trajectories[folder]:\n",
    "        lengths.append(trajectories[folder][file].shape[0])"
   ]
  },
  {
   "cell_type": "code",
   "execution_count": 5,
   "metadata": {},
   "outputs": [
    {
     "data": {
      "text/plain": [
       "19218"
      ]
     },
     "execution_count": 5,
     "metadata": {},
     "output_type": "execute_result"
    }
   ],
   "source": [
    "# total number of features that we have:\n",
    "N = np.sum(lengths)\n",
    "N"
   ]
  },
  {
   "cell_type": "code",
   "execution_count": null,
   "metadata": {},
   "outputs": [],
   "source": []
  }
 ],
 "metadata": {
  "kernelspec": {
   "display_name": "env",
   "language": "python",
   "name": "python3"
  },
  "language_info": {
   "codemirror_mode": {
    "name": "ipython",
    "version": 3
   },
   "file_extension": ".py",
   "mimetype": "text/x-python",
   "name": "python",
   "nbconvert_exporter": "python",
   "pygments_lexer": "ipython3",
   "version": "3.10.6"
  },
  "orig_nbformat": 4
 },
 "nbformat": 4,
 "nbformat_minor": 2
}
