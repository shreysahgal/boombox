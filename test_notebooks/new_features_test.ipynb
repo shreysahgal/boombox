{
 "cells": [
  {
   "cell_type": "code",
   "execution_count": null,
   "metadata": {},
   "outputs": [],
   "source": [
    "import numpy as np\n",
    "from tqdm import tqdm\n",
    "import torch\n",
    "import torch.nn as nn\n",
    "import torch.nn.functional as F\n",
    "import matplotlib.pyplot as plt\n",
    "\n",
    "SAMPLE_RATE = 16000"
   ]
  },
  {
   "cell_type": "code",
   "execution_count": null,
   "metadata": {},
   "outputs": [],
   "source": [
    "data_folders = [\"90s_hiphop\", \"90s_rock\", \"2010s_pop\", \"classical\", \"country\"]\n",
    "\n",
    "# load trajectories\n",
    "trajectories = dict()\n",
    "for folder in data_folders:\n",
    "    trajectories[folder] = np.load(f\"data/{folder}_trajectories.npy\", allow_pickle=True).item()"
   ]
  },
  {
   "cell_type": "code",
   "execution_count": null,
   "metadata": {},
   "outputs": [],
   "source": [
    "# Crazy Torch Model\n",
    "class Net(nn.Module):\n",
    "    def __init__(self):\n",
    "      super(Net, self).__init__()\n",
    "\n",
    "      # First fully connected layer\n",
    "      self.fc1 = nn.Linear(13 * 768, 768)\n",
    "      \n",
    "      # Get outputs\n",
    "      self.fc2 = nn.Linear(768,5)\n",
    "      \n",
    "    def forward(self, x):\n",
    "      outputs = F.relu(self.fc1(x))\n",
    "      outputs = F.sigmoid(self.fc2(outputs))\n",
    "      return outputs\n",
    "    \n",
    "model = Net()\n",
    "model.load_state_dict(torch.load('models/model_50000.pt'))"
   ]
  },
  {
   "cell_type": "code",
   "execution_count": null,
   "metadata": {},
   "outputs": [],
   "source": []
  },
  {
   "cell_type": "code",
   "execution_count": null,
   "metadata": {},
   "outputs": [],
   "source": [
    "model['fc1.weight'].shape"
   ]
  },
  {
   "cell_type": "code",
   "execution_count": null,
   "metadata": {},
   "outputs": [],
   "source": []
  },
  {
   "cell_type": "code",
   "execution_count": null,
   "metadata": {},
   "outputs": [],
   "source": []
  },
  {
   "cell_type": "code",
   "execution_count": null,
   "metadata": {},
   "outputs": [],
   "source": [
    "from torchmetrics.functional import accuracy as torch_acc\n",
    "\n",
    "asdf = ['2010s_pop']\n",
    "for idx, folder in enumerate(asdf):\n",
    "    tests = [trajectories[folder][i] for i in trajectories[folder].keys()]\n",
    "\n",
    "    accs = []\n",
    "    for i in tqdm(range(len(tests))):\n",
    "        output = model(torch.tensor(tests[i]).flatten(start_dim=1).float())\n",
    "        preds = torch.zeros_like(output)\n",
    "        label = [0]*5\n",
    "        label[2] = 1\n",
    "        labels = torch.tensor([label]*preds.shape[0])\n",
    "\n",
    "        preds.scatter_(1, torch.argmax(output, dim=1, keepdim=True), 1)\n",
    "        acc = torch_acc(preds, labels, task='multiclass', num_classes=5)\n",
    "        accs.append(acc)\n",
    "\n",
    "        if acc < 0.8:\n",
    "            print(i)\n",
    "\n",
    "    plt.hist([a.item() for a in accs], bins=20)\n",
    "    plt.title(folder)\n",
    "    plt.show()"
   ]
  },
  {
   "cell_type": "code",
   "execution_count": null,
   "metadata": {},
   "outputs": [],
   "source": [
    "song = trajectories['2010s_pop'][list(trajectories['2010s_pop'])[35]]\n",
    "\n",
    "output = model(torch.tensor(song).flatten(start_dim=1).float())\n",
    "preds = torch.zeros_like(output)\n",
    "preds.scatter_(1, torch.argmax(output, dim=1, keepdim=True), 1)\n",
    "\n",
    "label = [0]*5\n",
    "label[2] = 1\n",
    "labels = torch.tensor([label]*preds.shape[0])\n"
   ]
  },
  {
   "cell_type": "code",
   "execution_count": null,
   "metadata": {},
   "outputs": [],
   "source": [
    "preds"
   ]
  },
  {
   "cell_type": "code",
   "execution_count": null,
   "metadata": {},
   "outputs": [],
   "source": []
  },
  {
   "cell_type": "code",
   "execution_count": null,
   "metadata": {},
   "outputs": [],
   "source": []
  },
  {
   "cell_type": "code",
   "execution_count": null,
   "metadata": {},
   "outputs": [],
   "source": []
  }
 ],
 "metadata": {
  "kernelspec": {
   "display_name": "Python 3",
   "language": "python",
   "name": "python3"
  },
  "language_info": {
   "codemirror_mode": {
    "name": "ipython",
    "version": 3
   },
   "file_extension": ".py",
   "mimetype": "text/x-python",
   "name": "python",
   "nbconvert_exporter": "python",
   "pygments_lexer": "ipython3",
   "version": "3.10.6"
  },
  "orig_nbformat": 4
 },
 "nbformat": 4,
 "nbformat_minor": 2
}
