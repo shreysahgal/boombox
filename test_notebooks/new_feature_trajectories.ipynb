{
 "cells": [
  {
   "cell_type": "code",
   "execution_count": 122,
   "metadata": {},
   "outputs": [],
   "source": [
    "import numpy as np\n",
    "from tqdm import tqdm\n",
    "import torch\n",
    "import torch.nn as nn\n",
    "import torch.nn.functional as F\n",
    "import matplotlib.pyplot as plt\n",
    "\n",
    "SAMPLE_RATE = 16000"
   ]
  },
  {
   "cell_type": "code",
   "execution_count": 123,
   "metadata": {},
   "outputs": [],
   "source": [
    "data_folders = [\"90s_hiphop\", \"90s_rock\", \"2010s_pop\", \"classical\", \"country\"]\n",
    "\n",
    "# load trajectories\n",
    "trajectories = dict()\n",
    "for folder in data_folders:\n",
    "    trajectories[folder] = np.load(f\"data/{folder}_trajectories.npy\", allow_pickle=True).item()"
   ]
  },
  {
   "cell_type": "code",
   "execution_count": 124,
   "metadata": {},
   "outputs": [
    {
     "data": {
      "text/plain": [
       "<All keys matched successfully>"
      ]
     },
     "execution_count": 124,
     "metadata": {},
     "output_type": "execute_result"
    }
   ],
   "source": [
    "# Crazy Torch Model\n",
    "class Net(nn.Module):\n",
    "    def __init__(self):\n",
    "      super(Net, self).__init__()\n",
    "\n",
    "      # First fully connected layer\n",
    "      self.fc1 = nn.Linear(13 * 768, 768)\n",
    "      \n",
    "      # Get outputs\n",
    "      self.fc2 = nn.Linear(768,5)\n",
    "      \n",
    "    def forward(self, x):\n",
    "      outputs = F.relu(self.fc1(x))\n",
    "      outputs = F.sigmoid(self.fc2(outputs))\n",
    "      return outputs\n",
    "    \n",
    "model = Net()\n",
    "model.load_state_dict(torch.load('models/model_50000.pt'))"
   ]
  },
  {
   "cell_type": "code",
   "execution_count": 125,
   "metadata": {},
   "outputs": [
    {
     "name": "stderr",
     "output_type": "stream",
     "text": [
      "93it [00:00, 235.27it/s]\n",
      "70it [00:00, 237.46it/s]\n",
      "67it [00:00, 247.84it/s]\n",
      "60it [00:00, 204.34it/s]\n",
      "75it [00:00, 258.42it/s]\n"
     ]
    }
   ],
   "source": [
    "new_trajectories = dict()\n",
    "endpoints = dict()\n",
    "\n",
    "for folder in data_folders:\n",
    "    new_trajectories[folder] = dict()\n",
    "    endpoints[folder] = np.zeros((len(trajectories[folder]), 768))\n",
    "    for i, song in tqdm(enumerate(trajectories[folder])):\n",
    "        new_traj = model.fc1(torch.tensor(trajectories[folder][song]).flatten(start_dim=1).float()).detach().numpy()\n",
    "        new_trajectories[folder][song] = (song, new_traj)\n",
    "        endpoints[folder][i] = np.sum(new_traj, axis=0).reshape(-1)\n",
    "# tests =  = [trajectories['90s_hiphop'][i] for i in trajectories['90s_hiphop'].keys()]"
   ]
  },
  {
   "cell_type": "code",
   "execution_count": 126,
   "metadata": {},
   "outputs": [
    {
     "name": "stdout",
     "output_type": "stream",
     "text": [
      "90s_hiphop: 93 songs\n",
      "90s_rock: 70 songs\n",
      "2010s_pop: 67 songs\n",
      "classical: 60 songs\n",
      "country: 75 songs\n"
     ]
    }
   ],
   "source": [
    "labels = np.zeros((365, 1))\n",
    "start = 0\n",
    "for idx, folder in enumerate(data_folders):\n",
    "    n = len(endpoints[folder])\n",
    "    print(f\"{folder}: {n} songs\")\n",
    "    labels[start:start+len(endpoints[folder]), :] = idx\n",
    "    start = start + len(endpoints[folder])"
   ]
  },
  {
   "cell_type": "code",
   "execution_count": 127,
   "metadata": {},
   "outputs": [],
   "source": [
    "from sklearn.cluster import KMeans\n",
    "X = np.concatenate([endpoints[folder] for folder in data_folders])\n",
    "preds = KMeans(n_clusters=5, random_state=0).fit_predict(X)"
   ]
  },
  {
   "cell_type": "code",
   "execution_count": 129,
   "metadata": {},
   "outputs": [
    {
     "name": "stdout",
     "output_type": "stream",
     "text": [
      "{1.0: 1, 2.0: 62, 4.0: 2}\n",
      "{3.0: 21}\n",
      "{1.0: 68, 2.0: 5, 4.0: 73}\n",
      "{0.0: 93, 1.0: 1}\n",
      "{3.0: 39}\n"
     ]
    }
   ],
   "source": [
    "for cluster in range(5):\n",
    "    unique, counts = np.unique(labels[preds == cluster], return_counts=True)\n",
    "    print(dict(zip(unique, counts)))\n",
    "\n",
    "\"\"\"\n",
    "\n",
    "0: {1.0: 1, 2.0: 62, 4.0: 2}    # 90s rock\n",
    "1: {3.0: 21}                    # classical\n",
    "2: {1.0: 68, 2.0: 5, 4.0: 73}   \n",
    "3: {0.0: 93, 1.0: 1}\n",
    "4: {3.0: 39}\n",
    "\n",
    "\"\"\"\n"
   ]
  },
  {
   "cell_type": "code",
   "execution_count": 131,
   "metadata": {},
   "outputs": [],
   "source": [
    "from sklearn.decomposition import PCA\n",
    "\n",
    "all_features = np.concatenate([new_trajectories[folder][song][1] for folder in data_folders for song in new_trajectories[folder]])\n",
    "pca = PCA(n_components=2).fit(all_features)"
   ]
  },
  {
   "cell_type": "code",
   "execution_count": 132,
   "metadata": {},
   "outputs": [
    {
     "name": "stderr",
     "output_type": "stream",
     "text": [
      "93it [00:00, 10681.00it/s]\n",
      "70it [00:00, 10138.17it/s]\n",
      "67it [00:00, 10572.55it/s]\n",
      "60it [00:00, 9693.70it/s]\n",
      "75it [00:00, 10971.05it/s]\n"
     ]
    }
   ],
   "source": [
    "pca_endpoints = dict()\n",
    "\n",
    "for folder in data_folders:\n",
    "    pca_endpoints[folder] = np.zeros((len(trajectories[folder]), 2))\n",
    "    for i, song in tqdm(enumerate(trajectories[folder])):\n",
    "        new_traj = new_trajectories[folder][song][1]\n",
    "        pca_endpoints[folder][i] = np.sum(pca.transform(new_traj), axis=0)\n",
    "# tests =  = [trajectories['90s_hiphop'][i] for i in trajectories['90s_hiphop'].keys()]"
   ]
  },
  {
   "cell_type": "code",
   "execution_count": 133,
   "metadata": {},
   "outputs": [],
   "source": [
    "pca_datapoints = np.concatenate([pca_endpoints[folder] for folder in data_folders])\n",
    "pca_labels = KMeans(n_clusters=5, random_state=0).fit_predict(X)"
   ]
  },
  {
   "cell_type": "code",
   "execution_count": 134,
   "metadata": {},
   "outputs": [
    {
     "data": {
      "image/png": "[encoded data removed]",
      "text/plain": [
       "<Figure size 432x288 with 1 Axes>"
      ]
     },
     "metadata": {
      "needs_background": "light"
     },
     "output_type": "display_data"
    }
   ],
   "source": [
    "plt.plot(pca_datapoints[pca_labels == 0, 0], pca_datapoints[pca_labels == 0, 1], 'o', color='red')\n",
    "plt.plot(pca_datapoints[pca_labels == 1, 0], pca_datapoints[pca_labels == 1, 1], 'o', color='blue')\n",
    "plt.plot(pca_datapoints[pca_labels == 2, 0], pca_datapoints[pca_labels == 2, 1], 'o', color='green')\n",
    "plt.plot(pca_datapoints[pca_labels == 3, 0], pca_datapoints[pca_labels == 3, 1], 'o', color='orange')\n",
    "plt.plot(pca_datapoints[pca_labels == 4, 0], pca_datapoints[pca_labels == 4, 1], 'o', color='purple')\n",
    "plt.show()"
   ]
  },
  {
   "cell_type": "code",
   "execution_count": 149,
   "metadata": {},
   "outputs": [
    {
     "data": {
      "image/png": "[encoded data removed]",
      "text/plain": [
       "<Figure size 432x288 with 1 Axes>"
      ]
     },
     "metadata": {
      "needs_background": "light"
     },
     "output_type": "display_data"
    }
   ],
   "source": [
    "labels = np.array(labels, dtype=int).flatten()\n",
    "                  \n",
    "plt.plot(pca_datapoints[labels == 0.0, 0], pca_datapoints[labels == 0.0, 1], 'o', color='red', label=data_folders[0])\n",
    "plt.plot(pca_datapoints[labels == 1.0, 0], pca_datapoints[labels == 1.0, 1], 'o', color='blue', label=data_folders[1])\n",
    "plt.plot(pca_datapoints[labels == 2.0, 0], pca_datapoints[labels == 2.0, 1], 'o', color='green', label=data_folders[2])\n",
    "plt.plot(pca_datapoints[labels == 3.0, 0], pca_datapoints[labels == 3.0, 1], 'o', color='orange', label=data_folders[3])\n",
    "plt.plot(pca_datapoints[labels == 4.0, 0], pca_datapoints[labels == 4.0, 1], 'o', color='purple', label=data_folders[4])\n",
    "plt.legend()\n",
    "plt.show()"
   ]
  },
  {
   "cell_type": "code",
   "execution_count": 146,
   "metadata": {},
   "outputs": [
    {
     "data": {
      "text/plain": [
       "0.0"
      ]
     },
     "execution_count": 146,
     "metadata": {},
     "output_type": "execute_result"
    }
   ],
   "source": []
  },
  {
   "cell_type": "code",
   "execution_count": null,
   "metadata": {},
   "outputs": [],
   "source": []
  },
  {
   "cell_type": "code",
   "execution_count": null,
   "metadata": {},
   "outputs": [],
   "source": []
  }
 ],
 "metadata": {
  "kernelspec": {
   "display_name": "Python 3",
   "language": "python",
   "name": "python3"
  },
  "language_info": {
   "codemirror_mode": {
    "name": "ipython",
    "version": 3
   },
   "file_extension": ".py",
   "mimetype": "text/x-python",
   "name": "python",
   "nbconvert_exporter": "python",
   "pygments_lexer": "ipython3",
   "version": "3.10.6"
  },
  "orig_nbformat": 4
 },
 "nbformat": 4,
 "nbformat_minor": 2
}
