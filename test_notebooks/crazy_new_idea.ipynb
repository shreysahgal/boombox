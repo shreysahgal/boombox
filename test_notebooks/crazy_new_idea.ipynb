{
 "cells": [
  {
   "cell_type": "code",
   "execution_count": 18,
   "metadata": {},
   "outputs": [],
   "source": [
    "import numpy as np\n",
    "import librosa\n",
    "import glob\n",
    "import pickle\n",
    "from tqdm import tqdm\n",
    "\n",
    "from MusicVectorizer import MusicVectorizer\n",
    "\n",
    "SAMPLE_RATE = 16000"
   ]
  },
  {
   "cell_type": "code",
   "execution_count": 19,
   "metadata": {},
   "outputs": [],
   "source": [
    "data_folders = [\"90s_hiphop\", \"90s_rock\", \"2010s_pop\", \"classical\", \"country\"]"
   ]
  },
  {
   "cell_type": "code",
   "execution_count": 20,
   "metadata": {},
   "outputs": [],
   "source": [
    "# load trajectories\n",
    "trajectories = dict()\n",
    "for folder in data_folders:\n",
    "    trajectories[folder] = np.load(f\"data/{folder}_trajectories.npy\", allow_pickle=True).item()"
   ]
  },
  {
   "cell_type": "code",
   "execution_count": 21,
   "metadata": {},
   "outputs": [],
   "source": [
    "lengths = list()\n",
    "for folder in data_folders:\n",
    "    for file in trajectories[folder]:\n",
    "        lengths.append(trajectories[folder][file].shape[0])"
   ]
  },
  {
   "cell_type": "code",
   "execution_count": 22,
   "metadata": {},
   "outputs": [
    {
     "data": {
      "text/plain": [
       "19218"
      ]
     },
     "execution_count": 22,
     "metadata": {},
     "output_type": "execute_result"
    }
   ],
   "source": [
    "# total number of features that we have:\n",
    "N = np.sum(lengths)\n",
    "N"
   ]
  },
  {
   "cell_type": "code",
   "execution_count": 23,
   "metadata": {},
   "outputs": [],
   "source": [
    "X = np.zeros((N, 13, 768))\n",
    "y = np.zeros(N)\n",
    "\n",
    "i = 0\n",
    "for idx, genre in enumerate(data_folders):\n",
    "    for file in trajectories[genre]:\n",
    "        X[i:i+trajectories[genre][file].shape[0], :, :] = trajectories[genre][file]\n",
    "        y[i:i+trajectories[genre][file].shape[0]] = idx\n",
    "        i += trajectories[genre][file].shape[0]"
   ]
  },
  {
   "cell_type": "code",
   "execution_count": 24,
   "metadata": {},
   "outputs": [],
   "source": [
    "from sklearn.model_selection import train_test_split\n",
    "from sklearn.preprocessing import OneHotEncoder\n",
    "\n",
    "enc = OneHotEncoder(handle_unknown='ignore', categories='auto')\n",
    "y = enc.fit_transform(y.reshape(-1, 1)).toarray()\n",
    "X_train, X_test, y_train, y_test = train_test_split(X, y, test_size=0.2, random_state=42)\n"
   ]
  },
  {
   "cell_type": "code",
   "execution_count": null,
   "metadata": {},
   "outputs": [],
   "source": []
  },
  {
   "cell_type": "code",
   "execution_count": 25,
   "metadata": {},
   "outputs": [],
   "source": [
    "import torch\n",
    "import torch.nn as nn\n",
    "import torch.nn.functional as F"
   ]
  },
  {
   "cell_type": "code",
   "execution_count": null,
   "metadata": {},
   "outputs": [],
   "source": []
  },
  {
   "cell_type": "code",
   "execution_count": 26,
   "metadata": {},
   "outputs": [],
   "source": [
    "# Crazy Torch Model\n",
    "class Net(nn.Module):\n",
    "    def __init__(self):\n",
    "      super(Net, self).__init__()\n",
    "\n",
    "      # First fully connected layer\n",
    "      self.fc1 = nn.Linear(13 * 768, 768)\n",
    "      \n",
    "      # Get outputs\n",
    "      self.fc2 = nn.Linear(768,5)\n",
    "      \n",
    "    def forward(self, x):\n",
    "      outputs = F.relu(self.fc1(x))\n",
    "      outputs = F.sigmoid(self.fc2(outputs))\n",
    "      return outputs"
   ]
  },
  {
   "cell_type": "code",
   "execution_count": 27,
   "metadata": {},
   "outputs": [
    {
     "name": "stdout",
     "output_type": "stream",
     "text": [
      "Net(\n",
      "  (fc1): Linear(in_features=9984, out_features=768, bias=True)\n",
      "  (fc2): Linear(in_features=768, out_features=5, bias=True)\n",
      ") cuda\n"
     ]
    }
   ],
   "source": [
    "device = \"cuda\" if torch.cuda.is_available() else \"cpu\"\n",
    "model = Net().to(device)\n",
    "print(model, device)"
   ]
  },
  {
   "cell_type": "code",
   "execution_count": 28,
   "metadata": {},
   "outputs": [],
   "source": [
    "criterion = torch.nn.CrossEntropyLoss()\n",
    "optimizer = torch.optim.SGD(model.parameters(), lr=0.01)"
   ]
  },
  {
   "cell_type": "code",
   "execution_count": 29,
   "metadata": {},
   "outputs": [],
   "source": [
    "# GET DATA HERE\n",
    "X_train, X_test = torch.Tensor(X_train).flatten(start_dim=1).to(device) ,torch.Tensor(X_test).flatten(start_dim=1).to(device)\n",
    "y_train, y_test = torch.Tensor(y_train).to(device) ,torch.Tensor(y_test).to(device)"
   ]
  },
  {
   "cell_type": "code",
   "execution_count": 63,
   "metadata": {},
   "outputs": [
    {
     "name": "stderr",
     "output_type": "stream",
     "text": [
      "Training Epochs:   0%|          | 0/10 [00:00<?, ?it/s]/home/shrey/.local/lib/python3.10/site-packages/torch/nn/functional.py:1960: UserWarning: nn.functional.sigmoid is deprecated. Use torch.sigmoid instead.\n",
      "  warnings.warn(\"nn.functional.sigmoid is deprecated. Use torch.sigmoid instead.\")\n",
      "Training Epochs:  20%|██        | 2/10 [00:00<00:00,  8.24it/s]"
     ]
    },
    {
     "name": "stdout",
     "output_type": "stream",
     "text": [
      "Iteration: 1. \n",
      "Test - Loss: 0.6131106019020081. Accuracy: 0.7567117810249329\n",
      "Train -  Loss: 0.6161271929740906. Accuracy: 0.7577468156814575\n",
      "\n",
      "Iteration: 2. \n",
      "Test - Loss: 0.6100286841392517. Accuracy: 0.7593132257461548\n",
      "Train -  Loss: 0.6129999756813049. Accuracy: 0.7597241997718811\n",
      "\n"
     ]
    },
    {
     "name": "stderr",
     "output_type": "stream",
     "text": [
      "Training Epochs:  40%|████      | 4/10 [00:00<00:00,  8.72it/s]"
     ]
    },
    {
     "name": "stdout",
     "output_type": "stream",
     "text": [
      "Iteration: 3. \n",
      "Test - Loss: 0.6069898009300232. Accuracy: 0.7604578733444214\n",
      "Train -  Loss: 0.6099167466163635. Accuracy: 0.7613633275032043\n",
      "\n",
      "Iteration: 4. \n",
      "Test - Loss: 0.6039935946464539. Accuracy: 0.761706531047821\n",
      "Train -  Loss: 0.6068766713142395. Accuracy: 0.7624040842056274\n",
      "\n"
     ]
    },
    {
     "name": "stderr",
     "output_type": "stream",
     "text": [
      "Training Epochs:  60%|██████    | 6/10 [00:00<00:00,  8.91it/s]"
     ]
    },
    {
     "name": "stdout",
     "output_type": "stream",
     "text": [
      "Iteration: 5. \n",
      "Test - Loss: 0.6010398864746094. Accuracy: 0.7627471089363098\n",
      "Train -  Loss: 0.6038796305656433. Accuracy: 0.7635488510131836\n",
      "\n",
      "Iteration: 6. \n",
      "Test - Loss: 0.5981285572052002. Accuracy: 0.7630593180656433\n",
      "Train -  Loss: 0.6009253859519958. Accuracy: 0.7641212344169617\n",
      "\n"
     ]
    },
    {
     "name": "stderr",
     "output_type": "stream",
     "text": [
      "Training Epochs:  80%|████████  | 8/10 [00:00<00:00,  9.10it/s]"
     ]
    },
    {
     "name": "stdout",
     "output_type": "stream",
     "text": [
      "Iteration: 7. \n",
      "Test - Loss: 0.5952602624893188. Accuracy: 0.7630593180656433\n",
      "Train -  Loss: 0.5980136394500732. Accuracy: 0.7645115256309509\n",
      "\n",
      "Iteration: 8. \n",
      "Test - Loss: 0.5924343466758728. Accuracy: 0.7624349594116211\n",
      "Train -  Loss: 0.5951445698738098. Accuracy: 0.7646415829658508\n",
      "\n"
     ]
    },
    {
     "name": "stderr",
     "output_type": "stream",
     "text": [
      "Training Epochs: 100%|██████████| 10/10 [00:01<00:00,  8.81it/s]"
     ]
    },
    {
     "name": "stdout",
     "output_type": "stream",
     "text": [
      "Iteration: 9. \n",
      "Test - Loss: 0.5896510481834412. Accuracy: 0.7622268199920654\n",
      "Train -  Loss: 0.5923179388046265. Accuracy: 0.7647976875305176\n",
      "\n",
      "Iteration: 10. \n",
      "Test - Loss: 0.5869109034538269. Accuracy: 0.7620187401771545\n",
      "Train -  Loss: 0.5895339250564575. Accuracy: 0.7647716999053955\n",
      "\n"
     ]
    },
    {
     "name": "stderr",
     "output_type": "stream",
     "text": [
      "\n"
     ]
    }
   ],
   "source": [
    "from torchmetrics.functional import accuracy as torch_acc\n",
    "\n",
    "epochs = 50000\n",
    "\n",
    "losses_train = []\n",
    "losses_test = []\n",
    "accuracies_test = []\n",
    "accuracies_train = []\n",
    "iterations = []\n",
    "iter = 0\n",
    "for epoch in tqdm(range(int(epochs)),desc='Training Epochs'):\n",
    "    x = X_train\n",
    "    labels = y_train\n",
    "    optimizer.zero_grad() # Setting our stored gradients equal to zero\n",
    "    outputs = model(X_train)\n",
    "    loss = criterion(torch.squeeze(outputs), labels) # [200,1] -squeeze-> [200]\n",
    "    \n",
    "    loss.backward() # Computes the gradient of the given tensor w.r.t. graph leaves \n",
    "    \n",
    "    optimizer.step() # Updates weights and biases with the optimizer (SGD)\n",
    "    \n",
    "    iter+=1\n",
    "\n",
    "    if iter%1000==0:\n",
    "        with torch.no_grad():\n",
    "            # Calculating the loss and accuracy for the test dataset\n",
    "            outputs_test = torch.squeeze(model(X_test))\n",
    "            loss_test = criterion(outputs_test, y_test)\n",
    "            \n",
    "            predicted_test = torch.zeros_like(outputs_test)\n",
    "            predicted_test.scatter_(1, torch.argmax(outputs_test, 1).unsqueeze(1), 1)\n",
    "            accuracy_test = torch_acc(predicted_test, y_test, task='multiclass', num_classes=5).cpu()\n",
    "\n",
    "            losses_test.append(loss_test.item())\n",
    "            accuracies_test.append(accuracy_test)\n",
    "            \n",
    "            # Calculating the loss and accuracy for the train dataset\n",
    "            predicted_train = torch.zeros_like(outputs)\n",
    "            predicted_train.scatter_(1, torch.argmax(outputs, 1).unsqueeze(1), 1)\n",
    "            accuracy_train = torch_acc(predicted_train, y_train, task='multiclass', num_classes=5).cpu()\n",
    "\n",
    "            losses_train.append(loss.item())\n",
    "            accuracies_train.append(accuracy_train)\n",
    "\n",
    "            iterations.append(iter)\n",
    "\n",
    "            print(f\"Iteration: {iter}. \\nTest - Loss: {loss_test.item()}. Accuracy: {accuracy_test}\")\n",
    "            print(f\"Train -  Loss: {loss.item()}. Accuracy: {accuracy_train}\\n\")\n",
    "\n",
    "            if iter % 10000 == 0:\n",
    "                torch.save(model.state_dict(), f\"models/model_{iter}.pt\")"
   ]
  },
  {
   "cell_type": "code",
   "execution_count": 62,
   "metadata": {},
   "outputs": [
    {
     "name": "stderr",
     "output_type": "stream",
     "text": [
      "/home/shrey/.local/lib/python3.10/site-packages/torch/nn/functional.py:1960: UserWarning: nn.functional.sigmoid is deprecated. Use torch.sigmoid instead.\n",
      "  warnings.warn(\"nn.functional.sigmoid is deprecated. Use torch.sigmoid instead.\")\n"
     ]
    },
    {
     "data": {
      "text/plain": [
       "tensor(1.5105)"
      ]
     },
     "execution_count": 62,
     "metadata": {},
     "output_type": "execute_result"
    }
   ],
   "source": [
    "import matplotlib.pyplot as plt"
   ]
  },
  {
   "cell_type": "code",
   "execution_count": 51,
   "metadata": {},
   "outputs": [
    {
     "data": {
      "text/plain": [
       "29032"
      ]
     },
     "execution_count": 51,
     "metadata": {},
     "output_type": "execute_result"
    }
   ],
   "source": []
  },
  {
   "cell_type": "code",
   "execution_count": 73,
   "metadata": {},
   "outputs": [
    {
     "data": {
      "text/plain": [
       "[<matplotlib.lines.Line2D at 0x7fc1aa29c5b0>]"
      ]
     },
     "execution_count": 73,
     "metadata": {},
     "output_type": "execute_result"
    },
    {
     "data": {
      "image/png": "[encoded data removed]",
      "text/plain": [
       "<Figure size 432x288 with 1 Axes>"
      ]
     },
     "metadata": {
      "needs_background": "light"
     },
     "output_type": "display_data"
    }
   ],
   "source": [
    "import matplotlib.pyplot as plt \n",
    "plt.plot(Iterations, losses, label=\"Train\")"
   ]
  },
  {
   "cell_type": "code",
   "execution_count": 58,
   "metadata": {},
   "outputs": [
    {
     "data": {
      "text/plain": [
       "[]"
      ]
     },
     "execution_count": 58,
     "metadata": {},
     "output_type": "execute_result"
    }
   ],
   "source": [
    "losses"
   ]
  },
  {
   "cell_type": "code",
   "execution_count": null,
   "metadata": {},
   "outputs": [],
   "source": []
  }
 ],
 "metadata": {
  "kernelspec": {
   "display_name": "Python 3",
   "language": "python",
   "name": "python3"
  },
  "language_info": {
   "codemirror_mode": {
    "name": "ipython",
    "version": 3
   },
   "file_extension": ".py",
   "mimetype": "text/x-python",
   "name": "python",
   "nbconvert_exporter": "python",
   "pygments_lexer": "ipython3",
   "version": "3.10.6"
  },
  "orig_nbformat": 4
 },
 "nbformat": 4,
 "nbformat_minor": 2
}
