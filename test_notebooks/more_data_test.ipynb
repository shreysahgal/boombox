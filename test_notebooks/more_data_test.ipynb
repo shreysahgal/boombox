{
 "cells": [
  {
   "cell_type": "code",
   "execution_count": 1,
   "metadata": {},
   "outputs": [],
   "source": [
    "import numpy as np\n",
    "import librosa\n",
    "import glob\n",
    "import pickle\n",
    "from tqdm import tqdm\n",
    "\n",
    "from MusicVectorizer import MusicVectorizer\n",
    "\n",
    "SAMPLE_RATE = 16000"
   ]
  },
  {
   "cell_type": "code",
   "execution_count": 4,
   "metadata": {},
   "outputs": [],
   "source": [
    "data_folders = [\"90s_hiphop\", \"90s_rock\", \"2010s_pop\", \"classical\", \"country\"]\n",
    "\n",
    "\n",
    "# load music data and save in pickle file:\n",
    "# for folder in data_folders:\n",
    "#     paths = glob.glob(\"data/\" + folder + \"/*.mp3\")\n",
    "#     data = dict()\n",
    "#     for path in tqdm(paths):\n",
    "#         try:\n",
    "#             data[path] = (librosa.load(path, sr=SAMPLE_RATE)[0])\n",
    "#         except:\n",
    "#             print(\"Error loading file: \", path)\n",
    "#     with open(\"data/\" + folder + \".pkl\", \"wb\") as f:\n",
    "#         pickle.dump(data, f)\n",
    "        "
   ]
  },
  {
   "cell_type": "code",
   "execution_count": 5,
   "metadata": {},
   "outputs": [],
   "source": [
    "# load trajectories\n",
    "trajectories = dict()\n",
    "for folder in data_folders:\n",
    "    trajectories[folder] = np.load(f\"data/{folder}_trajectories.npy\", allow_pickle=True).item()"
   ]
  },
  {
   "cell_type": "code",
   "execution_count": 6,
   "metadata": {},
   "outputs": [],
   "source": [
    "lengths = list()\n",
    "for folder in data_folders:\n",
    "    for file in trajectories[folder]:\n",
    "        lengths.append(trajectories[folder][file].shape[0])"
   ]
  },
  {
   "cell_type": "code",
   "execution_count": 7,
   "metadata": {},
   "outputs": [
    {
     "data": {
      "text/plain": [
       "(16, 132, 52.652054794520545, 15.09248302046502)"
      ]
     },
     "execution_count": 7,
     "metadata": {},
     "output_type": "execute_result"
    }
   ],
   "source": [
    "np.min(lengths), np.max(lengths), np.mean(lengths), np.std(lengths)"
   ]
  },
  {
   "cell_type": "code",
   "execution_count": 13,
   "metadata": {},
   "outputs": [],
   "source": [
    "N = sum([len(trajectories[folder]) for folder in data_folders])\n",
    "\n",
    "X = np.empty((np.max(lengths), N, 768))\n",
    "X[:] = np.nan\n",
    "\n",
    "y = np.empty(N)\n",
    "y[:] = np.nan\n",
    "\n",
    "lens = np.zeros(N)"
   ]
  },
  {
   "cell_type": "code",
   "execution_count": 18,
   "metadata": {},
   "outputs": [],
   "source": [
    "i = 0\n",
    "for idx, folder in enumerate(data_folders):\n",
    "    for file in trajectories[folder]:\n",
    "        lens[i] = trajectories[folder][file].shape[0]\n",
    "        X[:int(lens[i]), i, :] = trajectories[folder][file][:, 12, :]\n",
    "        y[i] = idx\n",
    "        i += 1"
   ]
  },
  {
   "cell_type": "code",
   "execution_count": 15,
   "metadata": {},
   "outputs": [
    {
     "data": {
      "text/plain": [
       "51.0"
      ]
     },
     "execution_count": 15,
     "metadata": {},
     "output_type": "execute_result"
    }
   ],
   "source": []
  },
  {
   "cell_type": "code",
   "execution_count": null,
   "metadata": {},
   "outputs": [],
   "source": []
  },
  {
   "cell_type": "code",
   "execution_count": 20,
   "metadata": {},
   "outputs": [
    {
     "name": "stderr",
     "output_type": "stream",
     "text": [
      "100%|██████████| 93/93 [00:40<00:00,  2.29it/s]\n",
      "100%|██████████| 70/70 [00:30<00:00,  2.26it/s]\n",
      " 94%|█████████▍| 65/69 [00:27<00:01,  2.21it/s]/tmp/ipykernel_890/2237167529.py:9: UserWarning: PySoundFile failed. Trying audioread instead.\n",
      "  data[folder].append(librosa.load(path, sr=SAMPLE_RATE)[0])\n",
      "/home/shreyps/eecs448-boombox/.env/lib/python3.10/site-packages/librosa/core/audio.py:184: FutureWarning: librosa.core.audio.__audioread_load\n",
      "\tDeprecated as of librosa version 0.10.0.\n",
      "\tIt will be removed in librosa version 1.0.\n",
      "  y, sr_native = __audioread_load(path, offset, duration, dtype)\n"
     ]
    },
    {
     "name": "stdout",
     "output_type": "stream",
     "text": [
      "Error loading file:  data/2010s_pop/MACKLEMORE & RYAN LEWIS - CAN'T HOLD US FEAT. RAY DALTON (OFFICIAL MUSIC VIDEO).mp3\n"
     ]
    },
    {
     "name": "stderr",
     "output_type": "stream",
     "text": [
      "100%|██████████| 69/69 [00:28<00:00,  2.43it/s]\n",
      "100%|██████████| 60/60 [00:27<00:00,  2.17it/s]\n",
      "100%|██████████| 75/75 [00:29<00:00,  2.56it/s]\n"
     ]
    }
   ],
   "source": [
    "data_folders = [\"90s_hiphop\", \"90s_rock\", \"2010s_pop\", \"classical\", \"country\"]\n",
    "\n",
    "data = dict()\n",
    "for folder in data_folders:\n",
    "    paths = glob.glob(\"data/\" + folder + \"/*.mp3\")\n",
    "    data[folder] = list()\n",
    "    for path in tqdm(paths):\n",
    "        try:\n",
    "            data[folder].append(librosa.load(path, sr=SAMPLE_RATE)[0])\n",
    "        except:\n",
    "            print(\"Error loading file: \", path)"
   ]
  },
  {
   "cell_type": "code",
   "execution_count": null,
   "metadata": {},
   "outputs": [],
   "source": []
  },
  {
   "cell_type": "code",
   "execution_count": null,
   "metadata": {},
   "outputs": [],
   "source": []
  }
 ],
 "metadata": {
  "kernelspec": {
   "display_name": ".env",
   "language": "python",
   "name": "python3"
  },
  "language_info": {
   "codemirror_mode": {
    "name": "ipython",
    "version": 3
   },
   "file_extension": ".py",
   "mimetype": "text/x-python",
   "name": "python",
   "nbconvert_exporter": "python",
   "pygments_lexer": "ipython3",
   "version": "3.10.6"
  },
  "orig_nbformat": 4
 },
 "nbformat": 4,
 "nbformat_minor": 2
}
