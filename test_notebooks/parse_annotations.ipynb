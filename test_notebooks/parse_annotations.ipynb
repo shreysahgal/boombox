{
 "cells": [
  {
   "cell_type": "code",
   "execution_count": 1,
   "metadata": {},
   "outputs": [],
   "source": [
    "import os\n",
    "import csv\n",
    "import yt_dlp\n",
    "import pathlib"
   ]
  },
  {
   "cell_type": "code",
   "execution_count": 32,
   "metadata": {},
   "outputs": [],
   "source": [
    "test_path = pathlib.Path().absolute()"
   ]
  },
  {
   "cell_type": "code",
   "execution_count": 34,
   "metadata": {},
   "outputs": [
    {
     "name": "stdout",
     "output_type": "stream",
     "text": [
      "/home/bsteinig/dev/school/EECS_448/eecs448-boombox/test_notebooks\n"
     ]
    },
    {
     "data": {
      "text/plain": [
       "'/home/bsteinig/dev/school/EECS_448/eecs448-boombox'"
      ]
     },
     "execution_count": 34,
     "metadata": {},
     "output_type": "execute_result"
    }
   ],
   "source": [
    "print(test_path)\n",
    "str(test_path.parent)"
   ]
  },
  {
   "cell_type": "code",
   "execution_count": 58,
   "metadata": {},
   "outputs": [],
   "source": [
    "annotation_file1 = os.path.join(test_path.parent, 'salami-data-public', 'annotations', '7', 'parsed', 'textfile1_functions.txt')\n",
    "annotation_file2 = os.path.join(test_path.parent, 'salami-data-public', 'annotations', '7', 'parsed', 'textfile2_functions.txt')"
   ]
  },
  {
   "cell_type": "code",
   "execution_count": 66,
   "metadata": {},
   "outputs": [],
   "source": [
    "def parse_annotations(annotation_file):\n",
    "    parsed_annotations = []\n",
    "    with open(annotation_file, 'r') as f:\n",
    "        annotations = f.readlines()\n",
    "        for idx, annotation in enumerate(annotations):\n",
    "            time, function = annotation.split('\\t')\n",
    "            time = int(float(time))\n",
    "            function = function.strip()\n",
    "            if idx == 0:\n",
    "                parsed_annotations.append([0, 'START'])\n",
    "            if idx == len(annotations) - 1:\n",
    "                parsed_annotations.append([time, 'END'])\n",
    "            # if the function has changed and the time is more than 1 second away from the last annotation add the next change point\n",
    "            if (parsed_annotations[-1][1] != function) and (abs(parsed_annotations[-1][0]-int(float(time))) > 1 ):\n",
    "                parsed_annotations.append([time, function])\n",
    "    return parsed_annotations\n",
    "\n",
    "\n",
    "def pretty_print_annotations(parsed_annotations):\n",
    "    for annotation in parsed_annotations:\n",
    "        print(annotation[0])\n",
    "        \n",
    "def pretty_print_generations(generated_annotations):\n",
    "    for annotation in generated_annotations:\n",
    "        print(annotation)"
   ]
  },
  {
   "cell_type": "code",
   "execution_count": 64,
   "metadata": {},
   "outputs": [
    {
     "name": "stdout",
     "output_type": "stream",
     "text": [
      "0\n",
      "7\n",
      "50\n",
      "78\n",
      "92\n",
      "121\n",
      "135\n",
      "149\n",
      "177\n",
      "192\n",
      "214\n",
      "218\n"
     ]
    }
   ],
   "source": [
    "annotations1 = parse_annotations(annotation_file1)\n",
    "pretty_print_annotations(annotations1)"
   ]
  },
  {
   "cell_type": "code",
   "execution_count": 65,
   "metadata": {},
   "outputs": [
    {
     "name": "stdout",
     "output_type": "stream",
     "text": [
      "0\n",
      "7\n",
      "35\n",
      "49\n",
      "78\n",
      "92\n",
      "120\n",
      "135\n",
      "191\n",
      "199\n",
      "214\n",
      "218\n"
     ]
    }
   ],
   "source": [
    "annotations2 = parse_annotations(annotation_file2)\n",
    "pretty_print_annotations(annotations2)"
   ]
  },
  {
   "cell_type": "code",
   "execution_count": 67,
   "metadata": {},
   "outputs": [
    {
     "name": "stdout",
     "output_type": "stream",
     "text": [
      "0\n",
      "10\n",
      "35\n",
      "50\n",
      "80\n",
      "90\n",
      "120\n",
      "140\n",
      "190\n",
      "205\n",
      "220\n"
     ]
    }
   ],
   "source": [
    "generated_annotations = [  0,  10,  35,  50,  80,  90, 120, 140, 190, 205, 220]\n",
    "pretty_print_generations(generated_annotations)"
   ]
  },
  {
   "cell_type": "code",
   "execution_count": null,
   "metadata": {},
   "outputs": [],
   "source": [
    "print(len(annotations1), len(annotations2), len(generated_annotations))"
   ]
  }
 ],
 "metadata": {
  "kernelspec": {
   "display_name": "Python 3",
   "language": "python",
   "name": "python3"
  },
  "language_info": {
   "codemirror_mode": {
    "name": "ipython",
    "version": 3
   },
   "file_extension": ".py",
   "mimetype": "text/x-python",
   "name": "python",
   "nbconvert_exporter": "python",
   "pygments_lexer": "ipython3",
   "version": "3.10.6"
  },
  "orig_nbformat": 4
 },
 "nbformat": 4,
 "nbformat_minor": 2
}
