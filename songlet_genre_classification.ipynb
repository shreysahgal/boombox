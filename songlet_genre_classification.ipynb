{
 "cells": [
  {
   "cell_type": "code",
   "execution_count": 108,
   "metadata": {},
   "outputs": [],
   "source": [
    "import numpy as np\n",
    "from BoomboxProcessor import BoomboxProcessor\n",
    "from train_encoding_model import BoomboxNet\n",
    "from GenreClassifier import GenreClassifier\n",
    "import torch.nn as nn\n",
    "import torch\n",
    "from tqdm import tqdm\n",
    "from sklearn.preprocessing import OneHotEncoder\n",
    "from sklearn.model_selection import train_test_split\n",
    "from torch.utils.data import DataLoader\n",
    "from torchmetrics.functional import accuracy as torch_acc\n",
    "from sklearn.metrics import classification_report"
   ]
  },
  {
   "cell_type": "code",
   "execution_count": 73,
   "metadata": {},
   "outputs": [
    {
     "name": "stdout",
     "output_type": "stream",
     "text": [
      "Loaded 93 trajectories from 90s_hiphop\n",
      "Loaded 70 trajectories from 90s_rock\n",
      "Loaded 67 trajectories from 2010s_pop\n",
      "Loaded 60 trajectories from classical\n",
      "Loaded 75 trajectories from country\n"
     ]
    },
    {
     "name": "stderr",
     "output_type": "stream",
     "text": [
      "100%|██████████| 93/93 [00:00<00:00, 118.04it/s]\n",
      "100%|██████████| 70/70 [00:00<00:00, 121.01it/s]\n",
      "100%|██████████| 67/67 [00:00<00:00, 127.02it/s]\n",
      "100%|██████████| 60/60 [00:00<00:00, 110.08it/s]\n",
      "100%|██████████| 75/75 [00:00<00:00, 132.48it/s]\n"
     ]
    }
   ],
   "source": [
    "data_folder = [\"90s_hiphop\", \"90s_rock\", \"2010s_pop\", \"classical\", \"country\"]\n",
    "\n",
    "boombox = BoomboxProcessor(verbose=True)\n",
    "boombox.load_trajectories(data_folder) # load trajectories\n",
    "boombox.load_encoding_model('models/model_50000.pt', BoomboxNet)\n",
    "boombox.encode_trajectories() # encode trajectories\n",
    "boombox.split_encoded_trajectories(10)\n",
    "trajectories, labels = boombox.get_all_songlet_trajectories() # get all songlet trajectories"
   ]
  },
  {
   "cell_type": "code",
   "execution_count": 74,
   "metadata": {},
   "outputs": [],
   "source": [
    "one_hot_encoder = OneHotEncoder()\n",
    "labels = one_hot_encoder.fit_transform(labels.reshape(-1, 1)).toarray()"
   ]
  },
  {
   "cell_type": "code",
   "execution_count": 75,
   "metadata": {},
   "outputs": [],
   "source": [
    "x_train, x_test, y_train, y_test = train_test_split(trajectories, labels, test_size=0.15, random_state=42)"
   ]
  },
  {
   "cell_type": "code",
   "execution_count": 76,
   "metadata": {},
   "outputs": [],
   "source": [
    "# Convert to tensors\n",
    "x_train = torch.tensor(x_train).float()\n",
    "y_train = torch.tensor(y_train).float()\n",
    "x_test = torch.tensor(x_test).float()\n",
    "y_test = torch.tensor(y_test).float()"
   ]
  },
  {
   "cell_type": "code",
   "execution_count": 77,
   "metadata": {},
   "outputs": [
    {
     "name": "stdout",
     "output_type": "stream",
     "text": [
      "tensor([18.,  8.,  7.,  8., 14.])\n"
     ]
    }
   ],
   "source": [
    "# does y_test contain all the genres?\n",
    "print(y_test.sum(axis=0))"
   ]
  },
  {
   "cell_type": "code",
   "execution_count": 78,
   "metadata": {},
   "outputs": [],
   "source": [
    "trainDataLoader = DataLoader(list(zip(x_train, y_train)), batch_size=16, shuffle=True)\n",
    "testDataLoader = DataLoader(list(zip(x_test, y_test)), batch_size=16, shuffle=True)"
   ]
  },
  {
   "cell_type": "code",
   "execution_count": 104,
   "metadata": {},
   "outputs": [],
   "source": [
    "import torch\n",
    "import torch.nn as nn\n",
    "\n",
    "class GenreClassifier(nn.Module):\n",
    "    def __init__(self, classes=5):\n",
    "        super(GenreClassifier, self).__init__()\n",
    "\n",
    "        self.conv1 = nn.Conv1d(10, 8, kernel_size=3, stride=1)\n",
    "        self.bn1 = nn.BatchNorm1d(8)\n",
    "        self.relu1 = nn.ReLU()\n",
    "        self.pool1 = nn.AvgPool1d(kernel_size=2)\n",
    "\n",
    "        self.conv2 = nn.Conv1d(8, 16, kernel_size=3, stride=1)\n",
    "        self.bn2 = nn.BatchNorm1d(16)\n",
    "        self.relu2 = nn.ReLU()\n",
    "        self.pool2 = nn.AvgPool1d(kernel_size=2)\n",
    "\n",
    "        self.conv3 = nn.Conv1d(16, 32, kernel_size=3, stride=1)\n",
    "        self.bn3 = nn.BatchNorm1d(32)\n",
    "        self.relu3 = nn.ReLU()\n",
    "        self.pool3 = nn.AvgPool1d(kernel_size=2)\n",
    "\n",
    "        self.conv4 = nn.Conv1d(32, 64, kernel_size=3, stride=1)\n",
    "        self.bn4 = nn.BatchNorm1d(64)\n",
    "        self.relu4 = nn.ReLU()\n",
    "        self.pool4 = nn.AvgPool1d(kernel_size=2)\n",
    "\n",
    "        self.conv5 = nn.Conv1d(64, 128, kernel_size=3, stride=1)\n",
    "        self.bn5 = nn.BatchNorm1d(128)\n",
    "        self.relu5 = nn.ReLU()\n",
    "        self.pool5 = nn.AvgPool1d(kernel_size=2)\n",
    "\n",
    "        self.flatten = nn.Flatten()\n",
    "\n",
    "        self.dropout = nn.Dropout(p=0.3)\n",
    "\n",
    "        self.fc = nn.Linear(2816, classes)\n",
    "        self.softmax = nn.Softmax(dim=1)\n",
    "\n",
    "    def forward(self, x):\n",
    "        x = self.conv1(x)\n",
    "        x = self.bn1(x)\n",
    "        x = self.relu1(x)\n",
    "        x = self.pool1(x)\n",
    "\n",
    "        x = self.conv2(x)\n",
    "        x = self.bn2(x)\n",
    "        x = self.relu2(x)\n",
    "        x = self.pool2(x)\n",
    "\n",
    "        x = self.conv3(x)\n",
    "        x = self.bn3(x)\n",
    "        x = self.relu3(x)\n",
    "        x = self.pool3(x)\n",
    "\n",
    "        x = self.conv4(x)\n",
    "        x = self.bn4(x)\n",
    "        x = self.relu4(x)\n",
    "        x = self.pool4(x)\n",
    "\n",
    "        x = self.conv5(x)\n",
    "        x = self.bn5(x)\n",
    "        x = self.relu5(x)\n",
    "        x = self.pool5(x)\n",
    "\n",
    "        x = self.flatten(x)\n",
    "\n",
    "        x = self.dropout(x)\n",
    "\n",
    "        x = self.fc(x)\n",
    "        x = self.softmax(x)\n",
    "\n",
    "        return x\n"
   ]
  },
  {
   "cell_type": "code",
   "execution_count": 105,
   "metadata": {},
   "outputs": [],
   "source": [
    "def train(x_train, y_train, x_test, y_test, epochs=100, device=\"cuda\"):\n",
    "    model = GenreClassifier().to(device)\n",
    "    criterion = nn.CrossEntropyLoss()\n",
    "    optimizer = torch.optim.Adam(model.parameters(), lr=0.001)\n",
    "    \n",
    "    losses_train = []\n",
    "    losses_test = []\n",
    "    accuracies_test = []\n",
    "    accuracies_train = []\n",
    "    iterations = []\n",
    "    iter = 0\n",
    "    \n",
    "    for epoch in tqdm(range(int(epochs)), desc='Training Epochs'):\n",
    "        model.train()\n",
    "        \n",
    "        totalTrainLoss = 0\n",
    "        trainCorrect = 0\n",
    "        \n",
    "        for (x,y) in trainDataLoader:\n",
    "            x = x.to(device)\n",
    "            y = y.to(device)\n",
    "            \n",
    "            outputs = model(x)\n",
    "            loss = criterion(outputs, torch.argmax(y, 1))\n",
    "            \n",
    "            optimizer.zero_grad()\n",
    "            loss.backward()\n",
    "            optimizer.step()\n",
    "            \n",
    "            totalTrainLoss += loss.item()\n",
    "            trainCorrect += torch.sum(torch.argmax(outputs, 1) == torch.argmax(y, 1))\n",
    "            \n",
    "        trainLoss = totalTrainLoss / len(trainDataLoader)\n",
    "        trainCorrect = trainCorrect / len(x_train)\n",
    "        print(\"[INFO] EPOCH: {}/{}\".format(epoch + 1, epochs))\n",
    "        print(\"Train loss: {:.6f}, Train accuracy: {:.4f}\".format(trainLoss, trainCorrect))\n",
    "        \n",
    "        "
   ]
  },
  {
   "cell_type": "code",
   "execution_count": null,
   "metadata": {},
   "outputs": [],
   "source": [
    "train(x_train, y_train, x_test, y_test, epochs=100, device=\"cuda\")"
   ]
  },
  {
   "cell_type": "code",
   "execution_count": 107,
   "metadata": {},
   "outputs": [],
   "source": [
    "torch.save(model.state_dict(), 'models/genre_cnn_100.pt')"
   ]
  },
  {
   "cell_type": "code",
   "execution_count": null,
   "metadata": {},
   "outputs": [],
   "source": [
    "with torch.no_grad():\n",
    "\t# set the model in evaluation mode\n",
    "\tmodel.eval()\n",
    "\t\n",
    "\t# initialize a list to store our predictions\n",
    "\tpreds = []\n",
    "\t# loop over the test set\n",
    "\tfor (x, y) in testDataLoader:\n",
    "\t\t# send the input to the device\n",
    "\t\tx = x.to('cuda')\n",
    "\t\t# make the predictions and add them to the list\n",
    "\t\tpred = model(x)\n",
    "\t\tpreds.extend(pred.argmax(axis=1).cpu().numpy())\n",
    "# generate a classification report\n",
    "print(classification_report(testDataLoader.targets.cpu().numpy(),\n",
    "\tnp.array(preds), target_names=['class_{}'.format(i) for i in range(5)]))"
   ]
  }
 ],
 "metadata": {
  "kernelspec": {
   "display_name": "Python 3",
   "language": "python",
   "name": "python3"
  },
  "language_info": {
   "codemirror_mode": {
    "name": "ipython",
    "version": 3
   },
   "file_extension": ".py",
   "mimetype": "text/x-python",
   "name": "python",
   "nbconvert_exporter": "python",
   "pygments_lexer": "ipython3",
   "version": "3.10.6"
  },
  "orig_nbformat": 4
 },
 "nbformat": 4,
 "nbformat_minor": 2
}
