{
 "cells": [
  {
   "cell_type": "code",
   "execution_count": 1,
   "metadata": {},
   "outputs": [
    {
     "name": "stderr",
     "output_type": "stream",
     "text": [
      "/home/shreyps/eecs448-boombox/.env/lib/python3.10/site-packages/tqdm/auto.py:22: TqdmWarning: IProgress not found. Please update jupyter and ipywidgets. See https://ipywidgets.readthedocs.io/en/stable/user_install.html\n",
      "  from .autonotebook import tqdm as notebook_tqdm\n"
     ]
    }
   ],
   "source": [
    "import librosa\n",
    "from MusicVectorizer import MusicVectorizer\n",
    "import numpy as np\n",
    "import glob\n",
    "from tqdm import tqdm"
   ]
  },
  {
   "cell_type": "code",
   "execution_count": 2,
   "metadata": {},
   "outputs": [],
   "source": [
    "classical_paths = glob.glob(\"data/classical/*.mp3\")\n",
    "classical_songs = [librosa.load(song_path, sr=16000)[0] for song_path in classical_paths]\n",
    "\n",
    "hiphop_paths = glob.glob(\"data/90s-rap/*.mp3\")\n",
    "hiphop_songs = [librosa.load(song_path, sr=16000)[0] for song_path in hiphop_paths]"
   ]
  },
  {
   "cell_type": "code",
   "execution_count": 3,
   "metadata": {},
   "outputs": [],
   "source": [
    "mv = MusicVectorizer()"
   ]
  },
  {
   "cell_type": "code",
   "execution_count": 5,
   "metadata": {},
   "outputs": [
    {
     "name": "stderr",
     "output_type": "stream",
     "text": [
      "100%|██████████| 22/22 [05:49<00:00, 15.89s/it]\n"
     ]
    }
   ],
   "source": [
    "classical_trajs = list()\n",
    "\n",
    "for song in tqdm(classical_songs):\n",
    "    classical_trajs.append(mv.trajectorize_song(song, 16000))"
   ]
  },
  {
   "cell_type": "code",
   "execution_count": 10,
   "metadata": {},
   "outputs": [
    {
     "name": "stderr",
     "output_type": "stream",
     "text": [
      "100%|██████████| 22/22 [05:25<00:00, 14.79s/it]\n"
     ]
    }
   ],
   "source": [
    "hiphop_trajs = list()\n",
    "\n",
    "for song in tqdm(hiphop_songs):\n",
    "    hiphop_trajs.append(mv.trajectorize_song(song, 16000))"
   ]
  },
  {
   "cell_type": "code",
   "execution_count": 78,
   "metadata": {},
   "outputs": [
    {
     "name": "stdout",
     "output_type": "stream",
     "text": [
      "[0 1 0 1] [1 1 1 1]\n",
      "Layer 0: Train accuracy: 0.8055555555555556, Test accuracy: 0.75\n",
      "\n",
      "[0 1 0 1] [1 1 1 1]\n",
      "Layer 1: Train accuracy: 0.8333333333333334, Test accuracy: 0.75\n",
      "\n",
      "[0 1 0 1] [1 1 1 1]\n",
      "Layer 2: Train accuracy: 0.8055555555555556, Test accuracy: 0.75\n",
      "\n",
      "[1 1 0 1] [1 1 1 1]\n",
      "Layer 3: Train accuracy: 0.7777777777777778, Test accuracy: 0.875\n",
      "\n",
      "[1 1 0 1] [1 1 1 1]\n",
      "Layer 4: Train accuracy: 0.7777777777777778, Test accuracy: 0.875\n",
      "\n",
      "[1 1 0 1] [1 1 1 1]\n",
      "Layer 5: Train accuracy: 0.7777777777777778, Test accuracy: 0.875\n",
      "\n",
      "[1 1 1 1] [1 1 1 1]\n",
      "Layer 6: Train accuracy: 0.7777777777777778, Test accuracy: 1.0\n",
      "\n",
      "[1 1 1 1] [1 1 1 1]\n",
      "Layer 7: Train accuracy: 0.7777777777777778, Test accuracy: 1.0\n",
      "\n",
      "[1 1 1 1] [1 1 1 1]\n",
      "Layer 8: Train accuracy: 0.7777777777777778, Test accuracy: 1.0\n",
      "\n",
      "[1 1 1 1] [1 1 1 1]\n",
      "Layer 9: Train accuracy: 0.75, Test accuracy: 1.0\n",
      "\n",
      "[1 1 1 1] [1 1 1 1]\n",
      "Layer 10: Train accuracy: 0.75, Test accuracy: 1.0\n",
      "\n",
      "[1 1 0 1] [1 1 1 1]\n",
      "Layer 11: Train accuracy: 0.75, Test accuracy: 0.875\n",
      "\n",
      "[0 0 0 0] [1 1 1 1]\n",
      "Layer 12: Train accuracy: 0.9444444444444444, Test accuracy: 1.0\n",
      "\n"
     ]
    }
   ],
   "source": [
    "from sklearn.cluster import KMeans\n",
    "from statistics import mode\n",
    "\n",
    "# get endpoints\n",
    "classical_endpoints = np.array([np.sum(traj, axis=0) for traj in classical_trajs])  # collapses time axis\n",
    "hiphop_endpoints = np.array([np.sum(traj, axis=0) for traj in hiphop_trajs])  # n_data x n_layers x n_features\n",
    "\n",
    "# try for each possible layer\n",
    "\n",
    "n_train = 18\n",
    "for layer in range(13):\n",
    "    # get data\n",
    "    train_data = np.concatenate((classical_endpoints[:n_train, layer, :], hiphop_endpoints[:n_train, layer, :]))\n",
    "    test_data = np.concatenate((classical_endpoints[n_train:, layer, :], hiphop_endpoints[n_train:, layer, :]))\n",
    "    \n",
    "    # print()\n",
    "    # print(endpoints.shape)\n",
    "    # make/fit model\n",
    "    model = KMeans(n_clusters=2, random_state=2, max_iter=1000, n_init='auto')\n",
    "    model.fit(train_data)\n",
    "\n",
    "    # test model\n",
    "    # calculate train and test accuracies\n",
    "    train_outputs = model.predict(train_data)\n",
    "    train_classical = train_outputs[:n_train]\n",
    "    train_hiphop = train_outputs[n_train:]\n",
    "    train_acc = (train_classical.tolist().count(mode(train_classical)) + train_hiphop.tolist().count(mode(train_hiphop))) / (2 * n_train)\n",
    "\n",
    "    test_outputs = model.predict(test_data)\n",
    "    test_classical = test_outputs[:len(classical_endpoints) - n_train]\n",
    "    test_hiphop = test_outputs[len(classical_endpoints) - n_train:]\n",
    "    test_acc = (test_classical.tolist().count(mode(test_classical)) + test_hiphop.tolist().count(mode(test_hiphop))) / (2 * (len(classical_endpoints) - n_train))\n",
    "    \n",
    "    print(test_classical, test_hiphop)\n",
    "    print(f\"Layer {layer}: Train accuracy: {train_acc}, Test accuracy: {test_acc}\")\n",
    "    print()\n",
    "    # print(f\"{outputs[:22-n_train]}, {outputs[22-n_train:]}\")\n",
    "    # print(model.predict(test_data))"
   ]
  },
  {
   "cell_type": "code",
   "execution_count": 71,
   "metadata": {},
   "outputs": [
    {
     "data": {
      "text/plain": [
       "(13, 768)"
      ]
     },
     "execution_count": 71,
     "metadata": {},
     "output_type": "execute_result"
    }
   ],
   "source": [
    "np.sum(classical_trajs[0][:, :, :], axis=0).shape"
   ]
  },
  {
   "cell_type": "code",
   "execution_count": 46,
   "metadata": {},
   "outputs": [],
   "source": [
    "classical_endpoints = np.array([np.sum(traj, axis=0) for traj in classical_trajs])\n",
    "hiphop_endpoints = np.array([np.sum(traj, axis=0) for traj in hiphop_trajs])"
   ]
  },
  {
   "cell_type": "code",
   "execution_count": 47,
   "metadata": {},
   "outputs": [
    {
     "data": {
      "text/plain": [
       "(22, 13, 768)"
      ]
     },
     "execution_count": 47,
     "metadata": {},
     "output_type": "execute_result"
    }
   ],
   "source": [
    "classical_endpoints.shape"
   ]
  },
  {
   "cell_type": "code",
   "execution_count": 1,
   "metadata": {},
   "outputs": [],
   "source": [
    "fucntions = [\"Break\", \"Bridge\", \"Chorus\", \"Coda\", \"Development\", \"Exposition\", \"Fade-out\", \"Head\", \"Instrumental\", \"Interlude\", \"Intro\", \"Main_Theme\", \"No_function\", \"Outro\", \"Post-chorus\", \"Post-verse\", \"Pre-Chorus\", \"Pre-Verse\", \"Recap\", \"Secondary_Theme\", \"Solo\", \"Theme\", \"Transition\", \"Variation\", \"Verse\"]"
   ]
  },
  {
   "cell_type": "code",
   "execution_count": 3,
   "metadata": {},
   "outputs": [
    {
     "data": {
      "text/plain": [
       "25"
      ]
     },
     "execution_count": 3,
     "metadata": {},
     "output_type": "execute_result"
    }
   ],
   "source": [
    "len(fucntions)"
   ]
  }
 ],
 "metadata": {
  "kernelspec": {
   "display_name": ".env",
   "language": "python",
   "name": "python3"
  },
  "language_info": {
   "codemirror_mode": {
    "name": "ipython",
    "version": 3
   },
   "file_extension": ".py",
   "mimetype": "text/x-python",
   "name": "python",
   "nbconvert_exporter": "python",
   "pygments_lexer": "ipython3",
   "version": "3.10.6"
  },
  "orig_nbformat": 4,
  "vscode": {
   "interpreter": {
    "hash": "3460837c093a184088cb26a94dcf216afbb20b78780c44953a8df29d40c30d2c"
   }
  }
 },
 "nbformat": 4,
 "nbformat_minor": 2
}
