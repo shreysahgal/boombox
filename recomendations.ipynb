{
 "cells": [
  {
   "cell_type": "code",
   "execution_count": 1,
   "metadata": {},
   "outputs": [
    {
     "name": "stderr",
     "output_type": "stream",
     "text": [
      "/Users/bensmacbook/.pyenv/versions/3.10.6/envs/flask-448/lib/python3.10/site-packages/tqdm/auto.py:21: TqdmWarning: IProgress not found. Please update jupyter and ipywidgets. See https://ipywidgets.readthedocs.io/en/stable/user_install.html\n",
      "  from .autonotebook import tqdm as notebook_tqdm\n"
     ]
    }
   ],
   "source": [
    "import numpy as np\n",
    "import librosa\n",
    "import glob\n",
    "import pickle\n",
    "from tqdm import tqdm\n",
    "from sklearn.preprocessing import normalize\n",
    "\n",
    "from MusicVectorizer import MusicVectorizer\n",
    "\n",
    "SAMPLE_RATE = 16000\n",
    "\n",
    "data_folders = [\"90s_hiphop\", \"90s_rock\", \"2010s_pop\", \"classical\", \"country\"]\n",
    "\n",
    "\n",
    "trajectories = {}\n",
    "for folder in data_folders:\n",
    "    trajectories[folder] = np.load(\"data/\" + folder + \"_trajectories.npy\", allow_pickle=True).item()"
   ]
  },
  {
   "cell_type": "code",
   "execution_count": 2,
   "metadata": {},
   "outputs": [
    {
     "data": {
      "text/plain": [
       "dict_keys(['90s_hiphop', '90s_rock', '2010s_pop', 'classical', 'country'])"
      ]
     },
     "execution_count": 2,
     "metadata": {},
     "output_type": "execute_result"
    }
   ],
   "source": [
    "trajectories.keys()"
   ]
  },
  {
   "cell_type": "code",
   "execution_count": 3,
   "metadata": {},
   "outputs": [],
   "source": [
    "def split_song( song : np.ndarray, num_songlets : int, norm : bool) -> np.ndarray:\n",
    "    \"\"\"\n",
    "    Splits a single song that is (num_timesteps, 768) into (num_songlets, 768).\n",
    "    \"\"\"\n",
    "\n",
    "    songlet_size = song.shape[0] // num_songlets\n",
    "    songlets = []\n",
    "\n",
    "    for i in range(num_songlets):\n",
    "        if i == num_songlets - 1:\n",
    "            songlets.append(song[i*songlet_size:])\n",
    "        else:\n",
    "            songlets.append(song[i*songlet_size:(i+1)*songlet_size])\n",
    "\n",
    "    if norm:\n",
    "        return normalize([np.sum(s, axis=0) for s in songlets])\n",
    "    else:\n",
    "        return np.stack([np.sum(s, axis=0) for s in songlets])"
   ]
  },
  {
   "cell_type": "code",
   "execution_count": 4,
   "metadata": {},
   "outputs": [],
   "source": [
    "for genre in trajectories.keys():\n",
    "    for song in trajectories[genre].keys():\n",
    "        trajectories[genre][song] = trajectories[genre][song][:,12,:]\n",
    "        trajectories[genre][song] = trajectories[genre][song].reshape(trajectories[genre][song].shape[0], -1)\n",
    "        trajectories[genre][song] = split_song(trajectories[genre][song], 10, True)"
   ]
  },
  {
   "cell_type": "code",
   "execution_count": 5,
   "metadata": {},
   "outputs": [
    {
     "name": "stdout",
     "output_type": "stream",
     "text": [
      "(10, 768)\n",
      "(10, 768)\n",
      "(10, 768)\n",
      "(10, 768)\n",
      "(10, 768)\n",
      "(10, 768)\n",
      "(10, 768)\n",
      "(10, 768)\n",
      "(10, 768)\n",
      "(10, 768)\n",
      "(10, 768)\n",
      "(10, 768)\n",
      "(10, 768)\n",
      "(10, 768)\n",
      "(10, 768)\n",
      "(10, 768)\n",
      "(10, 768)\n",
      "(10, 768)\n",
      "(10, 768)\n",
      "(10, 768)\n",
      "(10, 768)\n",
      "(10, 768)\n",
      "(10, 768)\n",
      "(10, 768)\n",
      "(10, 768)\n",
      "(10, 768)\n",
      "(10, 768)\n",
      "(10, 768)\n",
      "(10, 768)\n",
      "(10, 768)\n",
      "(10, 768)\n",
      "(10, 768)\n",
      "(10, 768)\n",
      "(10, 768)\n",
      "(10, 768)\n",
      "(10, 768)\n",
      "(10, 768)\n",
      "(10, 768)\n",
      "(10, 768)\n",
      "(10, 768)\n",
      "(10, 768)\n",
      "(10, 768)\n",
      "(10, 768)\n",
      "(10, 768)\n",
      "(10, 768)\n",
      "(10, 768)\n",
      "(10, 768)\n",
      "(10, 768)\n",
      "(10, 768)\n",
      "(10, 768)\n",
      "(10, 768)\n",
      "(10, 768)\n",
      "(10, 768)\n",
      "(10, 768)\n",
      "(10, 768)\n",
      "(10, 768)\n",
      "(10, 768)\n",
      "(10, 768)\n",
      "(10, 768)\n",
      "(10, 768)\n",
      "(10, 768)\n",
      "(10, 768)\n",
      "(10, 768)\n",
      "(10, 768)\n",
      "(10, 768)\n",
      "(10, 768)\n",
      "(10, 768)\n",
      "(10, 768)\n",
      "(10, 768)\n",
      "(10, 768)\n",
      "(10, 768)\n",
      "(10, 768)\n",
      "(10, 768)\n",
      "(10, 768)\n",
      "(10, 768)\n",
      "(10, 768)\n",
      "(10, 768)\n",
      "(10, 768)\n",
      "(10, 768)\n",
      "(10, 768)\n",
      "(10, 768)\n",
      "(10, 768)\n",
      "(10, 768)\n",
      "(10, 768)\n",
      "(10, 768)\n",
      "(10, 768)\n",
      "(10, 768)\n",
      "(10, 768)\n",
      "(10, 768)\n",
      "(10, 768)\n",
      "(10, 768)\n",
      "(10, 768)\n",
      "(10, 768)\n",
      "(10, 768)\n",
      "(10, 768)\n",
      "(10, 768)\n",
      "(10, 768)\n",
      "(10, 768)\n",
      "(10, 768)\n",
      "(10, 768)\n",
      "(10, 768)\n",
      "(10, 768)\n",
      "(10, 768)\n",
      "(10, 768)\n",
      "(10, 768)\n",
      "(10, 768)\n",
      "(10, 768)\n",
      "(10, 768)\n",
      "(10, 768)\n",
      "(10, 768)\n",
      "(10, 768)\n",
      "(10, 768)\n",
      "(10, 768)\n",
      "(10, 768)\n",
      "(10, 768)\n",
      "(10, 768)\n",
      "(10, 768)\n",
      "(10, 768)\n",
      "(10, 768)\n",
      "(10, 768)\n",
      "(10, 768)\n",
      "(10, 768)\n",
      "(10, 768)\n",
      "(10, 768)\n",
      "(10, 768)\n",
      "(10, 768)\n",
      "(10, 768)\n",
      "(10, 768)\n",
      "(10, 768)\n",
      "(10, 768)\n",
      "(10, 768)\n",
      "(10, 768)\n",
      "(10, 768)\n",
      "(10, 768)\n",
      "(10, 768)\n",
      "(10, 768)\n",
      "(10, 768)\n",
      "(10, 768)\n",
      "(10, 768)\n",
      "(10, 768)\n",
      "(10, 768)\n",
      "(10, 768)\n",
      "(10, 768)\n",
      "(10, 768)\n",
      "(10, 768)\n",
      "(10, 768)\n",
      "(10, 768)\n",
      "(10, 768)\n",
      "(10, 768)\n",
      "(10, 768)\n",
      "(10, 768)\n",
      "(10, 768)\n",
      "(10, 768)\n",
      "(10, 768)\n",
      "(10, 768)\n",
      "(10, 768)\n",
      "(10, 768)\n",
      "(10, 768)\n",
      "(10, 768)\n",
      "(10, 768)\n",
      "(10, 768)\n",
      "(10, 768)\n",
      "(10, 768)\n",
      "(10, 768)\n",
      "(10, 768)\n",
      "(10, 768)\n",
      "(10, 768)\n",
      "(10, 768)\n",
      "(10, 768)\n",
      "(10, 768)\n",
      "(10, 768)\n",
      "(10, 768)\n",
      "(10, 768)\n",
      "(10, 768)\n",
      "(10, 768)\n",
      "(10, 768)\n",
      "(10, 768)\n",
      "(10, 768)\n",
      "(10, 768)\n",
      "(10, 768)\n",
      "(10, 768)\n",
      "(10, 768)\n",
      "(10, 768)\n",
      "(10, 768)\n",
      "(10, 768)\n",
      "(10, 768)\n",
      "(10, 768)\n",
      "(10, 768)\n",
      "(10, 768)\n",
      "(10, 768)\n",
      "(10, 768)\n",
      "(10, 768)\n",
      "(10, 768)\n",
      "(10, 768)\n",
      "(10, 768)\n",
      "(10, 768)\n",
      "(10, 768)\n",
      "(10, 768)\n",
      "(10, 768)\n",
      "(10, 768)\n",
      "(10, 768)\n",
      "(10, 768)\n",
      "(10, 768)\n",
      "(10, 768)\n",
      "(10, 768)\n",
      "(10, 768)\n",
      "(10, 768)\n",
      "(10, 768)\n",
      "(10, 768)\n",
      "(10, 768)\n",
      "(10, 768)\n",
      "(10, 768)\n",
      "(10, 768)\n",
      "(10, 768)\n",
      "(10, 768)\n",
      "(10, 768)\n",
      "(10, 768)\n",
      "(10, 768)\n",
      "(10, 768)\n",
      "(10, 768)\n",
      "(10, 768)\n",
      "(10, 768)\n",
      "(10, 768)\n",
      "(10, 768)\n",
      "(10, 768)\n",
      "(10, 768)\n",
      "(10, 768)\n",
      "(10, 768)\n",
      "(10, 768)\n",
      "(10, 768)\n",
      "(10, 768)\n",
      "(10, 768)\n",
      "(10, 768)\n",
      "(10, 768)\n",
      "(10, 768)\n",
      "(10, 768)\n",
      "(10, 768)\n",
      "(10, 768)\n",
      "(10, 768)\n",
      "(10, 768)\n",
      "(10, 768)\n",
      "(10, 768)\n",
      "(10, 768)\n",
      "(10, 768)\n",
      "(10, 768)\n",
      "(10, 768)\n",
      "(10, 768)\n",
      "(10, 768)\n",
      "(10, 768)\n",
      "(10, 768)\n",
      "(10, 768)\n",
      "(10, 768)\n",
      "(10, 768)\n",
      "(10, 768)\n",
      "(10, 768)\n",
      "(10, 768)\n",
      "(10, 768)\n",
      "(10, 768)\n",
      "(10, 768)\n",
      "(10, 768)\n",
      "(10, 768)\n",
      "(10, 768)\n",
      "(10, 768)\n",
      "(10, 768)\n",
      "(10, 768)\n",
      "(10, 768)\n",
      "(10, 768)\n",
      "(10, 768)\n",
      "(10, 768)\n",
      "(10, 768)\n",
      "(10, 768)\n",
      "(10, 768)\n",
      "(10, 768)\n",
      "(10, 768)\n",
      "(10, 768)\n",
      "(10, 768)\n",
      "(10, 768)\n",
      "(10, 768)\n",
      "(10, 768)\n",
      "(10, 768)\n",
      "(10, 768)\n",
      "(10, 768)\n",
      "(10, 768)\n",
      "(10, 768)\n",
      "(10, 768)\n",
      "(10, 768)\n",
      "(10, 768)\n",
      "(10, 768)\n",
      "(10, 768)\n",
      "(10, 768)\n",
      "(10, 768)\n",
      "(10, 768)\n",
      "(10, 768)\n",
      "(10, 768)\n",
      "(10, 768)\n",
      "(10, 768)\n",
      "(10, 768)\n",
      "(10, 768)\n",
      "(10, 768)\n",
      "(10, 768)\n",
      "(10, 768)\n",
      "(10, 768)\n",
      "(10, 768)\n",
      "(10, 768)\n",
      "(10, 768)\n",
      "(10, 768)\n",
      "(10, 768)\n",
      "(10, 768)\n",
      "(10, 768)\n",
      "(10, 768)\n",
      "(10, 768)\n",
      "(10, 768)\n",
      "(10, 768)\n",
      "(10, 768)\n",
      "(10, 768)\n",
      "(10, 768)\n",
      "(10, 768)\n",
      "(10, 768)\n",
      "(10, 768)\n",
      "(10, 768)\n",
      "(10, 768)\n",
      "(10, 768)\n",
      "(10, 768)\n",
      "(10, 768)\n",
      "(10, 768)\n",
      "(10, 768)\n",
      "(10, 768)\n",
      "(10, 768)\n",
      "(10, 768)\n",
      "(10, 768)\n",
      "(10, 768)\n",
      "(10, 768)\n",
      "(10, 768)\n",
      "(10, 768)\n",
      "(10, 768)\n",
      "(10, 768)\n",
      "(10, 768)\n",
      "(10, 768)\n",
      "(10, 768)\n",
      "(10, 768)\n",
      "(10, 768)\n",
      "(10, 768)\n",
      "(10, 768)\n",
      "(10, 768)\n",
      "(10, 768)\n",
      "(10, 768)\n",
      "(10, 768)\n",
      "(10, 768)\n",
      "(10, 768)\n",
      "(10, 768)\n",
      "(10, 768)\n",
      "(10, 768)\n",
      "(10, 768)\n",
      "(10, 768)\n",
      "(10, 768)\n",
      "(10, 768)\n",
      "(10, 768)\n",
      "(10, 768)\n",
      "(10, 768)\n",
      "(10, 768)\n",
      "(10, 768)\n",
      "(10, 768)\n",
      "(10, 768)\n",
      "(10, 768)\n",
      "(10, 768)\n"
     ]
    }
   ],
   "source": [
    "for genre in trajectories.keys():\n",
    "    for song in trajectories[genre].keys():\n",
    "        print(trajectories[genre][song].shape)"
   ]
  },
  {
   "attachments": {},
   "cell_type": "markdown",
   "metadata": {},
   "source": [
    "# ANNOY"
   ]
  },
  {
   "cell_type": "code",
   "execution_count": 6,
   "metadata": {},
   "outputs": [
    {
     "ename": "ModuleNotFoundError",
     "evalue": "No module named 'annoy'",
     "output_type": "error",
     "traceback": [
      "\u001b[0;31m---------------------------------------------------------------------------\u001b[0m",
      "\u001b[0;31mModuleNotFoundError\u001b[0m                       Traceback (most recent call last)",
      "Cell \u001b[0;32mIn[6], line 1\u001b[0m\n\u001b[0;32m----> 1\u001b[0m \u001b[39mfrom\u001b[39;00m \u001b[39mannoy\u001b[39;00m \u001b[39mimport\u001b[39;00m AnnoyIndex\n\u001b[1;32m      2\u001b[0m mapping \u001b[39m=\u001b[39m {}\n",
      "\u001b[0;31mModuleNotFoundError\u001b[0m: No module named 'annoy'"
     ]
    }
   ],
   "source": [
    "from annoy import AnnoyIndex\n",
    "mapping = {}"
   ]
  },
  {
   "cell_type": "code",
   "execution_count": 94,
   "metadata": {},
   "outputs": [],
   "source": [
    "sim = AnnoyIndex(768, 'angular')\n",
    "idx = 0\n",
    "for genre in trajectories.keys():\n",
    "    for song in trajectories[genre].keys():\n",
    "        for i in range(trajectories[genre][song].shape[0]):\n",
    "            sim.add_item(idx, trajectories[genre][song][0])\n",
    "            mapping[idx] = (genre, song)\n",
    "            idx += 1"
   ]
  },
  {
   "cell_type": "code",
   "execution_count": 95,
   "metadata": {},
   "outputs": [
    {
     "data": {
      "text/plain": [
       "19218"
      ]
     },
     "execution_count": 95,
     "metadata": {},
     "output_type": "execute_result"
    }
   ],
   "source": [
    "idx"
   ]
  },
  {
   "cell_type": "code",
   "execution_count": 19,
   "metadata": {},
   "outputs": [
    {
     "name": "stdout",
     "output_type": "stream",
     "text": [
      "(10, 768)\n"
     ]
    }
   ],
   "source": [
    "# add known songs to annoy index and find similarities\n",
    "hotel_room_service = np.load(\"temp/JGwWNGJdvx8.npy\")\n",
    "hotel_room_service = hotel_room_service[:,12,:]\n",
    "hotel_room_service = hotel_room_service.reshape(hotel_room_service.shape[0], -1)\n",
    "shape_of_you = split_song(hotel_room_service, 10, True)\n",
    "print(shape_of_you.shape)"
   ]
  },
  {
   "cell_type": "code",
   "execution_count": 97,
   "metadata": {},
   "outputs": [
    {
     "data": {
      "text/plain": [
       "True"
      ]
     },
     "execution_count": 97,
     "metadata": {},
     "output_type": "execute_result"
    }
   ],
   "source": [
    "sim.build(1000)"
   ]
  },
  {
   "attachments": {},
   "cell_type": "markdown",
   "metadata": {},
   "source": [
    "# FLANN"
   ]
  },
  {
   "cell_type": "code",
   "execution_count": 1,
   "metadata": {},
   "outputs": [
    {
     "ename": "ModuleNotFoundError",
     "evalue": "No module named 'pyflann'",
     "output_type": "error",
     "traceback": [
      "\u001b[0;31m---------------------------------------------------------------------------\u001b[0m",
      "\u001b[0;31mModuleNotFoundError\u001b[0m                       Traceback (most recent call last)",
      "Cell \u001b[0;32mIn[1], line 1\u001b[0m\n\u001b[0;32m----> 1\u001b[0m \u001b[39mfrom\u001b[39;00m \u001b[39mpyflann\u001b[39;00m \u001b[39mimport\u001b[39;00m \u001b[39m*\u001b[39m\n",
      "\u001b[0;31mModuleNotFoundError\u001b[0m: No module named 'pyflann'"
     ]
    }
   ],
   "source": [
    "from pyflann import *"
   ]
  },
  {
   "cell_type": "code",
   "execution_count": 113,
   "metadata": {},
   "outputs": [],
   "source": [
    "dataset = []\n",
    "for song in trajectories[genre].keys():\n",
    "    for i in range(trajectories[genre][song].shape[0]):\n",
    "            dataset.append(trajectories[genre][song][0])\n",
    "dataset = np.array(dataset)"
   ]
  },
  {
   "cell_type": "code",
   "execution_count": 115,
   "metadata": {},
   "outputs": [
    {
     "data": {
      "text/plain": [
       "(104, 768)"
      ]
     },
     "execution_count": 115,
     "metadata": {},
     "output_type": "execute_result"
    }
   ],
   "source": [
    "hotel_room_service.shape"
   ]
  },
  {
   "cell_type": "code",
   "execution_count": 114,
   "metadata": {},
   "outputs": [],
   "source": [
    "flann = FLANN()"
   ]
  },
  {
   "cell_type": "code",
   "execution_count": 129,
   "metadata": {},
   "outputs": [],
   "source": [
    "results, dists = flann.nn(dataset, hotel_room_service, 10, algorithm=\"kmeans\", branching=32, iterations=7, checks=16)"
   ]
  },
  {
   "cell_type": "code",
   "execution_count": 130,
   "metadata": {},
   "outputs": [
    {
     "name": "stdout",
     "output_type": "stream",
     "text": [
      "(104, 10)\n"
     ]
    }
   ],
   "source": [
    "results = np.array(results)\n",
    "print(results.shape)"
   ]
  },
  {
   "attachments": {},
   "cell_type": "markdown",
   "metadata": {},
   "source": [
    "# FLANN Evaluation"
   ]
  },
  {
   "cell_type": "code",
   "execution_count": 131,
   "metadata": {},
   "outputs": [],
   "source": [
    "flann_counts = {}\n",
    "for i in range(len(results)):\n",
    "    for result in results[i]:\n",
    "        if result in flann_counts:\n",
    "            flann_counts[result] += 1\n",
    "        else:\n",
    "            flann_counts[result] = 1"
   ]
  },
  {
   "cell_type": "code",
   "execution_count": 133,
   "metadata": {},
   "outputs": [
    {
     "name": "stdout",
     "output_type": "stream",
     "text": [
      "[(3343, 32), (3344, 32), (3345, 32), (3346, 32), (3347, 32), (3348, 32), (3349, 32), (3350, 32), (3351, 32), (3352, 32), (0, 22), (1, 22), (2, 22), (3, 22), (4, 22), (5, 22), (6, 22), (7, 22), (8, 22), (9, 22), (1717, 15), (1718, 15), (1719, 15), (1720, 15), (1721, 15), (1722, 15), (1723, 15), (1724, 15), (1725, 15), (1726, 15), (610, 9), (611, 9), (612, 9), (613, 9), (614, 9), (615, 9), (616, 9), (617, 9), (618, 9), (619, 9), (1025, 7), (1026, 7), (1027, 7), (1028, 7), (1029, 7), (1030, 7), (1031, 7), (1032, 7), (1033, 7), (1034, 7), (3188, 4), (3189, 4), (3190, 4), (3191, 4), (3192, 4), (3193, 4), (3194, 4), (3195, 4), (3196, 4), (3197, 4), (3569, 3), (3570, 3), (3571, 3), (3572, 3), (3573, 3), (3574, 3), (3575, 3), (3576, 3), (3577, 3), (3578, 3), (3140, 2), (3141, 2), (3142, 2), (3143, 2), (3144, 2), (3145, 2), (3146, 2), (3147, 2), (3148, 2), (3149, 2), (41, 2), (42, 2), (43, 2), (44, 2), (45, 2), (46, 2), (47, 2), (48, 2), (49, 2), (50, 2), (436, 2), (437, 2), (438, 2), (439, 2), (440, 2), (441, 2), (442, 2), (443, 2), (444, 2), (445, 2), (2637, 1), (2638, 1), (2639, 1), (2640, 1), (2641, 1), (2642, 1), (2643, 1), (2644, 1), (2645, 1), (2646, 1), (1510, 1), (1511, 1), (1512, 1), (1513, 1), (1514, 1), (1515, 1), (1516, 1), (1517, 1), (1518, 1), (1519, 1), (386, 1), (387, 1), (388, 1), (389, 1), (390, 1), (391, 1), (392, 1), (393, 1), (394, 1), (395, 1), (185, 1), (186, 1), (187, 1), (188, 1), (189, 1), (190, 1), (191, 1), (192, 1), (193, 1), (194, 1), (646, 1), (647, 1), (648, 1), (649, 1), (650, 1), (651, 1), (652, 1), (653, 1), (654, 1), (655, 1), (1809, 1), (1810, 1), (1811, 1), (1812, 1), (1813, 1), (1814, 1), (1815, 1), (1816, 1), (1817, 1), (1818, 1)]\n"
     ]
    }
   ],
   "source": [
    "# flann most common\n",
    "flann_most_common = sorted(flann_counts.items(), key=lambda x: x[1], reverse=True)\n",
    "print(flann_most_common)"
   ]
  },
  {
   "cell_type": "code",
   "execution_count": 136,
   "metadata": {},
   "outputs": [],
   "source": [
    "flann_unique = []\n",
    "for item in flann_most_common:\n",
    "    if mapping[item[0]][1] not in flann_unique:\n",
    "        flann_unique.append(mapping[item[0]][1])"
   ]
  },
  {
   "cell_type": "code",
   "execution_count": 138,
   "metadata": {},
   "outputs": [
    {
     "name": "stdout",
     "output_type": "stream",
     "text": [
      "data/90s_hiphop/Craig Mack - Flava In Ya Ear (Official Music Video).mp3\n",
      "data/90s_hiphop/Missy Elliott - The Rain (Supa Dupa Fly) [Official Music Video].mp3\n",
      "data/90s_hiphop/Bone Thugs N Harmony - 1st of tha Month.mp3\n",
      "data/90s_hiphop/MC Lyte & Missy Elliott - Cold Rock a Party.mp3\n",
      "data/90s_hiphop/MC Lyte - Ruffneck (Official Video) [Explicit].mp3\n",
      "data/90s_hiphop/Das EFX - They Want EFX.mp3\n",
      "data/90s_hiphop/Puff Daddy - It's All About The Benjamins (Remix) (Official Music Video) [HD].mp3\n",
      "data/90s_hiphop/Outkast - ATliens (Official HD Video).mp3\n",
      "data/90s_hiphop/Bone Thugs N Harmony - Crossroads.mp3\n",
      "data/90s_hiphop/Dr. Dre - Still D.R.E. ft. Snoop Dogg.mp3\n"
     ]
    }
   ],
   "source": [
    "for item in flann_unique[:10]:\n",
    "    print(item)"
   ]
  },
  {
   "attachments": {},
   "cell_type": "markdown",
   "metadata": {},
   "source": [
    "# ANNOY Evaluation Code"
   ]
  },
  {
   "cell_type": "code",
   "execution_count": 134,
   "metadata": {},
   "outputs": [],
   "source": [
    "counts = {}\n",
    "for i in range(hotel_room_service.shape[0]):\n",
    "    results = sim.get_nns_by_vector(hotel_room_service[i], 10, search_k=-1, include_distances=False)\n",
    "    for result in results:\n",
    "        if result in counts:\n",
    "            counts[result] += 1\n",
    "        else:\n",
    "            counts[result] = 1"
   ]
  },
  {
   "cell_type": "code",
   "execution_count": 135,
   "metadata": {},
   "outputs": [
    {
     "name": "stdout",
     "output_type": "stream",
     "text": [
      "[(946, 20), (947, 20), (948, 20), (949, 20), (950, 20), (951, 20), (952, 20), (953, 20), (954, 20), (955, 20), (1565, 19), (1566, 19), (1567, 19), (1568, 19), (1569, 19), (1570, 19), (1571, 19), (1572, 19), (1573, 19), (1574, 19), (3760, 18), (3761, 18), (3762, 18), (3763, 18), (3764, 18), (3765, 18), (3766, 18), (3767, 18), (3768, 18), (3769, 18), (1772, 14), (1773, 14), (1774, 14), (1775, 14), (1776, 14), (1777, 14), (1778, 14), (1779, 14), (1780, 14), (1781, 14), (16224, 4), (16225, 4), (16226, 4), (16227, 4), (16228, 4), (16229, 4), (16230, 4), (16231, 4), (16232, 4), (16233, 4), (17331, 4), (17332, 4), (17333, 4), (17334, 4), (17335, 4), (17336, 4), (17337, 4), (17338, 4), (17339, 4), (17340, 4), (18957, 4), (18958, 4), (18959, 4), (18960, 4), (18961, 4), (18962, 4), (18963, 4), (18964, 4), (18965, 4), (18966, 4), (530, 3), (531, 3), (532, 3), (533, 3), (534, 3), (535, 3), (536, 3), (537, 3), (538, 3), (539, 3), (9482, 2), (9483, 2), (9484, 2), (9485, 2), (9486, 2), (9487, 2), (9488, 2), (9489, 2), (9490, 2), (9491, 2), (2301, 2), (2302, 2), (2303, 2), (2304, 2), (2305, 2), (2306, 2), (2307, 2), (2308, 2), (2309, 2), (2310, 2), (7739, 2), (7740, 2), (7741, 2), (7742, 2), (7743, 2), (7744, 2), (7745, 2), (7746, 2), (7747, 2), (7748, 2), (7052, 2), (7053, 2), (7054, 2), (7055, 2), (7056, 2), (7057, 2), (7058, 2), (7059, 2), (7060, 2), (7061, 2), (5429, 1), (5430, 1), (5431, 1), (5432, 1), (5433, 1), (5434, 1), (5435, 1), (5436, 1), (5437, 1), (5438, 1), (1731, 1), (1732, 1), (1733, 1), (1734, 1), (1735, 1), (1736, 1), (1737, 1), (1738, 1), (1739, 1), (1740, 1), (7322, 1), (7323, 1), (7324, 1), (7325, 1), (7326, 1), (7327, 1), (7328, 1), (7329, 1), (7330, 1), (7331, 1), (3320, 1), (3321, 1), (3322, 1), (3323, 1), (3324, 1), (3325, 1), (3326, 1), (3327, 1), (3328, 1), (3329, 1), (13589, 1), (13590, 1), (13591, 1), (13592, 1), (13593, 1), (13594, 1), (13595, 1), (13596, 1), (13597, 1), (13598, 1), (16000, 1), (16001, 1), (16002, 1), (16003, 1), (16004, 1), (16005, 1), (16006, 1), (16007, 1), (16008, 1), (16009, 1), (4402, 1), (4403, 1), (4404, 1), (4405, 1), (4406, 1), (4407, 1), (4408, 1), (4409, 1), (4410, 1), (4411, 1), (6454, 1), (6455, 1), (6456, 1), (6457, 1), (6458, 1), (6459, 1), (6460, 1), (6461, 1), (6462, 1), (6463, 1), (10153, 1), (10154, 1), (10155, 1), (10156, 1), (10157, 1), (10158, 1), (10159, 1), (10160, 1), (10161, 1), (10162, 1), (1916, 1), (1917, 1), (1918, 1), (1919, 1), (1920, 1), (1921, 1), (1922, 1), (1923, 1), (1924, 1), (1925, 1)]\n"
     ]
    }
   ],
   "source": [
    "# get 10 most common counts\n",
    "most_common = sorted(counts.items(), key=lambda x: x[1], reverse=True)\n",
    "print(most_common)"
   ]
  },
  {
   "cell_type": "code",
   "execution_count": 100,
   "metadata": {},
   "outputs": [],
   "source": [
    "unique = []\n",
    "for item in most_common:\n",
    "    if mapping[item[0]][1] not in unique:\n",
    "        unique.append(mapping[item[0]][1])"
   ]
  },
  {
   "cell_type": "code",
   "execution_count": 101,
   "metadata": {},
   "outputs": [
    {
     "name": "stdout",
     "output_type": "stream",
     "text": [
      "data/90s_hiphop/A Tribe Called Quest - Can I Kick It？ (Official HD Video).mp3\n",
      "data/90s_hiphop/Blackstreet - No Diggity (Official Music Video) ft. Dr. Dre, Queen Pen.mp3\n",
      "data/90s_hiphop/Total & Keith Murray - Can't You See (Remix) (Official Video).mp3\n",
      "data/90s_hiphop/Positive K - I Got A Man.mp3\n",
      "data/country/Kane Brown - Heaven.mp3\n",
      "data/country/Luke Combs - Beautiful Crazy.mp3\n",
      "data/country/Toby Keith - As Good As I Once Was.mp3\n",
      "data/90s_hiphop/The Notorious B.I.G. - Big Poppa (Official Music Video) [HD].mp3\n",
      "data/2010s_pop/Ed Sheeran - Shape of You (Official Music Video).mp3\n",
      "data/90s_hiphop/Nas - Nas Is Like (Official Video).mp3\n"
     ]
    }
   ],
   "source": [
    "for item in unique[:10]:\n",
    "    print(item)"
   ]
  },
  {
   "cell_type": "code",
   "execution_count": 75,
   "metadata": {},
   "outputs": [
    {
     "name": "stdout",
     "output_type": "stream",
     "text": [
      "29\n"
     ]
    }
   ],
   "source": [
    "print(len(unique))"
   ]
  },
  {
   "cell_type": "code",
   "execution_count": null,
   "metadata": {},
   "outputs": [],
   "source": []
  }
 ],
 "metadata": {
  "kernelspec": {
   "display_name": "Python 3",
   "language": "python",
   "name": "python3"
  },
  "language_info": {
   "codemirror_mode": {
    "name": "ipython",
    "version": 3
   },
   "file_extension": ".py",
   "mimetype": "text/x-python",
   "name": "python",
   "nbconvert_exporter": "python",
   "pygments_lexer": "ipython3",
   "version": "3.10.6"
  },
  "orig_nbformat": 4
 },
 "nbformat": 4,
 "nbformat_minor": 2
}
