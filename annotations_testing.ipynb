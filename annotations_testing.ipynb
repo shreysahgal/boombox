{
 "cells": [
  {
   "cell_type": "code",
   "execution_count": 1,
   "metadata": {},
   "outputs": [],
   "source": [
    "import os\n",
    "import json\n",
    "import csv\n",
    "import pdb"
   ]
  },
  {
   "cell_type": "code",
   "execution_count": 5,
   "metadata": {},
   "outputs": [
    {
     "name": "stdout",
     "output_type": "stream",
     "text": [
      "[['0.0', 'Silence'], ['0.394739229', 'Intro'], ['16.181133786', 'no_function'], ['31.836666666', 'no_function'], ['47.292630385', 'Verse'], ['63.060521541', 'no_function'], ['78.846371882', 'no_function'], ['94.173877551', 'no_function'], ['109.646802721', 'Chorus'], ['117.382585034', 'Verse'], ['132.737981859', 'no_function'], ['148.150272108', 'no_function'], ['163.390385487', 'no_function'], ['178.686258503', 'no_function'], ['193.878435374', 'Chorus'], ['201.41755102', 'Verse'], ['216.646507936', 'no_function'], ['231.790272108', 'no_function'], ['246.765963718', 'no_function'], ['261.942879818', 'Outro'], ['275.017142857', 'Silence'], ['276.638412698', 'End']]\n",
      "[['0.0', 'Silence'], ['0.394739229', 'Intro'], ['16.221814058', 'Intro'], ['24.078639455', 'Intro'], ['31.871111111', 'Intro'], ['39.704240362', 'Intro'], ['47.344149659', 'Verse'], ['63.087210884', 'Verse'], ['78.719047619', 'Verse'], ['94.240589569', 'Verse'], ['109.592290249', 'Chorus'], ['117.303129251', 'Chorus'], ['132.736349206', 'Verse'], ['148.15170068', 'Verse'], ['163.335759637', 'Verse'], ['178.674081632', 'Verse'], ['193.908480725', 'Chorus'], ['201.427959183', 'Chorus'], ['216.633310657', 'Outro'], ['261.888321995', 'Outro'], ['274.970702947', 'Silence'], ['276.654376417', 'End']]\n"
     ]
    }
   ],
   "source": [
    "salami_id = 3\n",
    "\n",
    "if os.path.isfile(os.path.join('salami-data-public', 'annotations', str(salami_id), 'parsed', 'textfile1_functions.txt')):\n",
    "    with open(os.path.join('salami-data-public', 'annotations', str(salami_id), 'parsed', 'textfile1_functions.txt')) as f:\n",
    "                reader = csv.reader(f, delimiter='\\t')\n",
    "                annotations_1 = list(reader)\n",
    "                #print(annotations)\n",
    "if os.path.isfile(os.path.join('salami-data-public', 'annotations', str(salami_id), 'parsed', 'textfile2_functions.txt')):\n",
    "    with open(os.path.join('salami-data-public', 'annotations', str(salami_id), 'parsed', 'textfile2_functions.txt')) as f:\n",
    "                reader = csv.reader(f, delimiter='\\t')\n",
    "                annotations_2 = list(reader)\n",
    "                #print(annotations)\n",
    "                \n",
    "# if  only one exists, take that one\n",
    "if annotations_1 and not annotations_2:\n",
    "    annotations = annotations_1\n",
    "    return annotations\n",
    "elif annotations_2 and not annotations_1:\n",
    "    annotations = annotations_2\n",
    "    return annotations\n",
    "    \n",
    "                \n",
    "# If both exist, take the one with less 'no_function' labels\n",
    "# if they have the same number of 'no_function' labels, take the shorter one\n",
    "# if they have the same number of 'no_function' labels and the same length, take the first one\n",
    "if len(annotations_1) != len(annotations_2):\n",
    "    print('Annotations are not the same length')\n",
    "    if annotations_1.count('no_function') > annotations_2.count('no_function'):\n",
    "        annotations = annotations_2\n",
    "    elif annotations_1.count('no_function') < annotations_2.count('no_function'):\n",
    "        annotations = annotations_1\n",
    "    elif annotations_1.count('no_function') == annotations_2.count('no_function'):\n",
    "        if len(annotations_1) > len(annotations_2):\n",
    "            annotations = annotations_2\n",
    "        elif len(annotations_1) < len(annotations_2):\n",
    "            annotations = annotations_1\n",
    "        elif len(annotations_1) == len(annotations_2):\n",
    "            annotations = annotations_1\n",
    "return annotations"
   ]
  }
 ],
 "metadata": {
  "kernelspec": {
   "display_name": "Python 3",
   "language": "python",
   "name": "python3"
  },
  "language_info": {
   "codemirror_mode": {
    "name": "ipython",
    "version": 3
   },
   "file_extension": ".py",
   "mimetype": "text/x-python",
   "name": "python",
   "nbconvert_exporter": "python",
   "pygments_lexer": "ipython3",
   "version": "3.10.6"
  },
  "orig_nbformat": 4
 },
 "nbformat": 4,
 "nbformat_minor": 2
}
