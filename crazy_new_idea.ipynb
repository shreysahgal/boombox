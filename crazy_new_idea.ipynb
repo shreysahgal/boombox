{
 "cells": [
  {
   "cell_type": "code",
   "execution_count": 2,
   "metadata": {},
   "outputs": [],
   "source": [
    "import numpy as np\n",
    "import librosa\n",
    "import glob\n",
    "import pickle\n",
    "from tqdm import tqdm\n",
    "\n",
    "from MusicVectorizer import MusicVectorizer\n",
    "\n",
    "SAMPLE_RATE = 16000"
   ]
  },
  {
   "cell_type": "code",
   "execution_count": 3,
   "metadata": {},
   "outputs": [],
   "source": [
    "data_folders = [\"90s_hiphop\", \"90s_rock\", \"2010s_pop\", \"classical\", \"country\"]"
   ]
  },
  {
   "cell_type": "code",
   "execution_count": 4,
   "metadata": {},
   "outputs": [],
   "source": [
    "# load trajectories\n",
    "trajectories = dict()\n",
    "for folder in data_folders:\n",
    "    trajectories[folder] = np.load(f\"data/{folder}_trajectories.npy\", allow_pickle=True).item()"
   ]
  },
  {
   "cell_type": "code",
   "execution_count": 5,
   "metadata": {},
   "outputs": [],
   "source": [
    "lengths = list()\n",
    "for folder in data_folders:\n",
    "    for file in trajectories[folder]:\n",
    "        lengths.append(trajectories[folder][file].shape[0])"
   ]
  },
  {
   "cell_type": "code",
   "execution_count": 7,
   "metadata": {},
   "outputs": [
    {
     "data": {
      "text/plain": [
       "19218"
      ]
     },
     "execution_count": 7,
     "metadata": {},
     "output_type": "execute_result"
    }
   ],
   "source": [
    "# total number of features that we have:\n",
    "N = np.sum(lengths)\n",
    "N"
   ]
  },
  {
   "cell_type": "code",
   "execution_count": 17,
   "metadata": {},
   "outputs": [],
   "source": [
    "X = np.zeros((N, 13, 768))\n",
    "y = np.zeros(N)\n",
    "\n",
    "i = 0\n",
    "for idx, genre in enumerate(data_folders):\n",
    "    for file in trajectories[genre]:\n",
    "        X[i:i+trajectories[genre][file].shape[0], :, :] = trajectories[genre][file]\n",
    "        y[i:i+trajectories[genre][file].shape[0]] = idx\n",
    "        i += trajectories[genre][file].shape[0]"
   ]
  },
  {
   "cell_type": "code",
   "execution_count": 41,
   "metadata": {},
   "outputs": [],
   "source": [
    "from sklearn.model_selection import train_test_split\n",
    "from sklearn.preprocessing import OneHotEncoder\n",
    "\n",
    "enc = OneHotEncoder(handle_unknown='ignore', categories='auto')\n",
    "y = enc.fit_transform(y.reshape(-1, 1)).toarray()\n",
    "X_train, X_test, y_train, y_test = train_test_split(X, y, test_size=0.2, random_state=42)\n"
   ]
  },
  {
   "cell_type": "code",
   "execution_count": null,
   "metadata": {},
   "outputs": [],
   "source": []
  },
  {
   "cell_type": "code",
   "execution_count": 42,
   "metadata": {},
   "outputs": [],
   "source": [
    "import torch\n",
    "import torch.nn as nn\n",
    "import torch.nn.functional as F"
   ]
  },
  {
   "cell_type": "code",
   "execution_count": 43,
   "metadata": {},
   "outputs": [],
   "source": [
    "# Crazy Torch Model\n",
    "class Net(nn.Module):\n",
    "    def __init__(self):\n",
    "      super(Net, self).__init__()\n",
    "\n",
    "      # First fully connected layer\n",
    "      self.fc1 = nn.Linear(13 * 768, 768)\n",
    "      \n",
    "      # Get outputs\n",
    "      self.fc2 = nn.Linear(768,5)\n",
    "      \n",
    "    def forward(self, x):\n",
    "      outputs = F.relu(self.fc1(x))\n",
    "      outputs = F.sigmoid(self.fc2(outputs))\n",
    "      return outputs"
   ]
  },
  {
   "cell_type": "code",
   "execution_count": 49,
   "metadata": {},
   "outputs": [
    {
     "name": "stdout",
     "output_type": "stream",
     "text": [
      "Net(\n",
      "  (fc1): Linear(in_features=9984, out_features=768, bias=True)\n",
      "  (fc2): Linear(in_features=768, out_features=5, bias=True)\n",
      ") cuda\n"
     ]
    }
   ],
   "source": [
    "device = \"cuda\" if torch.cuda.is_available() else \"cpu\"\n",
    "model = Net().to(device)\n",
    "print(model, device)"
   ]
  },
  {
   "cell_type": "code",
   "execution_count": 50,
   "metadata": {},
   "outputs": [],
   "source": [
    "criterion = torch.nn.BCELoss()\n",
    "optimizer = torch.optim.SGD(model.parameters(), lr=0.01)"
   ]
  },
  {
   "cell_type": "code",
   "execution_count": 60,
   "metadata": {},
   "outputs": [],
   "source": [
    "# GET DATA HERE\n",
    "X_train, X_test = torch.Tensor(X_train).flatten(start_dim=1).to(device) ,torch.Tensor(X_test).flatten(start_dim=1).to(device)\n",
    "y_train, y_test = torch.Tensor(y_train).to(device) ,torch.Tensor(y_test).to(device)"
   ]
  },
  {
   "cell_type": "code",
   "execution_count": 72,
   "metadata": {},
   "outputs": [
    {
     "name": "stderr",
     "output_type": "stream",
     "text": [
      "Training Epochs:   0%|          | 0/1000 [00:00<?, ?it/s]/home/shrey/.local/lib/python3.10/site-packages/torch/nn/functional.py:1960: UserWarning: nn.functional.sigmoid is deprecated. Use torch.sigmoid instead.\n",
      "  warnings.warn(\"nn.functional.sigmoid is deprecated. Use torch.sigmoid instead.\")\n",
      "Training Epochs:   0%|          | 2/1000 [00:00<01:53,  8.78it/s]"
     ]
    },
    {
     "name": "stdout",
     "output_type": "stream",
     "text": [
      "Iteration: 1. \n",
      "Test - Loss: 0.36861884593963623. Accuracy: 422.0343392299688\n",
      "Train -  Loss: 0.36799585819244385. Accuracy: 422.71367243397947\n",
      "\n",
      "Iteration: 2. \n",
      "Test - Loss: 0.3685300946235657. Accuracy: 422.13839750260144\n",
      "Train -  Loss: 0.3679058849811554. Accuracy: 422.74619487446336\n",
      "\n"
     ]
    },
    {
     "name": "stderr",
     "output_type": "stream",
     "text": [
      "Training Epochs:   0%|          | 4/1000 [00:00<01:52,  8.87it/s]"
     ]
    },
    {
     "name": "stdout",
     "output_type": "stream",
     "text": [
      "Iteration: 3. \n",
      "Test - Loss: 0.3684414327144623. Accuracy: 422.24245577523413\n",
      "Train -  Loss: 0.36781594157218933. Accuracy: 422.76570833875377\n",
      "\n",
      "Iteration: 4. \n",
      "Test - Loss: 0.36835283041000366. Accuracy: 422.24245577523413\n",
      "Train -  Loss: 0.3677261769771576. Accuracy: 422.7787173149473\n",
      "\n"
     ]
    },
    {
     "name": "stderr",
     "output_type": "stream",
     "text": [
      "Training Epochs:   1%|          | 6/1000 [00:00<01:52,  8.83it/s]"
     ]
    },
    {
     "name": "stdout",
     "output_type": "stream",
     "text": [
      "Iteration: 5. \n",
      "Test - Loss: 0.3682643473148346. Accuracy: 422.29448491155046\n",
      "Train -  Loss: 0.36763641238212585. Accuracy: 422.81123975543125\n",
      "\n",
      "Iteration: 6. \n",
      "Test - Loss: 0.3681758940219879. Accuracy: 422.2684703433923\n",
      "Train -  Loss: 0.36754676699638367. Accuracy: 422.8437621959152\n",
      "\n"
     ]
    },
    {
     "name": "stderr",
     "output_type": "stream",
     "text": [
      "Training Epochs:   1%|          | 8/1000 [00:00<01:51,  8.89it/s]"
     ]
    },
    {
     "name": "stdout",
     "output_type": "stream",
     "text": [
      "Iteration: 7. \n",
      "Test - Loss: 0.3680875599384308. Accuracy: 422.2684703433923\n",
      "Train -  Loss: 0.36745718121528625. Accuracy: 422.8827891244959\n",
      "\n",
      "Iteration: 8. \n",
      "Test - Loss: 0.36799928545951843. Accuracy: 422.29448491155046\n",
      "Train -  Loss: 0.3673677146434784. Accuracy: 422.91531156497985\n",
      "\n"
     ]
    },
    {
     "name": "stderr",
     "output_type": "stream",
     "text": [
      "Training Epochs:   1%|          | 10/1000 [00:01<01:49,  9.05it/s]"
     ]
    },
    {
     "name": "stdout",
     "output_type": "stream",
     "text": [
      "Iteration: 9. \n",
      "Test - Loss: 0.367911159992218. Accuracy: 422.29448491155046\n",
      "Train -  Loss: 0.3672783374786377. Accuracy: 422.92832054117343\n",
      "\n",
      "Iteration: 10. \n",
      "Test - Loss: 0.36782306432724. Accuracy: 422.29448491155046\n",
      "Train -  Loss: 0.36718904972076416. Accuracy: 422.9478340054638\n",
      "\n"
     ]
    },
    {
     "name": "stderr",
     "output_type": "stream",
     "text": [
      "Training Epochs:   1%|          | 12/1000 [00:01<01:48,  9.07it/s]"
     ]
    },
    {
     "name": "stdout",
     "output_type": "stream",
     "text": [
      "Iteration: 11. \n",
      "Test - Loss: 0.36773502826690674. Accuracy: 422.29448491155046\n",
      "Train -  Loss: 0.367099791765213. Accuracy: 423.00637439833486\n",
      "\n",
      "Iteration: 12. \n",
      "Test - Loss: 0.36764711141586304. Accuracy: 422.29448491155046\n",
      "Train -  Loss: 0.3670106828212738. Accuracy: 423.00637439833486\n",
      "\n"
     ]
    },
    {
     "name": "stderr",
     "output_type": "stream",
     "text": [
      "Training Epochs:   1%|▏         | 14/1000 [00:01<01:47,  9.19it/s]"
     ]
    },
    {
     "name": "stdout",
     "output_type": "stream",
     "text": [
      "Iteration: 13. \n",
      "Test - Loss: 0.3675593137741089. Accuracy: 422.32049947970864\n",
      "Train -  Loss: 0.3669215738773346. Accuracy: 423.0649147912059\n",
      "\n",
      "Iteration: 14. \n",
      "Test - Loss: 0.36747151613235474. Accuracy: 422.39854318418315\n",
      "Train -  Loss: 0.3668326139450073. Accuracy: 423.07141927930275\n",
      "\n"
     ]
    },
    {
     "name": "stderr",
     "output_type": "stream",
     "text": [
      "Training Epochs:   2%|▏         | 16/1000 [00:01<01:46,  9.20it/s]"
     ]
    },
    {
     "name": "stdout",
     "output_type": "stream",
     "text": [
      "Iteration: 15. \n",
      "Test - Loss: 0.3673838675022125. Accuracy: 422.39854318418315\n",
      "Train -  Loss: 0.36674368381500244. Accuracy: 423.11044620788346\n",
      "\n",
      "Iteration: 16. \n",
      "Test - Loss: 0.3672962486743927. Accuracy: 422.47658688865766\n",
      "Train -  Loss: 0.3666549026966095. Accuracy: 423.14947313646417\n",
      "\n"
     ]
    },
    {
     "name": "stderr",
     "output_type": "stream",
     "text": [
      "Training Epochs:   2%|▏         | 18/1000 [00:01<01:47,  9.11it/s]"
     ]
    },
    {
     "name": "stdout",
     "output_type": "stream",
     "text": [
      "Iteration: 17. \n",
      "Test - Loss: 0.3672087490558624. Accuracy: 422.5026014568158\n",
      "Train -  Loss: 0.36656615138053894. Accuracy: 423.15597762456093\n",
      "\n",
      "Iteration: 18. \n",
      "Test - Loss: 0.36712130904197693. Accuracy: 422.5806451612903\n",
      "Train -  Loss: 0.36647748947143555. Accuracy: 423.1819955769481\n",
      "\n"
     ]
    },
    {
     "name": "stderr",
     "output_type": "stream",
     "text": [
      "Training Epochs:   2%|▏         | 20/1000 [00:02<01:48,  9.04it/s]"
     ]
    },
    {
     "name": "stdout",
     "output_type": "stream",
     "text": [
      "Iteration: 19. \n",
      "Test - Loss: 0.367033988237381. Accuracy: 422.6326742976067\n",
      "Train -  Loss: 0.3663889467716217. Accuracy: 423.19500455314164\n",
      "\n",
      "Iteration: 20. \n",
      "Test - Loss: 0.3669467270374298. Accuracy: 422.6586888657648\n",
      "Train -  Loss: 0.36630046367645264. Accuracy: 423.2340314817224\n",
      "\n"
     ]
    },
    {
     "name": "stderr",
     "output_type": "stream",
     "text": [
      "Training Epochs:   2%|▏         | 22/1000 [00:02<01:46,  9.14it/s]"
     ]
    },
    {
     "name": "stdout",
     "output_type": "stream",
     "text": [
      "Iteration: 21. \n",
      "Test - Loss: 0.366859495639801. Accuracy: 422.684703433923\n",
      "Train -  Loss: 0.36621204018592834. Accuracy: 423.24704045791594\n",
      "\n",
      "Iteration: 22. \n",
      "Test - Loss: 0.3667724132537842. Accuracy: 422.7107180020812\n",
      "Train -  Loss: 0.3661237359046936. Accuracy: 423.2730584103031\n",
      "\n"
     ]
    },
    {
     "name": "stderr",
     "output_type": "stream",
     "text": [
      "Training Epochs:   2%|▏         | 24/1000 [00:02<01:47,  9.11it/s]"
     ]
    },
    {
     "name": "stdout",
     "output_type": "stream",
     "text": [
      "Iteration: 23. \n",
      "Test - Loss: 0.3666853904724121. Accuracy: 422.684703433923\n",
      "Train -  Loss: 0.36603546142578125. Accuracy: 423.3250943150774\n",
      "\n",
      "Iteration: 24. \n",
      "Test - Loss: 0.3665984570980072. Accuracy: 422.7107180020812\n",
      "Train -  Loss: 0.36594727635383606. Accuracy: 423.3446077793678\n",
      "\n"
     ]
    },
    {
     "name": "stderr",
     "output_type": "stream",
     "text": [
      "Training Epochs:   3%|▎         | 26/1000 [00:02<01:46,  9.17it/s]"
     ]
    },
    {
     "name": "stdout",
     "output_type": "stream",
     "text": [
      "Iteration: 25. \n",
      "Test - Loss: 0.36651161313056946. Accuracy: 422.7107180020812\n",
      "Train -  Loss: 0.3658592104911804. Accuracy: 423.3836347079485\n",
      "\n",
      "Iteration: 26. \n",
      "Test - Loss: 0.3664248585700989. Accuracy: 422.7367325702393\n",
      "Train -  Loss: 0.36577123403549194. Accuracy: 423.40314817223884\n",
      "\n"
     ]
    },
    {
     "name": "stderr",
     "output_type": "stream",
     "text": [
      "Training Epochs:   3%|▎         | 28/1000 [00:03<01:45,  9.21it/s]"
     ]
    },
    {
     "name": "stdout",
     "output_type": "stream",
     "text": [
      "Iteration: 27. \n",
      "Test - Loss: 0.3663381040096283. Accuracy: 422.684703433923\n",
      "Train -  Loss: 0.36568328738212585. Accuracy: 423.42916612462597\n",
      "\n",
      "Iteration: 28. \n",
      "Test - Loss: 0.36625152826309204. Accuracy: 422.7367325702393\n",
      "Train -  Loss: 0.3655954897403717. Accuracy: 423.41615714843243\n",
      "\n"
     ]
    },
    {
     "name": "stderr",
     "output_type": "stream",
     "text": [
      "Training Epochs:   3%|▎         | 30/1000 [00:03<01:45,  9.20it/s]"
     ]
    },
    {
     "name": "stdout",
     "output_type": "stream",
     "text": [
      "Iteration: 29. \n",
      "Test - Loss: 0.3661649823188782. Accuracy: 422.7627471383975\n",
      "Train -  Loss: 0.36550772190093994. Accuracy: 423.44217510081955\n",
      "\n",
      "Iteration: 30. \n",
      "Test - Loss: 0.36607852578163147. Accuracy: 422.7627471383975\n",
      "Train -  Loss: 0.36542001366615295. Accuracy: 423.50721998178744\n",
      "\n"
     ]
    },
    {
     "name": "stderr",
     "output_type": "stream",
     "text": [
      "Training Epochs:   3%|▎         | 32/1000 [00:03<01:45,  9.16it/s]"
     ]
    },
    {
     "name": "stdout",
     "output_type": "stream",
     "text": [
      "Iteration: 31. \n",
      "Test - Loss: 0.36599215865135193. Accuracy: 422.78876170655565\n",
      "Train -  Loss: 0.3653324544429779. Accuracy: 423.5137244698842\n",
      "\n",
      "Iteration: 32. \n",
      "Test - Loss: 0.36590588092803955. Accuracy: 422.78876170655565\n",
      "Train -  Loss: 0.36524495482444763. Accuracy: 423.5527513984649\n",
      "\n"
     ]
    },
    {
     "name": "stderr",
     "output_type": "stream",
     "text": [
      "Training Epochs:   3%|▎         | 34/1000 [00:03<01:45,  9.12it/s]"
     ]
    },
    {
     "name": "stdout",
     "output_type": "stream",
     "text": [
      "Iteration: 33. \n",
      "Test - Loss: 0.36581966280937195. Accuracy: 422.81477627471384\n",
      "Train -  Loss: 0.36515751481056213. Accuracy: 423.5787693508521\n",
      "\n",
      "Iteration: 34. \n",
      "Test - Loss: 0.3657335340976715. Accuracy: 422.840790842872\n",
      "Train -  Loss: 0.3650701344013214. Accuracy: 423.6047873032392\n",
      "\n"
     ]
    },
    {
     "name": "stderr",
     "output_type": "stream",
     "text": [
      "Training Epochs:   4%|▎         | 36/1000 [00:03<01:44,  9.18it/s]"
     ]
    },
    {
     "name": "stdout",
     "output_type": "stream",
     "text": [
      "Iteration: 35. \n",
      "Test - Loss: 0.36564746499061584. Accuracy: 422.89281997918835\n",
      "Train -  Loss: 0.3649829030036926. Accuracy: 423.63730974372316\n",
      "\n",
      "Iteration: 36. \n",
      "Test - Loss: 0.3655615448951721. Accuracy: 422.91883454734653\n",
      "Train -  Loss: 0.36489570140838623. Accuracy: 423.6568232080135\n",
      "\n"
     ]
    },
    {
     "name": "stderr",
     "output_type": "stream",
     "text": [
      "Training Epochs:   4%|▍         | 38/1000 [00:04<01:45,  9.12it/s]"
     ]
    },
    {
     "name": "stdout",
     "output_type": "stream",
     "text": [
      "Iteration: 37. \n",
      "Test - Loss: 0.3654756546020508. Accuracy: 422.91883454734653\n",
      "Train -  Loss: 0.364808589220047. Accuracy: 423.6698321842071\n",
      "\n",
      "Iteration: 38. \n",
      "Test - Loss: 0.3653898537158966. Accuracy: 422.97086368366286\n",
      "Train -  Loss: 0.36472153663635254. Accuracy: 423.68934564849746\n",
      "\n"
     ]
    },
    {
     "name": "stderr",
     "output_type": "stream",
     "text": [
      "Training Epochs:   4%|▍         | 40/1000 [00:04<01:45,  9.14it/s]"
     ]
    },
    {
     "name": "stdout",
     "output_type": "stream",
     "text": [
      "Iteration: 39. \n",
      "Test - Loss: 0.3653041124343872. Accuracy: 423.0228928199792\n",
      "Train -  Loss: 0.36463463306427. Accuracy: 423.7218680889814\n",
      "\n",
      "Iteration: 40. \n",
      "Test - Loss: 0.36521849036216736. Accuracy: 423.04890738813737\n",
      "Train -  Loss: 0.3645477592945099. Accuracy: 423.7673995056589\n",
      "\n"
     ]
    },
    {
     "name": "stderr",
     "output_type": "stream",
     "text": [
      "Training Epochs:   4%|▍         | 42/1000 [00:04<01:43,  9.27it/s]"
     ]
    },
    {
     "name": "stdout",
     "output_type": "stream",
     "text": [
      "Iteration: 41. \n",
      "Test - Loss: 0.3651328980922699. Accuracy: 423.04890738813737\n",
      "Train -  Loss: 0.3644609749317169. Accuracy: 423.78691296994924\n",
      "\n",
      "Iteration: 42. \n",
      "Test - Loss: 0.3650474548339844. Accuracy: 423.04890738813737\n",
      "Train -  Loss: 0.3643742799758911. Accuracy: 423.79992194614283\n",
      "\n"
     ]
    },
    {
     "name": "stderr",
     "output_type": "stream",
     "text": [
      "Training Epochs:   4%|▍         | 44/1000 [00:04<01:42,  9.31it/s]"
     ]
    },
    {
     "name": "stdout",
     "output_type": "stream",
     "text": [
      "Iteration: 43. \n",
      "Test - Loss: 0.36496204137802124. Accuracy: 423.0749219562955\n",
      "Train -  Loss: 0.3642876148223877. Accuracy: 423.8324443866268\n",
      "\n",
      "Iteration: 44. \n",
      "Test - Loss: 0.36487674713134766. Accuracy: 423.1009365244537\n",
      "Train -  Loss: 0.3642010986804962. Accuracy: 423.83894887472354\n",
      "\n"
     ]
    },
    {
     "name": "stderr",
     "output_type": "stream",
     "text": [
      "Training Epochs:   5%|▍         | 46/1000 [00:05<01:42,  9.32it/s]"
     ]
    },
    {
     "name": "stdout",
     "output_type": "stream",
     "text": [
      "Iteration: 45. \n",
      "Test - Loss: 0.36479151248931885. Accuracy: 423.1009365244537\n",
      "Train -  Loss: 0.3641146421432495. Accuracy: 423.8584623390139\n",
      "\n",
      "Iteration: 46. \n",
      "Test - Loss: 0.3647063374519348. Accuracy: 423.1789802289282\n",
      "Train -  Loss: 0.36402827501296997. Accuracy: 423.8844802914011\n",
      "\n"
     ]
    },
    {
     "name": "stderr",
     "output_type": "stream",
     "text": [
      "Training Epochs:   5%|▍         | 48/1000 [00:05<01:43,  9.20it/s]"
     ]
    },
    {
     "name": "stdout",
     "output_type": "stream",
     "text": [
      "Iteration: 47. \n",
      "Test - Loss: 0.36462125182151794. Accuracy: 423.1789802289282\n",
      "Train -  Loss: 0.3639419376850128. Accuracy: 423.9104982437882\n",
      "\n",
      "Iteration: 48. \n",
      "Test - Loss: 0.36453625559806824. Accuracy: 423.2049947970864\n",
      "Train -  Loss: 0.3638557195663452. Accuracy: 423.917002731885\n",
      "\n"
     ]
    },
    {
     "name": "stderr",
     "output_type": "stream",
     "text": [
      "Training Epochs:   5%|▌         | 50/1000 [00:05<01:42,  9.22it/s]"
     ]
    },
    {
     "name": "stdout",
     "output_type": "stream",
     "text": [
      "Iteration: 49. \n",
      "Test - Loss: 0.3644513189792633. Accuracy: 423.2049947970864\n",
      "Train -  Loss: 0.3637695610523224. Accuracy: 423.9235072199818\n",
      "\n",
      "Iteration: 50. \n",
      "Test - Loss: 0.3643665015697479. Accuracy: 423.1789802289282\n",
      "Train -  Loss: 0.3636834919452667. Accuracy: 423.9495251723689\n",
      "\n"
     ]
    },
    {
     "name": "stderr",
     "output_type": "stream",
     "text": [
      "Training Epochs:   5%|▌         | 52/1000 [00:05<01:42,  9.25it/s]"
     ]
    },
    {
     "name": "stdout",
     "output_type": "stream",
     "text": [
      "Iteration: 51. \n",
      "Test - Loss: 0.36428171396255493. Accuracy: 423.2049947970864\n",
      "Train -  Loss: 0.36359748244285583. Accuracy: 423.9755431247561\n",
      "\n",
      "Iteration: 52. \n",
      "Test - Loss: 0.3641970753669739. Accuracy: 423.2310093652445\n",
      "Train -  Loss: 0.3635115921497345. Accuracy: 424.0015610771432\n",
      "\n"
     ]
    },
    {
     "name": "stderr",
     "output_type": "stream",
     "text": [
      "Training Epochs:   5%|▌         | 54/1000 [00:05<01:43,  9.12it/s]"
     ]
    },
    {
     "name": "stdout",
     "output_type": "stream",
     "text": [
      "Iteration: 53. \n",
      "Test - Loss: 0.3641124665737152. Accuracy: 423.2049947970864\n",
      "Train -  Loss: 0.3634257912635803. Accuracy: 424.040588005724\n",
      "\n",
      "Iteration: 54. \n",
      "Test - Loss: 0.3640279173851013. Accuracy: 423.2570239334027\n",
      "Train -  Loss: 0.36333999037742615. Accuracy: 424.03408351762715\n",
      "\n"
     ]
    },
    {
     "name": "stderr",
     "output_type": "stream",
     "text": [
      "Training Epochs:   6%|▌         | 56/1000 [00:06<01:44,  9.06it/s]"
     ]
    },
    {
     "name": "stdout",
     "output_type": "stream",
     "text": [
      "Iteration: 55. \n",
      "Test - Loss: 0.36394351720809937. Accuracy: 423.2830385015609\n",
      "Train -  Loss: 0.3632543385028839. Accuracy: 424.04709249382074\n",
      "\n",
      "Iteration: 56. \n",
      "Test - Loss: 0.3638591468334198. Accuracy: 423.309053069719\n",
      "Train -  Loss: 0.36316874623298645. Accuracy: 424.04709249382074\n",
      "\n"
     ]
    },
    {
     "name": "stderr",
     "output_type": "stream",
     "text": [
      "Training Epochs:   6%|▌         | 58/1000 [00:06<01:44,  9.04it/s]"
     ]
    },
    {
     "name": "stdout",
     "output_type": "stream",
     "text": [
      "Iteration: 57. \n",
      "Test - Loss: 0.3637748956680298. Accuracy: 423.3350676378772\n",
      "Train -  Loss: 0.36308324337005615. Accuracy: 424.08611942240145\n",
      "\n",
      "Iteration: 58. \n",
      "Test - Loss: 0.36369067430496216. Accuracy: 423.3350676378772\n",
      "Train -  Loss: 0.362997829914093. Accuracy: 424.11213737478863\n",
      "\n"
     ]
    },
    {
     "name": "stderr",
     "output_type": "stream",
     "text": [
      "Training Epochs:   6%|▌         | 60/1000 [00:06<01:43,  9.04it/s]"
     ]
    },
    {
     "name": "stdout",
     "output_type": "stream",
     "text": [
      "Iteration: 59. \n",
      "Test - Loss: 0.3636065423488617. Accuracy: 423.3350676378772\n",
      "Train -  Loss: 0.36291247606277466. Accuracy: 424.1186418628854\n",
      "\n",
      "Iteration: 60. \n",
      "Test - Loss: 0.3635225296020508. Accuracy: 423.43912591050986\n",
      "Train -  Loss: 0.36282721161842346. Accuracy: 424.1446598152725\n",
      "\n"
     ]
    },
    {
     "name": "stderr",
     "output_type": "stream",
     "text": [
      "Training Epochs:   6%|▌         | 62/1000 [00:06<01:44,  8.96it/s]"
     ]
    },
    {
     "name": "stdout",
     "output_type": "stream",
     "text": [
      "Iteration: 61. \n",
      "Test - Loss: 0.36343857645988464. Accuracy: 423.46514047866805\n",
      "Train -  Loss: 0.36274203658103943. Accuracy: 424.17718225575646\n",
      "\n",
      "Iteration: 62. \n",
      "Test - Loss: 0.3633546829223633. Accuracy: 423.51716961498437\n",
      "Train -  Loss: 0.3626568913459778. Accuracy: 424.1966957200468\n",
      "\n"
     ]
    },
    {
     "name": "stderr",
     "output_type": "stream",
     "text": [
      "Training Epochs:   6%|▋         | 64/1000 [00:07<01:43,  9.02it/s]"
     ]
    },
    {
     "name": "stdout",
     "output_type": "stream",
     "text": [
      "Iteration: 63. \n",
      "Test - Loss: 0.3632708787918091. Accuracy: 423.54318418314256\n",
      "Train -  Loss: 0.3625718653202057. Accuracy: 424.22921816053076\n",
      "\n",
      "Iteration: 64. \n",
      "Test - Loss: 0.36318716406822205. Accuracy: 423.56919875130075\n",
      "Train -  Loss: 0.36248692870140076. Accuracy: 424.2487316248211\n",
      "\n"
     ]
    },
    {
     "name": "stderr",
     "output_type": "stream",
     "text": [
      "Training Epochs:   7%|▋         | 66/1000 [00:07<01:42,  9.08it/s]"
     ]
    },
    {
     "name": "stdout",
     "output_type": "stream",
     "text": [
      "Iteration: 65. \n",
      "Test - Loss: 0.3631035089492798. Accuracy: 423.5952133194589\n",
      "Train -  Loss: 0.3624020218849182. Accuracy: 424.2747495772083\n",
      "\n",
      "Iteration: 66. \n",
      "Test - Loss: 0.3630199432373047. Accuracy: 423.5952133194589\n",
      "Train -  Loss: 0.3623172342777252. Accuracy: 424.29426304149865\n",
      "\n"
     ]
    },
    {
     "name": "stderr",
     "output_type": "stream",
     "text": [
      "Training Epochs:   7%|▋         | 68/1000 [00:07<01:41,  9.19it/s]"
     ]
    },
    {
     "name": "stdout",
     "output_type": "stream",
     "text": [
      "Iteration: 67. \n",
      "Test - Loss: 0.36293643712997437. Accuracy: 423.6992715920916\n",
      "Train -  Loss: 0.3622325360774994. Accuracy: 424.29426304149865\n",
      "\n",
      "Iteration: 68. \n",
      "Test - Loss: 0.3628530204296112. Accuracy: 423.7773152965661\n",
      "Train -  Loss: 0.36214786767959595. Accuracy: 424.32678548198254\n",
      "\n"
     ]
    },
    {
     "name": "stderr",
     "output_type": "stream",
     "text": [
      "Training Epochs:   7%|▋         | 70/1000 [00:07<01:41,  9.16it/s]"
     ]
    },
    {
     "name": "stdout",
     "output_type": "stream",
     "text": [
      "Iteration: 69. \n",
      "Test - Loss: 0.36276975274086. Accuracy: 423.8033298647242\n",
      "Train -  Loss: 0.36206331849098206. Accuracy: 424.3528034343697\n",
      "\n",
      "Iteration: 70. \n",
      "Test - Loss: 0.36268648505210876. Accuracy: 423.7773152965661\n",
      "Train -  Loss: 0.36197882890701294. Accuracy: 424.34629894627295\n",
      "\n"
     ]
    },
    {
     "name": "stderr",
     "output_type": "stream",
     "text": [
      "Training Epochs:   7%|▋         | 72/1000 [00:07<01:42,  9.05it/s]"
     ]
    },
    {
     "name": "stdout",
     "output_type": "stream",
     "text": [
      "Iteration: 71. \n",
      "Test - Loss: 0.3626033067703247. Accuracy: 423.8293444328824\n",
      "Train -  Loss: 0.361894428730011. Accuracy: 424.3658124105633\n",
      "\n",
      "Iteration: 72. \n",
      "Test - Loss: 0.3625202178955078. Accuracy: 423.88137356919873\n",
      "Train -  Loss: 0.3618100881576538. Accuracy: 424.4113438272408\n",
      "\n"
     ]
    },
    {
     "name": "stderr",
     "output_type": "stream",
     "text": [
      "Training Epochs:   7%|▋         | 74/1000 [00:08<01:41,  9.11it/s]"
     ]
    },
    {
     "name": "stdout",
     "output_type": "stream",
     "text": [
      "Iteration: 73. \n",
      "Test - Loss: 0.3624371886253357. Accuracy: 423.88137356919873\n",
      "Train -  Loss: 0.3617258369922638. Accuracy: 424.4568752439183\n",
      "\n",
      "Iteration: 74. \n",
      "Test - Loss: 0.36235421895980835. Accuracy: 423.8553590010406\n",
      "Train -  Loss: 0.36164167523384094. Accuracy: 424.4633797320151\n",
      "\n"
     ]
    },
    {
     "name": "stderr",
     "output_type": "stream",
     "text": [
      "Training Epochs:   8%|▊         | 76/1000 [00:08<01:41,  9.13it/s]"
     ]
    },
    {
     "name": "stdout",
     "output_type": "stream",
     "text": [
      "Iteration: 75. \n",
      "Test - Loss: 0.36227136850357056. Accuracy: 423.88137356919873\n",
      "Train -  Loss: 0.36155757308006287. Accuracy: 424.4763887082087\n",
      "\n",
      "Iteration: 76. \n",
      "Test - Loss: 0.3621886372566223. Accuracy: 423.88137356919873\n",
      "Train -  Loss: 0.36147356033325195. Accuracy: 424.49590217249903\n",
      "\n"
     ]
    },
    {
     "name": "stderr",
     "output_type": "stream",
     "text": [
      "Training Epochs:   8%|▊         | 78/1000 [00:08<01:40,  9.22it/s]"
     ]
    },
    {
     "name": "stdout",
     "output_type": "stream",
     "text": [
      "Iteration: 77. \n",
      "Test - Loss: 0.3621058762073517. Accuracy: 423.9073881373569\n",
      "Train -  Loss: 0.3613896369934082. Accuracy: 424.528424612983\n",
      "\n",
      "Iteration: 78. \n",
      "Test - Loss: 0.362023264169693. Accuracy: 423.95941727367324\n",
      "Train -  Loss: 0.36130574345588684. Accuracy: 424.528424612983\n",
      "\n"
     ]
    },
    {
     "name": "stderr",
     "output_type": "stream",
     "text": [
      "Training Epochs:   8%|▊         | 80/1000 [00:08<01:40,  9.12it/s]"
     ]
    },
    {
     "name": "stdout",
     "output_type": "stream",
     "text": [
      "Iteration: 79. \n",
      "Test - Loss: 0.36194074153900146. Accuracy: 424.0894901144641\n",
      "Train -  Loss: 0.36122196912765503. Accuracy: 424.54793807727333\n",
      "\n",
      "Iteration: 80. \n",
      "Test - Loss: 0.3618582785129547. Accuracy: 424.1675338189386\n",
      "Train -  Loss: 0.361138254404068. Accuracy: 424.5609470534669\n",
      "\n"
     ]
    },
    {
     "name": "stderr",
     "output_type": "stream",
     "text": [
      "Training Epochs:   8%|▊         | 82/1000 [00:08<01:40,  9.12it/s]"
     ]
    },
    {
     "name": "stdout",
     "output_type": "stream",
     "text": [
      "Iteration: 81. \n",
      "Test - Loss: 0.36177587509155273. Accuracy: 424.1675338189386\n",
      "Train -  Loss: 0.3610546290874481. Accuracy: 424.5674515415637\n",
      "\n",
      "Iteration: 82. \n",
      "Test - Loss: 0.3616935610771179. Accuracy: 424.1675338189386\n",
      "Train -  Loss: 0.3609710931777954. Accuracy: 424.5674515415637\n",
      "\n"
     ]
    },
    {
     "name": "stderr",
     "output_type": "stream",
     "text": [
      "Training Epochs:   8%|▊         | 84/1000 [00:09<01:39,  9.17it/s]"
     ]
    },
    {
     "name": "stdout",
     "output_type": "stream",
     "text": [
      "Iteration: 83. \n",
      "Test - Loss: 0.3616113066673279. Accuracy: 424.21956295525496\n",
      "Train -  Loss: 0.3608876168727875. Accuracy: 424.6064784701444\n",
      "\n",
      "Iteration: 84. \n",
      "Test - Loss: 0.3615291714668274. Accuracy: 424.2455775234131\n",
      "Train -  Loss: 0.3608042001724243. Accuracy: 424.65200988682193\n",
      "\n"
     ]
    },
    {
     "name": "stderr",
     "output_type": "stream",
     "text": [
      "Training Epochs:   9%|▊         | 86/1000 [00:09<01:40,  9.10it/s]"
     ]
    },
    {
     "name": "stdout",
     "output_type": "stream",
     "text": [
      "Iteration: 85. \n",
      "Test - Loss: 0.3614470660686493. Accuracy: 424.2715920915713\n",
      "Train -  Loss: 0.36072084307670593. Accuracy: 424.70404579159623\n",
      "\n",
      "Iteration: 86. \n",
      "Test - Loss: 0.36136505007743835. Accuracy: 424.29760665972947\n",
      "Train -  Loss: 0.3606376051902771. Accuracy: 424.73006374398335\n",
      "\n"
     ]
    },
    {
     "name": "stderr",
     "output_type": "stream",
     "text": [
      "Training Epochs:   9%|▉         | 88/1000 [00:09<01:41,  8.97it/s]"
     ]
    },
    {
     "name": "stdout",
     "output_type": "stream",
     "text": [
      "Iteration: 87. \n",
      "Test - Loss: 0.36128315329551697. Accuracy: 424.29760665972947\n",
      "Train -  Loss: 0.36055442690849304. Accuracy: 424.7495772082737\n",
      "\n",
      "Iteration: 88. \n",
      "Test - Loss: 0.3612012267112732. Accuracy: 424.3236212278876\n",
      "Train -  Loss: 0.36047133803367615. Accuracy: 424.7560816963705\n",
      "\n"
     ]
    },
    {
     "name": "stderr",
     "output_type": "stream",
     "text": [
      "Training Epochs:   9%|▉         | 90/1000 [00:09<01:40,  9.09it/s]"
     ]
    },
    {
     "name": "stdout",
     "output_type": "stream",
     "text": [
      "Iteration: 89. \n",
      "Test - Loss: 0.36111944913864136. Accuracy: 424.4276795005203\n",
      "Train -  Loss: 0.36038830876350403. Accuracy: 424.7755951606608\n",
      "\n",
      "Iteration: 90. \n",
      "Test - Loss: 0.3610377609729767. Accuracy: 424.4536940686785\n",
      "Train -  Loss: 0.3603053689002991. Accuracy: 424.7886041368544\n",
      "\n"
     ]
    },
    {
     "name": "stderr",
     "output_type": "stream",
     "text": [
      "Training Epochs:   9%|▉         | 92/1000 [00:10<01:39,  9.12it/s]"
     ]
    },
    {
     "name": "stdout",
     "output_type": "stream",
     "text": [
      "Iteration: 91. \n",
      "Test - Loss: 0.3609561324119568. Accuracy: 424.4276795005203\n",
      "Train -  Loss: 0.3602224886417389. Accuracy: 424.83413555353195\n",
      "\n",
      "Iteration: 92. \n",
      "Test - Loss: 0.36087459325790405. Accuracy: 424.4536940686785\n",
      "Train -  Loss: 0.3601396977901459. Accuracy: 424.8601535059191\n",
      "\n"
     ]
    },
    {
     "name": "stderr",
     "output_type": "stream",
     "text": [
      "Training Epochs:   9%|▉         | 94/1000 [00:10<01:39,  9.13it/s]"
     ]
    },
    {
     "name": "stdout",
     "output_type": "stream",
     "text": [
      "Iteration: 93. \n",
      "Test - Loss: 0.3607931137084961. Accuracy: 424.4536940686785\n",
      "Train -  Loss: 0.36005696654319763. Accuracy: 424.88617145830625\n",
      "\n",
      "Iteration: 94. \n",
      "Test - Loss: 0.3607116937637329. Accuracy: 424.53173777315294\n",
      "Train -  Loss: 0.35997432470321655. Accuracy: 424.88617145830625\n",
      "\n"
     ]
    },
    {
     "name": "stderr",
     "output_type": "stream",
     "text": [
      "Training Epochs:  10%|▉         | 96/1000 [00:10<01:38,  9.16it/s]"
     ]
    },
    {
     "name": "stdout",
     "output_type": "stream",
     "text": [
      "Iteration: 95. \n",
      "Test - Loss: 0.3606303930282593. Accuracy: 424.5057232049948\n",
      "Train -  Loss: 0.35989177227020264. Accuracy: 424.9317028749837\n",
      "\n",
      "Iteration: 96. \n",
      "Test - Loss: 0.36054912209510803. Accuracy: 424.5057232049948\n",
      "Train -  Loss: 0.3598092794418335. Accuracy: 424.9447118511773\n",
      "\n"
     ]
    },
    {
     "name": "stderr",
     "output_type": "stream",
     "text": [
      "Training Epochs:  10%|▉         | 98/1000 [00:10<01:38,  9.17it/s]"
     ]
    },
    {
     "name": "stdout",
     "output_type": "stream",
     "text": [
      "Iteration: 97. \n",
      "Test - Loss: 0.36046794056892395. Accuracy: 424.53173777315294\n",
      "Train -  Loss: 0.3597268760204315. Accuracy: 424.97072980356444\n",
      "\n",
      "Iteration: 98. \n",
      "Test - Loss: 0.36038684844970703. Accuracy: 424.53173777315294\n",
      "Train -  Loss: 0.35964450240135193. Accuracy: 425.0097567321452\n",
      "\n"
     ]
    },
    {
     "name": "stderr",
     "output_type": "stream",
     "text": [
      "Training Epochs:  10%|█         | 100/1000 [00:10<01:37,  9.25it/s]"
     ]
    },
    {
     "name": "stdout",
     "output_type": "stream",
     "text": [
      "Iteration: 99. \n",
      "Test - Loss: 0.3603058457374573. Accuracy: 424.5057232049948\n",
      "Train -  Loss: 0.3595622777938843. Accuracy: 425.0422791726291\n",
      "\n",
      "Iteration: 100. \n",
      "Test - Loss: 0.3602249026298523. Accuracy: 424.4797086368366\n",
      "Train -  Loss: 0.3594800531864166. Accuracy: 425.07480161311304\n",
      "\n"
     ]
    },
    {
     "name": "stderr",
     "output_type": "stream",
     "text": [
      "Training Epochs:  10%|█         | 102/1000 [00:11<01:38,  9.12it/s]"
     ]
    },
    {
     "name": "stdout",
     "output_type": "stream",
     "text": [
      "Iteration: 101. \n",
      "Test - Loss: 0.3601440191268921. Accuracy: 424.5057232049948\n",
      "Train -  Loss: 0.35939791798591614. Accuracy: 425.1008195655002\n",
      "\n",
      "Iteration: 102. \n",
      "Test - Loss: 0.36006322503089905. Accuracy: 424.53173777315294\n",
      "Train -  Loss: 0.3593159019947052. Accuracy: 425.1333420059841\n",
      "\n"
     ]
    },
    {
     "name": "stderr",
     "output_type": "stream",
     "text": [
      "Training Epochs:  10%|█         | 104/1000 [00:11<01:39,  8.96it/s]"
     ]
    },
    {
     "name": "stdout",
     "output_type": "stream",
     "text": [
      "Iteration: 103. \n",
      "Test - Loss: 0.3599824905395508. Accuracy: 424.5837669094693\n",
      "Train -  Loss: 0.35923394560813904. Accuracy: 425.1398464940809\n",
      "\n",
      "Iteration: 104. \n",
      "Test - Loss: 0.3599018454551697. Accuracy: 424.60978147762745\n",
      "Train -  Loss: 0.35915207862854004. Accuracy: 425.1593599583713\n",
      "\n"
     ]
    },
    {
     "name": "stderr",
     "output_type": "stream",
     "text": [
      "Training Epochs:  11%|█         | 106/1000 [00:11<01:37,  9.14it/s]"
     ]
    },
    {
     "name": "stdout",
     "output_type": "stream",
     "text": [
      "Iteration: 105. \n",
      "Test - Loss: 0.3598213493824005. Accuracy: 424.63579604578564\n",
      "Train -  Loss: 0.3590702712535858. Accuracy: 425.17887342266164\n",
      "\n",
      "Iteration: 106. \n",
      "Test - Loss: 0.3597407937049866. Accuracy: 424.63579604578564\n",
      "Train -  Loss: 0.35898855328559875. Accuracy: 425.20489137504876\n",
      "\n"
     ]
    },
    {
     "name": "stderr",
     "output_type": "stream",
     "text": [
      "Training Epochs:  11%|█         | 108/1000 [00:11<01:38,  9.09it/s]"
     ]
    },
    {
     "name": "stdout",
     "output_type": "stream",
     "text": [
      "Iteration: 107. \n",
      "Test - Loss: 0.35966038703918457. Accuracy: 424.6618106139438\n",
      "Train -  Loss: 0.3589068651199341. Accuracy: 425.2113958631456\n",
      "\n",
      "Iteration: 108. \n",
      "Test - Loss: 0.35958006978034973. Accuracy: 424.71383975026015\n",
      "Train -  Loss: 0.3588252663612366. Accuracy: 425.2244048393392\n",
      "\n"
     ]
    },
    {
     "name": "stderr",
     "output_type": "stream",
     "text": [
      "Training Epochs:  11%|█         | 110/1000 [00:12<01:37,  9.09it/s]"
     ]
    },
    {
     "name": "stdout",
     "output_type": "stream",
     "text": [
      "Iteration: 109. \n",
      "Test - Loss: 0.3594997823238373. Accuracy: 424.71383975026015\n",
      "Train -  Loss: 0.3587437570095062. Accuracy: 425.2439183036295\n",
      "\n",
      "Iteration: 110. \n",
      "Test - Loss: 0.3594196140766144. Accuracy: 424.71383975026015\n",
      "Train -  Loss: 0.35866233706474304. Accuracy: 425.2634317679199\n",
      "\n"
     ]
    },
    {
     "name": "stderr",
     "output_type": "stream",
     "text": [
      "Training Epochs:  11%|█         | 112/1000 [00:12<01:38,  9.00it/s]"
     ]
    },
    {
     "name": "stdout",
     "output_type": "stream",
     "text": [
      "Iteration: 111. \n",
      "Test - Loss: 0.35933947563171387. Accuracy: 424.71383975026015\n",
      "Train -  Loss: 0.358581006526947. Accuracy: 425.29595420840377\n",
      "\n",
      "Iteration: 112. \n",
      "Test - Loss: 0.3592594563961029. Accuracy: 424.73985431841834\n",
      "Train -  Loss: 0.3584997057914734. Accuracy: 425.33498113698454\n",
      "\n"
     ]
    },
    {
     "name": "stderr",
     "output_type": "stream",
     "text": [
      "Training Epochs:  11%|█▏        | 114/1000 [00:12<01:37,  9.10it/s]"
     ]
    },
    {
     "name": "stdout",
     "output_type": "stream",
     "text": [
      "Iteration: 113. \n",
      "Test - Loss: 0.3591794967651367. Accuracy: 424.73985431841834\n",
      "Train -  Loss: 0.3584184944629669. Accuracy: 425.3414856250813\n",
      "\n",
      "Iteration: 114. \n",
      "Test - Loss: 0.3590995967388153. Accuracy: 424.79188345473466\n",
      "Train -  Loss: 0.3583373725414276. Accuracy: 425.3675035774684\n",
      "\n"
     ]
    },
    {
     "name": "stderr",
     "output_type": "stream",
     "text": [
      "Training Epochs:  12%|█▏        | 116/1000 [00:12<01:36,  9.14it/s]"
     ]
    },
    {
     "name": "stdout",
     "output_type": "stream",
     "text": [
      "Iteration: 115. \n",
      "Test - Loss: 0.35901978611946106. Accuracy: 424.79188345473466\n",
      "Train -  Loss: 0.3582563102245331. Accuracy: 425.380512553662\n",
      "\n",
      "Iteration: 116. \n",
      "Test - Loss: 0.358940064907074. Accuracy: 424.79188345473466\n",
      "Train -  Loss: 0.3581753373146057. Accuracy: 425.42604397033955\n",
      "\n"
     ]
    },
    {
     "name": "stderr",
     "output_type": "stream",
     "text": [
      "Training Epochs:  12%|█▏        | 118/1000 [00:12<01:37,  9.05it/s]"
     ]
    },
    {
     "name": "stdout",
     "output_type": "stream",
     "text": [
      "Iteration: 117. \n",
      "Test - Loss: 0.35886040329933167. Accuracy: 424.86992715920917\n",
      "Train -  Loss: 0.3580944538116455. Accuracy: 425.45206192272667\n",
      "\n",
      "Iteration: 118. \n",
      "Test - Loss: 0.35878080129623413. Accuracy: 424.843912591051\n",
      "Train -  Loss: 0.3580136001110077. Accuracy: 425.46507089892026\n",
      "\n"
     ]
    },
    {
     "name": "stderr",
     "output_type": "stream",
     "text": [
      "Training Epochs:  12%|█▏        | 120/1000 [00:13<01:37,  9.04it/s]"
     ]
    },
    {
     "name": "stdout",
     "output_type": "stream",
     "text": [
      "Iteration: 119. \n",
      "Test - Loss: 0.35870128870010376. Accuracy: 424.843912591051\n",
      "Train -  Loss: 0.35793280601501465. Accuracy: 425.471575387017\n",
      "\n",
      "Iteration: 120. \n",
      "Test - Loss: 0.35862183570861816. Accuracy: 424.8959417273673\n",
      "Train -  Loss: 0.35785213112831116. Accuracy: 425.4845843632106\n",
      "\n"
     ]
    },
    {
     "name": "stderr",
     "output_type": "stream",
     "text": [
      "Training Epochs:  12%|█▏        | 122/1000 [00:13<01:37,  9.04it/s]"
     ]
    },
    {
     "name": "stdout",
     "output_type": "stream",
     "text": [
      "Iteration: 121. \n",
      "Test - Loss: 0.35854247212409973. Accuracy: 425.0\n",
      "Train -  Loss: 0.35777151584625244. Accuracy: 425.4975933394042\n",
      "\n",
      "Iteration: 122. \n",
      "Test - Loss: 0.35846322774887085. Accuracy: 425.0\n",
      "Train -  Loss: 0.3576909899711609. Accuracy: 425.5236112917913\n",
      "\n"
     ]
    },
    {
     "name": "stderr",
     "output_type": "stream",
     "text": [
      "Training Epochs:  12%|█▏        | 124/1000 [00:13<01:35,  9.16it/s]"
     ]
    },
    {
     "name": "stdout",
     "output_type": "stream",
     "text": [
      "Iteration: 123. \n",
      "Test - Loss: 0.3583839535713196. Accuracy: 425.0\n",
      "Train -  Loss: 0.3576105237007141. Accuracy: 425.5431247560817\n",
      "\n",
      "Iteration: 124. \n",
      "Test - Loss: 0.35830482840538025. Accuracy: 425.0780437044745\n",
      "Train -  Loss: 0.3575300872325897. Accuracy: 425.5496292441785\n",
      "\n"
     ]
    },
    {
     "name": "stderr",
     "output_type": "stream",
     "text": [
      "Training Epochs:  13%|█▎        | 126/1000 [00:13<01:34,  9.26it/s]"
     ]
    },
    {
     "name": "stdout",
     "output_type": "stream",
     "text": [
      "Iteration: 125. \n",
      "Test - Loss: 0.3582257330417633. Accuracy: 425.0780437044745\n",
      "Train -  Loss: 0.3574497699737549. Accuracy: 425.56263822037204\n",
      "\n",
      "Iteration: 126. \n",
      "Test - Loss: 0.3581467270851135. Accuracy: 425.13007284079083\n",
      "Train -  Loss: 0.3573695421218872. Accuracy: 425.5821516846624\n",
      "\n"
     ]
    },
    {
     "name": "stderr",
     "output_type": "stream",
     "text": [
      "Training Epochs:  13%|█▎        | 128/1000 [00:14<01:34,  9.20it/s]"
     ]
    },
    {
     "name": "stdout",
     "output_type": "stream",
     "text": [
      "Iteration: 127. \n",
      "Test - Loss: 0.3580678105354309. Accuracy: 425.156087408949\n",
      "Train -  Loss: 0.3572893738746643. Accuracy: 425.595160660856\n",
      "\n",
      "Iteration: 128. \n",
      "Test - Loss: 0.35798898339271545. Accuracy: 425.156087408949\n",
      "Train -  Loss: 0.3572092652320862. Accuracy: 425.595160660856\n",
      "\n"
     ]
    },
    {
     "name": "stderr",
     "output_type": "stream",
     "text": [
      "Training Epochs:  13%|█▎        | 130/1000 [00:14<01:34,  9.19it/s]"
     ]
    },
    {
     "name": "stdout",
     "output_type": "stream",
     "text": [
      "Iteration: 129. \n",
      "Test - Loss: 0.3579101860523224. Accuracy: 425.18210197710715\n",
      "Train -  Loss: 0.3571292459964752. Accuracy: 425.60816963704957\n",
      "\n",
      "Iteration: 130. \n",
      "Test - Loss: 0.3578314781188965. Accuracy: 425.23413111342353\n",
      "Train -  Loss: 0.35704928636550903. Accuracy: 425.6276831013399\n",
      "\n"
     ]
    },
    {
     "name": "stderr",
     "output_type": "stream",
     "text": [
      "Training Epochs:  13%|█▎        | 132/1000 [00:14<01:34,  9.19it/s]"
     ]
    },
    {
     "name": "stdout",
     "output_type": "stream",
     "text": [
      "Iteration: 131. \n",
      "Test - Loss: 0.35775285959243774. Accuracy: 425.23413111342353\n",
      "Train -  Loss: 0.35696941614151. Accuracy: 425.66020554182387\n",
      "\n",
      "Iteration: 132. \n",
      "Test - Loss: 0.3576742708683014. Accuracy: 425.23413111342353\n",
      "Train -  Loss: 0.35688960552215576. Accuracy: 425.686223494211\n",
      "\n"
     ]
    },
    {
     "name": "stderr",
     "output_type": "stream",
     "text": [
      "Training Epochs:  13%|█▎        | 134/1000 [00:14<01:34,  9.14it/s]"
     ]
    },
    {
     "name": "stdout",
     "output_type": "stream",
     "text": [
      "Iteration: 133. \n",
      "Test - Loss: 0.3575958013534546. Accuracy: 425.26014568158166\n",
      "Train -  Loss: 0.3568098843097687. Accuracy: 425.686223494211\n",
      "\n",
      "Iteration: 134. \n",
      "Test - Loss: 0.3575173616409302. Accuracy: 425.26014568158166\n",
      "Train -  Loss: 0.356730192899704. Accuracy: 425.71874593469494\n",
      "\n"
     ]
    },
    {
     "name": "stderr",
     "output_type": "stream",
     "text": [
      "Training Epochs:  14%|█▎        | 136/1000 [00:14<01:34,  9.14it/s]"
     ]
    },
    {
     "name": "stdout",
     "output_type": "stream",
     "text": [
      "Iteration: 135. \n",
      "Test - Loss: 0.3574390411376953. Accuracy: 425.26014568158166\n",
      "Train -  Loss: 0.35665062069892883. Accuracy: 425.75777286327565\n",
      "\n",
      "Iteration: 136. \n",
      "Test - Loss: 0.35736075043678284. Accuracy: 425.31217481789804\n",
      "Train -  Loss: 0.35657110810279846. Accuracy: 425.74476388708206\n",
      "\n"
     ]
    },
    {
     "name": "stderr",
     "output_type": "stream",
     "text": [
      "Training Epochs:  14%|█▍        | 138/1000 [00:15<01:35,  9.05it/s]"
     ]
    },
    {
     "name": "stdout",
     "output_type": "stream",
     "text": [
      "Iteration: 137. \n",
      "Test - Loss: 0.3572825491428375. Accuracy: 425.3381893860562\n",
      "Train -  Loss: 0.35649165511131287. Accuracy: 425.7837908156628\n",
      "\n",
      "Iteration: 138. \n",
      "Test - Loss: 0.3572044372558594. Accuracy: 425.36420395421436\n",
      "Train -  Loss: 0.35641229152679443. Accuracy: 425.8163132561467\n",
      "\n"
     ]
    },
    {
     "name": "stderr",
     "output_type": "stream",
     "text": [
      "Training Epochs:  14%|█▍        | 140/1000 [00:15<01:36,  8.90it/s]"
     ]
    },
    {
     "name": "stdout",
     "output_type": "stream",
     "text": [
      "Iteration: 139. \n",
      "Test - Loss: 0.3571263551712036. Accuracy: 425.4162330905307\n",
      "Train -  Loss: 0.3563329875469208. Accuracy: 425.84883569663066\n",
      "\n",
      "Iteration: 140. \n",
      "Test - Loss: 0.3570483922958374. Accuracy: 425.44224765868887\n",
      "Train -  Loss: 0.3562537431716919. Accuracy: 425.868349160921\n",
      "\n"
     ]
    },
    {
     "name": "stderr",
     "output_type": "stream",
     "text": [
      "Training Epochs:  14%|█▍        | 142/1000 [00:15<01:34,  9.07it/s]"
     ]
    },
    {
     "name": "stdout",
     "output_type": "stream",
     "text": [
      "Iteration: 141. \n",
      "Test - Loss: 0.35697051882743835. Accuracy: 425.46826222684706\n",
      "Train -  Loss: 0.3561745882034302. Accuracy: 425.91388057759855\n",
      "\n",
      "Iteration: 142. \n",
      "Test - Loss: 0.3568926751613617. Accuracy: 425.4942767950052\n",
      "Train -  Loss: 0.3560955226421356. Accuracy: 425.91388057759855\n",
      "\n"
     ]
    },
    {
     "name": "stderr",
     "output_type": "stream",
     "text": [
      "Training Epochs:  14%|█▍        | 144/1000 [00:15<01:34,  9.09it/s]"
     ]
    },
    {
     "name": "stdout",
     "output_type": "stream",
     "text": [
      "Iteration: 143. \n",
      "Test - Loss: 0.3568148910999298. Accuracy: 425.4942767950052\n",
      "Train -  Loss: 0.35601651668548584. Accuracy: 425.959411994276\n",
      "\n",
      "Iteration: 144. \n",
      "Test - Loss: 0.3567371964454651. Accuracy: 425.46826222684706\n",
      "Train -  Loss: 0.35593757033348083. Accuracy: 425.99193443475997\n",
      "\n"
     ]
    },
    {
     "name": "stderr",
     "output_type": "stream",
     "text": [
      "Training Epochs:  15%|█▍        | 146/1000 [00:16<01:36,  8.83it/s]"
     ]
    },
    {
     "name": "stdout",
     "output_type": "stream",
     "text": [
      "Iteration: 145. \n",
      "Test - Loss: 0.35665959119796753. Accuracy: 425.5202913631634\n",
      "Train -  Loss: 0.3558586835861206. Accuracy: 426.00494341095356\n",
      "\n",
      "Iteration: 146. \n",
      "Test - Loss: 0.35658198595046997. Accuracy: 425.5202913631634\n",
      "Train -  Loss: 0.35577988624572754. Accuracy: 426.0244568752439\n",
      "\n"
     ]
    },
    {
     "name": "stderr",
     "output_type": "stream",
     "text": [
      "Training Epochs:  15%|█▍        | 148/1000 [00:16<01:36,  8.86it/s]"
     ]
    },
    {
     "name": "stdout",
     "output_type": "stream",
     "text": [
      "Iteration: 147. \n",
      "Test - Loss: 0.35650455951690674. Accuracy: 425.5463059313215\n",
      "Train -  Loss: 0.35570117831230164. Accuracy: 426.04397033953427\n",
      "\n",
      "Iteration: 148. \n",
      "Test - Loss: 0.3564271628856659. Accuracy: 425.5202913631634\n",
      "Train -  Loss: 0.3556225001811981. Accuracy: 426.06998829192145\n",
      "\n"
     ]
    },
    {
     "name": "stderr",
     "output_type": "stream",
     "text": [
      "Training Epochs:  15%|█▌        | 150/1000 [00:16<01:34,  8.99it/s]"
     ]
    },
    {
     "name": "stdout",
     "output_type": "stream",
     "text": [
      "Iteration: 149. \n",
      "Test - Loss: 0.3563498556613922. Accuracy: 425.5202913631634\n",
      "Train -  Loss: 0.35554391145706177. Accuracy: 426.0764927800182\n",
      "\n",
      "Iteration: 150. \n",
      "Test - Loss: 0.35627254843711853. Accuracy: 425.5202913631634\n",
      "Train -  Loss: 0.3554654121398926. Accuracy: 426.082997268115\n",
      "\n"
     ]
    },
    {
     "name": "stderr",
     "output_type": "stream",
     "text": [
      "Training Epochs:  15%|█▌        | 152/1000 [00:16<01:33,  9.11it/s]"
     ]
    },
    {
     "name": "stdout",
     "output_type": "stream",
     "text": [
      "Iteration: 151. \n",
      "Test - Loss: 0.356195330619812. Accuracy: 425.5723204994797\n",
      "Train -  Loss: 0.35538697242736816. Accuracy: 426.10251073240534\n",
      "\n",
      "Iteration: 152. \n",
      "Test - Loss: 0.35611826181411743. Accuracy: 425.624349635796\n",
      "Train -  Loss: 0.3553085923194885. Accuracy: 426.1285286847925\n",
      "\n"
     ]
    },
    {
     "name": "stderr",
     "output_type": "stream",
     "text": [
      "Training Epochs:  15%|█▌        | 154/1000 [00:16<01:32,  9.19it/s]"
     ]
    },
    {
     "name": "stdout",
     "output_type": "stream",
     "text": [
      "Iteration: 153. \n",
      "Test - Loss: 0.35604119300842285. Accuracy: 425.70239334027053\n",
      "Train -  Loss: 0.35523033142089844. Accuracy: 426.1350331728893\n",
      "\n",
      "Iteration: 154. \n",
      "Test - Loss: 0.35596421360969543. Accuracy: 425.7544224765869\n",
      "Train -  Loss: 0.35515210032463074. Accuracy: 426.16105112527646\n",
      "\n"
     ]
    },
    {
     "name": "stderr",
     "output_type": "stream",
     "text": [
      "Training Epochs:  16%|█▌        | 156/1000 [00:17<01:32,  9.15it/s]"
     ]
    },
    {
     "name": "stdout",
     "output_type": "stream",
     "text": [
      "Iteration: 155. \n",
      "Test - Loss: 0.3558872640132904. Accuracy: 425.70239334027053\n",
      "Train -  Loss: 0.3550739288330078. Accuracy: 426.16105112527646\n",
      "\n",
      "Iteration: 156. \n",
      "Test - Loss: 0.3558104634284973. Accuracy: 425.70239334027053\n",
      "Train -  Loss: 0.35499584674835205. Accuracy: 426.1675556133732\n",
      "\n"
     ]
    },
    {
     "name": "stderr",
     "output_type": "stream",
     "text": [
      "Training Epochs:  16%|█▌        | 158/1000 [00:17<01:32,  9.09it/s]"
     ]
    },
    {
     "name": "stdout",
     "output_type": "stream",
     "text": [
      "Iteration: 157. \n",
      "Test - Loss: 0.3557336926460266. Accuracy: 425.70239334027053\n",
      "Train -  Loss: 0.35491782426834106. Accuracy: 426.20007805385717\n",
      "\n",
      "Iteration: 158. \n",
      "Test - Loss: 0.3556569814682007. Accuracy: 425.8324661810614\n",
      "Train -  Loss: 0.35483992099761963. Accuracy: 426.20007805385717\n",
      "\n"
     ]
    },
    {
     "name": "stderr",
     "output_type": "stream",
     "text": [
      "Training Epochs:  16%|█▌        | 160/1000 [00:17<01:32,  9.03it/s]"
     ]
    },
    {
     "name": "stdout",
     "output_type": "stream",
     "text": [
      "Iteration: 159. \n",
      "Test - Loss: 0.3555803894996643. Accuracy: 425.8324661810614\n",
      "Train -  Loss: 0.3547620177268982. Accuracy: 426.20658254195394\n",
      "\n",
      "Iteration: 160. \n",
      "Test - Loss: 0.3555038273334503. Accuracy: 425.85848074921955\n",
      "Train -  Loss: 0.3546842038631439. Accuracy: 426.2195915181475\n",
      "\n"
     ]
    },
    {
     "name": "stderr",
     "output_type": "stream",
     "text": [
      "Training Epochs:  16%|█▌        | 162/1000 [00:17<01:33,  8.94it/s]"
     ]
    },
    {
     "name": "stdout",
     "output_type": "stream",
     "text": [
      "Iteration: 161. \n",
      "Test - Loss: 0.3554273545742035. Accuracy: 425.88449531737774\n",
      "Train -  Loss: 0.3546065092086792. Accuracy: 426.20007805385717\n",
      "\n",
      "Iteration: 162. \n",
      "Test - Loss: 0.35535091161727905. Accuracy: 425.9105098855359\n",
      "Train -  Loss: 0.3545288145542145. Accuracy: 426.2260960062443\n",
      "\n"
     ]
    },
    {
     "name": "stderr",
     "output_type": "stream",
     "text": [
      "Training Epochs:  16%|█▋        | 164/1000 [00:18<01:31,  9.10it/s]"
     ]
    },
    {
     "name": "stdout",
     "output_type": "stream",
     "text": [
      "Iteration: 163. \n",
      "Test - Loss: 0.35527458786964417. Accuracy: 425.96253902185225\n",
      "Train -  Loss: 0.3544512093067169. Accuracy: 426.2391049824379\n",
      "\n",
      "Iteration: 164. \n",
      "Test - Loss: 0.35519829392433167. Accuracy: 426.0145681581686\n",
      "Train -  Loss: 0.3543737232685089. Accuracy: 426.25861844672824\n",
      "\n"
     ]
    },
    {
     "name": "stderr",
     "output_type": "stream",
     "text": [
      "Training Epochs:  17%|█▋        | 166/1000 [00:18<01:30,  9.17it/s]"
     ]
    },
    {
     "name": "stdout",
     "output_type": "stream",
     "text": [
      "Iteration: 165. \n",
      "Test - Loss: 0.35512208938598633. Accuracy: 426.04058272632676\n",
      "Train -  Loss: 0.3542962372303009. Accuracy: 426.2391049824379\n",
      "\n",
      "Iteration: 166. \n",
      "Test - Loss: 0.35504597425460815. Accuracy: 426.04058272632676\n",
      "Train -  Loss: 0.35421887040138245. Accuracy: 426.2391049824379\n",
      "\n"
     ]
    },
    {
     "name": "stderr",
     "output_type": "stream",
     "text": [
      "Training Epochs:  17%|█▋        | 168/1000 [00:18<01:30,  9.17it/s]"
     ]
    },
    {
     "name": "stdout",
     "output_type": "stream",
     "text": [
      "Iteration: 167. \n",
      "Test - Loss: 0.35496994853019714. Accuracy: 426.04058272632676\n",
      "Train -  Loss: 0.35414156317710876. Accuracy: 426.29764537530895\n",
      "\n",
      "Iteration: 168. \n",
      "Test - Loss: 0.3548939526081085. Accuracy: 426.04058272632676\n",
      "Train -  Loss: 0.35406431555747986. Accuracy: 426.3171588395993\n",
      "\n"
     ]
    },
    {
     "name": "stderr",
     "output_type": "stream",
     "text": [
      "Training Epochs:  17%|█▋        | 170/1000 [00:18<01:30,  9.16it/s]"
     ]
    },
    {
     "name": "stdout",
     "output_type": "stream",
     "text": [
      "Iteration: 169. \n",
      "Test - Loss: 0.3548180162906647. Accuracy: 426.0665972944849\n",
      "Train -  Loss: 0.3539871275424957. Accuracy: 426.3301678157929\n",
      "\n",
      "Iteration: 170. \n",
      "Test - Loss: 0.354742169380188. Accuracy: 426.0665972944849\n",
      "Train -  Loss: 0.35391002893447876. Accuracy: 426.3301678157929\n",
      "\n"
     ]
    },
    {
     "name": "stderr",
     "output_type": "stream",
     "text": [
      "Training Epochs:  17%|█▋        | 172/1000 [00:18<01:29,  9.21it/s]"
     ]
    },
    {
     "name": "stdout",
     "output_type": "stream",
     "text": [
      "Iteration: 171. \n",
      "Test - Loss: 0.3546663820743561. Accuracy: 426.0926118626431\n",
      "Train -  Loss: 0.35383301973342896. Accuracy: 426.36269025627684\n",
      "\n",
      "Iteration: 172. \n",
      "Test - Loss: 0.35459065437316895. Accuracy: 426.0665972944849\n",
      "Train -  Loss: 0.35375604033470154. Accuracy: 426.3756992324704\n",
      "\n"
     ]
    },
    {
     "name": "stderr",
     "output_type": "stream",
     "text": [
      "Training Epochs:  17%|█▋        | 174/1000 [00:19<01:31,  9.00it/s]"
     ]
    },
    {
     "name": "stdout",
     "output_type": "stream",
     "text": [
      "Iteration: 173. \n",
      "Test - Loss: 0.354515016078949. Accuracy: 426.11862643080127\n",
      "Train -  Loss: 0.3536791503429413. Accuracy: 426.4082216729543\n",
      "\n",
      "Iteration: 174. \n",
      "Test - Loss: 0.3544394373893738. Accuracy: 426.11862643080127\n",
      "Train -  Loss: 0.3536023199558258. Accuracy: 426.4342396253415\n",
      "\n"
     ]
    },
    {
     "name": "stderr",
     "output_type": "stream",
     "text": [
      "Training Epochs:  18%|█▊        | 176/1000 [00:19<01:30,  9.07it/s]"
     ]
    },
    {
     "name": "stdout",
     "output_type": "stream",
     "text": [
      "Iteration: 175. \n",
      "Test - Loss: 0.35436394810676575. Accuracy: 426.11862643080127\n",
      "Train -  Loss: 0.3535255789756775. Accuracy: 426.4732665539222\n",
      "\n",
      "Iteration: 176. \n",
      "Test - Loss: 0.3542884886264801. Accuracy: 426.11862643080127\n",
      "Train -  Loss: 0.35344886779785156. Accuracy: 426.4992845063094\n",
      "\n"
     ]
    },
    {
     "name": "stderr",
     "output_type": "stream",
     "text": [
      "Training Epochs:  18%|█▊        | 178/1000 [00:19<01:29,  9.18it/s]"
     ]
    },
    {
     "name": "stdout",
     "output_type": "stream",
     "text": [
      "Iteration: 177. \n",
      "Test - Loss: 0.354213148355484. Accuracy: 426.1706555671176\n",
      "Train -  Loss: 0.3533722460269928. Accuracy: 426.50578899440615\n",
      "\n",
      "Iteration: 178. \n",
      "Test - Loss: 0.3541378080844879. Accuracy: 426.1446409989594\n",
      "Train -  Loss: 0.3532957136631012. Accuracy: 426.50578899440615\n",
      "\n"
     ]
    },
    {
     "name": "stderr",
     "output_type": "stream",
     "text": [
      "Training Epochs:  18%|█▊        | 180/1000 [00:19<01:29,  9.17it/s]"
     ]
    },
    {
     "name": "stdout",
     "output_type": "stream",
     "text": [
      "Iteration: 179. \n",
      "Test - Loss: 0.3540625274181366. Accuracy: 426.1446409989594\n",
      "Train -  Loss: 0.353219211101532. Accuracy: 426.5253024586965\n",
      "\n",
      "Iteration: 180. \n",
      "Test - Loss: 0.3539874255657196. Accuracy: 426.1446409989594\n",
      "Train -  Loss: 0.3531428277492523. Accuracy: 426.5383114348901\n",
      "\n"
     ]
    },
    {
     "name": "stderr",
     "output_type": "stream",
     "text": [
      "Training Epochs:  18%|█▊        | 182/1000 [00:19<01:29,  9.12it/s]"
     ]
    },
    {
     "name": "stdout",
     "output_type": "stream",
     "text": [
      "Iteration: 181. \n",
      "Test - Loss: 0.353912353515625. Accuracy: 426.1706555671176\n",
      "Train -  Loss: 0.35306647419929504. Accuracy: 426.55782489918045\n",
      "\n",
      "Iteration: 182. \n",
      "Test - Loss: 0.3538373112678528. Accuracy: 426.1966701352758\n",
      "Train -  Loss: 0.35299018025398254. Accuracy: 426.55782489918045\n",
      "\n"
     ]
    },
    {
     "name": "stderr",
     "output_type": "stream",
     "text": [
      "Training Epochs:  18%|█▊        | 184/1000 [00:20<01:30,  9.04it/s]"
     ]
    },
    {
     "name": "stdout",
     "output_type": "stream",
     "text": [
      "Iteration: 183. \n",
      "Test - Loss: 0.35376232862472534. Accuracy: 426.1966701352758\n",
      "Train -  Loss: 0.3529139757156372. Accuracy: 426.57083387537403\n",
      "\n",
      "Iteration: 184. \n",
      "Test - Loss: 0.35368746519088745. Accuracy: 426.1966701352758\n",
      "Train -  Loss: 0.35283783078193665. Accuracy: 426.59685182776116\n",
      "\n"
     ]
    },
    {
     "name": "stderr",
     "output_type": "stream",
     "text": [
      "Training Epochs:  19%|█▊        | 186/1000 [00:20<01:28,  9.19it/s]"
     ]
    },
    {
     "name": "stdout",
     "output_type": "stream",
     "text": [
      "Iteration: 185. \n",
      "Test - Loss: 0.35361263155937195. Accuracy: 426.2226847034339\n",
      "Train -  Loss: 0.35276177525520325. Accuracy: 426.60986080395475\n",
      "\n",
      "Iteration: 186. \n",
      "Test - Loss: 0.3535378873348236. Accuracy: 426.3007284079084\n",
      "Train -  Loss: 0.35268574953079224. Accuracy: 426.64888773253546\n",
      "\n"
     ]
    },
    {
     "name": "stderr",
     "output_type": "stream",
     "text": [
      "Training Epochs:  19%|█▉        | 188/1000 [00:20<01:29,  9.09it/s]"
     ]
    },
    {
     "name": "stdout",
     "output_type": "stream",
     "text": [
      "Iteration: 187. \n",
      "Test - Loss: 0.35346320271492004. Accuracy: 426.3267429760666\n",
      "Train -  Loss: 0.3526098430156708. Accuracy: 426.69441914921293\n",
      "\n",
      "Iteration: 188. \n",
      "Test - Loss: 0.35338860750198364. Accuracy: 426.35275754422474\n",
      "Train -  Loss: 0.3525339663028717. Accuracy: 426.7269415896969\n",
      "\n"
     ]
    },
    {
     "name": "stderr",
     "output_type": "stream",
     "text": [
      "Training Epochs:  19%|█▉        | 190/1000 [00:20<01:28,  9.13it/s]"
     ]
    },
    {
     "name": "stdout",
     "output_type": "stream",
     "text": [
      "Iteration: 189. \n",
      "Test - Loss: 0.35331404209136963. Accuracy: 426.37877211238293\n",
      "Train -  Loss: 0.3524581491947174. Accuracy: 426.74645505398723\n",
      "\n",
      "Iteration: 190. \n",
      "Test - Loss: 0.3532395660877228. Accuracy: 426.37877211238293\n",
      "Train -  Loss: 0.3523824214935303. Accuracy: 426.7594640301808\n",
      "\n"
     ]
    },
    {
     "name": "stderr",
     "output_type": "stream",
     "text": [
      "Training Epochs:  19%|█▉        | 192/1000 [00:21<01:28,  9.11it/s]"
     ]
    },
    {
     "name": "stdout",
     "output_type": "stream",
     "text": [
      "Iteration: 191. \n",
      "Test - Loss: 0.3531651198863983. Accuracy: 426.43080124869925\n",
      "Train -  Loss: 0.3523067533969879. Accuracy: 426.7789774944712\n",
      "\n",
      "Iteration: 192. \n",
      "Test - Loss: 0.3530907928943634. Accuracy: 426.48283038501563\n",
      "Train -  Loss: 0.35223114490509033. Accuracy: 426.79849095876153\n",
      "\n"
     ]
    },
    {
     "name": "stderr",
     "output_type": "stream",
     "text": [
      "Training Epochs:  19%|█▉        | 194/1000 [00:21<01:28,  9.15it/s]"
     ]
    },
    {
     "name": "stdout",
     "output_type": "stream",
     "text": [
      "Iteration: 193. \n",
      "Test - Loss: 0.3530164957046509. Accuracy: 426.53485952133195\n",
      "Train -  Loss: 0.3521556258201599. Accuracy: 426.8310133992455\n",
      "\n",
      "Iteration: 194. \n",
      "Test - Loss: 0.3529422879219055. Accuracy: 426.61290322580646\n",
      "Train -  Loss: 0.35208016633987427. Accuracy: 426.8310133992455\n",
      "\n"
     ]
    },
    {
     "name": "stderr",
     "output_type": "stream",
     "text": [
      "Training Epochs:  20%|█▉        | 196/1000 [00:21<01:27,  9.19it/s]"
     ]
    },
    {
     "name": "stdout",
     "output_type": "stream",
     "text": [
      "Iteration: 195. \n",
      "Test - Loss: 0.35286813974380493. Accuracy: 426.6389177939646\n",
      "Train -  Loss: 0.3520047664642334. Accuracy: 426.8310133992455\n",
      "\n",
      "Iteration: 196. \n",
      "Test - Loss: 0.3527940809726715. Accuracy: 426.6389177939646\n",
      "Train -  Loss: 0.3519294559955597. Accuracy: 426.84402237543907\n",
      "\n"
     ]
    },
    {
     "name": "stderr",
     "output_type": "stream",
     "text": [
      "Training Epochs:  20%|█▉        | 198/1000 [00:21<01:27,  9.14it/s]"
     ]
    },
    {
     "name": "stdout",
     "output_type": "stream",
     "text": [
      "Iteration: 197. \n",
      "Test - Loss: 0.3527200520038605. Accuracy: 426.6389177939646\n",
      "Train -  Loss: 0.35185420513153076. Accuracy: 426.8700403278262\n",
      "\n",
      "Iteration: 198. \n",
      "Test - Loss: 0.3526461124420166. Accuracy: 426.6649323621228\n",
      "Train -  Loss: 0.3517790138721466. Accuracy: 426.8830493040198\n",
      "\n"
     ]
    },
    {
     "name": "stderr",
     "output_type": "stream",
     "text": [
      "Training Epochs:  20%|██        | 200/1000 [00:21<01:28,  9.03it/s]"
     ]
    },
    {
     "name": "stdout",
     "output_type": "stream",
     "text": [
      "Iteration: 199. \n",
      "Test - Loss: 0.3525722622871399. Accuracy: 426.6649323621228\n",
      "Train -  Loss: 0.3517038822174072. Accuracy: 426.88955379211654\n",
      "\n",
      "Iteration: 200. \n",
      "Test - Loss: 0.35249847173690796. Accuracy: 426.6649323621228\n",
      "Train -  Loss: 0.351628839969635. Accuracy: 426.9155717445037\n",
      "\n"
     ]
    },
    {
     "name": "stderr",
     "output_type": "stream",
     "text": [
      "Training Epochs:  20%|██        | 202/1000 [00:22<01:27,  9.09it/s]"
     ]
    },
    {
     "name": "stdout",
     "output_type": "stream",
     "text": [
      "Iteration: 201. \n",
      "Test - Loss: 0.35242465138435364. Accuracy: 426.690946930281\n",
      "Train -  Loss: 0.3515538275241852. Accuracy: 426.9220762326005\n",
      "\n",
      "Iteration: 202. \n",
      "Test - Loss: 0.35235103964805603. Accuracy: 426.690946930281\n",
      "Train -  Loss: 0.3514789044857025. Accuracy: 426.9350852087941\n",
      "\n"
     ]
    },
    {
     "name": "stderr",
     "output_type": "stream",
     "text": [
      "Training Epochs:  20%|██        | 204/1000 [00:22<01:28,  8.98it/s]"
     ]
    },
    {
     "name": "stdout",
     "output_type": "stream",
     "text": [
      "Iteration: 203. \n",
      "Test - Loss: 0.35227739810943604. Accuracy: 426.690946930281\n",
      "Train -  Loss: 0.351404070854187. Accuracy: 426.94158969689084\n",
      "\n",
      "Iteration: 204. \n",
      "Test - Loss: 0.352203905582428. Accuracy: 426.7169614984391\n",
      "Train -  Loss: 0.3513292670249939. Accuracy: 426.9611031611812\n",
      "\n"
     ]
    },
    {
     "name": "stderr",
     "output_type": "stream",
     "text": [
      "Training Epochs:  21%|██        | 206/1000 [00:22<01:28,  9.02it/s]"
     ]
    },
    {
     "name": "stdout",
     "output_type": "stream",
     "text": [
      "Iteration: 205. \n",
      "Test - Loss: 0.3521304130554199. Accuracy: 426.7429760665973\n",
      "Train -  Loss: 0.35125455260276794. Accuracy: 426.9871211135684\n",
      "\n",
      "Iteration: 206. \n",
      "Test - Loss: 0.35205698013305664. Accuracy: 426.7689906347555\n",
      "Train -  Loss: 0.35117989778518677. Accuracy: 427.0131390659555\n",
      "\n"
     ]
    },
    {
     "name": "stderr",
     "output_type": "stream",
     "text": [
      "Training Epochs:  21%|██        | 208/1000 [00:22<01:26,  9.15it/s]"
     ]
    },
    {
     "name": "stdout",
     "output_type": "stream",
     "text": [
      "Iteration: 207. \n",
      "Test - Loss: 0.3519836366176605. Accuracy: 426.7950052029136\n",
      "Train -  Loss: 0.35110530257225037. Accuracy: 427.03265253024585\n",
      "\n",
      "Iteration: 208. \n",
      "Test - Loss: 0.3519103527069092. Accuracy: 426.7950052029136\n",
      "Train -  Loss: 0.35103079676628113. Accuracy: 427.0261480421491\n",
      "\n"
     ]
    },
    {
     "name": "stderr",
     "output_type": "stream",
     "text": [
      "Training Epochs:  21%|██        | 210/1000 [00:23<01:26,  9.13it/s]"
     ]
    },
    {
     "name": "stdout",
     "output_type": "stream",
     "text": [
      "Iteration: 209. \n",
      "Test - Loss: 0.351837158203125. Accuracy: 426.7950052029136\n",
      "Train -  Loss: 0.3509563207626343. Accuracy: 427.0521659945362\n",
      "\n",
      "Iteration: 210. \n",
      "Test - Loss: 0.3517640233039856. Accuracy: 426.7689906347555\n",
      "Train -  Loss: 0.3508819341659546. Accuracy: 427.07167945882657\n",
      "\n"
     ]
    },
    {
     "name": "stderr",
     "output_type": "stream",
     "text": [
      "Training Epochs:  21%|██        | 212/1000 [00:23<01:26,  9.12it/s]"
     ]
    },
    {
     "name": "stdout",
     "output_type": "stream",
     "text": [
      "Iteration: 211. \n",
      "Test - Loss: 0.3516909182071686. Accuracy: 426.7689906347555\n",
      "Train -  Loss: 0.3508076071739197. Accuracy: 427.0781839469234\n",
      "\n",
      "Iteration: 212. \n",
      "Test - Loss: 0.3516179025173187. Accuracy: 426.7689906347555\n",
      "Train -  Loss: 0.35073333978652954. Accuracy: 427.09769741121374\n",
      "\n"
     ]
    },
    {
     "name": "stderr",
     "output_type": "stream",
     "text": [
      "Training Epochs:  21%|██▏       | 214/1000 [00:23<01:26,  9.09it/s]"
     ]
    },
    {
     "name": "stdout",
     "output_type": "stream",
     "text": [
      "Iteration: 213. \n",
      "Test - Loss: 0.35154497623443604. Accuracy: 426.7689906347555\n",
      "Train -  Loss: 0.35065916180610657. Accuracy: 427.08468843502015\n",
      "\n",
      "Iteration: 214. \n",
      "Test - Loss: 0.35147207975387573. Accuracy: 426.84703433923\n",
      "Train -  Loss: 0.35058504343032837. Accuracy: 427.08468843502015\n",
      "\n"
     ]
    },
    {
     "name": "stderr",
     "output_type": "stream",
     "text": [
      "Training Epochs:  22%|██▏       | 216/1000 [00:23<01:25,  9.15it/s]"
     ]
    },
    {
     "name": "stdout",
     "output_type": "stream",
     "text": [
      "Iteration: 215. \n",
      "Test - Loss: 0.3513992428779602. Accuracy: 426.8730489073881\n",
      "Train -  Loss: 0.35051095485687256. Accuracy: 427.09769741121374\n",
      "\n",
      "Iteration: 216. \n",
      "Test - Loss: 0.35132652521133423. Accuracy: 426.8990634755463\n",
      "Train -  Loss: 0.3504369854927063. Accuracy: 427.1042018993105\n",
      "\n"
     ]
    },
    {
     "name": "stderr",
     "output_type": "stream",
     "text": [
      "Training Epochs:  22%|██▏       | 218/1000 [00:23<01:26,  9.04it/s]"
     ]
    },
    {
     "name": "stdout",
     "output_type": "stream",
     "text": [
      "Iteration: 217. \n",
      "Test - Loss: 0.35125380754470825. Accuracy: 426.9250780437045\n",
      "Train -  Loss: 0.3503630459308624. Accuracy: 427.1432288278912\n",
      "\n",
      "Iteration: 218. \n",
      "Test - Loss: 0.3511812090873718. Accuracy: 426.9771071800208\n",
      "Train -  Loss: 0.3502891957759857. Accuracy: 427.1692467802784\n",
      "\n"
     ]
    },
    {
     "name": "stderr",
     "output_type": "stream",
     "text": [
      "Training Epochs:  22%|██▏       | 220/1000 [00:24<01:27,  8.96it/s]"
     ]
    },
    {
     "name": "stdout",
     "output_type": "stream",
     "text": [
      "Iteration: 219. \n",
      "Test - Loss: 0.3511086404323578. Accuracy: 427.02913631633714\n",
      "Train -  Loss: 0.3502154052257538. Accuracy: 427.20176922076234\n",
      "\n",
      "Iteration: 220. \n",
      "Test - Loss: 0.3510361611843109. Accuracy: 426.9771071800208\n",
      "Train -  Loss: 0.3501416742801666. Accuracy: 427.24079614934305\n",
      "\n"
     ]
    },
    {
     "name": "stderr",
     "output_type": "stream",
     "text": [
      "Training Epochs:  22%|██▏       | 222/1000 [00:24<01:25,  9.09it/s]"
     ]
    },
    {
     "name": "stdout",
     "output_type": "stream",
     "text": [
      "Iteration: 221. \n",
      "Test - Loss: 0.3509637415409088. Accuracy: 427.00312174817896\n",
      "Train -  Loss: 0.35006800293922424. Accuracy: 427.25380512553664\n",
      "\n",
      "Iteration: 222. \n",
      "Test - Loss: 0.3508914113044739. Accuracy: 427.02913631633714\n",
      "Train -  Loss: 0.34999439120292664. Accuracy: 427.2668141017302\n",
      "\n"
     ]
    },
    {
     "name": "stderr",
     "output_type": "stream",
     "text": [
      "Training Epochs:  22%|██▏       | 224/1000 [00:24<01:24,  9.17it/s]"
     ]
    },
    {
     "name": "stdout",
     "output_type": "stream",
     "text": [
      "Iteration: 223. \n",
      "Test - Loss: 0.35081908106803894. Accuracy: 427.02913631633714\n",
      "Train -  Loss: 0.3499208986759186. Accuracy: 427.27982307792377\n",
      "\n",
      "Iteration: 224. \n",
      "Test - Loss: 0.35074689984321594. Accuracy: 427.02913631633714\n",
      "Train -  Loss: 0.3498474061489105. Accuracy: 427.28632756602053\n",
      "\n"
     ]
    },
    {
     "name": "stderr",
     "output_type": "stream",
     "text": [
      "Training Epochs:  23%|██▎       | 226/1000 [00:24<01:24,  9.11it/s]"
     ]
    },
    {
     "name": "stdout",
     "output_type": "stream",
     "text": [
      "Iteration: 225. \n",
      "Test - Loss: 0.35067468881607056. Accuracy: 427.02913631633714\n",
      "Train -  Loss: 0.34977400302886963. Accuracy: 427.2993365422141\n",
      "\n",
      "Iteration: 226. \n",
      "Test - Loss: 0.35060256719589233. Accuracy: 427.02913631633714\n",
      "Train -  Loss: 0.3497006595134735. Accuracy: 427.3058410303109\n",
      "\n"
     ]
    },
    {
     "name": "stderr",
     "output_type": "stream",
     "text": [
      "Training Epochs:  23%|██▎       | 228/1000 [00:25<01:25,  9.03it/s]"
     ]
    },
    {
     "name": "stdout",
     "output_type": "stream",
     "text": [
      "Iteration: 227. \n",
      "Test - Loss: 0.35053059458732605. Accuracy: 427.05515088449533\n",
      "Train -  Loss: 0.34962740540504456. Accuracy: 427.33836347079483\n",
      "\n",
      "Iteration: 228. \n",
      "Test - Loss: 0.3504585921764374. Accuracy: 427.08116545265347\n",
      "Train -  Loss: 0.349554181098938. Accuracy: 427.34486795889165\n",
      "\n"
     ]
    },
    {
     "name": "stderr",
     "output_type": "stream",
     "text": [
      "Training Epochs:  23%|██▎       | 230/1000 [00:25<01:25,  9.03it/s]"
     ]
    },
    {
     "name": "stdout",
     "output_type": "stream",
     "text": [
      "Iteration: 229. \n",
      "Test - Loss: 0.35038670897483826. Accuracy: 427.10718002081165\n",
      "Train -  Loss: 0.3494810461997986. Accuracy: 427.33836347079483\n",
      "\n",
      "Iteration: 230. \n",
      "Test - Loss: 0.3503148555755615. Accuracy: 427.13319458896984\n",
      "Train -  Loss: 0.34940794110298157. Accuracy: 427.3708859112788\n",
      "\n"
     ]
    },
    {
     "name": "stderr",
     "output_type": "stream",
     "text": [
      "Training Epochs:  23%|██▎       | 232/1000 [00:25<01:24,  9.09it/s]"
     ]
    },
    {
     "name": "stdout",
     "output_type": "stream",
     "text": [
      "Iteration: 231. \n",
      "Test - Loss: 0.35024306178092957. Accuracy: 427.13319458896984\n",
      "Train -  Loss: 0.3493349254131317. Accuracy: 427.4164173279563\n",
      "\n",
      "Iteration: 232. \n",
      "Test - Loss: 0.35017138719558716. Accuracy: 427.13319458896984\n",
      "Train -  Loss: 0.349261999130249. Accuracy: 427.4164173279563\n",
      "\n"
     ]
    },
    {
     "name": "stderr",
     "output_type": "stream",
     "text": [
      "Training Epochs:  23%|██▎       | 234/1000 [00:25<01:24,  9.11it/s]"
     ]
    },
    {
     "name": "stdout",
     "output_type": "stream",
     "text": [
      "Iteration: 233. \n",
      "Test - Loss: 0.35009974241256714. Accuracy: 427.13319458896984\n",
      "Train -  Loss: 0.3491891026496887. Accuracy: 427.4229218160531\n",
      "\n",
      "Iteration: 234. \n",
      "Test - Loss: 0.3500281572341919. Accuracy: 427.08116545265347\n",
      "Train -  Loss: 0.3491162955760956. Accuracy: 427.43593079224667\n",
      "\n"
     ]
    },
    {
     "name": "stderr",
     "output_type": "stream",
     "text": [
      "Training Epochs:  24%|██▎       | 236/1000 [00:25<01:24,  9.00it/s]"
     ]
    },
    {
     "name": "stdout",
     "output_type": "stream",
     "text": [
      "Iteration: 235. \n",
      "Test - Loss: 0.3499566316604614. Accuracy: 427.05515088449533\n",
      "Train -  Loss: 0.34904351830482483. Accuracy: 427.455444256537\n",
      "\n",
      "Iteration: 236. \n",
      "Test - Loss: 0.34988513588905334. Accuracy: 427.05515088449533\n",
      "Train -  Loss: 0.34897083044052124. Accuracy: 427.4619487446338\n",
      "\n"
     ]
    },
    {
     "name": "stderr",
     "output_type": "stream",
     "text": [
      "Training Epochs:  24%|██▍       | 238/1000 [00:26<01:23,  9.08it/s]"
     ]
    },
    {
     "name": "stdout",
     "output_type": "stream",
     "text": [
      "Iteration: 237. \n",
      "Test - Loss: 0.3498137593269348. Accuracy: 427.10718002081165\n",
      "Train -  Loss: 0.34889817237854004. Accuracy: 427.48146220892414\n",
      "\n",
      "Iteration: 238. \n",
      "Test - Loss: 0.34974244236946106. Accuracy: 427.13319458896984\n",
      "Train -  Loss: 0.348825603723526. Accuracy: 427.48146220892414\n",
      "\n"
     ]
    },
    {
     "name": "stderr",
     "output_type": "stream",
     "text": [
      "Training Epochs:  24%|██▍       | 240/1000 [00:26<01:22,  9.17it/s]"
     ]
    },
    {
     "name": "stdout",
     "output_type": "stream",
     "text": [
      "Iteration: 239. \n",
      "Test - Loss: 0.34967121481895447. Accuracy: 427.13319458896984\n",
      "Train -  Loss: 0.34875309467315674. Accuracy: 427.49447118511773\n",
      "\n",
      "Iteration: 240. \n",
      "Test - Loss: 0.3495999872684479. Accuracy: 427.159209157128\n",
      "Train -  Loss: 0.34868067502975464. Accuracy: 427.5074801613113\n",
      "\n"
     ]
    },
    {
     "name": "stderr",
     "output_type": "stream",
     "text": [
      "Training Epochs:  24%|██▍       | 242/1000 [00:26<01:23,  9.05it/s]"
     ]
    },
    {
     "name": "stdout",
     "output_type": "stream",
     "text": [
      "Iteration: 241. \n",
      "Test - Loss: 0.34952884912490845. Accuracy: 427.159209157128\n",
      "Train -  Loss: 0.3486083149909973. Accuracy: 427.53349811369844\n",
      "\n",
      "Iteration: 242. \n",
      "Test - Loss: 0.3494577705860138. Accuracy: 427.13319458896984\n",
      "Train -  Loss: 0.3485359847545624. Accuracy: 427.54650708989203\n",
      "\n"
     ]
    },
    {
     "name": "stderr",
     "output_type": "stream",
     "text": [
      "Training Epochs:  24%|██▍       | 244/1000 [00:26<01:23,  9.09it/s]"
     ]
    },
    {
     "name": "stdout",
     "output_type": "stream",
     "text": [
      "Iteration: 243. \n",
      "Test - Loss: 0.3493867814540863. Accuracy: 427.159209157128\n",
      "Train -  Loss: 0.3484637439250946. Accuracy: 427.5595160660856\n",
      "\n",
      "Iteration: 244. \n",
      "Test - Loss: 0.3493157923221588. Accuracy: 427.18522372528616\n",
      "Train -  Loss: 0.3483915627002716. Accuracy: 427.58553401847274\n",
      "\n"
     ]
    },
    {
     "name": "stderr",
     "output_type": "stream",
     "text": [
      "Training Epochs:  25%|██▍       | 246/1000 [00:27<01:23,  9.04it/s]"
     ]
    },
    {
     "name": "stdout",
     "output_type": "stream",
     "text": [
      "Iteration: 245. \n",
      "Test - Loss: 0.3492448925971985. Accuracy: 427.18522372528616\n",
      "Train -  Loss: 0.3483194410800934. Accuracy: 427.58553401847274\n",
      "\n",
      "Iteration: 246. \n",
      "Test - Loss: 0.3491740822792053. Accuracy: 427.21123829344435\n",
      "Train -  Loss: 0.34824737906455994. Accuracy: 427.6115519708599\n",
      "\n"
     ]
    },
    {
     "name": "stderr",
     "output_type": "stream",
     "text": [
      "Training Epochs:  25%|██▍       | 248/1000 [00:27<01:23,  8.98it/s]"
     ]
    },
    {
     "name": "stdout",
     "output_type": "stream",
     "text": [
      "Iteration: 247. \n",
      "Test - Loss: 0.34910333156585693. Accuracy: 427.2372528616025\n",
      "Train -  Loss: 0.34817540645599365. Accuracy: 427.63756992324704\n",
      "\n",
      "Iteration: 248. \n",
      "Test - Loss: 0.3490326702594757. Accuracy: 427.2372528616025\n",
      "Train -  Loss: 0.34810343384742737. Accuracy: 427.66358787563416\n",
      "\n"
     ]
    },
    {
     "name": "stderr",
     "output_type": "stream",
     "text": [
      "Training Epochs:  25%|██▌       | 250/1000 [00:27<01:23,  8.95it/s]"
     ]
    },
    {
     "name": "stdout",
     "output_type": "stream",
     "text": [
      "Iteration: 249. \n",
      "Test - Loss: 0.34896203875541687. Accuracy: 427.2372528616025\n",
      "Train -  Loss: 0.34803158044815063. Accuracy: 427.670092363731\n",
      "\n",
      "Iteration: 250. \n",
      "Test - Loss: 0.3488914668560028. Accuracy: 427.2892819979188\n",
      "Train -  Loss: 0.3479597568511963. Accuracy: 427.6961103161181\n",
      "\n"
     ]
    },
    {
     "name": "stderr",
     "output_type": "stream",
     "text": [
      "Training Epochs:  25%|██▌       | 252/1000 [00:27<01:22,  9.03it/s]"
     ]
    },
    {
     "name": "stdout",
     "output_type": "stream",
     "text": [
      "Iteration: 251. \n",
      "Test - Loss: 0.34882092475891113. Accuracy: 427.3413111342352\n",
      "Train -  Loss: 0.3478880226612091. Accuracy: 427.7091192923117\n",
      "\n",
      "Iteration: 252. \n",
      "Test - Loss: 0.348750501871109. Accuracy: 427.4453694068678\n",
      "Train -  Loss: 0.3478163480758667. Accuracy: 427.74164173279564\n",
      "\n"
     ]
    },
    {
     "name": "stderr",
     "output_type": "stream",
     "text": [
      "Training Epochs:  25%|██▌       | 254/1000 [00:27<01:22,  9.00it/s]"
     ]
    },
    {
     "name": "stdout",
     "output_type": "stream",
     "text": [
      "Iteration: 253. \n",
      "Test - Loss: 0.3486801087856293. Accuracy: 427.4973985431842\n",
      "Train -  Loss: 0.34774473309516907. Accuracy: 427.7871731494731\n",
      "\n",
      "Iteration: 254. \n",
      "Test - Loss: 0.3486098051071167. Accuracy: 427.52341311134234\n",
      "Train -  Loss: 0.3476731777191162. Accuracy: 427.78066866137635\n",
      "\n"
     ]
    },
    {
     "name": "stderr",
     "output_type": "stream",
     "text": [
      "Training Epochs:  26%|██▌       | 256/1000 [00:28<01:22,  9.04it/s]"
     ]
    },
    {
     "name": "stdout",
     "output_type": "stream",
     "text": [
      "Iteration: 255. \n",
      "Test - Loss: 0.3485395312309265. Accuracy: 427.52341311134234\n",
      "Train -  Loss: 0.34760168194770813. Accuracy: 427.81969558995706\n",
      "\n",
      "Iteration: 256. \n",
      "Test - Loss: 0.3484693169593811. Accuracy: 427.4973985431842\n",
      "Train -  Loss: 0.3475302457809448. Accuracy: 427.8131911018603\n",
      "\n"
     ]
    },
    {
     "name": "stderr",
     "output_type": "stream",
     "text": [
      "Training Epochs:  26%|██▌       | 258/1000 [00:28<01:22,  8.98it/s]"
     ]
    },
    {
     "name": "stdout",
     "output_type": "stream",
     "text": [
      "Iteration: 257. \n",
      "Test - Loss: 0.34839919209480286. Accuracy: 427.52341311134234\n",
      "Train -  Loss: 0.3474588692188263. Accuracy: 427.8001821256667\n",
      "\n",
      "Iteration: 258. \n",
      "Test - Loss: 0.348329097032547. Accuracy: 427.5494276795005\n",
      "Train -  Loss: 0.3473875820636749. Accuracy: 427.8001821256667\n",
      "\n"
     ]
    },
    {
     "name": "stderr",
     "output_type": "stream",
     "text": [
      "Training Epochs:  26%|██▌       | 260/1000 [00:28<01:21,  9.05it/s]"
     ]
    },
    {
     "name": "stdout",
     "output_type": "stream",
     "text": [
      "Iteration: 259. \n",
      "Test - Loss: 0.3482591211795807. Accuracy: 427.5754422476587\n",
      "Train -  Loss: 0.34731632471084595. Accuracy: 427.8066866137635\n",
      "\n",
      "Iteration: 260. \n",
      "Test - Loss: 0.3481891453266144. Accuracy: 427.5754422476587\n",
      "Train -  Loss: 0.34724515676498413. Accuracy: 427.81969558995706\n",
      "\n"
     ]
    },
    {
     "name": "stderr",
     "output_type": "stream",
     "text": [
      "Training Epochs:  26%|██▌       | 262/1000 [00:28<01:21,  9.08it/s]"
     ]
    },
    {
     "name": "stdout",
     "output_type": "stream",
     "text": [
      "Iteration: 261. \n",
      "Test - Loss: 0.34811922907829285. Accuracy: 427.5754422476587\n",
      "Train -  Loss: 0.3471740186214447. Accuracy: 427.83270456615065\n",
      "\n",
      "Iteration: 262. \n",
      "Test - Loss: 0.3480494022369385. Accuracy: 427.5754422476587\n",
      "Train -  Loss: 0.34710296988487244. Accuracy: 427.8392090542474\n",
      "\n"
     ]
    },
    {
     "name": "stderr",
     "output_type": "stream",
     "text": [
      "Training Epochs:  26%|██▋       | 264/1000 [00:29<01:20,  9.10it/s]"
     ]
    },
    {
     "name": "stdout",
     "output_type": "stream",
     "text": [
      "Iteration: 263. \n",
      "Test - Loss: 0.34797966480255127. Accuracy: 427.5754422476587\n",
      "Train -  Loss: 0.34703198075294495. Accuracy: 427.87823598282813\n",
      "\n",
      "Iteration: 264. \n",
      "Test - Loss: 0.34790995717048645. Accuracy: 427.5754422476587\n",
      "Train -  Loss: 0.34696102142333984. Accuracy: 427.8977494471185\n",
      "\n"
     ]
    },
    {
     "name": "stderr",
     "output_type": "stream",
     "text": [
      "Training Epochs:  27%|██▋       | 266/1000 [00:29<01:20,  9.11it/s]"
     ]
    },
    {
     "name": "stdout",
     "output_type": "stream",
     "text": [
      "Iteration: 265. \n",
      "Test - Loss: 0.3478403091430664. Accuracy: 427.60145681581685\n",
      "Train -  Loss: 0.3468901515007019. Accuracy: 427.8977494471185\n",
      "\n",
      "Iteration: 266. \n",
      "Test - Loss: 0.34777069091796875. Accuracy: 427.62747138397503\n",
      "Train -  Loss: 0.34681934118270874. Accuracy: 427.9042539352153\n",
      "\n"
     ]
    },
    {
     "name": "stderr",
     "output_type": "stream",
     "text": [
      "Training Epochs:  27%|██▋       | 268/1000 [00:29<01:21,  9.01it/s]"
     ]
    },
    {
     "name": "stdout",
     "output_type": "stream",
     "text": [
      "Iteration: 267. \n",
      "Test - Loss: 0.34770119190216064. Accuracy: 427.62747138397503\n",
      "Train -  Loss: 0.34674859046936035. Accuracy: 427.9172629114089\n",
      "\n",
      "Iteration: 268. \n",
      "Test - Loss: 0.3476317226886749. Accuracy: 427.62747138397503\n",
      "Train -  Loss: 0.34667789936065674. Accuracy: 427.93677637569925\n",
      "\n"
     ]
    },
    {
     "name": "stderr",
     "output_type": "stream",
     "text": [
      "Training Epochs:  27%|██▋       | 270/1000 [00:29<01:20,  9.08it/s]"
     ]
    },
    {
     "name": "stdout",
     "output_type": "stream",
     "text": [
      "Iteration: 269. \n",
      "Test - Loss: 0.34756234288215637. Accuracy: 427.62747138397503\n",
      "Train -  Loss: 0.3466072678565979. Accuracy: 427.96929881618314\n",
      "\n",
      "Iteration: 270. \n",
      "Test - Loss: 0.34749293327331543. Accuracy: 427.65348595213317\n",
      "Train -  Loss: 0.34653666615486145. Accuracy: 427.96929881618314\n",
      "\n"
     ]
    },
    {
     "name": "stderr",
     "output_type": "stream",
     "text": [
      "Training Epochs:  27%|██▋       | 272/1000 [00:29<01:21,  8.93it/s]"
     ]
    },
    {
     "name": "stdout",
     "output_type": "stream",
     "text": [
      "Iteration: 271. \n",
      "Test - Loss: 0.3474236726760864. Accuracy: 427.67950052029136\n",
      "Train -  Loss: 0.34646615386009216. Accuracy: 427.98230779237673\n",
      "\n",
      "Iteration: 272. \n",
      "Test - Loss: 0.3473544716835022. Accuracy: 427.70551508844954\n",
      "Train -  Loss: 0.34639570116996765. Accuracy: 428.0148302328607\n",
      "\n"
     ]
    },
    {
     "name": "stderr",
     "output_type": "stream",
     "text": [
      "Training Epochs:  27%|██▋       | 274/1000 [00:30<01:20,  8.99it/s]"
     ]
    },
    {
     "name": "stdout",
     "output_type": "stream",
     "text": [
      "Iteration: 273. \n",
      "Test - Loss: 0.34728530049324036. Accuracy: 427.70551508844954\n",
      "Train -  Loss: 0.3463253378868103. Accuracy: 428.02133472095744\n",
      "\n",
      "Iteration: 274. \n",
      "Test - Loss: 0.3472161889076233. Accuracy: 427.7315296566077\n",
      "Train -  Loss: 0.34625497460365295. Accuracy: 428.0408481852478\n",
      "\n"
     ]
    },
    {
     "name": "stderr",
     "output_type": "stream",
     "text": [
      "Training Epochs:  28%|██▊       | 276/1000 [00:30<01:19,  9.11it/s]"
     ]
    },
    {
     "name": "stdout",
     "output_type": "stream",
     "text": [
      "Iteration: 275. \n",
      "Test - Loss: 0.347147136926651. Accuracy: 427.78355879292405\n",
      "Train -  Loss: 0.34618473052978516. Accuracy: 428.02783920905426\n",
      "\n",
      "Iteration: 276. \n",
      "Test - Loss: 0.3470781743526459. Accuracy: 427.75754422476587\n",
      "Train -  Loss: 0.34611448645591736. Accuracy: 428.03434369715103\n",
      "\n"
     ]
    },
    {
     "name": "stderr",
     "output_type": "stream",
     "text": [
      "Training Epochs:  28%|██▊       | 278/1000 [00:30<01:19,  9.10it/s]"
     ]
    },
    {
     "name": "stdout",
     "output_type": "stream",
     "text": [
      "Iteration: 277. \n",
      "Test - Loss: 0.34700924158096313. Accuracy: 427.7315296566077\n",
      "Train -  Loss: 0.3460443615913391. Accuracy: 428.03434369715103\n",
      "\n",
      "Iteration: 278. \n",
      "Test - Loss: 0.34694036841392517. Accuracy: 427.70551508844954\n",
      "Train -  Loss: 0.34597429633140564. Accuracy: 428.0538571614414\n",
      "\n"
     ]
    },
    {
     "name": "stderr",
     "output_type": "stream",
     "text": [
      "Training Epochs:  28%|██▊       | 280/1000 [00:30<01:18,  9.21it/s]"
     ]
    },
    {
     "name": "stdout",
     "output_type": "stream",
     "text": [
      "Iteration: 279. \n",
      "Test - Loss: 0.34687158465385437. Accuracy: 427.70551508844954\n",
      "Train -  Loss: 0.34590426087379456. Accuracy: 428.0603616495382\n",
      "\n",
      "Iteration: 280. \n",
      "Test - Loss: 0.34680280089378357. Accuracy: 427.67950052029136\n",
      "Train -  Loss: 0.34583428502082825. Accuracy: 428.0603616495382\n",
      "\n"
     ]
    },
    {
     "name": "stderr",
     "output_type": "stream",
     "text": [
      "Training Epochs:  28%|██▊       | 282/1000 [00:31<01:18,  9.16it/s]"
     ]
    },
    {
     "name": "stdout",
     "output_type": "stream",
     "text": [
      "Iteration: 281. \n",
      "Test - Loss: 0.34673410654067993. Accuracy: 427.67950052029136\n",
      "Train -  Loss: 0.3457643985748291. Accuracy: 428.08637960192533\n",
      "\n",
      "Iteration: 282. \n",
      "Test - Loss: 0.34666550159454346. Accuracy: 427.67950052029136\n",
      "Train -  Loss: 0.34569454193115234. Accuracy: 428.1058930662157\n",
      "\n"
     ]
    },
    {
     "name": "stderr",
     "output_type": "stream",
     "text": [
      "Training Epochs:  28%|██▊       | 284/1000 [00:31<01:18,  9.13it/s]"
     ]
    },
    {
     "name": "stdout",
     "output_type": "stream",
     "text": [
      "Iteration: 283. \n",
      "Test - Loss: 0.34659695625305176. Accuracy: 427.70551508844954\n",
      "Train -  Loss: 0.34562474489212036. Accuracy: 428.12540653050604\n",
      "\n",
      "Iteration: 284. \n",
      "Test - Loss: 0.34652844071388245. Accuracy: 427.7315296566077\n",
      "Train -  Loss: 0.34555503726005554. Accuracy: 428.1514244828932\n",
      "\n"
     ]
    },
    {
     "name": "stderr",
     "output_type": "stream",
     "text": [
      "Training Epochs:  29%|██▊       | 286/1000 [00:31<01:17,  9.16it/s]"
     ]
    },
    {
     "name": "stdout",
     "output_type": "stream",
     "text": [
      "Iteration: 285. \n",
      "Test - Loss: 0.3464599847793579. Accuracy: 427.70551508844954\n",
      "Train -  Loss: 0.3454853892326355. Accuracy: 428.1709379471836\n",
      "\n",
      "Iteration: 286. \n",
      "Test - Loss: 0.34639158844947815. Accuracy: 427.70551508844954\n",
      "Train -  Loss: 0.34541577100753784. Accuracy: 428.17744243528034\n",
      "\n"
     ]
    },
    {
     "name": "stderr",
     "output_type": "stream",
     "text": [
      "Training Epochs:  29%|██▉       | 288/1000 [00:31<01:18,  9.02it/s]"
     ]
    },
    {
     "name": "stdout",
     "output_type": "stream",
     "text": [
      "Iteration: 287. \n",
      "Test - Loss: 0.34632328152656555. Accuracy: 427.7315296566077\n",
      "Train -  Loss: 0.34534621238708496. Accuracy: 428.21646936386105\n",
      "\n",
      "Iteration: 288. \n",
      "Test - Loss: 0.34625503420829773. Accuracy: 427.7315296566077\n",
      "Train -  Loss: 0.34527674317359924. Accuracy: 428.22947834005464\n",
      "\n"
     ]
    },
    {
     "name": "stderr",
     "output_type": "stream",
     "text": [
      "Training Epochs:  29%|██▉       | 290/1000 [00:31<01:18,  9.08it/s]"
     ]
    },
    {
     "name": "stdout",
     "output_type": "stream",
     "text": [
      "Iteration: 289. \n",
      "Test - Loss: 0.3461868166923523. Accuracy: 427.7315296566077\n",
      "Train -  Loss: 0.3452073335647583. Accuracy: 428.2359828281514\n",
      "\n",
      "Iteration: 290. \n",
      "Test - Loss: 0.34611865878105164. Accuracy: 427.78355879292405\n",
      "Train -  Loss: 0.34513795375823975. Accuracy: 428.25549629244176\n",
      "\n"
     ]
    },
    {
     "name": "stderr",
     "output_type": "stream",
     "text": [
      "Training Epochs:  29%|██▉       | 292/1000 [00:32<01:17,  9.18it/s]"
     ]
    },
    {
     "name": "stdout",
     "output_type": "stream",
     "text": [
      "Iteration: 291. \n",
      "Test - Loss: 0.34605056047439575. Accuracy: 427.78355879292405\n",
      "Train -  Loss: 0.34506863355636597. Accuracy: 428.26850526863535\n",
      "\n",
      "Iteration: 292. \n",
      "Test - Loss: 0.34598252177238464. Accuracy: 427.8095733610822\n",
      "Train -  Loss: 0.34499937295913696. Accuracy: 428.28151424482894\n",
      "\n"
     ]
    },
    {
     "name": "stderr",
     "output_type": "stream",
     "text": [
      "Training Epochs:  29%|██▉       | 294/1000 [00:32<01:17,  9.17it/s]"
     ]
    },
    {
     "name": "stdout",
     "output_type": "stream",
     "text": [
      "Iteration: 293. \n",
      "Test - Loss: 0.3459145426750183. Accuracy: 427.8355879292404\n",
      "Train -  Loss: 0.3449302315711975. Accuracy: 428.30753219721606\n",
      "\n",
      "Iteration: 294. \n",
      "Test - Loss: 0.34584662318229675. Accuracy: 427.86160249739856\n",
      "Train -  Loss: 0.34486111998558044. Accuracy: 428.3530636138936\n",
      "\n"
     ]
    },
    {
     "name": "stderr",
     "output_type": "stream",
     "text": [
      "Training Epochs:  30%|██▉       | 296/1000 [00:32<01:16,  9.16it/s]"
     ]
    },
    {
     "name": "stdout",
     "output_type": "stream",
     "text": [
      "Iteration: 295. \n",
      "Test - Loss: 0.34577879309654236. Accuracy: 427.86160249739856\n",
      "Train -  Loss: 0.34479203820228577. Accuracy: 428.3790815662807\n",
      "\n",
      "Iteration: 296. \n",
      "Test - Loss: 0.34571099281311035. Accuracy: 427.86160249739856\n",
      "Train -  Loss: 0.34472301602363586. Accuracy: 428.3920905424743\n",
      "\n"
     ]
    },
    {
     "name": "stderr",
     "output_type": "stream",
     "text": [
      "Training Epochs:  30%|██▉       | 298/1000 [00:32<01:17,  9.05it/s]"
     ]
    },
    {
     "name": "stdout",
     "output_type": "stream",
     "text": [
      "Iteration: 297. \n",
      "Test - Loss: 0.3456432521343231. Accuracy: 427.8876170655567\n",
      "Train -  Loss: 0.3446540832519531. Accuracy: 428.4050995186679\n",
      "\n",
      "Iteration: 298. \n",
      "Test - Loss: 0.34557557106018066. Accuracy: 427.9136316337149\n",
      "Train -  Loss: 0.3445851802825928. Accuracy: 428.41810849486143\n",
      "\n"
     ]
    },
    {
     "name": "stderr",
     "output_type": "stream",
     "text": [
      "Training Epochs:  30%|███       | 300/1000 [00:32<01:16,  9.13it/s]"
     ]
    },
    {
     "name": "stdout",
     "output_type": "stream",
     "text": [
      "Iteration: 299. \n",
      "Test - Loss: 0.34550797939300537. Accuracy: 427.9136316337149\n",
      "Train -  Loss: 0.3445163369178772. Accuracy: 428.43762195915184\n",
      "\n",
      "Iteration: 300. \n",
      "Test - Loss: 0.34544041752815247. Accuracy: 427.9136316337149\n",
      "Train -  Loss: 0.3444475829601288. Accuracy: 428.4831533758293\n",
      "\n"
     ]
    },
    {
     "name": "stderr",
     "output_type": "stream",
     "text": [
      "Training Epochs:  30%|███       | 302/1000 [00:33<01:16,  9.09it/s]"
     ]
    },
    {
     "name": "stdout",
     "output_type": "stream",
     "text": [
      "Iteration: 301. \n",
      "Test - Loss: 0.34537285566329956. Accuracy: 427.9136316337149\n",
      "Train -  Loss: 0.34437888860702515. Accuracy: 428.4896578639261\n",
      "\n",
      "Iteration: 302. \n",
      "Test - Loss: 0.3453054428100586. Accuracy: 427.9396462018731\n",
      "Train -  Loss: 0.3443102240562439. Accuracy: 428.52218030441\n",
      "\n"
     ]
    },
    {
     "name": "stderr",
     "output_type": "stream",
     "text": [
      "Training Epochs:  30%|███       | 304/1000 [00:33<01:18,  8.91it/s]"
     ]
    },
    {
     "name": "stdout",
     "output_type": "stream",
     "text": [
      "Iteration: 303. \n",
      "Test - Loss: 0.34523800015449524. Accuracy: 427.9396462018731\n",
      "Train -  Loss: 0.3442416489124298. Accuracy: 428.5351892806036\n",
      "\n",
      "Iteration: 304. \n",
      "Test - Loss: 0.3451707065105438. Accuracy: 427.9396462018731\n",
      "Train -  Loss: 0.3441731035709381. Accuracy: 428.554702744894\n",
      "\n"
     ]
    },
    {
     "name": "stderr",
     "output_type": "stream",
     "text": [
      "Training Epochs:  31%|███       | 306/1000 [00:33<01:16,  9.08it/s]"
     ]
    },
    {
     "name": "stdout",
     "output_type": "stream",
     "text": [
      "Iteration: 305. \n",
      "Test - Loss: 0.3451034128665924. Accuracy: 427.9656607700312\n",
      "Train -  Loss: 0.3441046178340912. Accuracy: 428.58072069728115\n",
      "\n",
      "Iteration: 306. \n",
      "Test - Loss: 0.34503623843193054. Accuracy: 428.0176899063475\n",
      "Train -  Loss: 0.3440362215042114. Accuracy: 428.5937296734747\n",
      "\n"
     ]
    },
    {
     "name": "stderr",
     "output_type": "stream",
     "text": [
      "Training Epochs:  31%|███       | 308/1000 [00:33<01:16,  9.03it/s]"
     ]
    },
    {
     "name": "stdout",
     "output_type": "stream",
     "text": [
      "Iteration: 307. \n",
      "Test - Loss: 0.3449690639972687. Accuracy: 428.0176899063475\n",
      "Train -  Loss: 0.34396785497665405. Accuracy: 428.6067386496683\n",
      "\n",
      "Iteration: 308. \n",
      "Test - Loss: 0.3449019491672516. Accuracy: 428.0176899063475\n",
      "Train -  Loss: 0.34389954805374146. Accuracy: 428.61974762586186\n",
      "\n"
     ]
    },
    {
     "name": "stderr",
     "output_type": "stream",
     "text": [
      "Training Epochs:  31%|███       | 310/1000 [00:34<01:15,  9.08it/s]"
     ]
    },
    {
     "name": "stdout",
     "output_type": "stream",
     "text": [
      "Iteration: 309. \n",
      "Test - Loss: 0.34483492374420166. Accuracy: 428.0437044745057\n",
      "Train -  Loss: 0.343831330537796. Accuracy: 428.6262521139586\n",
      "\n",
      "Iteration: 310. \n",
      "Test - Loss: 0.3447679579257965. Accuracy: 428.09573361082204\n",
      "Train -  Loss: 0.34376317262649536. Accuracy: 428.6522700663458\n",
      "\n"
     ]
    },
    {
     "name": "stderr",
     "output_type": "stream",
     "text": [
      "Training Epochs:  31%|███       | 312/1000 [00:34<01:15,  9.13it/s]"
     ]
    },
    {
     "name": "stdout",
     "output_type": "stream",
     "text": [
      "Iteration: 311. \n",
      "Test - Loss: 0.34470102190971375. Accuracy: 428.1477627471384\n",
      "Train -  Loss: 0.3436950147151947. Accuracy: 428.6587745544426\n",
      "\n",
      "Iteration: 312. \n",
      "Test - Loss: 0.34463417530059814. Accuracy: 428.17377731529655\n",
      "Train -  Loss: 0.3436269760131836. Accuracy: 428.66527904253934\n",
      "\n"
     ]
    },
    {
     "name": "stderr",
     "output_type": "stream",
     "text": [
      "Training Epochs:  31%|███▏      | 314/1000 [00:34<01:15,  9.03it/s]"
     ]
    },
    {
     "name": "stdout",
     "output_type": "stream",
     "text": [
      "Iteration: 313. \n",
      "Test - Loss: 0.34456735849380493. Accuracy: 428.17377731529655\n",
      "Train -  Loss: 0.34355899691581726. Accuracy: 428.6847925068297\n",
      "\n",
      "Iteration: 314. \n",
      "Test - Loss: 0.3445005714893341. Accuracy: 428.25182101977106\n",
      "Train -  Loss: 0.3434910476207733. Accuracy: 428.71731494731364\n",
      "\n"
     ]
    },
    {
     "name": "stderr",
     "output_type": "stream",
     "text": [
      "Training Epochs:  32%|███▏      | 316/1000 [00:34<01:16,  8.98it/s]"
     ]
    },
    {
     "name": "stdout",
     "output_type": "stream",
     "text": [
      "Iteration: 315. \n",
      "Test - Loss: 0.34443390369415283. Accuracy: 428.30385015608744\n",
      "Train -  Loss: 0.34342312812805176. Accuracy: 428.7238194354104\n",
      "\n",
      "Iteration: 316. \n",
      "Test - Loss: 0.34436723589897156. Accuracy: 428.30385015608744\n",
      "Train -  Loss: 0.34335532784461975. Accuracy: 428.75634187589435\n",
      "\n"
     ]
    },
    {
     "name": "stderr",
     "output_type": "stream",
     "text": [
      "Training Epochs:  32%|███▏      | 318/1000 [00:34<01:16,  8.91it/s]"
     ]
    },
    {
     "name": "stdout",
     "output_type": "stream",
     "text": [
      "Iteration: 317. \n",
      "Test - Loss: 0.34430068731307983. Accuracy: 428.32986472424557\n",
      "Train -  Loss: 0.34328752756118774. Accuracy: 428.75634187589435\n",
      "\n",
      "Iteration: 318. \n",
      "Test - Loss: 0.3442341685295105. Accuracy: 428.32986472424557\n",
      "Train -  Loss: 0.3432198464870453. Accuracy: 428.76935085208794\n",
      "\n"
     ]
    },
    {
     "name": "stderr",
     "output_type": "stream",
     "text": [
      "Training Epochs:  32%|███▏      | 320/1000 [00:35<01:16,  8.87it/s]"
     ]
    },
    {
     "name": "stdout",
     "output_type": "stream",
     "text": [
      "Iteration: 319. \n",
      "Test - Loss: 0.34416767954826355. Accuracy: 428.35587929240376\n",
      "Train -  Loss: 0.34315216541290283. Accuracy: 428.76935085208794\n",
      "\n",
      "Iteration: 320. \n",
      "Test - Loss: 0.34410127997398376. Accuracy: 428.3818938605619\n",
      "Train -  Loss: 0.34308457374572754. Accuracy: 428.7758553401847\n",
      "\n"
     ]
    },
    {
     "name": "stderr",
     "output_type": "stream",
     "text": [
      "Training Epochs:  32%|███▏      | 322/1000 [00:35<01:15,  9.01it/s]"
     ]
    },
    {
     "name": "stdout",
     "output_type": "stream",
     "text": [
      "Iteration: 321. \n",
      "Test - Loss: 0.34403491020202637. Accuracy: 428.43392299687827\n",
      "Train -  Loss: 0.34301701188087463. Accuracy: 428.7888643163783\n",
      "\n",
      "Iteration: 322. \n",
      "Test - Loss: 0.34396860003471375. Accuracy: 428.43392299687827\n",
      "Train -  Loss: 0.3429495394229889. Accuracy: 428.7888643163783\n",
      "\n"
     ]
    },
    {
     "name": "stderr",
     "output_type": "stream",
     "text": [
      "Training Epochs:  32%|███▏      | 324/1000 [00:35<01:14,  9.10it/s]"
     ]
    },
    {
     "name": "stdout",
     "output_type": "stream",
     "text": [
      "Iteration: 323. \n",
      "Test - Loss: 0.3439024090766907. Accuracy: 428.43392299687827\n",
      "Train -  Loss: 0.34288209676742554. Accuracy: 428.8018732925719\n",
      "\n",
      "Iteration: 324. \n",
      "Test - Loss: 0.3438361585140228. Accuracy: 428.43392299687827\n",
      "Train -  Loss: 0.34281474351882935. Accuracy: 428.827891244959\n",
      "\n"
     ]
    },
    {
     "name": "stderr",
     "output_type": "stream",
     "text": [
      "Training Epochs:  33%|███▎      | 326/1000 [00:35<01:13,  9.20it/s]"
     ]
    },
    {
     "name": "stdout",
     "output_type": "stream",
     "text": [
      "Iteration: 325. \n",
      "Test - Loss: 0.3437700569629669. Accuracy: 428.43392299687827\n",
      "Train -  Loss: 0.34274742007255554. Accuracy: 428.84740470924936\n",
      "\n",
      "Iteration: 326. \n",
      "Test - Loss: 0.3437040150165558. Accuracy: 428.43392299687827\n",
      "Train -  Loss: 0.3426801860332489. Accuracy: 428.86041368544295\n",
      "\n"
     ]
    },
    {
     "name": "stderr",
     "output_type": "stream",
     "text": [
      "Training Epochs:  33%|███▎      | 328/1000 [00:36<01:13,  9.12it/s]"
     ]
    },
    {
     "name": "stdout",
     "output_type": "stream",
     "text": [
      "Iteration: 327. \n",
      "Test - Loss: 0.34363800287246704. Accuracy: 428.4079084287201\n",
      "Train -  Loss: 0.34261298179626465. Accuracy: 428.8864316378301\n",
      "\n",
      "Iteration: 328. \n",
      "Test - Loss: 0.34357205033302307. Accuracy: 428.4079084287201\n",
      "Train -  Loss: 0.3425458073616028. Accuracy: 428.9059451021205\n",
      "\n"
     ]
    },
    {
     "name": "stderr",
     "output_type": "stream",
     "text": [
      "Training Epochs:  33%|███▎      | 330/1000 [00:36<01:13,  9.10it/s]"
     ]
    },
    {
     "name": "stdout",
     "output_type": "stream",
     "text": [
      "Iteration: 329. \n",
      "Test - Loss: 0.3435061275959015. Accuracy: 428.4599375650364\n",
      "Train -  Loss: 0.34247875213623047. Accuracy: 428.91244959021725\n",
      "\n",
      "Iteration: 330. \n",
      "Test - Loss: 0.34344029426574707. Accuracy: 428.4859521331946\n",
      "Train -  Loss: 0.34241169691085815. Accuracy: 428.92545856641084\n",
      "\n"
     ]
    },
    {
     "name": "stderr",
     "output_type": "stream",
     "text": [
      "Training Epochs:  33%|███▎      | 332/1000 [00:36<01:13,  9.13it/s]"
     ]
    },
    {
     "name": "stdout",
     "output_type": "stream",
     "text": [
      "Iteration: 331. \n",
      "Test - Loss: 0.3433745205402374. Accuracy: 428.5119667013528\n",
      "Train -  Loss: 0.342344731092453. Accuracy: 428.93846754260437\n",
      "\n",
      "Iteration: 332. \n",
      "Test - Loss: 0.34330877661705017. Accuracy: 428.5379812695109\n",
      "Train -  Loss: 0.3422778248786926. Accuracy: 428.96448549499155\n",
      "\n"
     ]
    },
    {
     "name": "stderr",
     "output_type": "stream",
     "text": [
      "Training Epochs:  33%|███▎      | 334/1000 [00:36<01:12,  9.13it/s]"
     ]
    },
    {
     "name": "stdout",
     "output_type": "stream",
     "text": [
      "Iteration: 333. \n",
      "Test - Loss: 0.3432430922985077. Accuracy: 428.5639958376691\n",
      "Train -  Loss: 0.34221094846725464. Accuracy: 428.97749447118514\n",
      "\n",
      "Iteration: 334. \n",
      "Test - Loss: 0.34317746758461. Accuracy: 428.5639958376691\n",
      "Train -  Loss: 0.3421441614627838. Accuracy: 429.010016911669\n",
      "\n"
     ]
    },
    {
     "name": "stderr",
     "output_type": "stream",
     "text": [
      "Training Epochs:  34%|███▎      | 336/1000 [00:36<01:12,  9.20it/s]"
     ]
    },
    {
     "name": "stdout",
     "output_type": "stream",
     "text": [
      "Iteration: 335. \n",
      "Test - Loss: 0.34311190247535706. Accuracy: 428.5900104058273\n",
      "Train -  Loss: 0.3420774042606354. Accuracy: 429.0230258878626\n",
      "\n",
      "Iteration: 336. \n",
      "Test - Loss: 0.3430463969707489. Accuracy: 428.6160249739854\n",
      "Train -  Loss: 0.3420107066631317. Accuracy: 429.04253935215297\n",
      "\n"
     ]
    },
    {
     "name": "stderr",
     "output_type": "stream",
     "text": [
      "Training Epochs:  34%|███▍      | 338/1000 [00:37<01:12,  9.15it/s]"
     ]
    },
    {
     "name": "stdout",
     "output_type": "stream",
     "text": [
      "Iteration: 337. \n",
      "Test - Loss: 0.34298089146614075. Accuracy: 428.6420395421436\n",
      "Train -  Loss: 0.34194403886795044. Accuracy: 429.04253935215297\n",
      "\n",
      "Iteration: 338. \n",
      "Test - Loss: 0.34291553497314453. Accuracy: 428.6420395421436\n",
      "Train -  Loss: 0.3418774902820587. Accuracy: 429.0620528164433\n",
      "\n"
     ]
    },
    {
     "name": "stderr",
     "output_type": "stream",
     "text": [
      "Training Epochs:  34%|███▍      | 340/1000 [00:37<01:12,  9.16it/s]"
     ]
    },
    {
     "name": "stdout",
     "output_type": "stream",
     "text": [
      "Iteration: 339. \n",
      "Test - Loss: 0.3428501784801483. Accuracy: 428.6680541103018\n",
      "Train -  Loss: 0.3418109714984894. Accuracy: 429.09457525692727\n",
      "\n",
      "Iteration: 340. \n",
      "Test - Loss: 0.3427848815917969. Accuracy: 428.6680541103018\n",
      "Train -  Loss: 0.34174448251724243. Accuracy: 429.0815662807337\n",
      "\n"
     ]
    },
    {
     "name": "stderr",
     "output_type": "stream",
     "text": [
      "Training Epochs:  34%|███▍      | 342/1000 [00:37<01:13,  8.94it/s]"
     ]
    },
    {
     "name": "stdout",
     "output_type": "stream",
     "text": [
      "Iteration: 341. \n",
      "Test - Loss: 0.3427196443080902. Accuracy: 428.6680541103018\n",
      "Train -  Loss: 0.34167808294296265. Accuracy: 429.1140887212176\n",
      "\n",
      "Iteration: 342. \n",
      "Test - Loss: 0.3426544666290283. Accuracy: 428.74609781477625\n",
      "Train -  Loss: 0.34161174297332764. Accuracy: 429.1140887212176\n",
      "\n"
     ]
    },
    {
     "name": "stderr",
     "output_type": "stream",
     "text": [
      "Training Epochs:  34%|███▍      | 344/1000 [00:37<01:12,  9.05it/s]"
     ]
    },
    {
     "name": "stdout",
     "output_type": "stream",
     "text": [
      "Iteration: 343. \n",
      "Test - Loss: 0.3425893485546112. Accuracy: 428.77211238293444\n",
      "Train -  Loss: 0.341545432806015. Accuracy: 429.12059320931445\n",
      "\n",
      "Iteration: 344. \n",
      "Test - Loss: 0.34252429008483887. Accuracy: 428.77211238293444\n",
      "Train -  Loss: 0.34147918224334717. Accuracy: 429.1401066736048\n",
      "\n"
     ]
    },
    {
     "name": "stderr",
     "output_type": "stream",
     "text": [
      "Training Epochs:  35%|███▍      | 346/1000 [00:38<01:12,  9.08it/s]"
     ]
    },
    {
     "name": "stdout",
     "output_type": "stream",
     "text": [
      "Iteration: 345. \n",
      "Test - Loss: 0.3424593210220337. Accuracy: 428.7981269510926\n",
      "Train -  Loss: 0.3414129912853241. Accuracy: 429.14661116170157\n",
      "\n",
      "Iteration: 346. \n",
      "Test - Loss: 0.3423943519592285. Accuracy: 428.87617065556714\n",
      "Train -  Loss: 0.3413468599319458. Accuracy: 429.1856380902823\n",
      "\n"
     ]
    },
    {
     "name": "stderr",
     "output_type": "stream",
     "text": [
      "Training Epochs:  35%|███▍      | 348/1000 [00:38<01:11,  9.11it/s]"
     ]
    },
    {
     "name": "stdout",
     "output_type": "stream",
     "text": [
      "Iteration: 347. \n",
      "Test - Loss: 0.3423294723033905. Accuracy: 428.87617065556714\n",
      "Train -  Loss: 0.3412807881832123. Accuracy: 429.2181605307662\n",
      "\n",
      "Iteration: 348. \n",
      "Test - Loss: 0.3422645926475525. Accuracy: 428.87617065556714\n",
      "Train -  Loss: 0.34121474623680115. Accuracy: 429.2311695069598\n",
      "\n"
     ]
    },
    {
     "name": "stderr",
     "output_type": "stream",
     "text": [
      "Training Epochs:  35%|███▌      | 350/1000 [00:38<01:12,  8.98it/s]"
     ]
    },
    {
     "name": "stdout",
     "output_type": "stream",
     "text": [
      "Iteration: 349. \n",
      "Test - Loss: 0.34219983220100403. Accuracy: 428.90218522372527\n",
      "Train -  Loss: 0.3411487936973572. Accuracy: 429.2376739950566\n",
      "\n",
      "Iteration: 350. \n",
      "Test - Loss: 0.34213510155677795. Accuracy: 428.90218522372527\n",
      "Train -  Loss: 0.341082900762558. Accuracy: 429.25718745934694\n",
      "\n"
     ]
    },
    {
     "name": "stderr",
     "output_type": "stream",
     "text": [
      "Training Epochs:  35%|███▌      | 352/1000 [00:38<01:12,  9.00it/s]"
     ]
    },
    {
     "name": "stdout",
     "output_type": "stream",
     "text": [
      "Iteration: 351. \n",
      "Test - Loss: 0.34207043051719666. Accuracy: 428.90218522372527\n",
      "Train -  Loss: 0.3410170376300812. Accuracy: 429.26369194744376\n",
      "\n",
      "Iteration: 352. \n",
      "Test - Loss: 0.34200581908226013. Accuracy: 428.90218522372527\n",
      "Train -  Loss: 0.34095126390457153. Accuracy: 429.30922336412124\n",
      "\n"
     ]
    },
    {
     "name": "stderr",
     "output_type": "stream",
     "text": [
      "Training Epochs:  35%|███▌      | 354/1000 [00:38<01:11,  8.99it/s]"
     ]
    },
    {
     "name": "stdout",
     "output_type": "stream",
     "text": [
      "Iteration: 353. \n",
      "Test - Loss: 0.341941237449646. Accuracy: 428.90218522372527\n",
      "Train -  Loss: 0.3408854603767395. Accuracy: 429.30922336412124\n",
      "\n",
      "Iteration: 354. \n",
      "Test - Loss: 0.34187668561935425. Accuracy: 428.87617065556714\n",
      "Train -  Loss: 0.340819776058197. Accuracy: 429.3352413165084\n",
      "\n"
     ]
    },
    {
     "name": "stderr",
     "output_type": "stream",
     "text": [
      "Training Epochs:  36%|███▌      | 356/1000 [00:39<01:10,  9.13it/s]"
     ]
    },
    {
     "name": "stdout",
     "output_type": "stream",
     "text": [
      "Iteration: 355. \n",
      "Test - Loss: 0.34181228280067444. Accuracy: 428.87617065556714\n",
      "Train -  Loss: 0.34075412154197693. Accuracy: 429.3287368284116\n",
      "\n",
      "Iteration: 356. \n",
      "Test - Loss: 0.34174782037734985. Accuracy: 428.87617065556714\n",
      "Train -  Loss: 0.3406885862350464. Accuracy: 429.3287368284116\n",
      "\n"
     ]
    },
    {
     "name": "stderr",
     "output_type": "stream",
     "text": [
      "Training Epochs:  36%|███▌      | 358/1000 [00:39<01:10,  9.14it/s]"
     ]
    },
    {
     "name": "stdout",
     "output_type": "stream",
     "text": [
      "Iteration: 357. \n",
      "Test - Loss: 0.3416835069656372. Accuracy: 428.87617065556714\n",
      "Train -  Loss: 0.34062302112579346. Accuracy: 429.35475478079877\n",
      "\n",
      "Iteration: 358. \n",
      "Test - Loss: 0.34161919355392456. Accuracy: 428.90218522372527\n",
      "Train -  Loss: 0.3405575454235077. Accuracy: 429.36125926889554\n",
      "\n"
     ]
    },
    {
     "name": "stderr",
     "output_type": "stream",
     "text": [
      "Training Epochs:  36%|███▌      | 360/1000 [00:39<01:10,  9.12it/s]"
     ]
    },
    {
     "name": "stdout",
     "output_type": "stream",
     "text": [
      "Iteration: 359. \n",
      "Test - Loss: 0.3415549695491791. Accuracy: 428.92819979188346\n",
      "Train -  Loss: 0.3404921591281891. Accuracy: 429.38727722128266\n",
      "\n",
      "Iteration: 360. \n",
      "Test - Loss: 0.3414907455444336. Accuracy: 428.9802289281998\n",
      "Train -  Loss: 0.3404267728328705. Accuracy: 429.3807727331859\n",
      "\n"
     ]
    },
    {
     "name": "stderr",
     "output_type": "stream",
     "text": [
      "Training Epochs:  36%|███▌      | 362/1000 [00:39<01:09,  9.16it/s]"
     ]
    },
    {
     "name": "stdout",
     "output_type": "stream",
     "text": [
      "Iteration: 361. \n",
      "Test - Loss: 0.34142664074897766. Accuracy: 428.9802289281998\n",
      "Train -  Loss: 0.34036144614219666. Accuracy: 429.40679068557307\n",
      "\n",
      "Iteration: 362. \n",
      "Test - Loss: 0.34136250615119934. Accuracy: 429.00624349635797\n",
      "Train -  Loss: 0.3402961790561676. Accuracy: 429.4263041498634\n",
      "\n"
     ]
    },
    {
     "name": "stderr",
     "output_type": "stream",
     "text": [
      "Training Epochs:  36%|███▋      | 364/1000 [00:40<01:09,  9.13it/s]"
     ]
    },
    {
     "name": "stdout",
     "output_type": "stream",
     "text": [
      "Iteration: 363. \n",
      "Test - Loss: 0.34129852056503296. Accuracy: 429.03225806451616\n",
      "Train -  Loss: 0.3402309715747833. Accuracy: 429.4588265903473\n",
      "\n",
      "Iteration: 364. \n",
      "Test - Loss: 0.3412345349788666. Accuracy: 429.00624349635797\n",
      "Train -  Loss: 0.3401658236980438. Accuracy: 429.4588265903473\n",
      "\n"
     ]
    },
    {
     "name": "stderr",
     "output_type": "stream",
     "text": [
      "Training Epochs:  37%|███▋      | 366/1000 [00:40<01:09,  9.11it/s]"
     ]
    },
    {
     "name": "stdout",
     "output_type": "stream",
     "text": [
      "Iteration: 365. \n",
      "Test - Loss: 0.34117060899734497. Accuracy: 429.00624349635797\n",
      "Train -  Loss: 0.3401007354259491. Accuracy: 429.49134903083126\n",
      "\n",
      "Iteration: 366. \n",
      "Test - Loss: 0.34110671281814575. Accuracy: 429.00624349635797\n",
      "Train -  Loss: 0.34003570675849915. Accuracy: 429.50435800702485\n",
      "\n"
     ]
    },
    {
     "name": "stderr",
     "output_type": "stream",
     "text": [
      "Training Epochs:  37%|███▋      | 368/1000 [00:40<01:09,  9.11it/s]"
     ]
    },
    {
     "name": "stdout",
     "output_type": "stream",
     "text": [
      "Iteration: 367. \n",
      "Test - Loss: 0.3410429060459137. Accuracy: 429.00624349635797\n",
      "Train -  Loss: 0.3399707078933716. Accuracy: 429.51736698321844\n",
      "\n",
      "Iteration: 368. \n",
      "Test - Loss: 0.34097912907600403. Accuracy: 429.00624349635797\n",
      "Train -  Loss: 0.3399057686328888. Accuracy: 429.5628983998959\n",
      "\n"
     ]
    },
    {
     "name": "stderr",
     "output_type": "stream",
     "text": [
      "Training Epochs:  37%|███▋      | 370/1000 [00:40<01:09,  9.07it/s]"
     ]
    },
    {
     "name": "stdout",
     "output_type": "stream",
     "text": [
      "Iteration: 369. \n",
      "Test - Loss: 0.3409154415130615. Accuracy: 429.00624349635797\n",
      "Train -  Loss: 0.3398408591747284. Accuracy: 429.58241186418627\n",
      "\n",
      "Iteration: 370. \n",
      "Test - Loss: 0.3408517837524414. Accuracy: 429.03225806451616\n",
      "Train -  Loss: 0.33977600932121277. Accuracy: 429.5889163522831\n",
      "\n"
     ]
    },
    {
     "name": "stderr",
     "output_type": "stream",
     "text": [
      "Training Epochs:  37%|███▋      | 372/1000 [00:40<01:09,  9.06it/s]"
     ]
    },
    {
     "name": "stdout",
     "output_type": "stream",
     "text": [
      "Iteration: 371. \n",
      "Test - Loss: 0.34078821539878845. Accuracy: 429.03225806451616\n",
      "Train -  Loss: 0.3397112786769867. Accuracy: 429.62143879276704\n",
      "\n",
      "Iteration: 372. \n",
      "Test - Loss: 0.3407246768474579. Accuracy: 429.03225806451616\n",
      "Train -  Loss: 0.3396465480327606. Accuracy: 429.60842981657345\n",
      "\n"
     ]
    },
    {
     "name": "stderr",
     "output_type": "stream",
     "text": [
      "Training Epochs:  37%|███▋      | 374/1000 [00:41<01:08,  9.11it/s]"
     ]
    },
    {
     "name": "stdout",
     "output_type": "stream",
     "text": [
      "Iteration: 373. \n",
      "Test - Loss: 0.3406611382961273. Accuracy: 429.0842872008325\n",
      "Train -  Loss: 0.3395818769931793. Accuracy: 429.63444776896057\n",
      "\n",
      "Iteration: 374. \n",
      "Test - Loss: 0.3405976891517639. Accuracy: 429.0842872008325\n",
      "Train -  Loss: 0.3395172655582428. Accuracy: 429.6409522570574\n",
      "\n"
     ]
    },
    {
     "name": "stderr",
     "output_type": "stream",
     "text": [
      "Training Epochs:  38%|███▊      | 376/1000 [00:41<01:08,  9.15it/s]"
     ]
    },
    {
     "name": "stdout",
     "output_type": "stream",
     "text": [
      "Iteration: 375. \n",
      "Test - Loss: 0.3405342996120453. Accuracy: 429.1103017689906\n",
      "Train -  Loss: 0.33945271372795105. Accuracy: 429.66046572134775\n",
      "\n",
      "Iteration: 376. \n",
      "Test - Loss: 0.34047096967697144. Accuracy: 429.1103017689906\n",
      "Train -  Loss: 0.3393881916999817. Accuracy: 429.6669702094445\n",
      "\n"
     ]
    },
    {
     "name": "stderr",
     "output_type": "stream",
     "text": [
      "Training Epochs:  38%|███▊      | 378/1000 [00:41<01:07,  9.17it/s]"
     ]
    },
    {
     "name": "stdout",
     "output_type": "stream",
     "text": [
      "Iteration: 377. \n",
      "Test - Loss: 0.34040766954421997. Accuracy: 429.1103017689906\n",
      "Train -  Loss: 0.3393237292766571. Accuracy: 429.6799791856381\n",
      "\n",
      "Iteration: 378. \n",
      "Test - Loss: 0.3403444290161133. Accuracy: 429.0842872008325\n",
      "Train -  Loss: 0.3392593264579773. Accuracy: 429.69949264992846\n",
      "\n"
     ]
    },
    {
     "name": "stderr",
     "output_type": "stream",
     "text": [
      "Training Epochs:  38%|███▊      | 380/1000 [00:41<01:08,  9.04it/s]"
     ]
    },
    {
     "name": "stdout",
     "output_type": "stream",
     "text": [
      "Iteration: 379. \n",
      "Test - Loss: 0.34028127789497375. Accuracy: 429.1103017689906\n",
      "Train -  Loss: 0.33919498324394226. Accuracy: 429.7190061142188\n",
      "\n",
      "Iteration: 380. \n",
      "Test - Loss: 0.34021812677383423. Accuracy: 429.1103017689906\n",
      "Train -  Loss: 0.3391306698322296. Accuracy: 429.75152855470276\n",
      "\n"
     ]
    },
    {
     "name": "stderr",
     "output_type": "stream",
     "text": [
      "Training Epochs:  38%|███▊      | 382/1000 [00:42<01:07,  9.17it/s]"
     ]
    },
    {
     "name": "stdout",
     "output_type": "stream",
     "text": [
      "Iteration: 381. \n",
      "Test - Loss: 0.34015506505966187. Accuracy: 429.1363163371488\n",
      "Train -  Loss: 0.33906641602516174. Accuracy: 429.7645375308963\n",
      "\n",
      "Iteration: 382. \n",
      "Test - Loss: 0.3400920033454895. Accuracy: 429.162330905307\n",
      "Train -  Loss: 0.33900222182273865. Accuracy: 429.7840509951867\n",
      "\n"
     ]
    },
    {
     "name": "stderr",
     "output_type": "stream",
     "text": [
      "Training Epochs:  38%|███▊      | 384/1000 [00:42<01:07,  9.09it/s]"
     ]
    },
    {
     "name": "stdout",
     "output_type": "stream",
     "text": [
      "Iteration: 383. \n",
      "Test - Loss: 0.3400290906429291. Accuracy: 429.1883454734651\n",
      "Train -  Loss: 0.3389381170272827. Accuracy: 429.79055548328347\n",
      "\n",
      "Iteration: 384. \n",
      "Test - Loss: 0.3399660885334015. Accuracy: 429.1883454734651\n",
      "Train -  Loss: 0.3388739824295044. Accuracy: 429.79055548328347\n",
      "\n"
     ]
    },
    {
     "name": "stderr",
     "output_type": "stream",
     "text": [
      "Training Epochs:  39%|███▊      | 386/1000 [00:42<01:07,  9.09it/s]"
     ]
    },
    {
     "name": "stdout",
     "output_type": "stream",
     "text": [
      "Iteration: 385. \n",
      "Test - Loss: 0.3399032950401306. Accuracy: 429.2403746097815\n",
      "Train -  Loss: 0.3388099670410156. Accuracy: 429.7840509951867\n",
      "\n",
      "Iteration: 386. \n",
      "Test - Loss: 0.33984047174453735. Accuracy: 429.2403746097815\n",
      "Train -  Loss: 0.33874598145484924. Accuracy: 429.8165734356706\n",
      "\n"
     ]
    },
    {
     "name": "stderr",
     "output_type": "stream",
     "text": [
      "Training Epochs:  39%|███▉      | 388/1000 [00:42<01:07,  9.08it/s]"
     ]
    },
    {
     "name": "stdout",
     "output_type": "stream",
     "text": [
      "Iteration: 387. \n",
      "Test - Loss: 0.3397776782512665. Accuracy: 429.2924037460978\n",
      "Train -  Loss: 0.33868205547332764. Accuracy: 429.8230779237674\n",
      "\n",
      "Iteration: 388. \n",
      "Test - Loss: 0.33971497416496277. Accuracy: 429.318418314256\n",
      "Train -  Loss: 0.3386181592941284. Accuracy: 429.84259138805777\n",
      "\n"
     ]
    },
    {
     "name": "stderr",
     "output_type": "stream",
     "text": [
      "Training Epochs:  39%|███▉      | 390/1000 [00:42<01:06,  9.15it/s]"
     ]
    },
    {
     "name": "stdout",
     "output_type": "stream",
     "text": [
      "Iteration: 389. \n",
      "Test - Loss: 0.33965232968330383. Accuracy: 429.34443288241414\n",
      "Train -  Loss: 0.33855435252189636. Accuracy: 429.84259138805777\n",
      "\n",
      "Iteration: 390. \n",
      "Test - Loss: 0.3395897150039673. Accuracy: 429.34443288241414\n",
      "Train -  Loss: 0.3384905755519867. Accuracy: 429.84909587615454\n",
      "\n"
     ]
    },
    {
     "name": "stderr",
     "output_type": "stream",
     "text": [
      "Training Epochs:  39%|███▉      | 392/1000 [00:43<01:09,  8.80it/s]"
     ]
    },
    {
     "name": "stdout",
     "output_type": "stream",
     "text": [
      "Iteration: 391. \n",
      "Test - Loss: 0.3395271599292755. Accuracy: 429.318418314256\n",
      "Train -  Loss: 0.3384268581867218. Accuracy: 429.8621048523481\n",
      "\n",
      "Iteration: 392. \n",
      "Test - Loss: 0.33946457505226135. Accuracy: 429.34443288241414\n",
      "Train -  Loss: 0.3383631706237793. Accuracy: 429.88812280473525\n",
      "\n"
     ]
    },
    {
     "name": "stderr",
     "output_type": "stream",
     "text": [
      "Training Epochs:  39%|███▉      | 394/1000 [00:43<01:07,  8.92it/s]"
     ]
    },
    {
     "name": "stdout",
     "output_type": "stream",
     "text": [
      "Iteration: 393. \n",
      "Test - Loss: 0.3394021689891815. Accuracy: 429.34443288241414\n",
      "Train -  Loss: 0.33829954266548157. Accuracy: 429.90113178092884\n",
      "\n",
      "Iteration: 394. \n",
      "Test - Loss: 0.33933982253074646. Accuracy: 429.3704474505723\n",
      "Train -  Loss: 0.3382359743118286. Accuracy: 429.927149733316\n",
      "\n"
     ]
    },
    {
     "name": "stderr",
     "output_type": "stream",
     "text": [
      "Training Epochs:  40%|███▉      | 396/1000 [00:43<01:06,  9.07it/s]"
     ]
    },
    {
     "name": "stdout",
     "output_type": "stream",
     "text": [
      "Iteration: 395. \n",
      "Test - Loss: 0.3392774164676666. Accuracy: 429.3704474505723\n",
      "Train -  Loss: 0.33817246556282043. Accuracy: 429.94666319760637\n",
      "\n",
      "Iteration: 396. \n",
      "Test - Loss: 0.33921512961387634. Accuracy: 429.3704474505723\n",
      "Train -  Loss: 0.33810898661613464. Accuracy: 429.9856901261871\n",
      "\n"
     ]
    },
    {
     "name": "stderr",
     "output_type": "stream",
     "text": [
      "Training Epochs:  40%|███▉      | 398/1000 [00:43<01:06,  9.07it/s]"
     ]
    },
    {
     "name": "stdout",
     "output_type": "stream",
     "text": [
      "Iteration: 397. \n",
      "Test - Loss: 0.33915290236473083. Accuracy: 429.3704474505723\n",
      "Train -  Loss: 0.33804556727409363. Accuracy: 429.9856901261871\n",
      "\n",
      "Iteration: 398. \n",
      "Test - Loss: 0.3390907049179077. Accuracy: 429.3704474505723\n",
      "Train -  Loss: 0.3379822075366974. Accuracy: 430.00520359047744\n",
      "\n"
     ]
    },
    {
     "name": "stderr",
     "output_type": "stream",
     "text": [
      "Training Epochs:  40%|████      | 400/1000 [00:44<01:07,  8.94it/s]"
     ]
    },
    {
     "name": "stdout",
     "output_type": "stream",
     "text": [
      "Iteration: 399. \n",
      "Test - Loss: 0.3390285074710846. Accuracy: 429.3964620187305\n",
      "Train -  Loss: 0.33791887760162354. Accuracy: 430.0247170547678\n",
      "\n",
      "Iteration: 400. \n",
      "Test - Loss: 0.338966429233551. Accuracy: 429.3964620187305\n",
      "Train -  Loss: 0.33785563707351685. Accuracy: 430.04423051905815\n",
      "\n"
     ]
    },
    {
     "name": "stderr",
     "output_type": "stream",
     "text": [
      "Training Epochs:  40%|████      | 402/1000 [00:44<01:06,  9.04it/s]"
     ]
    },
    {
     "name": "stdout",
     "output_type": "stream",
     "text": [
      "Iteration: 401. \n",
      "Test - Loss: 0.33890441060066223. Accuracy: 429.3964620187305\n",
      "Train -  Loss: 0.33779242634773254. Accuracy: 430.0507350071549\n",
      "\n",
      "Iteration: 402. \n",
      "Test - Loss: 0.33884239196777344. Accuracy: 429.44849115504684\n",
      "Train -  Loss: 0.33772924542427063. Accuracy: 430.08325744763886\n",
      "\n"
     ]
    },
    {
     "name": "stderr",
     "output_type": "stream",
     "text": [
      "Training Epochs:  40%|████      | 404/1000 [00:44<01:05,  9.06it/s]"
     ]
    },
    {
     "name": "stdout",
     "output_type": "stream",
     "text": [
      "Iteration: 403. \n",
      "Test - Loss: 0.3387804627418518. Accuracy: 429.47450572320497\n",
      "Train -  Loss: 0.33766618371009827. Accuracy: 430.09626642383245\n",
      "\n",
      "Iteration: 404. \n",
      "Test - Loss: 0.3387185335159302. Accuracy: 429.50052029136316\n",
      "Train -  Loss: 0.3376031219959259. Accuracy: 430.1027709119292\n",
      "\n"
     ]
    },
    {
     "name": "stderr",
     "output_type": "stream",
     "text": [
      "Training Epochs:  41%|████      | 406/1000 [00:44<01:04,  9.14it/s]"
     ]
    },
    {
     "name": "stdout",
     "output_type": "stream",
     "text": [
      "Iteration: 405. \n",
      "Test - Loss: 0.3386567533016205. Accuracy: 429.50052029136316\n",
      "Train -  Loss: 0.3375400900840759. Accuracy: 430.12228437621957\n",
      "\n",
      "Iteration: 406. \n",
      "Test - Loss: 0.338594913482666. Accuracy: 429.50052029136316\n",
      "Train -  Loss: 0.3374771475791931. Accuracy: 430.12228437621957\n",
      "\n"
     ]
    },
    {
     "name": "stderr",
     "output_type": "stream",
     "text": [
      "Training Epochs:  41%|████      | 408/1000 [00:44<01:05,  9.04it/s]"
     ]
    },
    {
     "name": "stdout",
     "output_type": "stream",
     "text": [
      "Iteration: 407. \n",
      "Test - Loss: 0.3385332226753235. Accuracy: 429.57856399583767\n",
      "Train -  Loss: 0.3374142348766327. Accuracy: 430.10927540002604\n",
      "\n",
      "Iteration: 408. \n",
      "Test - Loss: 0.33847153186798096. Accuracy: 429.60457856399586\n",
      "Train -  Loss: 0.33735141158103943. Accuracy: 430.1287888643164\n",
      "\n"
     ]
    },
    {
     "name": "stderr",
     "output_type": "stream",
     "text": [
      "Training Epochs:  41%|████      | 410/1000 [00:45<01:04,  9.14it/s]"
     ]
    },
    {
     "name": "stdout",
     "output_type": "stream",
     "text": [
      "Iteration: 409. \n",
      "Test - Loss: 0.3384099006652832. Accuracy: 429.57856399583767\n",
      "Train -  Loss: 0.3372885584831238. Accuracy: 430.16131130480034\n",
      "\n",
      "Iteration: 410. \n",
      "Test - Loss: 0.33834826946258545. Accuracy: 429.57856399583767\n",
      "Train -  Loss: 0.3372258245944977. Accuracy: 430.1678157928971\n",
      "\n"
     ]
    },
    {
     "name": "stderr",
     "output_type": "stream",
     "text": [
      "Training Epochs:  41%|████      | 412/1000 [00:45<01:05,  8.98it/s]"
     ]
    },
    {
     "name": "stdout",
     "output_type": "stream",
     "text": [
      "Iteration: 411. \n",
      "Test - Loss: 0.33828675746917725. Accuracy: 429.60457856399586\n",
      "Train -  Loss: 0.33716312050819397. Accuracy: 430.17432028099387\n",
      "\n",
      "Iteration: 412. \n",
      "Test - Loss: 0.33822524547576904. Accuracy: 429.57856399583767\n",
      "Train -  Loss: 0.3371005058288574. Accuracy: 430.20033823338105\n",
      "\n"
     ]
    },
    {
     "name": "stderr",
     "output_type": "stream",
     "text": [
      "Training Epochs:  41%|████▏     | 414/1000 [00:45<01:04,  9.05it/s]"
     ]
    },
    {
     "name": "stdout",
     "output_type": "stream",
     "text": [
      "Iteration: 413. \n",
      "Test - Loss: 0.3381638824939728. Accuracy: 429.57856399583767\n",
      "Train -  Loss: 0.3370378911495209. Accuracy: 430.232860673865\n",
      "\n",
      "Iteration: 414. \n",
      "Test - Loss: 0.33810245990753174. Accuracy: 429.57856399583767\n",
      "Train -  Loss: 0.3369753360748291. Accuracy: 430.25237413815535\n",
      "\n"
     ]
    },
    {
     "name": "stderr",
     "output_type": "stream",
     "text": [
      "Training Epochs:  42%|████▏     | 416/1000 [00:45<01:04,  9.06it/s]"
     ]
    },
    {
     "name": "stdout",
     "output_type": "stream",
     "text": [
      "Iteration: 415. \n",
      "Test - Loss: 0.3380410969257355. Accuracy: 429.60457856399586\n",
      "Train -  Loss: 0.3369128406047821. Accuracy: 430.28489657863923\n",
      "\n",
      "Iteration: 416. \n",
      "Test - Loss: 0.33797985315322876. Accuracy: 429.6566077003122\n",
      "Train -  Loss: 0.3368503749370575. Accuracy: 430.2979055548328\n",
      "\n"
     ]
    },
    {
     "name": "stderr",
     "output_type": "stream",
     "text": [
      "Training Epochs:  42%|████▏     | 418/1000 [00:46<01:04,  9.02it/s]"
     ]
    },
    {
     "name": "stdout",
     "output_type": "stream",
     "text": [
      "Iteration: 417. \n",
      "Test - Loss: 0.33791860938072205. Accuracy: 429.6566077003122\n",
      "Train -  Loss: 0.33678796887397766. Accuracy: 430.32392350722\n",
      "\n",
      "Iteration: 418. \n",
      "Test - Loss: 0.3378574252128601. Accuracy: 429.6566077003122\n",
      "Train -  Loss: 0.336725652217865. Accuracy: 430.3499414596071\n",
      "\n"
     ]
    },
    {
     "name": "stderr",
     "output_type": "stream",
     "text": [
      "Training Epochs:  42%|████▏     | 420/1000 [00:46<01:03,  9.11it/s]"
     ]
    },
    {
     "name": "stdout",
     "output_type": "stream",
     "text": [
      "Iteration: 419. \n",
      "Test - Loss: 0.33779627084732056. Accuracy: 429.68262226847037\n",
      "Train -  Loss: 0.3366633355617523. Accuracy: 430.3564459477039\n",
      "\n",
      "Iteration: 420. \n",
      "Test - Loss: 0.33773520588874817. Accuracy: 429.68262226847037\n",
      "Train -  Loss: 0.3366011083126068. Accuracy: 430.3694549238975\n",
      "\n"
     ]
    },
    {
     "name": "stderr",
     "output_type": "stream",
     "text": [
      "Training Epochs:  42%|████▏     | 422/1000 [00:46<01:03,  9.08it/s]"
     ]
    },
    {
     "name": "stdout",
     "output_type": "stream",
     "text": [
      "Iteration: 421. \n",
      "Test - Loss: 0.33767417073249817. Accuracy: 429.7086368366285\n",
      "Train -  Loss: 0.3365389108657837. Accuracy: 430.3564459477039\n",
      "\n",
      "Iteration: 422. \n",
      "Test - Loss: 0.33761322498321533. Accuracy: 429.7086368366285\n",
      "Train -  Loss: 0.33647674322128296. Accuracy: 430.3564459477039\n",
      "\n"
     ]
    },
    {
     "name": "stderr",
     "output_type": "stream",
     "text": [
      "Training Epochs:  42%|████▏     | 424/1000 [00:46<01:06,  8.64it/s]"
     ]
    },
    {
     "name": "stdout",
     "output_type": "stream",
     "text": [
      "Iteration: 423. \n",
      "Test - Loss: 0.3375522494316101. Accuracy: 429.7086368366285\n",
      "Train -  Loss: 0.3364146649837494. Accuracy: 430.3694549238975\n",
      "\n",
      "Iteration: 424. \n",
      "Test - Loss: 0.33749139308929443. Accuracy: 429.7606659729448\n",
      "Train -  Loss: 0.3363526165485382. Accuracy: 430.3629504358007\n",
      "\n"
     ]
    },
    {
     "name": "stderr",
     "output_type": "stream",
     "text": [
      "Training Epochs:  43%|████▎     | 426/1000 [00:46<01:04,  8.91it/s]"
     ]
    },
    {
     "name": "stdout",
     "output_type": "stream",
     "text": [
      "Iteration: 425. \n",
      "Test - Loss: 0.33743050694465637. Accuracy: 429.8126951092612\n",
      "Train -  Loss: 0.336290568113327. Accuracy: 430.3759594119943\n",
      "\n",
      "Iteration: 426. \n",
      "Test - Loss: 0.33736974000930786. Accuracy: 429.83870967741933\n",
      "Train -  Loss: 0.3362286686897278. Accuracy: 430.38896838818783\n",
      "\n"
     ]
    },
    {
     "name": "stderr",
     "output_type": "stream",
     "text": [
      "Training Epochs:  43%|████▎     | 428/1000 [00:47<01:03,  8.95it/s]"
     ]
    },
    {
     "name": "stdout",
     "output_type": "stream",
     "text": [
      "Iteration: 427. \n",
      "Test - Loss: 0.33730897307395935. Accuracy: 429.83870967741933\n",
      "Train -  Loss: 0.33616673946380615. Accuracy: 430.38896838818783\n",
      "\n",
      "Iteration: 428. \n",
      "Test - Loss: 0.337248295545578. Accuracy: 429.83870967741933\n",
      "Train -  Loss: 0.3361048996448517. Accuracy: 430.4019773643814\n",
      "\n"
     ]
    },
    {
     "name": "stderr",
     "output_type": "stream",
     "text": [
      "Training Epochs:  43%|████▎     | 430/1000 [00:47<01:03,  9.00it/s]"
     ]
    },
    {
     "name": "stdout",
     "output_type": "stream",
     "text": [
      "Iteration: 429. \n",
      "Test - Loss: 0.33718767762184143. Accuracy: 429.8647242455775\n",
      "Train -  Loss: 0.336043119430542. Accuracy: 430.38896838818783\n",
      "\n",
      "Iteration: 430. \n",
      "Test - Loss: 0.33712708950042725. Accuracy: 429.8647242455775\n",
      "Train -  Loss: 0.3359813690185547. Accuracy: 430.4084818524782\n",
      "\n"
     ]
    },
    {
     "name": "stderr",
     "output_type": "stream",
     "text": [
      "Training Epochs:  43%|████▎     | 432/1000 [00:47<01:02,  9.14it/s]"
     ]
    },
    {
     "name": "stdout",
     "output_type": "stream",
     "text": [
      "Iteration: 431. \n",
      "Test - Loss: 0.33706653118133545. Accuracy: 429.8647242455775\n",
      "Train -  Loss: 0.33591964840888977. Accuracy: 430.43449980486537\n",
      "\n",
      "Iteration: 432. \n",
      "Test - Loss: 0.3370060920715332. Accuracy: 429.8647242455775\n",
      "Train -  Loss: 0.33585798740386963. Accuracy: 430.4540132691557\n",
      "\n"
     ]
    },
    {
     "name": "stderr",
     "output_type": "stream",
     "text": [
      "Training Epochs:  43%|████▎     | 434/1000 [00:47<01:02,  8.99it/s]"
     ]
    },
    {
     "name": "stdout",
     "output_type": "stream",
     "text": [
      "Iteration: 433. \n",
      "Test - Loss: 0.33694562315940857. Accuracy: 429.8647242455775\n",
      "Train -  Loss: 0.33579638600349426. Accuracy: 430.49304019773643\n",
      "\n",
      "Iteration: 434. \n",
      "Test - Loss: 0.3368852436542511. Accuracy: 429.8647242455775\n",
      "Train -  Loss: 0.33573484420776367. Accuracy: 430.5255626382204\n",
      "\n"
     ]
    },
    {
     "name": "stderr",
     "output_type": "stream",
     "text": [
      "Training Epochs:  44%|████▎     | 436/1000 [00:48<01:02,  9.04it/s]"
     ]
    },
    {
     "name": "stdout",
     "output_type": "stream",
     "text": [
      "Iteration: 435. \n",
      "Test - Loss: 0.336824893951416. Accuracy: 429.8647242455775\n",
      "Train -  Loss: 0.33567333221435547. Accuracy: 430.53206712631714\n",
      "\n",
      "Iteration: 436. \n",
      "Test - Loss: 0.3367646336555481. Accuracy: 429.8647242455775\n",
      "Train -  Loss: 0.33561187982559204. Accuracy: 430.54507610251073\n",
      "\n"
     ]
    },
    {
     "name": "stderr",
     "output_type": "stream",
     "text": [
      "Training Epochs:  44%|████▍     | 438/1000 [00:48<01:01,  9.08it/s]"
     ]
    },
    {
     "name": "stdout",
     "output_type": "stream",
     "text": [
      "Iteration: 437. \n",
      "Test - Loss: 0.3367043733596802. Accuracy: 429.94276795005203\n",
      "Train -  Loss: 0.335550457239151. Accuracy: 430.59711200728503\n",
      "\n",
      "Iteration: 438. \n",
      "Test - Loss: 0.33664417266845703. Accuracy: 429.94276795005203\n",
      "Train -  Loss: 0.33548909425735474. Accuracy: 430.62312995967216\n",
      "\n"
     ]
    },
    {
     "name": "stderr",
     "output_type": "stream",
     "text": [
      "Training Epochs:  44%|████▍     | 440/1000 [00:48<01:01,  9.14it/s]"
     ]
    },
    {
     "name": "stdout",
     "output_type": "stream",
     "text": [
      "Iteration: 439. \n",
      "Test - Loss: 0.33658406138420105. Accuracy: 429.91675338189384\n",
      "Train -  Loss: 0.33542782068252563. Accuracy: 430.62312995967216\n",
      "\n",
      "Iteration: 440. \n",
      "Test - Loss: 0.3365239202976227. Accuracy: 429.9687825182102\n",
      "Train -  Loss: 0.33536654710769653. Accuracy: 430.629634447769\n",
      "\n"
     ]
    },
    {
     "name": "stderr",
     "output_type": "stream",
     "text": [
      "Training Epochs:  44%|████▍     | 442/1000 [00:48<01:01,  9.08it/s]"
     ]
    },
    {
     "name": "stdout",
     "output_type": "stream",
     "text": [
      "Iteration: 441. \n",
      "Test - Loss: 0.33646389842033386. Accuracy: 430.02081165452654\n",
      "Train -  Loss: 0.3353053033351898. Accuracy: 430.6426434239625\n",
      "\n",
      "Iteration: 442. \n",
      "Test - Loss: 0.33640381693840027. Accuracy: 430.04682622268473\n",
      "Train -  Loss: 0.33524414896965027. Accuracy: 430.66215688825287\n",
      "\n"
     ]
    },
    {
     "name": "stderr",
     "output_type": "stream",
     "text": [
      "Training Epochs:  44%|████▍     | 444/1000 [00:48<01:02,  8.93it/s]"
     ]
    },
    {
     "name": "stdout",
     "output_type": "stream",
     "text": [
      "Iteration: 443. \n",
      "Test - Loss: 0.336343914270401. Accuracy: 430.07284079084286\n",
      "Train -  Loss: 0.3351830542087555. Accuracy: 430.66215688825287\n",
      "\n",
      "Iteration: 444. \n",
      "Test - Loss: 0.33628398180007935. Accuracy: 430.07284079084286\n",
      "Train -  Loss: 0.3351219594478607. Accuracy: 430.6556524001561\n",
      "\n"
     ]
    },
    {
     "name": "stderr",
     "output_type": "stream",
     "text": [
      "Training Epochs:  45%|████▍     | 446/1000 [00:49<01:00,  9.08it/s]"
     ]
    },
    {
     "name": "stdout",
     "output_type": "stream",
     "text": [
      "Iteration: 445. \n",
      "Test - Loss: 0.33622410893440247. Accuracy: 430.04682622268473\n",
      "Train -  Loss: 0.3350609540939331. Accuracy: 430.6426434239625\n",
      "\n",
      "Iteration: 446. \n",
      "Test - Loss: 0.33616432547569275. Accuracy: 430.04682622268473\n",
      "Train -  Loss: 0.3349999785423279. Accuracy: 430.6556524001561\n",
      "\n"
     ]
    },
    {
     "name": "stderr",
     "output_type": "stream",
     "text": [
      "Training Epochs:  45%|████▍     | 448/1000 [00:49<01:00,  9.06it/s]"
     ]
    },
    {
     "name": "stdout",
     "output_type": "stream",
     "text": [
      "Iteration: 447. \n",
      "Test - Loss: 0.33610454201698303. Accuracy: 430.04682622268473\n",
      "Train -  Loss: 0.33493906259536743. Accuracy: 430.6946793287368\n",
      "\n",
      "Iteration: 448. \n",
      "Test - Loss: 0.3360448181629181. Accuracy: 430.1248699271592\n",
      "Train -  Loss: 0.33487817645072937. Accuracy: 430.6946793287368\n",
      "\n"
     ]
    },
    {
     "name": "stderr",
     "output_type": "stream",
     "text": [
      "Training Epochs:  45%|████▌     | 450/1000 [00:49<01:00,  9.02it/s]"
     ]
    },
    {
     "name": "stdout",
     "output_type": "stream",
     "text": [
      "Iteration: 449. \n",
      "Test - Loss: 0.33598509430885315. Accuracy: 430.1248699271592\n",
      "Train -  Loss: 0.3348173499107361. Accuracy: 430.720697281124\n",
      "\n",
      "Iteration: 450. \n",
      "Test - Loss: 0.33592551946640015. Accuracy: 430.15088449531737\n",
      "Train -  Loss: 0.3347565829753876. Accuracy: 430.7467152335111\n",
      "\n"
     ]
    },
    {
     "name": "stderr",
     "output_type": "stream",
     "text": [
      "Training Epochs:  45%|████▌     | 452/1000 [00:49<01:00,  9.06it/s]"
     ]
    },
    {
     "name": "stdout",
     "output_type": "stream",
     "text": [
      "Iteration: 451. \n",
      "Test - Loss: 0.33586594462394714. Accuracy: 430.15088449531737\n",
      "Train -  Loss: 0.33469587564468384. Accuracy: 430.7727331858983\n",
      "\n",
      "Iteration: 452. \n",
      "Test - Loss: 0.33580639958381653. Accuracy: 430.15088449531737\n",
      "Train -  Loss: 0.3346351683139801. Accuracy: 430.7987511382854\n",
      "\n"
     ]
    },
    {
     "name": "stderr",
     "output_type": "stream",
     "text": [
      "Training Epochs:  45%|████▌     | 454/1000 [00:50<01:00,  9.04it/s]"
     ]
    },
    {
     "name": "stdout",
     "output_type": "stream",
     "text": [
      "Iteration: 453. \n",
      "Test - Loss: 0.3357468843460083. Accuracy: 430.17689906347556\n",
      "Train -  Loss: 0.33457452058792114. Accuracy: 430.811760114479\n",
      "\n",
      "Iteration: 454. \n",
      "Test - Loss: 0.33568745851516724. Accuracy: 430.2029136316337\n",
      "Train -  Loss: 0.33451393246650696. Accuracy: 430.81826460257577\n",
      "\n"
     ]
    },
    {
     "name": "stderr",
     "output_type": "stream",
     "text": [
      "Training Epochs:  46%|████▌     | 456/1000 [00:50<01:00,  9.05it/s]"
     ]
    },
    {
     "name": "stdout",
     "output_type": "stream",
     "text": [
      "Iteration: 455. \n",
      "Test - Loss: 0.33562803268432617. Accuracy: 430.2029136316337\n",
      "Train -  Loss: 0.33445340394973755. Accuracy: 430.81826460257577\n",
      "\n",
      "Iteration: 456. \n",
      "Test - Loss: 0.33556875586509705. Accuracy: 430.25494276795007\n",
      "Train -  Loss: 0.3343929052352905. Accuracy: 430.83127357876936\n",
      "\n"
     ]
    },
    {
     "name": "stderr",
     "output_type": "stream",
     "text": [
      "Training Epochs:  46%|████▌     | 458/1000 [00:50<01:00,  8.89it/s]"
     ]
    },
    {
     "name": "stdout",
     "output_type": "stream",
     "text": [
      "Iteration: 457. \n",
      "Test - Loss: 0.33550941944122314. Accuracy: 430.2809573361082\n",
      "Train -  Loss: 0.3343324363231659. Accuracy: 430.8572915311565\n",
      "\n",
      "Iteration: 458. \n",
      "Test - Loss: 0.3354501724243164. Accuracy: 430.3329864724246\n",
      "Train -  Loss: 0.3342720568180084. Accuracy: 430.8637960192533\n",
      "\n"
     ]
    },
    {
     "name": "stderr",
     "output_type": "stream",
     "text": [
      "Training Epochs:  46%|████▌     | 460/1000 [00:50<00:59,  9.06it/s]"
     ]
    },
    {
     "name": "stdout",
     "output_type": "stream",
     "text": [
      "Iteration: 459. \n",
      "Test - Loss: 0.33539095520973206. Accuracy: 430.2809573361082\n",
      "Train -  Loss: 0.33421170711517334. Accuracy: 430.87680499544683\n",
      "\n",
      "Iteration: 460. \n",
      "Test - Loss: 0.33533182740211487. Accuracy: 430.3069719042664\n",
      "Train -  Loss: 0.33415138721466064. Accuracy: 430.88330948354366\n",
      "\n"
     ]
    },
    {
     "name": "stderr",
     "output_type": "stream",
     "text": [
      "Training Epochs:  46%|████▌     | 462/1000 [00:50<01:00,  8.89it/s]"
     ]
    },
    {
     "name": "stdout",
     "output_type": "stream",
     "text": [
      "Iteration: 461. \n",
      "Test - Loss: 0.3352726995944977. Accuracy: 430.3329864724246\n",
      "Train -  Loss: 0.3340911567211151. Accuracy: 430.88330948354366\n",
      "\n",
      "Iteration: 462. \n",
      "Test - Loss: 0.33521363139152527. Accuracy: 430.3590010405827\n",
      "Train -  Loss: 0.3340309262275696. Accuracy: 430.9093274359308\n",
      "\n"
     ]
    },
    {
     "name": "stderr",
     "output_type": "stream",
     "text": [
      "Training Epochs:  46%|████▋     | 464/1000 [00:51<00:59,  9.01it/s]"
     ]
    },
    {
     "name": "stdout",
     "output_type": "stream",
     "text": [
      "Iteration: 463. \n",
      "Test - Loss: 0.33515465259552. Accuracy: 430.3590010405827\n",
      "Train -  Loss: 0.3339707553386688. Accuracy: 430.9158319240276\n",
      "\n",
      "Iteration: 464. \n",
      "Test - Loss: 0.33509567379951477. Accuracy: 430.3850156087409\n",
      "Train -  Loss: 0.33391064405441284. Accuracy: 430.93534538831796\n",
      "\n"
     ]
    },
    {
     "name": "stderr",
     "output_type": "stream",
     "text": [
      "Training Epochs:  47%|████▋     | 466/1000 [00:51<00:59,  8.96it/s]"
     ]
    },
    {
     "name": "stdout",
     "output_type": "stream",
     "text": [
      "Iteration: 465. \n",
      "Test - Loss: 0.3350367546081543. Accuracy: 430.3850156087409\n",
      "Train -  Loss: 0.33385059237480164. Accuracy: 430.9418498764147\n",
      "\n",
      "Iteration: 466. \n",
      "Test - Loss: 0.3349778950214386. Accuracy: 430.3590010405827\n",
      "Train -  Loss: 0.3337905704975128. Accuracy: 430.9613633407051\n",
      "\n"
     ]
    },
    {
     "name": "stderr",
     "output_type": "stream",
     "text": [
      "Training Epochs:  47%|████▋     | 468/1000 [00:51<00:58,  9.05it/s]"
     ]
    },
    {
     "name": "stdout",
     "output_type": "stream",
     "text": [
      "Iteration: 467. \n",
      "Test - Loss: 0.3349190652370453. Accuracy: 430.3590010405827\n",
      "Train -  Loss: 0.3337306082248688. Accuracy: 430.9613633407051\n",
      "\n",
      "Iteration: 468. \n",
      "Test - Loss: 0.33486029505729675. Accuracy: 430.3590010405827\n",
      "Train -  Loss: 0.3336707055568695. Accuracy: 430.98087680499543\n",
      "\n"
     ]
    },
    {
     "name": "stderr",
     "output_type": "stream",
     "text": [
      "Training Epochs:  47%|████▋     | 470/1000 [00:51<00:58,  9.12it/s]"
     ]
    },
    {
     "name": "stdout",
     "output_type": "stream",
     "text": [
      "Iteration: 469. \n",
      "Test - Loss: 0.3348015248775482. Accuracy: 430.3850156087409\n",
      "Train -  Loss: 0.33361077308654785. Accuracy: 431.0003902692858\n",
      "\n",
      "Iteration: 470. \n",
      "Test - Loss: 0.33474281430244446. Accuracy: 430.4110301768991\n",
      "Train -  Loss: 0.33355095982551575. Accuracy: 431.0003902692858\n",
      "\n"
     ]
    },
    {
     "name": "stderr",
     "output_type": "stream",
     "text": [
      "Training Epochs:  47%|████▋     | 472/1000 [00:51<00:58,  9.08it/s]"
     ]
    },
    {
     "name": "stdout",
     "output_type": "stream",
     "text": [
      "Iteration: 471. \n",
      "Test - Loss: 0.3346841633319855. Accuracy: 430.4110301768991\n",
      "Train -  Loss: 0.33349117636680603. Accuracy: 431.03291270976973\n",
      "\n",
      "Iteration: 472. \n",
      "Test - Loss: 0.33462560176849365. Accuracy: 430.4110301768991\n",
      "Train -  Loss: 0.3334314525127411. Accuracy: 431.0589306621569\n",
      "\n"
     ]
    },
    {
     "name": "stderr",
     "output_type": "stream",
     "text": [
      "Training Epochs:  47%|████▋     | 474/1000 [00:52<00:57,  9.18it/s]"
     ]
    },
    {
     "name": "stdout",
     "output_type": "stream",
     "text": [
      "Iteration: 473. \n",
      "Test - Loss: 0.33456704020500183. Accuracy: 430.3850156087409\n",
      "Train -  Loss: 0.33337172865867615. Accuracy: 431.07193963835044\n",
      "\n",
      "Iteration: 474. \n",
      "Test - Loss: 0.3345085084438324. Accuracy: 430.3850156087409\n",
      "Train -  Loss: 0.33331209421157837. Accuracy: 431.07844412644727\n",
      "\n"
     ]
    },
    {
     "name": "stderr",
     "output_type": "stream",
     "text": [
      "Training Epochs:  48%|████▊     | 476/1000 [00:52<00:57,  9.08it/s]"
     ]
    },
    {
     "name": "stdout",
     "output_type": "stream",
     "text": [
      "Iteration: 475. \n",
      "Test - Loss: 0.33445003628730774. Accuracy: 430.4110301768991\n",
      "Train -  Loss: 0.333252489566803. Accuracy: 431.0914531026408\n",
      "\n",
      "Iteration: 476. \n",
      "Test - Loss: 0.33439165353775024. Accuracy: 430.4370447450572\n",
      "Train -  Loss: 0.33319291472435. Accuracy: 431.0979575907376\n",
      "\n"
     ]
    },
    {
     "name": "stderr",
     "output_type": "stream",
     "text": [
      "Training Epochs:  48%|████▊     | 478/1000 [00:52<00:57,  9.07it/s]"
     ]
    },
    {
     "name": "stdout",
     "output_type": "stream",
     "text": [
      "Iteration: 477. \n",
      "Test - Loss: 0.33433327078819275. Accuracy: 430.4630593132154\n",
      "Train -  Loss: 0.33313342928886414. Accuracy: 431.1044620788344\n",
      "\n",
      "Iteration: 478. \n",
      "Test - Loss: 0.33427494764328003. Accuracy: 430.48907388137354\n",
      "Train -  Loss: 0.3330739736557007. Accuracy: 431.1109665669312\n",
      "\n"
     ]
    },
    {
     "name": "stderr",
     "output_type": "stream",
     "text": [
      "Training Epochs:  48%|████▊     | 480/1000 [00:52<00:57,  9.08it/s]"
     ]
    },
    {
     "name": "stdout",
     "output_type": "stream",
     "text": [
      "Iteration: 479. \n",
      "Test - Loss: 0.3342166841030121. Accuracy: 430.48907388137354\n",
      "Train -  Loss: 0.3330145478248596. Accuracy: 431.13698451931833\n",
      "\n",
      "Iteration: 480. \n",
      "Test - Loss: 0.33415845036506653. Accuracy: 430.48907388137354\n",
      "Train -  Loss: 0.3329552114009857. Accuracy: 431.1499934955119\n",
      "\n"
     ]
    },
    {
     "name": "stderr",
     "output_type": "stream",
     "text": [
      "Training Epochs:  48%|████▊     | 482/1000 [00:53<00:56,  9.21it/s]"
     ]
    },
    {
     "name": "stdout",
     "output_type": "stream",
     "text": [
      "Iteration: 481. \n",
      "Test - Loss: 0.33410027623176575. Accuracy: 430.48907388137354\n",
      "Train -  Loss: 0.33289584517478943. Accuracy: 431.1695069598023\n",
      "\n",
      "Iteration: 482. \n",
      "Test - Loss: 0.33404213190078735. Accuracy: 430.48907388137354\n",
      "Train -  Loss: 0.3328365981578827. Accuracy: 431.17601144789904\n",
      "\n"
     ]
    },
    {
     "name": "stderr",
     "output_type": "stream",
     "text": [
      "Training Epochs:  48%|████▊     | 484/1000 [00:53<00:56,  9.11it/s]"
     ]
    },
    {
     "name": "stdout",
     "output_type": "stream",
     "text": [
      "Iteration: 483. \n",
      "Test - Loss: 0.33398401737213135. Accuracy: 430.5411030176899\n",
      "Train -  Loss: 0.33277738094329834. Accuracy: 431.2020294002862\n",
      "\n",
      "Iteration: 484. \n",
      "Test - Loss: 0.3339259922504425. Accuracy: 430.56711758584805\n",
      "Train -  Loss: 0.3327181339263916. Accuracy: 431.21503837647975\n",
      "\n"
     ]
    },
    {
     "name": "stderr",
     "output_type": "stream",
     "text": [
      "Training Epochs:  49%|████▊     | 486/1000 [00:53<00:55,  9.22it/s]"
     ]
    },
    {
     "name": "stdout",
     "output_type": "stream",
     "text": [
      "Iteration: 485. \n",
      "Test - Loss: 0.33386796712875366. Accuracy: 430.59313215400624\n",
      "Train -  Loss: 0.3326590061187744. Accuracy: 431.208533888383\n",
      "\n",
      "Iteration: 486. \n",
      "Test - Loss: 0.333810031414032. Accuracy: 430.64516129032256\n",
      "Train -  Loss: 0.332599937915802. Accuracy: 431.21503837647975\n",
      "\n"
     ]
    },
    {
     "name": "stderr",
     "output_type": "stream",
     "text": [
      "Training Epochs:  49%|████▉     | 488/1000 [00:53<00:56,  9.07it/s]"
     ]
    },
    {
     "name": "stdout",
     "output_type": "stream",
     "text": [
      "Iteration: 487. \n",
      "Test - Loss: 0.3337520658969879. Accuracy: 430.64516129032256\n",
      "Train -  Loss: 0.332540899515152. Accuracy: 431.208533888383\n",
      "\n",
      "Iteration: 488. \n",
      "Test - Loss: 0.3336942195892334. Accuracy: 430.67117585848075\n",
      "Train -  Loss: 0.33248189091682434. Accuracy: 431.1955249121894\n",
      "\n"
     ]
    },
    {
     "name": "stderr",
     "output_type": "stream",
     "text": [
      "Training Epochs:  49%|████▉     | 490/1000 [00:53<00:56,  9.00it/s]"
     ]
    },
    {
     "name": "stdout",
     "output_type": "stream",
     "text": [
      "Iteration: 489. \n",
      "Test - Loss: 0.33363643288612366. Accuracy: 430.67117585848075\n",
      "Train -  Loss: 0.3324229419231415. Accuracy: 431.1955249121894\n",
      "\n",
      "Iteration: 490. \n",
      "Test - Loss: 0.3335786461830139. Accuracy: 430.69719042663894\n",
      "Train -  Loss: 0.3323639929294586. Accuracy: 431.2020294002862\n",
      "\n"
     ]
    },
    {
     "name": "stderr",
     "output_type": "stream",
     "text": [
      "Training Epochs:  49%|████▉     | 492/1000 [00:54<00:56,  9.03it/s]"
     ]
    },
    {
     "name": "stdout",
     "output_type": "stream",
     "text": [
      "Iteration: 491. \n",
      "Test - Loss: 0.33352088928222656. Accuracy: 430.7232049947971\n",
      "Train -  Loss: 0.3323051631450653. Accuracy: 431.208533888383\n",
      "\n",
      "Iteration: 492. \n",
      "Test - Loss: 0.3334631621837616. Accuracy: 430.74921956295526\n",
      "Train -  Loss: 0.3322463035583496. Accuracy: 431.1955249121894\n",
      "\n"
     ]
    },
    {
     "name": "stderr",
     "output_type": "stream",
     "text": [
      "Training Epochs:  49%|████▉     | 494/1000 [00:54<00:56,  8.96it/s]"
     ]
    },
    {
     "name": "stdout",
     "output_type": "stream",
     "text": [
      "Iteration: 493. \n",
      "Test - Loss: 0.3334055542945862. Accuracy: 430.82726326742977\n",
      "Train -  Loss: 0.3321875333786011. Accuracy: 431.21503837647975\n",
      "\n",
      "Iteration: 494. \n",
      "Test - Loss: 0.33334794640541077. Accuracy: 430.8792924037461\n",
      "Train -  Loss: 0.3321287930011749. Accuracy: 431.24105632886693\n",
      "\n"
     ]
    },
    {
     "name": "stderr",
     "output_type": "stream",
     "text": [
      "Training Epochs:  50%|████▉     | 496/1000 [00:54<00:55,  9.11it/s]"
     ]
    },
    {
     "name": "stdout",
     "output_type": "stream",
     "text": [
      "Iteration: 495. \n",
      "Test - Loss: 0.33329036831855774. Accuracy: 430.9053069719043\n",
      "Train -  Loss: 0.33207011222839355. Accuracy: 431.24105632886693\n",
      "\n",
      "Iteration: 496. \n",
      "Test - Loss: 0.3332328498363495. Accuracy: 430.9313215400624\n",
      "Train -  Loss: 0.33201146125793457. Accuracy: 431.26707428125405\n",
      "\n"
     ]
    },
    {
     "name": "stderr",
     "output_type": "stream",
     "text": [
      "Training Epochs:  50%|████▉     | 498/1000 [00:54<00:55,  9.00it/s]"
     ]
    },
    {
     "name": "stdout",
     "output_type": "stream",
     "text": [
      "Iteration: 497. \n",
      "Test - Loss: 0.333175390958786. Accuracy: 430.9313215400624\n",
      "Train -  Loss: 0.331952840089798. Accuracy: 431.26707428125405\n",
      "\n",
      "Iteration: 498. \n",
      "Test - Loss: 0.3331179916858673. Accuracy: 430.9053069719043\n",
      "Train -  Loss: 0.33189430832862854. Accuracy: 431.2865877455444\n",
      "\n"
     ]
    },
    {
     "name": "stderr",
     "output_type": "stream",
     "text": [
      "Training Epochs:  50%|█████     | 500/1000 [00:55<00:55,  9.05it/s]"
     ]
    },
    {
     "name": "stdout",
     "output_type": "stream",
     "text": [
      "Iteration: 499. \n",
      "Test - Loss: 0.333060622215271. Accuracy: 430.9313215400624\n",
      "Train -  Loss: 0.3318358063697815. Accuracy: 431.3126056979316\n",
      "\n",
      "Iteration: 500. \n",
      "Test - Loss: 0.3330032527446747. Accuracy: 430.9053069719043\n",
      "Train -  Loss: 0.33177733421325684. Accuracy: 431.3256146741251\n",
      "\n"
     ]
    },
    {
     "name": "stderr",
     "output_type": "stream",
     "text": [
      "Training Epochs:  50%|█████     | 502/1000 [00:55<00:55,  8.98it/s]"
     ]
    },
    {
     "name": "stdout",
     "output_type": "stream",
     "text": [
      "Iteration: 501. \n",
      "Test - Loss: 0.3329460024833679. Accuracy: 430.9053069719043\n",
      "Train -  Loss: 0.33171892166137695. Accuracy: 431.3386236503187\n",
      "\n",
      "Iteration: 502. \n",
      "Test - Loss: 0.33288875222206116. Accuracy: 430.8792924037461\n",
      "Train -  Loss: 0.33166056871414185. Accuracy: 431.3516326265123\n",
      "\n"
     ]
    },
    {
     "name": "stderr",
     "output_type": "stream",
     "text": [
      "Training Epochs:  50%|█████     | 504/1000 [00:55<00:54,  9.11it/s]"
     ]
    },
    {
     "name": "stdout",
     "output_type": "stream",
     "text": [
      "Iteration: 503. \n",
      "Test - Loss: 0.3328315317630768. Accuracy: 430.8792924037461\n",
      "Train -  Loss: 0.33160221576690674. Accuracy: 431.3646416027059\n",
      "\n",
      "Iteration: 504. \n",
      "Test - Loss: 0.33277440071105957. Accuracy: 430.9053069719043\n",
      "Train -  Loss: 0.3315439224243164. Accuracy: 431.38415506699624\n",
      "\n"
     ]
    },
    {
     "name": "stderr",
     "output_type": "stream",
     "text": [
      "Training Epochs:  51%|█████     | 506/1000 [00:55<00:54,  9.11it/s]"
     ]
    },
    {
     "name": "stdout",
     "output_type": "stream",
     "text": [
      "Iteration: 505. \n",
      "Test - Loss: 0.33271726965904236. Accuracy: 430.9053069719043\n",
      "Train -  Loss: 0.33148568868637085. Accuracy: 431.3971640431898\n",
      "\n",
      "Iteration: 506. \n",
      "Test - Loss: 0.3326601982116699. Accuracy: 430.9053069719043\n",
      "Train -  Loss: 0.3314274549484253. Accuracy: 431.42318199557695\n",
      "\n"
     ]
    },
    {
     "name": "stderr",
     "output_type": "stream",
     "text": [
      "Training Epochs:  51%|█████     | 508/1000 [00:55<00:54,  9.10it/s]"
     ]
    },
    {
     "name": "stdout",
     "output_type": "stream",
     "text": [
      "Iteration: 507. \n",
      "Test - Loss: 0.3326031565666199. Accuracy: 430.9053069719043\n",
      "Train -  Loss: 0.3313693404197693. Accuracy: 431.4426954598673\n",
      "\n",
      "Iteration: 508. \n",
      "Test - Loss: 0.3325461745262146. Accuracy: 430.9053069719043\n",
      "Train -  Loss: 0.3313111960887909. Accuracy: 431.4426954598673\n",
      "\n"
     ]
    },
    {
     "name": "stderr",
     "output_type": "stream",
     "text": [
      "Training Epochs:  51%|█████     | 510/1000 [00:56<00:54,  9.04it/s]"
     ]
    },
    {
     "name": "stdout",
     "output_type": "stream",
     "text": [
      "Iteration: 509. \n",
      "Test - Loss: 0.3324892222881317. Accuracy: 430.8792924037461\n",
      "Train -  Loss: 0.33125317096710205. Accuracy: 431.43619097177054\n",
      "\n",
      "Iteration: 510. \n",
      "Test - Loss: 0.3324323296546936. Accuracy: 430.9053069719043\n",
      "Train -  Loss: 0.3311951160430908. Accuracy: 431.4491999479641\n",
      "\n"
     ]
    },
    {
     "name": "stderr",
     "output_type": "stream",
     "text": [
      "Training Epochs:  51%|█████     | 512/1000 [00:56<00:54,  8.99it/s]"
     ]
    },
    {
     "name": "stdout",
     "output_type": "stream",
     "text": [
      "Iteration: 511. \n",
      "Test - Loss: 0.33237549662590027. Accuracy: 430.9053069719043\n",
      "Train -  Loss: 0.33113715052604675. Accuracy: 431.481722388448\n",
      "\n",
      "Iteration: 512. \n",
      "Test - Loss: 0.3323186933994293. Accuracy: 430.9313215400624\n",
      "Train -  Loss: 0.3310791850090027. Accuracy: 431.48822687654484\n",
      "\n"
     ]
    },
    {
     "name": "stderr",
     "output_type": "stream",
     "text": [
      "Training Epochs:  51%|█████▏    | 514/1000 [00:56<00:53,  9.08it/s]"
     ]
    },
    {
     "name": "stdout",
     "output_type": "stream",
     "text": [
      "Iteration: 513. \n",
      "Test - Loss: 0.33226191997528076. Accuracy: 430.9053069719043\n",
      "Train -  Loss: 0.3310213088989258. Accuracy: 431.5012358527384\n",
      "\n",
      "Iteration: 514. \n",
      "Test - Loss: 0.33220523595809937. Accuracy: 430.9053069719043\n",
      "Train -  Loss: 0.33096346259117126. Accuracy: 431.5012358527384\n",
      "\n"
     ]
    },
    {
     "name": "stderr",
     "output_type": "stream",
     "text": [
      "Training Epochs:  52%|█████▏    | 516/1000 [00:56<00:52,  9.19it/s]"
     ]
    },
    {
     "name": "stdout",
     "output_type": "stream",
     "text": [
      "Iteration: 515. \n",
      "Test - Loss: 0.33214855194091797. Accuracy: 430.9313215400624\n",
      "Train -  Loss: 0.3309056758880615. Accuracy: 431.5012358527384\n",
      "\n",
      "Iteration: 516. \n",
      "Test - Loss: 0.3320918679237366. Accuracy: 430.9313215400624\n",
      "Train -  Loss: 0.33084791898727417. Accuracy: 431.5012358527384\n",
      "\n"
     ]
    },
    {
     "name": "stderr",
     "output_type": "stream",
     "text": [
      "Training Epochs:  52%|█████▏    | 518/1000 [00:57<00:52,  9.17it/s]"
     ]
    },
    {
     "name": "stdout",
     "output_type": "stream",
     "text": [
      "Iteration: 517. \n",
      "Test - Loss: 0.3320353031158447. Accuracy: 430.9313215400624\n",
      "Train -  Loss: 0.3307901918888092. Accuracy: 431.4947313646416\n",
      "\n",
      "Iteration: 518. \n",
      "Test - Loss: 0.33197879791259766. Accuracy: 430.9053069719043\n",
      "Train -  Loss: 0.3307325541973114. Accuracy: 431.5012358527384\n",
      "\n"
     ]
    },
    {
     "name": "stderr",
     "output_type": "stream",
     "text": [
      "Training Epochs:  52%|█████▏    | 520/1000 [00:57<00:52,  9.22it/s]"
     ]
    },
    {
     "name": "stdout",
     "output_type": "stream",
     "text": [
      "Iteration: 519. \n",
      "Test - Loss: 0.3319222629070282. Accuracy: 430.9313215400624\n",
      "Train -  Loss: 0.3306749165058136. Accuracy: 431.5077403408352\n",
      "\n",
      "Iteration: 520. \n",
      "Test - Loss: 0.3318658173084259. Accuracy: 430.9573361082206\n",
      "Train -  Loss: 0.3306173086166382. Accuracy: 431.5077403408352\n",
      "\n"
     ]
    },
    {
     "name": "stderr",
     "output_type": "stream",
     "text": [
      "Training Epochs:  52%|█████▏    | 522/1000 [00:57<00:52,  9.13it/s]"
     ]
    },
    {
     "name": "stdout",
     "output_type": "stream",
     "text": [
      "Iteration: 521. \n",
      "Test - Loss: 0.3318093717098236. Accuracy: 430.9573361082206\n",
      "Train -  Loss: 0.33055979013442993. Accuracy: 431.51424482893196\n",
      "\n",
      "Iteration: 522. \n",
      "Test - Loss: 0.3317529857158661. Accuracy: 430.9833506763788\n",
      "Train -  Loss: 0.33050230145454407. Accuracy: 431.52725380512555\n",
      "\n"
     ]
    },
    {
     "name": "stderr",
     "output_type": "stream",
     "text": [
      "Training Epochs:  52%|█████▏    | 524/1000 [00:57<00:51,  9.19it/s]"
     ]
    },
    {
     "name": "stdout",
     "output_type": "stream",
     "text": [
      "Iteration: 523. \n",
      "Test - Loss: 0.33169665932655334. Accuracy: 431.0093652445369\n",
      "Train -  Loss: 0.3304448425769806. Accuracy: 431.5337582932223\n",
      "\n",
      "Iteration: 524. \n",
      "Test - Loss: 0.3316403925418854. Accuracy: 431.0093652445369\n",
      "Train -  Loss: 0.3303874433040619. Accuracy: 431.5597762456095\n",
      "\n"
     ]
    },
    {
     "name": "stderr",
     "output_type": "stream",
     "text": [
      "Training Epochs:  53%|█████▎    | 526/1000 [00:57<00:51,  9.18it/s]"
     ]
    },
    {
     "name": "stdout",
     "output_type": "stream",
     "text": [
      "Iteration: 525. \n",
      "Test - Loss: 0.3315841555595398. Accuracy: 431.0093652445369\n",
      "Train -  Loss: 0.3303300738334656. Accuracy: 431.57278522180303\n",
      "\n",
      "Iteration: 526. \n",
      "Test - Loss: 0.3315279185771942. Accuracy: 431.0093652445369\n",
      "Train -  Loss: 0.33027276396751404. Accuracy: 431.57278522180303\n",
      "\n"
     ]
    },
    {
     "name": "stderr",
     "output_type": "stream",
     "text": [
      "Training Epochs:  53%|█████▎    | 528/1000 [00:58<00:52,  9.07it/s]"
     ]
    },
    {
     "name": "stdout",
     "output_type": "stream",
     "text": [
      "Iteration: 527. \n",
      "Test - Loss: 0.3314717710018158. Accuracy: 431.0093652445369\n",
      "Train -  Loss: 0.3302154541015625. Accuracy: 431.5857941979966\n",
      "\n",
      "Iteration: 528. \n",
      "Test - Loss: 0.33141565322875977. Accuracy: 431.0353798126951\n",
      "Train -  Loss: 0.3301582336425781. Accuracy: 431.5922986860934\n",
      "\n"
     ]
    },
    {
     "name": "stderr",
     "output_type": "stream",
     "text": [
      "Training Epochs:  53%|█████▎    | 530/1000 [00:58<00:51,  9.05it/s]"
     ]
    },
    {
     "name": "stdout",
     "output_type": "stream",
     "text": [
      "Iteration: 529. \n",
      "Test - Loss: 0.3313596248626709. Accuracy: 431.0353798126951\n",
      "Train -  Loss: 0.33010104298591614. Accuracy: 431.605307662287\n",
      "\n",
      "Iteration: 530. \n",
      "Test - Loss: 0.33130353689193726. Accuracy: 431.0353798126951\n",
      "Train -  Loss: 0.33004388213157654. Accuracy: 431.61831663848056\n",
      "\n"
     ]
    },
    {
     "name": "stderr",
     "output_type": "stream",
     "text": [
      "Training Epochs:  53%|█████▎    | 532/1000 [00:58<00:51,  9.11it/s]"
     ]
    },
    {
     "name": "stdout",
     "output_type": "stream",
     "text": [
      "Iteration: 531. \n",
      "Test - Loss: 0.33124756813049316. Accuracy: 431.0353798126951\n",
      "Train -  Loss: 0.3299867808818817. Accuracy: 431.6313256146741\n",
      "\n",
      "Iteration: 532. \n",
      "Test - Loss: 0.33119162917137146. Accuracy: 431.0353798126951\n",
      "Train -  Loss: 0.3299297094345093. Accuracy: 431.6443345908677\n",
      "\n"
     ]
    },
    {
     "name": "stderr",
     "output_type": "stream",
     "text": [
      "Training Epochs:  53%|█████▎    | 534/1000 [00:58<00:51,  9.07it/s]"
     ]
    },
    {
     "name": "stdout",
     "output_type": "stream",
     "text": [
      "Iteration: 533. \n",
      "Test - Loss: 0.33113572001457214. Accuracy: 431.0353798126951\n",
      "Train -  Loss: 0.3298726975917816. Accuracy: 431.67035254325486\n",
      "\n",
      "Iteration: 534. \n",
      "Test - Loss: 0.3310798406600952. Accuracy: 431.0613943808533\n",
      "Train -  Loss: 0.32981568574905396. Accuracy: 431.6833615194484\n",
      "\n"
     ]
    },
    {
     "name": "stderr",
     "output_type": "stream",
     "text": [
      "Training Epochs:  54%|█████▎    | 536/1000 [00:59<00:51,  9.01it/s]"
     ]
    },
    {
     "name": "stdout",
     "output_type": "stream",
     "text": [
      "Iteration: 535. \n",
      "Test - Loss: 0.3310239911079407. Accuracy: 431.08740894901143\n",
      "Train -  Loss: 0.32975876331329346. Accuracy: 431.7093794718356\n",
      "\n",
      "Iteration: 536. \n",
      "Test - Loss: 0.3309682011604309. Accuracy: 431.1394380853278\n",
      "Train -  Loss: 0.32970187067985535. Accuracy: 431.72238844802916\n",
      "\n"
     ]
    },
    {
     "name": "stderr",
     "output_type": "stream",
     "text": [
      "Training Epochs:  54%|█████▍    | 538/1000 [00:59<00:50,  9.10it/s]"
     ]
    },
    {
     "name": "stdout",
     "output_type": "stream",
     "text": [
      "Iteration: 537. \n",
      "Test - Loss: 0.3309125304222107. Accuracy: 431.1394380853278\n",
      "Train -  Loss: 0.329645037651062. Accuracy: 431.7353974242227\n",
      "\n",
      "Iteration: 538. \n",
      "Test - Loss: 0.3308567702770233. Accuracy: 431.1394380853278\n",
      "Train -  Loss: 0.3295881748199463. Accuracy: 431.7614153766099\n",
      "\n"
     ]
    },
    {
     "name": "stderr",
     "output_type": "stream",
     "text": [
      "Training Epochs:  54%|█████▍    | 540/1000 [00:59<00:50,  9.19it/s]"
     ]
    },
    {
     "name": "stdout",
     "output_type": "stream",
     "text": [
      "Iteration: 539. \n",
      "Test - Loss: 0.3308011293411255. Accuracy: 431.19146722164413\n",
      "Train -  Loss: 0.3295314311981201. Accuracy: 431.7744243528034\n",
      "\n",
      "Iteration: 540. \n",
      "Test - Loss: 0.33074551820755005. Accuracy: 431.24349635796045\n",
      "Train -  Loss: 0.32947468757629395. Accuracy: 431.7744243528034\n",
      "\n"
     ]
    },
    {
     "name": "stderr",
     "output_type": "stream",
     "text": [
      "Training Epochs:  54%|█████▍    | 542/1000 [00:59<00:50,  9.13it/s]"
     ]
    },
    {
     "name": "stdout",
     "output_type": "stream",
     "text": [
      "Iteration: 541. \n",
      "Test - Loss: 0.330689936876297. Accuracy: 431.24349635796045\n",
      "Train -  Loss: 0.32941797375679016. Accuracy: 431.78092884090023\n",
      "\n",
      "Iteration: 542. \n",
      "Test - Loss: 0.33063438534736633. Accuracy: 431.24349635796045\n",
      "Train -  Loss: 0.3293613791465759. Accuracy: 431.78092884090023\n",
      "\n"
     ]
    },
    {
     "name": "stderr",
     "output_type": "stream",
     "text": [
      "Training Epochs:  54%|█████▍    | 544/1000 [00:59<00:50,  9.12it/s]"
     ]
    },
    {
     "name": "stdout",
     "output_type": "stream",
     "text": [
      "Iteration: 543. \n",
      "Test - Loss: 0.33057889342308044. Accuracy: 431.24349635796045\n",
      "Train -  Loss: 0.3293047547340393. Accuracy: 431.8004423051906\n",
      "\n",
      "Iteration: 544. \n",
      "Test - Loss: 0.33052346110343933. Accuracy: 431.24349635796045\n",
      "Train -  Loss: 0.32924818992614746. Accuracy: 431.84597372186806\n",
      "\n"
     ]
    },
    {
     "name": "stderr",
     "output_type": "stream",
     "text": [
      "Training Epochs:  55%|█████▍    | 546/1000 [01:00<00:50,  9.03it/s]"
     ]
    },
    {
     "name": "stdout",
     "output_type": "stream",
     "text": [
      "Iteration: 545. \n",
      "Test - Loss: 0.3304680287837982. Accuracy: 431.2955254942768\n",
      "Train -  Loss: 0.3291916847229004. Accuracy: 431.8654871861585\n",
      "\n",
      "Iteration: 546. \n",
      "Test - Loss: 0.33041271567344666. Accuracy: 431.32154006243496\n",
      "Train -  Loss: 0.3291351795196533. Accuracy: 431.87199167425524\n",
      "\n"
     ]
    },
    {
     "name": "stderr",
     "output_type": "stream",
     "text": [
      "Training Epochs:  55%|█████▍    | 548/1000 [01:00<00:50,  8.98it/s]"
     ]
    },
    {
     "name": "stdout",
     "output_type": "stream",
     "text": [
      "Iteration: 547. \n",
      "Test - Loss: 0.3303573727607727. Accuracy: 431.32154006243496\n",
      "Train -  Loss: 0.3290787935256958. Accuracy: 431.87199167425524\n",
      "\n",
      "Iteration: 548. \n",
      "Test - Loss: 0.33030208945274353. Accuracy: 431.3995837669095\n",
      "Train -  Loss: 0.3290224075317383. Accuracy: 431.88500065044883\n",
      "\n"
     ]
    },
    {
     "name": "stderr",
     "output_type": "stream",
     "text": [
      "Training Epochs:  55%|█████▌    | 550/1000 [01:00<00:50,  8.97it/s]"
     ]
    },
    {
     "name": "stdout",
     "output_type": "stream",
     "text": [
      "Iteration: 549. \n",
      "Test - Loss: 0.33024683594703674. Accuracy: 431.4516129032258\n",
      "Train -  Loss: 0.32896605134010315. Accuracy: 431.89800962664236\n",
      "\n",
      "Iteration: 550. \n",
      "Test - Loss: 0.3301916718482971. Accuracy: 431.477627471384\n",
      "Train -  Loss: 0.3289097547531128. Accuracy: 431.9175230909327\n",
      "\n"
     ]
    },
    {
     "name": "stderr",
     "output_type": "stream",
     "text": [
      "Training Epochs:  55%|█████▌    | 552/1000 [01:00<00:49,  9.03it/s]"
     ]
    },
    {
     "name": "stdout",
     "output_type": "stream",
     "text": [
      "Iteration: 551. \n",
      "Test - Loss: 0.3301365077495575. Accuracy: 431.477627471384\n",
      "Train -  Loss: 0.32885345816612244. Accuracy: 431.9305320671263\n",
      "\n",
      "Iteration: 552. \n",
      "Test - Loss: 0.33008137345314026. Accuracy: 431.50364203954217\n",
      "Train -  Loss: 0.32879725098609924. Accuracy: 431.95004553141666\n",
      "\n"
     ]
    },
    {
     "name": "stderr",
     "output_type": "stream",
     "text": [
      "Training Epochs:  55%|█████▌    | 554/1000 [01:01<00:49,  9.07it/s]"
     ]
    },
    {
     "name": "stdout",
     "output_type": "stream",
     "text": [
      "Iteration: 553. \n",
      "Test - Loss: 0.3300262987613678. Accuracy: 431.50364203954217\n",
      "Train -  Loss: 0.32874104380607605. Accuracy: 431.96305450761025\n",
      "\n",
      "Iteration: 554. \n",
      "Test - Loss: 0.3299712538719177. Accuracy: 431.5296566077003\n",
      "Train -  Loss: 0.32868492603302. Accuracy: 431.9955769480942\n",
      "\n"
     ]
    },
    {
     "name": "stderr",
     "output_type": "stream",
     "text": [
      "Training Epochs:  56%|█████▌    | 556/1000 [01:01<00:48,  9.12it/s]"
     ]
    },
    {
     "name": "stdout",
     "output_type": "stream",
     "text": [
      "Iteration: 555. \n",
      "Test - Loss: 0.3299162685871124. Accuracy: 431.5556711758585\n",
      "Train -  Loss: 0.3286288380622864. Accuracy: 432.00208143619096\n",
      "\n",
      "Iteration: 556. \n",
      "Test - Loss: 0.3298613131046295. Accuracy: 431.5816857440166\n",
      "Train -  Loss: 0.3285727798938751. Accuracy: 432.0215949004813\n",
      "\n"
     ]
    },
    {
     "name": "stderr",
     "output_type": "stream",
     "text": [
      "Training Epochs:  56%|█████▌    | 558/1000 [01:01<00:48,  9.05it/s]"
     ]
    },
    {
     "name": "stdout",
     "output_type": "stream",
     "text": [
      "Iteration: 557. \n",
      "Test - Loss: 0.3298064172267914. Accuracy: 431.6077003121748\n",
      "Train -  Loss: 0.32851675152778625. Accuracy: 432.02809938857814\n",
      "\n",
      "Iteration: 558. \n",
      "Test - Loss: 0.32975152134895325. Accuracy: 431.633714880333\n",
      "Train -  Loss: 0.32846081256866455. Accuracy: 432.0411083647717\n",
      "\n"
     ]
    },
    {
     "name": "stderr",
     "output_type": "stream",
     "text": [
      "Training Epochs:  56%|█████▌    | 560/1000 [01:01<00:48,  9.06it/s]"
     ]
    },
    {
     "name": "stdout",
     "output_type": "stream",
     "text": [
      "Iteration: 559. \n",
      "Test - Loss: 0.3296967148780823. Accuracy: 431.65972944849113\n",
      "Train -  Loss: 0.32840484380722046. Accuracy: 432.0476128528685\n",
      "\n",
      "Iteration: 560. \n",
      "Test - Loss: 0.3296419382095337. Accuracy: 431.65972944849113\n",
      "Train -  Loss: 0.3283489942550659. Accuracy: 432.0476128528685\n",
      "\n"
     ]
    },
    {
     "name": "stderr",
     "output_type": "stream",
     "text": [
      "Training Epochs:  56%|█████▌    | 562/1000 [01:01<00:47,  9.16it/s]"
     ]
    },
    {
     "name": "stdout",
     "output_type": "stream",
     "text": [
      "Iteration: 561. \n",
      "Test - Loss: 0.3295871615409851. Accuracy: 431.6857440166493\n",
      "Train -  Loss: 0.3282931447029114. Accuracy: 432.0736308052556\n",
      "\n",
      "Iteration: 562. \n",
      "Test - Loss: 0.3295324742794037. Accuracy: 431.73777315296564\n",
      "Train -  Loss: 0.3282373249530792. Accuracy: 432.08013529335244\n",
      "\n"
     ]
    },
    {
     "name": "stderr",
     "output_type": "stream",
     "text": [
      "Training Epochs:  56%|█████▋    | 564/1000 [01:02<00:48,  9.06it/s]"
     ]
    },
    {
     "name": "stdout",
     "output_type": "stream",
     "text": [
      "Iteration: 563. \n",
      "Test - Loss: 0.32947781682014465. Accuracy: 431.73777315296564\n",
      "Train -  Loss: 0.32818156480789185. Accuracy: 432.0866397814492\n",
      "\n",
      "Iteration: 564. \n",
      "Test - Loss: 0.32942312955856323. Accuracy: 431.76378772112383\n",
      "Train -  Loss: 0.32812583446502686. Accuracy: 432.10615324573956\n",
      "\n"
     ]
    },
    {
     "name": "stderr",
     "output_type": "stream",
     "text": [
      "Training Epochs:  57%|█████▋    | 566/1000 [01:02<00:49,  8.84it/s]"
     ]
    },
    {
     "name": "stdout",
     "output_type": "stream",
     "text": [
      "Iteration: 565. \n",
      "Test - Loss: 0.32936859130859375. Accuracy: 431.76378772112383\n",
      "Train -  Loss: 0.32807013392448425. Accuracy: 432.1321711981267\n",
      "\n",
      "Iteration: 566. \n",
      "Test - Loss: 0.32931405305862427. Accuracy: 431.789802289282\n",
      "Train -  Loss: 0.3280145227909088. Accuracy: 432.1321711981267\n",
      "\n"
     ]
    },
    {
     "name": "stderr",
     "output_type": "stream",
     "text": [
      "Training Epochs:  57%|█████▋    | 568/1000 [01:02<00:47,  9.04it/s]"
     ]
    },
    {
     "name": "stdout",
     "output_type": "stream",
     "text": [
      "Iteration: 567. \n",
      "Test - Loss: 0.3292595446109772. Accuracy: 431.789802289282\n",
      "Train -  Loss: 0.327958881855011. Accuracy: 432.15168466241704\n",
      "\n",
      "Iteration: 568. \n",
      "Test - Loss: 0.32920506596565247. Accuracy: 431.789802289282\n",
      "Train -  Loss: 0.3279033303260803. Accuracy: 432.15818915051386\n",
      "\n"
     ]
    },
    {
     "name": "stderr",
     "output_type": "stream",
     "text": [
      "Training Epochs:  57%|█████▋    | 570/1000 [01:02<00:47,  9.01it/s]"
     ]
    },
    {
     "name": "stdout",
     "output_type": "stream",
     "text": [
      "Iteration: 569. \n",
      "Test - Loss: 0.32915061712265015. Accuracy: 431.76378772112383\n",
      "Train -  Loss: 0.32784780859947205. Accuracy: 432.17119812670745\n",
      "\n",
      "Iteration: 570. \n",
      "Test - Loss: 0.329096257686615. Accuracy: 431.81581685744015\n",
      "Train -  Loss: 0.32779231667518616. Accuracy: 432.1907115909978\n",
      "\n"
     ]
    },
    {
     "name": "stderr",
     "output_type": "stream",
     "text": [
      "Training Epochs:  57%|█████▋    | 572/1000 [01:03<00:48,  8.92it/s]"
     ]
    },
    {
     "name": "stdout",
     "output_type": "stream",
     "text": [
      "Iteration: 571. \n",
      "Test - Loss: 0.32904186844825745. Accuracy: 431.84183142559834\n",
      "Train -  Loss: 0.32773688435554504. Accuracy: 432.21022505528816\n",
      "\n",
      "Iteration: 572. \n",
      "Test - Loss: 0.3289875388145447. Accuracy: 431.84183142559834\n",
      "Train -  Loss: 0.32768145203590393. Accuracy: 432.21022505528816\n",
      "\n"
     ]
    },
    {
     "name": "stderr",
     "output_type": "stream",
     "text": [
      "Training Epochs:  57%|█████▋    | 574/1000 [01:03<00:47,  9.06it/s]"
     ]
    },
    {
     "name": "stdout",
     "output_type": "stream",
     "text": [
      "Iteration: 573. \n",
      "Test - Loss: 0.3289332985877991. Accuracy: 431.84183142559834\n",
      "Train -  Loss: 0.32762610912323. Accuracy: 432.2427474957721\n",
      "\n",
      "Iteration: 574. \n",
      "Test - Loss: 0.32887908816337585. Accuracy: 431.84183142559834\n",
      "Train -  Loss: 0.32757076621055603. Accuracy: 432.2427474957721\n",
      "\n"
     ]
    },
    {
     "name": "stderr",
     "output_type": "stream",
     "text": [
      "Training Epochs:  58%|█████▊    | 576/1000 [01:03<00:46,  9.04it/s]"
     ]
    },
    {
     "name": "stdout",
     "output_type": "stream",
     "text": [
      "Iteration: 575. \n",
      "Test - Loss: 0.32882487773895264. Accuracy: 431.84183142559834\n",
      "Train -  Loss: 0.32751548290252686. Accuracy: 432.26876544815923\n",
      "\n",
      "Iteration: 576. \n",
      "Test - Loss: 0.3287707269191742. Accuracy: 431.84183142559834\n",
      "Train -  Loss: 0.32746022939682007. Accuracy: 432.2817744243528\n",
      "\n"
     ]
    },
    {
     "name": "stderr",
     "output_type": "stream",
     "text": [
      "Training Epochs:  58%|█████▊    | 578/1000 [01:03<00:46,  9.05it/s]"
     ]
    },
    {
     "name": "stdout",
     "output_type": "stream",
     "text": [
      "Iteration: 577. \n",
      "Test - Loss: 0.3287166655063629. Accuracy: 431.8678459937565\n",
      "Train -  Loss: 0.32740503549575806. Accuracy: 432.3012878886432\n",
      "\n",
      "Iteration: 578. \n",
      "Test - Loss: 0.32866260409355164. Accuracy: 431.84183142559834\n",
      "Train -  Loss: 0.32734987139701843. Accuracy: 432.32080135293353\n",
      "\n"
     ]
    },
    {
     "name": "stderr",
     "output_type": "stream",
     "text": [
      "Training Epochs:  58%|█████▊    | 580/1000 [01:03<00:45,  9.17it/s]"
     ]
    },
    {
     "name": "stdout",
     "output_type": "stream",
     "text": [
      "Iteration: 579. \n",
      "Test - Loss: 0.32860854268074036. Accuracy: 431.8678459937565\n",
      "Train -  Loss: 0.3272947072982788. Accuracy: 432.32080135293353\n",
      "\n",
      "Iteration: 580. \n",
      "Test - Loss: 0.32855451107025146. Accuracy: 431.8678459937565\n",
      "Train -  Loss: 0.32723963260650635. Accuracy: 432.3533237934175\n",
      "\n"
     ]
    },
    {
     "name": "stderr",
     "output_type": "stream",
     "text": [
      "Training Epochs:  58%|█████▊    | 582/1000 [01:04<00:46,  9.05it/s]"
     ]
    },
    {
     "name": "stdout",
     "output_type": "stream",
     "text": [
      "Iteration: 581. \n",
      "Test - Loss: 0.32850056886672974. Accuracy: 431.8678459937565\n",
      "Train -  Loss: 0.32718461751937866. Accuracy: 432.37283725770783\n",
      "\n",
      "Iteration: 582. \n",
      "Test - Loss: 0.3284466862678528. Accuracy: 431.8678459937565\n",
      "Train -  Loss: 0.327129602432251. Accuracy: 432.3793417458046\n",
      "\n"
     ]
    },
    {
     "name": "stderr",
     "output_type": "stream",
     "text": [
      "Training Epochs:  58%|█████▊    | 584/1000 [01:04<00:45,  9.12it/s]"
     ]
    },
    {
     "name": "stdout",
     "output_type": "stream",
     "text": [
      "Iteration: 583. \n",
      "Test - Loss: 0.32839280366897583. Accuracy: 431.89386056191466\n",
      "Train -  Loss: 0.32707464694976807. Accuracy: 432.3858462339014\n",
      "\n",
      "Iteration: 584. \n",
      "Test - Loss: 0.32833895087242126. Accuracy: 431.89386056191466\n",
      "Train -  Loss: 0.32701969146728516. Accuracy: 432.3858462339014\n",
      "\n"
     ]
    },
    {
     "name": "stderr",
     "output_type": "stream",
     "text": [
      "Training Epochs:  59%|█████▊    | 586/1000 [01:04<00:45,  9.10it/s]"
     ]
    },
    {
     "name": "stdout",
     "output_type": "stream",
     "text": [
      "Iteration: 585. \n",
      "Test - Loss: 0.32828518748283386. Accuracy: 431.89386056191466\n",
      "Train -  Loss: 0.326964795589447. Accuracy: 432.3858462339014\n",
      "\n",
      "Iteration: 586. \n",
      "Test - Loss: 0.3282313942909241. Accuracy: 431.91987513007285\n",
      "Train -  Loss: 0.32690995931625366. Accuracy: 432.41186418628854\n",
      "\n"
     ]
    },
    {
     "name": "stderr",
     "output_type": "stream",
     "text": [
      "Training Epochs:  59%|█████▉    | 588/1000 [01:04<00:45,  9.09it/s]"
     ]
    },
    {
     "name": "stdout",
     "output_type": "stream",
     "text": [
      "Iteration: 587. \n",
      "Test - Loss: 0.32817772030830383. Accuracy: 431.945889698231\n",
      "Train -  Loss: 0.3268551528453827. Accuracy: 432.4183686743853\n",
      "\n",
      "Iteration: 588. \n",
      "Test - Loss: 0.3281240463256836. Accuracy: 431.945889698231\n",
      "Train -  Loss: 0.3268003761768341. Accuracy: 432.4053596981918\n",
      "\n"
     ]
    },
    {
     "name": "stderr",
     "output_type": "stream",
     "text": [
      "Training Epochs:  59%|█████▉    | 590/1000 [01:05<00:45,  8.95it/s]"
     ]
    },
    {
     "name": "stdout",
     "output_type": "stream",
     "text": [
      "Iteration: 589. \n",
      "Test - Loss: 0.32807040214538574. Accuracy: 431.9719042663892\n",
      "Train -  Loss: 0.3267456591129303. Accuracy: 432.41186418628854\n",
      "\n",
      "Iteration: 590. \n",
      "Test - Loss: 0.3280167877674103. Accuracy: 431.99791883454736\n",
      "Train -  Loss: 0.3266909718513489. Accuracy: 432.4183686743853\n",
      "\n"
     ]
    },
    {
     "name": "stderr",
     "output_type": "stream",
     "text": [
      "Training Epochs:  59%|█████▉    | 592/1000 [01:05<00:45,  9.05it/s]"
     ]
    },
    {
     "name": "stdout",
     "output_type": "stream",
     "text": [
      "Iteration: 591. \n",
      "Test - Loss: 0.3279632329940796. Accuracy: 431.99791883454736\n",
      "Train -  Loss: 0.32663628458976746. Accuracy: 432.4313776505789\n",
      "\n",
      "Iteration: 592. \n",
      "Test - Loss: 0.3279097080230713. Accuracy: 432.0239334027055\n",
      "Train -  Loss: 0.3265816569328308. Accuracy: 432.45089111486925\n",
      "\n"
     ]
    },
    {
     "name": "stderr",
     "output_type": "stream",
     "text": [
      "Training Epochs:  59%|█████▉    | 594/1000 [01:05<00:44,  9.03it/s]"
     ]
    },
    {
     "name": "stdout",
     "output_type": "stream",
     "text": [
      "Iteration: 593. \n",
      "Test - Loss: 0.32785624265670776. Accuracy: 432.0239334027055\n",
      "Train -  Loss: 0.32652708888053894. Accuracy: 432.46390009106284\n",
      "\n",
      "Iteration: 594. \n",
      "Test - Loss: 0.32780277729034424. Accuracy: 432.0759625390219\n",
      "Train -  Loss: 0.32647255063056946. Accuracy: 432.4704045791596\n",
      "\n"
     ]
    },
    {
     "name": "stderr",
     "output_type": "stream",
     "text": [
      "Training Epochs:  60%|█████▉    | 596/1000 [01:05<00:44,  9.07it/s]"
     ]
    },
    {
     "name": "stdout",
     "output_type": "stream",
     "text": [
      "Iteration: 595. \n",
      "Test - Loss: 0.3277493715286255. Accuracy: 432.1279916753382\n",
      "Train -  Loss: 0.32641807198524475. Accuracy: 432.4834135553532\n",
      "\n",
      "Iteration: 596. \n",
      "Test - Loss: 0.3276960253715515. Accuracy: 432.1279916753382\n",
      "Train -  Loss: 0.32636362314224243. Accuracy: 432.5094315077403\n",
      "\n"
     ]
    },
    {
     "name": "stderr",
     "output_type": "stream",
     "text": [
      "Training Epochs:  60%|█████▉    | 598/1000 [01:05<00:44,  9.02it/s]"
     ]
    },
    {
     "name": "stdout",
     "output_type": "stream",
     "text": [
      "Iteration: 597. \n",
      "Test - Loss: 0.32764264941215515. Accuracy: 432.1540062434964\n",
      "Train -  Loss: 0.3263092041015625. Accuracy: 432.52894497203073\n",
      "\n",
      "Iteration: 598. \n",
      "Test - Loss: 0.32758936285972595. Accuracy: 432.1540062434964\n",
      "Train -  Loss: 0.32625481486320496. Accuracy: 432.54195394822426\n",
      "\n"
     ]
    },
    {
     "name": "stderr",
     "output_type": "stream",
     "text": [
      "Training Epochs:  60%|██████    | 600/1000 [01:06<00:44,  8.96it/s]"
     ]
    },
    {
     "name": "stdout",
     "output_type": "stream",
     "text": [
      "Iteration: 599. \n",
      "Test - Loss: 0.32753610610961914. Accuracy: 432.1540062434964\n",
      "Train -  Loss: 0.3262004554271698. Accuracy: 432.56797190061144\n",
      "\n",
      "Iteration: 600. \n",
      "Test - Loss: 0.3274829089641571. Accuracy: 432.1540062434964\n",
      "Train -  Loss: 0.3261461853981018. Accuracy: 432.5744763887082\n",
      "\n"
     ]
    },
    {
     "name": "stderr",
     "output_type": "stream",
     "text": [
      "Training Epochs:  60%|██████    | 602/1000 [01:06<00:44,  9.03it/s]"
     ]
    },
    {
     "name": "stdout",
     "output_type": "stream",
     "text": [
      "Iteration: 601. \n",
      "Test - Loss: 0.32742977142333984. Accuracy: 432.1800208116545\n",
      "Train -  Loss: 0.3260918855667114. Accuracy: 432.580980876805\n",
      "\n",
      "Iteration: 602. \n",
      "Test - Loss: 0.3273766338825226. Accuracy: 432.2060353798127\n",
      "Train -  Loss: 0.3260376751422882. Accuracy: 432.5874853649018\n",
      "\n"
     ]
    },
    {
     "name": "stderr",
     "output_type": "stream",
     "text": [
      "Training Epochs:  60%|██████    | 604/1000 [01:06<00:44,  8.83it/s]"
     ]
    },
    {
     "name": "stdout",
     "output_type": "stream",
     "text": [
      "Iteration: 603. \n",
      "Test - Loss: 0.3273235261440277. Accuracy: 432.2840790842872\n",
      "Train -  Loss: 0.325983464717865. Accuracy: 432.60699882919215\n",
      "\n",
      "Iteration: 604. \n",
      "Test - Loss: 0.3272704780101776. Accuracy: 432.31009365244535\n",
      "Train -  Loss: 0.32592934370040894. Accuracy: 432.6330167815793\n",
      "\n"
     ]
    },
    {
     "name": "stderr",
     "output_type": "stream",
     "text": [
      "Training Epochs:  61%|██████    | 606/1000 [01:06<00:43,  9.03it/s]"
     ]
    },
    {
     "name": "stdout",
     "output_type": "stream",
     "text": [
      "Iteration: 605. \n",
      "Test - Loss: 0.3272174894809723. Accuracy: 432.31009365244535\n",
      "Train -  Loss: 0.3258751928806305. Accuracy: 432.64602575777286\n",
      "\n",
      "Iteration: 606. \n",
      "Test - Loss: 0.32716450095176697. Accuracy: 432.33610822060353\n",
      "Train -  Loss: 0.3258211314678192. Accuracy: 432.67204371016\n",
      "\n"
     ]
    },
    {
     "name": "stderr",
     "output_type": "stream",
     "text": [
      "Training Epochs:  61%|██████    | 608/1000 [01:07<00:43,  9.03it/s]"
     ]
    },
    {
     "name": "stdout",
     "output_type": "stream",
     "text": [
      "Iteration: 607. \n",
      "Test - Loss: 0.32711151242256165. Accuracy: 432.38813735691986\n",
      "Train -  Loss: 0.32576707005500793. Accuracy: 432.7045661506439\n",
      "\n",
      "Iteration: 608. \n",
      "Test - Loss: 0.3270586431026459. Accuracy: 432.3621227887617\n",
      "Train -  Loss: 0.3257130980491638. Accuracy: 432.7240796149343\n",
      "\n"
     ]
    },
    {
     "name": "stderr",
     "output_type": "stream",
     "text": [
      "Training Epochs:  61%|██████    | 610/1000 [01:07<00:43,  9.02it/s]"
     ]
    },
    {
     "name": "stdout",
     "output_type": "stream",
     "text": [
      "Iteration: 609. \n",
      "Test - Loss: 0.3270058035850525. Accuracy: 432.3621227887617\n",
      "Train -  Loss: 0.3256591558456421. Accuracy: 432.7240796149343\n",
      "\n",
      "Iteration: 610. \n",
      "Test - Loss: 0.3269529640674591. Accuracy: 432.41415192507804\n",
      "Train -  Loss: 0.32560524344444275. Accuracy: 432.74359307922464\n",
      "\n"
     ]
    },
    {
     "name": "stderr",
     "output_type": "stream",
     "text": [
      "Training Epochs:  61%|██████    | 612/1000 [01:07<00:42,  9.09it/s]"
     ]
    },
    {
     "name": "stdout",
     "output_type": "stream",
     "text": [
      "Iteration: 611. \n",
      "Test - Loss: 0.3269001841545105. Accuracy: 432.44016649323623\n",
      "Train -  Loss: 0.325551301240921. Accuracy: 432.74359307922464\n",
      "\n",
      "Iteration: 612. \n",
      "Test - Loss: 0.3268474042415619. Accuracy: 432.46618106139437\n",
      "Train -  Loss: 0.32549750804901123. Accuracy: 432.7566020554182\n",
      "\n"
     ]
    },
    {
     "name": "stderr",
     "output_type": "stream",
     "text": [
      "Training Epochs:  61%|██████▏   | 614/1000 [01:07<00:42,  9.13it/s]"
     ]
    },
    {
     "name": "stdout",
     "output_type": "stream",
     "text": [
      "Iteration: 613. \n",
      "Test - Loss: 0.32679468393325806. Accuracy: 432.49219562955255\n",
      "Train -  Loss: 0.32544368505477905. Accuracy: 432.75009756732146\n",
      "\n",
      "Iteration: 614. \n",
      "Test - Loss: 0.326742023229599. Accuracy: 432.49219562955255\n",
      "Train -  Loss: 0.32538992166519165. Accuracy: 432.76310654351505\n",
      "\n"
     ]
    },
    {
     "name": "stderr",
     "output_type": "stream",
     "text": [
      "Training Epochs:  62%|██████▏   | 616/1000 [01:07<00:41,  9.19it/s]"
     ]
    },
    {
     "name": "stdout",
     "output_type": "stream",
     "text": [
      "Iteration: 615. \n",
      "Test - Loss: 0.32668939232826233. Accuracy: 432.49219562955255\n",
      "Train -  Loss: 0.32533618807792664. Accuracy: 432.7761155197086\n",
      "\n",
      "Iteration: 616. \n",
      "Test - Loss: 0.32663679122924805. Accuracy: 432.49219562955255\n",
      "Train -  Loss: 0.325282484292984. Accuracy: 432.7891244959022\n",
      "\n"
     ]
    },
    {
     "name": "stderr",
     "output_type": "stream",
     "text": [
      "Training Epochs:  62%|██████▏   | 618/1000 [01:08<00:41,  9.14it/s]"
     ]
    },
    {
     "name": "stdout",
     "output_type": "stream",
     "text": [
      "Iteration: 617. \n",
      "Test - Loss: 0.32658421993255615. Accuracy: 432.49219562955255\n",
      "Train -  Loss: 0.32522884011268616. Accuracy: 432.79562898399894\n",
      "\n",
      "Iteration: 618. \n",
      "Test - Loss: 0.32653170824050903. Accuracy: 432.49219562955255\n",
      "Train -  Loss: 0.3251752555370331. Accuracy: 432.8151424482893\n",
      "\n"
     ]
    },
    {
     "name": "stderr",
     "output_type": "stream",
     "text": [
      "Training Epochs:  62%|██████▏   | 620/1000 [01:08<00:41,  9.15it/s]"
     ]
    },
    {
     "name": "stdout",
     "output_type": "stream",
     "text": [
      "Iteration: 619. \n",
      "Test - Loss: 0.3264791965484619. Accuracy: 432.49219562955255\n",
      "Train -  Loss: 0.32512167096138. Accuracy: 432.8151424482893\n",
      "\n",
      "Iteration: 620. \n",
      "Test - Loss: 0.32642677426338196. Accuracy: 432.46618106139437\n",
      "Train -  Loss: 0.3250681161880493. Accuracy: 432.8281514244829\n",
      "\n"
     ]
    },
    {
     "name": "stderr",
     "output_type": "stream",
     "text": [
      "Training Epochs:  62%|██████▏   | 622/1000 [01:08<00:41,  9.15it/s]"
     ]
    },
    {
     "name": "stdout",
     "output_type": "stream",
     "text": [
      "Iteration: 621. \n",
      "Test - Loss: 0.326374351978302. Accuracy: 432.46618106139437\n",
      "Train -  Loss: 0.3250146508216858. Accuracy: 432.8216469363861\n",
      "\n",
      "Iteration: 622. \n",
      "Test - Loss: 0.32632195949554443. Accuracy: 432.46618106139437\n",
      "Train -  Loss: 0.3249611258506775. Accuracy: 432.8281514244829\n",
      "\n"
     ]
    },
    {
     "name": "stderr",
     "output_type": "stream",
     "text": [
      "Training Epochs:  62%|██████▏   | 624/1000 [01:08<00:41,  9.09it/s]"
     ]
    },
    {
     "name": "stdout",
     "output_type": "stream",
     "text": [
      "Iteration: 623. \n",
      "Test - Loss: 0.32626962661743164. Accuracy: 432.46618106139437\n",
      "Train -  Loss: 0.32490772008895874. Accuracy: 432.84766488877324\n",
      "\n",
      "Iteration: 624. \n",
      "Test - Loss: 0.3262173533439636. Accuracy: 432.44016649323623\n",
      "Train -  Loss: 0.3248543441295624. Accuracy: 432.8606738649668\n",
      "\n"
     ]
    },
    {
     "name": "stderr",
     "output_type": "stream",
     "text": [
      "Training Epochs:  63%|██████▎   | 626/1000 [01:08<00:41,  9.06it/s]"
     ]
    },
    {
     "name": "stdout",
     "output_type": "stream",
     "text": [
      "Iteration: 625. \n",
      "Test - Loss: 0.3261650800704956. Accuracy: 432.46618106139437\n",
      "Train -  Loss: 0.3248009979724884. Accuracy: 432.8671783530636\n",
      "\n",
      "Iteration: 626. \n",
      "Test - Loss: 0.32611283659935. Accuracy: 432.46618106139437\n",
      "Train -  Loss: 0.3247476816177368. Accuracy: 432.8931963054508\n",
      "\n"
     ]
    },
    {
     "name": "stderr",
     "output_type": "stream",
     "text": [
      "Training Epochs:  63%|██████▎   | 628/1000 [01:09<00:40,  9.08it/s]"
     ]
    },
    {
     "name": "stdout",
     "output_type": "stream",
     "text": [
      "Iteration: 627. \n",
      "Test - Loss: 0.3260606527328491. Accuracy: 432.46618106139437\n",
      "Train -  Loss: 0.3246943950653076. Accuracy: 432.90620528164436\n",
      "\n",
      "Iteration: 628. \n",
      "Test - Loss: 0.32600852847099304. Accuracy: 432.46618106139437\n",
      "Train -  Loss: 0.3246411383152008. Accuracy: 432.9257187459347\n",
      "\n"
     ]
    },
    {
     "name": "stderr",
     "output_type": "stream",
     "text": [
      "Training Epochs:  63%|██████▎   | 630/1000 [01:09<00:40,  9.08it/s]"
     ]
    },
    {
     "name": "stdout",
     "output_type": "stream",
     "text": [
      "Iteration: 629. \n",
      "Test - Loss: 0.32595640420913696. Accuracy: 432.46618106139437\n",
      "Train -  Loss: 0.32458797097206116. Accuracy: 432.9322232340315\n",
      "\n",
      "Iteration: 630. \n",
      "Test - Loss: 0.32590436935424805. Accuracy: 432.49219562955255\n",
      "Train -  Loss: 0.3245347738265991. Accuracy: 432.9257187459347\n",
      "\n"
     ]
    },
    {
     "name": "stderr",
     "output_type": "stream",
     "text": [
      "Training Epochs:  63%|██████▎   | 632/1000 [01:09<00:40,  9.14it/s]"
     ]
    },
    {
     "name": "stdout",
     "output_type": "stream",
     "text": [
      "Iteration: 631. \n",
      "Test - Loss: 0.32585227489471436. Accuracy: 432.49219562955255\n",
      "Train -  Loss: 0.32448169589042664. Accuracy: 432.93872772212825\n",
      "\n",
      "Iteration: 632. \n",
      "Test - Loss: 0.3258002996444702. Accuracy: 432.49219562955255\n",
      "Train -  Loss: 0.32442861795425415. Accuracy: 432.9452322102251\n",
      "\n"
     ]
    },
    {
     "name": "stderr",
     "output_type": "stream",
     "text": [
      "Training Epochs:  63%|██████▎   | 634/1000 [01:09<00:39,  9.19it/s]"
     ]
    },
    {
     "name": "stdout",
     "output_type": "stream",
     "text": [
      "Iteration: 633. \n",
      "Test - Loss: 0.3257483243942261. Accuracy: 432.5442247658689\n",
      "Train -  Loss: 0.32437554001808167. Accuracy: 432.99076362690255\n",
      "\n",
      "Iteration: 634. \n",
      "Test - Loss: 0.3256963789463043. Accuracy: 432.5442247658689\n",
      "Train -  Loss: 0.32432252168655396. Accuracy: 433.05580850787044\n",
      "\n"
     ]
    },
    {
     "name": "stderr",
     "output_type": "stream",
     "text": [
      "Training Epochs:  64%|██████▎   | 636/1000 [01:10<00:39,  9.17it/s]"
     ]
    },
    {
     "name": "stdout",
     "output_type": "stream",
     "text": [
      "Iteration: 635. \n",
      "Test - Loss: 0.32564449310302734. Accuracy: 432.57023933402706\n",
      "Train -  Loss: 0.324269562959671. Accuracy: 433.05580850787044\n",
      "\n",
      "Iteration: 636. \n",
      "Test - Loss: 0.32559263706207275. Accuracy: 432.5962539021852\n",
      "Train -  Loss: 0.3242165744304657. Accuracy: 433.0493040197737\n",
      "\n"
     ]
    },
    {
     "name": "stderr",
     "output_type": "stream",
     "text": [
      "Training Epochs:  64%|██████▍   | 638/1000 [01:10<00:39,  9.16it/s]"
     ]
    },
    {
     "name": "stdout",
     "output_type": "stream",
     "text": [
      "Iteration: 637. \n",
      "Test - Loss: 0.32554078102111816. Accuracy: 432.5962539021852\n",
      "Train -  Loss: 0.32416367530822754. Accuracy: 433.068817484064\n",
      "\n",
      "Iteration: 638. \n",
      "Test - Loss: 0.32548898458480835. Accuracy: 432.5962539021852\n",
      "Train -  Loss: 0.32411083579063416. Accuracy: 433.0753219721608\n",
      "\n"
     ]
    },
    {
     "name": "stderr",
     "output_type": "stream",
     "text": [
      "Training Epochs:  64%|██████▍   | 640/1000 [01:10<00:39,  9.14it/s]"
     ]
    },
    {
     "name": "stdout",
     "output_type": "stream",
     "text": [
      "Iteration: 639. \n",
      "Test - Loss: 0.3254372775554657. Accuracy: 432.5962539021852\n",
      "Train -  Loss: 0.32405799627304077. Accuracy: 433.08182646025756\n",
      "\n",
      "Iteration: 640. \n",
      "Test - Loss: 0.32538557052612305. Accuracy: 432.57023933402706\n",
      "Train -  Loss: 0.32400521636009216. Accuracy: 433.0753219721608\n",
      "\n"
     ]
    },
    {
     "name": "stderr",
     "output_type": "stream",
     "text": [
      "Training Epochs:  64%|██████▍   | 642/1000 [01:10<00:39,  9.10it/s]"
     ]
    },
    {
     "name": "stdout",
     "output_type": "stream",
     "text": [
      "Iteration: 641. \n",
      "Test - Loss: 0.3253338634967804. Accuracy: 432.57023933402706\n",
      "Train -  Loss: 0.32395243644714355. Accuracy: 433.0883309483544\n",
      "\n",
      "Iteration: 642. \n",
      "Test - Loss: 0.3252822458744049. Accuracy: 432.5962539021852\n",
      "Train -  Loss: 0.3238997459411621. Accuracy: 433.10784441264474\n",
      "\n"
     ]
    },
    {
     "name": "stderr",
     "output_type": "stream",
     "text": [
      "Training Epochs:  64%|██████▍   | 644/1000 [01:10<00:39,  9.12it/s]"
     ]
    },
    {
     "name": "stdout",
     "output_type": "stream",
     "text": [
      "Iteration: 643. \n",
      "Test - Loss: 0.3252306580543518. Accuracy: 432.5962539021852\n",
      "Train -  Loss: 0.3238470256328583. Accuracy: 433.13386236503186\n",
      "\n",
      "Iteration: 644. \n",
      "Test - Loss: 0.3251791000366211. Accuracy: 432.6222684703434\n",
      "Train -  Loss: 0.3237943947315216. Accuracy: 433.13386236503186\n",
      "\n"
     ]
    },
    {
     "name": "stderr",
     "output_type": "stream",
     "text": [
      "Training Epochs:  65%|██████▍   | 646/1000 [01:11<00:39,  9.02it/s]"
     ]
    },
    {
     "name": "stdout",
     "output_type": "stream",
     "text": [
      "Iteration: 645. \n",
      "Test - Loss: 0.3251275420188904. Accuracy: 432.6742976066597\n",
      "Train -  Loss: 0.32374176383018494. Accuracy: 433.1533758293222\n",
      "\n",
      "Iteration: 646. \n",
      "Test - Loss: 0.32507607340812683. Accuracy: 432.6742976066597\n",
      "Train -  Loss: 0.32368919253349304. Accuracy: 433.14687134122545\n",
      "\n"
     ]
    },
    {
     "name": "stderr",
     "output_type": "stream",
     "text": [
      "Training Epochs:  65%|██████▍   | 648/1000 [01:11<00:39,  9.00it/s]"
     ]
    },
    {
     "name": "stdout",
     "output_type": "stream",
     "text": [
      "Iteration: 647. \n",
      "Test - Loss: 0.3250246047973633. Accuracy: 432.7003121748179\n",
      "Train -  Loss: 0.32363665103912354. Accuracy: 433.1663848055158\n",
      "\n",
      "Iteration: 648. \n",
      "Test - Loss: 0.3249731659889221. Accuracy: 432.7003121748179\n",
      "Train -  Loss: 0.3235841393470764. Accuracy: 433.1793937817094\n",
      "\n"
     ]
    },
    {
     "name": "stderr",
     "output_type": "stream",
     "text": [
      "Training Epochs:  65%|██████▌   | 650/1000 [01:11<00:38,  9.05it/s]"
     ]
    },
    {
     "name": "stdout",
     "output_type": "stream",
     "text": [
      "Iteration: 649. \n",
      "Test - Loss: 0.32492178678512573. Accuracy: 432.7003121748179\n",
      "Train -  Loss: 0.3235316574573517. Accuracy: 433.1793937817094\n",
      "\n",
      "Iteration: 650. \n",
      "Test - Loss: 0.32487040758132935. Accuracy: 432.7263267429761\n",
      "Train -  Loss: 0.3234792947769165. Accuracy: 433.1793937817094\n",
      "\n"
     ]
    },
    {
     "name": "stderr",
     "output_type": "stream",
     "text": [
      "Training Epochs:  65%|██████▌   | 652/1000 [01:11<00:38,  9.06it/s]"
     ]
    },
    {
     "name": "stdout",
     "output_type": "stream",
     "text": [
      "Iteration: 651. \n",
      "Test - Loss: 0.32481908798217773. Accuracy: 432.7263267429761\n",
      "Train -  Loss: 0.32342687249183655. Accuracy: 433.18589826980616\n",
      "\n",
      "Iteration: 652. \n",
      "Test - Loss: 0.3247678279876709. Accuracy: 432.7523413111342\n",
      "Train -  Loss: 0.32337450981140137. Accuracy: 433.17288929361257\n",
      "\n"
     ]
    },
    {
     "name": "stderr",
     "output_type": "stream",
     "text": [
      "Training Epochs:  65%|██████▌   | 654/1000 [01:12<00:38,  9.07it/s]"
     ]
    },
    {
     "name": "stdout",
     "output_type": "stream",
     "text": [
      "Iteration: 653. \n",
      "Test - Loss: 0.32471659779548645. Accuracy: 432.7783558792924\n",
      "Train -  Loss: 0.3233221769332886. Accuracy: 433.1924027579029\n",
      "\n",
      "Iteration: 654. \n",
      "Test - Loss: 0.324665367603302. Accuracy: 432.7783558792924\n",
      "Train -  Loss: 0.32326990365982056. Accuracy: 433.1924027579029\n",
      "\n"
     ]
    },
    {
     "name": "stderr",
     "output_type": "stream",
     "text": [
      "Training Epochs:  66%|██████▌   | 656/1000 [01:12<00:37,  9.14it/s]"
     ]
    },
    {
     "name": "stdout",
     "output_type": "stream",
     "text": [
      "Iteration: 655. \n",
      "Test - Loss: 0.3246142268180847. Accuracy: 432.7783558792924\n",
      "Train -  Loss: 0.3232176601886749. Accuracy: 433.19890724599975\n",
      "\n",
      "Iteration: 656. \n",
      "Test - Loss: 0.32456308603286743. Accuracy: 432.8043704474506\n",
      "Train -  Loss: 0.3231654465198517. Accuracy: 433.2184207102901\n",
      "\n"
     ]
    },
    {
     "name": "stderr",
     "output_type": "stream",
     "text": [
      "Training Epochs:  66%|██████▌   | 658/1000 [01:12<00:37,  9.09it/s]"
     ]
    },
    {
     "name": "stdout",
     "output_type": "stream",
     "text": [
      "Iteration: 657. \n",
      "Test - Loss: 0.32451197504997253. Accuracy: 432.8043704474506\n",
      "Train -  Loss: 0.32311326265335083. Accuracy: 433.2314296864837\n",
      "\n",
      "Iteration: 658. \n",
      "Test - Loss: 0.3244609236717224. Accuracy: 432.8303850156087\n",
      "Train -  Loss: 0.32306110858917236. Accuracy: 433.2444386626772\n",
      "\n"
     ]
    },
    {
     "name": "stderr",
     "output_type": "stream",
     "text": [
      "Training Epochs:  66%|██████▌   | 660/1000 [01:12<00:37,  9.07it/s]"
     ]
    },
    {
     "name": "stdout",
     "output_type": "stream",
     "text": [
      "Iteration: 659. \n",
      "Test - Loss: 0.3244099020957947. Accuracy: 432.8303850156087\n",
      "Train -  Loss: 0.32300901412963867. Accuracy: 433.25094315077405\n",
      "\n",
      "Iteration: 660. \n",
      "Test - Loss: 0.32435891032218933. Accuracy: 432.8303850156087\n",
      "Train -  Loss: 0.32295697927474976. Accuracy: 433.2639521269676\n",
      "\n"
     ]
    },
    {
     "name": "stderr",
     "output_type": "stream",
     "text": [
      "Training Epochs:  66%|██████▌   | 662/1000 [01:12<00:36,  9.14it/s]"
     ]
    },
    {
     "name": "stdout",
     "output_type": "stream",
     "text": [
      "Iteration: 661. \n",
      "Test - Loss: 0.32430794835090637. Accuracy: 432.8303850156087\n",
      "Train -  Loss: 0.32290491461753845. Accuracy: 433.28997007935476\n",
      "\n",
      "Iteration: 662. \n",
      "Test - Loss: 0.3242570459842682. Accuracy: 432.8303850156087\n",
      "Train -  Loss: 0.3228529095649719. Accuracy: 433.2964745674515\n",
      "\n"
     ]
    },
    {
     "name": "stderr",
     "output_type": "stream",
     "text": [
      "Training Epochs:  66%|██████▋   | 664/1000 [01:13<00:36,  9.15it/s]"
     ]
    },
    {
     "name": "stdout",
     "output_type": "stream",
     "text": [
      "Iteration: 663. \n",
      "Test - Loss: 0.3242061138153076. Accuracy: 432.8563995837669\n",
      "Train -  Loss: 0.3228009343147278. Accuracy: 433.30297905554835\n",
      "\n",
      "Iteration: 664. \n",
      "Test - Loss: 0.3241553008556366. Accuracy: 432.8563995837669\n",
      "Train -  Loss: 0.3227490186691284. Accuracy: 433.30297905554835\n",
      "\n"
     ]
    },
    {
     "name": "stderr",
     "output_type": "stream",
     "text": [
      "Training Epochs:  67%|██████▋   | 666/1000 [01:13<00:36,  9.21it/s]"
     ]
    },
    {
     "name": "stdout",
     "output_type": "stream",
     "text": [
      "Iteration: 665. \n",
      "Test - Loss: 0.3241044580936432. Accuracy: 432.8824141519251\n",
      "Train -  Loss: 0.32269710302352905. Accuracy: 433.32899700793547\n",
      "\n",
      "Iteration: 666. \n",
      "Test - Loss: 0.32405367493629456. Accuracy: 432.8824141519251\n",
      "Train -  Loss: 0.32264527678489685. Accuracy: 433.33550149603224\n",
      "\n"
     ]
    },
    {
     "name": "stderr",
     "output_type": "stream",
     "text": [
      "Training Epochs:  67%|██████▋   | 668/1000 [01:13<00:36,  9.19it/s]"
     ]
    },
    {
     "name": "stdout",
     "output_type": "stream",
     "text": [
      "Iteration: 667. \n",
      "Test - Loss: 0.3240029215812683. Accuracy: 432.8824141519251\n",
      "Train -  Loss: 0.32259345054626465. Accuracy: 433.33550149603224\n",
      "\n",
      "Iteration: 668. \n",
      "Test - Loss: 0.32395222783088684. Accuracy: 432.90842872008324\n",
      "Train -  Loss: 0.32254165410995483. Accuracy: 433.3485104722258\n",
      "\n"
     ]
    },
    {
     "name": "stderr",
     "output_type": "stream",
     "text": [
      "Training Epochs:  67%|██████▋   | 670/1000 [01:13<00:36,  9.06it/s]"
     ]
    },
    {
     "name": "stdout",
     "output_type": "stream",
     "text": [
      "Iteration: 669. \n",
      "Test - Loss: 0.32390153408050537. Accuracy: 432.90842872008324\n",
      "Train -  Loss: 0.3224899470806122. Accuracy: 433.3615194484194\n",
      "\n",
      "Iteration: 670. \n",
      "Test - Loss: 0.3238508999347687. Accuracy: 432.9344432882414\n",
      "Train -  Loss: 0.32243821024894714. Accuracy: 433.39404188890336\n",
      "\n"
     ]
    },
    {
     "name": "stderr",
     "output_type": "stream",
     "text": [
      "Training Epochs:  67%|██████▋   | 672/1000 [01:14<00:35,  9.13it/s]"
     ]
    },
    {
     "name": "stdout",
     "output_type": "stream",
     "text": [
      "Iteration: 671. \n",
      "Test - Loss: 0.32380029559135437. Accuracy: 432.9344432882414\n",
      "Train -  Loss: 0.3223865330219269. Accuracy: 433.4005463770001\n",
      "\n",
      "Iteration: 672. \n",
      "Test - Loss: 0.32374972105026245. Accuracy: 432.90842872008324\n",
      "Train -  Loss: 0.322334885597229. Accuracy: 433.4200598412905\n",
      "\n"
     ]
    },
    {
     "name": "stderr",
     "output_type": "stream",
     "text": [
      "Training Epochs:  67%|██████▋   | 674/1000 [01:14<00:35,  9.15it/s]"
     ]
    },
    {
     "name": "stdout",
     "output_type": "stream",
     "text": [
      "Iteration: 673. \n",
      "Test - Loss: 0.3236991763114929. Accuracy: 432.8824141519251\n",
      "Train -  Loss: 0.3222832679748535. Accuracy: 433.4070508650969\n",
      "\n",
      "Iteration: 674. \n",
      "Test - Loss: 0.32364869117736816. Accuracy: 432.8824141519251\n",
      "Train -  Loss: 0.3222316801548004. Accuracy: 433.4070508650969\n",
      "\n"
     ]
    },
    {
     "name": "stderr",
     "output_type": "stream",
     "text": [
      "Training Epochs:  68%|██████▊   | 676/1000 [01:14<00:35,  9.09it/s]"
     ]
    },
    {
     "name": "stdout",
     "output_type": "stream",
     "text": [
      "Iteration: 675. \n",
      "Test - Loss: 0.3235982060432434. Accuracy: 432.90842872008324\n",
      "Train -  Loss: 0.3221801519393921. Accuracy: 433.4200598412905\n",
      "\n",
      "Iteration: 676. \n",
      "Test - Loss: 0.3235477805137634. Accuracy: 432.90842872008324\n",
      "Train -  Loss: 0.32212862372398376. Accuracy: 433.4265643293873\n",
      "\n"
     ]
    },
    {
     "name": "stderr",
     "output_type": "stream",
     "text": [
      "Training Epochs:  68%|██████▊   | 678/1000 [01:14<00:35,  9.12it/s]"
     ]
    },
    {
     "name": "stdout",
     "output_type": "stream",
     "text": [
      "Iteration: 677. \n",
      "Test - Loss: 0.32349738478660583. Accuracy: 432.90842872008324\n",
      "Train -  Loss: 0.3220771849155426. Accuracy: 433.43306881748407\n",
      "\n",
      "Iteration: 678. \n",
      "Test - Loss: 0.32344701886177063. Accuracy: 432.96045785639956\n",
      "Train -  Loss: 0.32202571630477905. Accuracy: 433.4200598412905\n",
      "\n"
     ]
    },
    {
     "name": "stderr",
     "output_type": "stream",
     "text": [
      "Training Epochs:  68%|██████▊   | 680/1000 [01:14<00:34,  9.19it/s]"
     ]
    },
    {
     "name": "stdout",
     "output_type": "stream",
     "text": [
      "Iteration: 679. \n",
      "Test - Loss: 0.3233966529369354. Accuracy: 433.01248699271594\n",
      "Train -  Loss: 0.32197436690330505. Accuracy: 433.43306881748407\n",
      "\n",
      "Iteration: 680. \n",
      "Test - Loss: 0.32334640622138977. Accuracy: 433.03850156087407\n",
      "Train -  Loss: 0.32192298769950867. Accuracy: 433.44607779367766\n",
      "\n"
     ]
    },
    {
     "name": "stderr",
     "output_type": "stream",
     "text": [
      "Training Epochs:  68%|██████▊   | 682/1000 [01:15<00:34,  9.20it/s]"
     ]
    },
    {
     "name": "stdout",
     "output_type": "stream",
     "text": [
      "Iteration: 681. \n",
      "Test - Loss: 0.32329609990119934. Accuracy: 433.03850156087407\n",
      "Train -  Loss: 0.32187166810035706. Accuracy: 433.465591257968\n",
      "\n",
      "Iteration: 682. \n",
      "Test - Loss: 0.3232458829879761. Accuracy: 433.03850156087407\n",
      "Train -  Loss: 0.32182034850120544. Accuracy: 433.48510472225837\n",
      "\n"
     ]
    },
    {
     "name": "stderr",
     "output_type": "stream",
     "text": [
      "Training Epochs:  68%|██████▊   | 684/1000 [01:15<00:34,  9.12it/s]"
     ]
    },
    {
     "name": "stdout",
     "output_type": "stream",
     "text": [
      "Iteration: 683. \n",
      "Test - Loss: 0.3231956958770752. Accuracy: 433.06451612903226\n",
      "Train -  Loss: 0.321769118309021. Accuracy: 433.465591257968\n",
      "\n",
      "Iteration: 684. \n",
      "Test - Loss: 0.3231455385684967. Accuracy: 433.06451612903226\n",
      "Train -  Loss: 0.32171788811683655. Accuracy: 433.465591257968\n",
      "\n"
     ]
    },
    {
     "name": "stderr",
     "output_type": "stream",
     "text": [
      "Training Epochs:  69%|██████▊   | 686/1000 [01:15<00:34,  9.11it/s]"
     ]
    },
    {
     "name": "stdout",
     "output_type": "stream",
     "text": [
      "Iteration: 685. \n",
      "Test - Loss: 0.3230954110622406. Accuracy: 433.06451612903226\n",
      "Train -  Loss: 0.3216666579246521. Accuracy: 433.4590867698712\n",
      "\n",
      "Iteration: 686. \n",
      "Test - Loss: 0.3230453133583069. Accuracy: 433.06451612903226\n",
      "Train -  Loss: 0.3216155469417572. Accuracy: 433.49160921035514\n",
      "\n"
     ]
    },
    {
     "name": "stderr",
     "output_type": "stream",
     "text": [
      "Training Epochs:  69%|██████▉   | 688/1000 [01:15<00:34,  9.13it/s]"
     ]
    },
    {
     "name": "stdout",
     "output_type": "stream",
     "text": [
      "Iteration: 687. \n",
      "Test - Loss: 0.32299524545669556. Accuracy: 433.06451612903226\n",
      "Train -  Loss: 0.3215644061565399. Accuracy: 433.5176271627423\n",
      "\n",
      "Iteration: 688. \n",
      "Test - Loss: 0.3229452669620514. Accuracy: 433.09053069719045\n",
      "Train -  Loss: 0.321513295173645. Accuracy: 433.5176271627423\n",
      "\n"
     ]
    },
    {
     "name": "stderr",
     "output_type": "stream",
     "text": [
      "Training Epochs:  69%|██████▉   | 690/1000 [01:15<00:33,  9.21it/s]"
     ]
    },
    {
     "name": "stdout",
     "output_type": "stream",
     "text": [
      "Iteration: 689. \n",
      "Test - Loss: 0.32289525866508484. Accuracy: 433.09053069719045\n",
      "Train -  Loss: 0.3214622437953949. Accuracy: 433.5176271627423\n",
      "\n",
      "Iteration: 690. \n",
      "Test - Loss: 0.32284530997276306. Accuracy: 433.09053069719045\n",
      "Train -  Loss: 0.32141122221946716. Accuracy: 433.53063613893585\n",
      "\n"
     ]
    },
    {
     "name": "stderr",
     "output_type": "stream",
     "text": [
      "Training Epochs:  69%|██████▉   | 692/1000 [01:16<00:33,  9.13it/s]"
     ]
    },
    {
     "name": "stdout",
     "output_type": "stream",
     "text": [
      "Iteration: 691. \n",
      "Test - Loss: 0.3227953612804413. Accuracy: 433.09053069719045\n",
      "Train -  Loss: 0.3213602602481842. Accuracy: 433.54364511512944\n",
      "\n",
      "Iteration: 692. \n",
      "Test - Loss: 0.32274550199508667. Accuracy: 433.09053069719045\n",
      "Train -  Loss: 0.32130932807922363. Accuracy: 433.5696630675166\n",
      "\n"
     ]
    },
    {
     "name": "stderr",
     "output_type": "stream",
     "text": [
      "Training Epochs:  69%|██████▉   | 694/1000 [01:16<00:33,  9.11it/s]"
     ]
    },
    {
     "name": "stdout",
     "output_type": "stream",
     "text": [
      "Iteration: 693. \n",
      "Test - Loss: 0.32269561290740967. Accuracy: 433.09053069719045\n",
      "Train -  Loss: 0.3212583661079407. Accuracy: 433.58917653180697\n",
      "\n",
      "Iteration: 694. \n",
      "Test - Loss: 0.3226458430290222. Accuracy: 433.1165452653486\n",
      "Train -  Loss: 0.32120752334594727. Accuracy: 433.59568101990374\n",
      "\n"
     ]
    },
    {
     "name": "stderr",
     "output_type": "stream",
     "text": [
      "Training Epochs:  70%|██████▉   | 696/1000 [01:16<00:33,  9.15it/s]"
     ]
    },
    {
     "name": "stdout",
     "output_type": "stream",
     "text": [
      "Iteration: 695. \n",
      "Test - Loss: 0.32259601354599. Accuracy: 433.1165452653486\n",
      "Train -  Loss: 0.32115668058395386. Accuracy: 433.58917653180697\n",
      "\n",
      "Iteration: 696. \n",
      "Test - Loss: 0.3225462734699249. Accuracy: 433.1165452653486\n",
      "Train -  Loss: 0.32110586762428284. Accuracy: 433.59568101990374\n",
      "\n"
     ]
    },
    {
     "name": "stderr",
     "output_type": "stream",
     "text": [
      "Training Epochs:  70%|██████▉   | 698/1000 [01:16<00:33,  9.03it/s]"
     ]
    },
    {
     "name": "stdout",
     "output_type": "stream",
     "text": [
      "Iteration: 697. \n",
      "Test - Loss: 0.32249656319618225. Accuracy: 433.1165452653486\n",
      "Train -  Loss: 0.3210550546646118. Accuracy: 433.59568101990374\n",
      "\n",
      "Iteration: 698. \n",
      "Test - Loss: 0.32244688272476196. Accuracy: 433.14255983350677\n",
      "Train -  Loss: 0.32100433111190796. Accuracy: 433.6021855080005\n",
      "\n"
     ]
    },
    {
     "name": "stderr",
     "output_type": "stream",
     "text": [
      "Training Epochs:  70%|███████   | 700/1000 [01:17<00:33,  9.05it/s]"
     ]
    },
    {
     "name": "stdout",
     "output_type": "stream",
     "text": [
      "Iteration: 699. \n",
      "Test - Loss: 0.32239723205566406. Accuracy: 433.16857440166496\n",
      "Train -  Loss: 0.3209536075592041. Accuracy: 433.6021855080005\n",
      "\n",
      "Iteration: 700. \n",
      "Test - Loss: 0.32234761118888855. Accuracy: 433.16857440166496\n",
      "Train -  Loss: 0.320902943611145. Accuracy: 433.6086899960973\n",
      "\n"
     ]
    },
    {
     "name": "stderr",
     "output_type": "stream",
     "text": [
      "Training Epochs:  70%|███████   | 702/1000 [01:17<00:33,  8.90it/s]"
     ]
    },
    {
     "name": "stdout",
     "output_type": "stream",
     "text": [
      "Iteration: 701. \n",
      "Test - Loss: 0.3222980499267578. Accuracy: 433.16857440166496\n",
      "Train -  Loss: 0.32085227966308594. Accuracy: 433.6282034603877\n",
      "\n",
      "Iteration: 702. \n",
      "Test - Loss: 0.3222484886646271. Accuracy: 433.14255983350677\n",
      "Train -  Loss: 0.320801705121994. Accuracy: 433.6412124365812\n",
      "\n"
     ]
    },
    {
     "name": "stderr",
     "output_type": "stream",
     "text": [
      "Training Epochs:  70%|███████   | 704/1000 [01:17<00:33,  8.94it/s]"
     ]
    },
    {
     "name": "stdout",
     "output_type": "stream",
     "text": [
      "Iteration: 703. \n",
      "Test - Loss: 0.3221989870071411. Accuracy: 433.14255983350677\n",
      "Train -  Loss: 0.3207511007785797. Accuracy: 433.6542214127748\n",
      "\n",
      "Iteration: 704. \n",
      "Test - Loss: 0.32214948534965515. Accuracy: 433.14255983350677\n",
      "Train -  Loss: 0.32070058584213257. Accuracy: 433.64771692467804\n",
      "\n"
     ]
    },
    {
     "name": "stderr",
     "output_type": "stream",
     "text": [
      "Training Epochs:  71%|███████   | 706/1000 [01:17<00:32,  9.04it/s]"
     ]
    },
    {
     "name": "stdout",
     "output_type": "stream",
     "text": [
      "Iteration: 705. \n",
      "Test - Loss: 0.32210007309913635. Accuracy: 433.16857440166496\n",
      "Train -  Loss: 0.3206500709056854. Accuracy: 433.6607259008716\n",
      "\n",
      "Iteration: 706. \n",
      "Test - Loss: 0.32205063104629517. Accuracy: 433.1945889698231\n",
      "Train -  Loss: 0.32059958577156067. Accuracy: 433.680239365162\n",
      "\n"
     ]
    },
    {
     "name": "stderr",
     "output_type": "stream",
     "text": [
      "Training Epochs:  71%|███████   | 708/1000 [01:17<00:32,  9.03it/s]"
     ]
    },
    {
     "name": "stdout",
     "output_type": "stream",
     "text": [
      "Iteration: 707. \n",
      "Test - Loss: 0.32200121879577637. Accuracy: 433.2206035379813\n",
      "Train -  Loss: 0.3205491602420807. Accuracy: 433.67373487706516\n",
      "\n",
      "Iteration: 708. \n",
      "Test - Loss: 0.32195186614990234. Accuracy: 433.2206035379813\n",
      "Train -  Loss: 0.3204987645149231. Accuracy: 433.69975282945234\n",
      "\n"
     ]
    },
    {
     "name": "stderr",
     "output_type": "stream",
     "text": [
      "Training Epochs:  71%|███████   | 710/1000 [01:18<00:32,  8.97it/s]"
     ]
    },
    {
     "name": "stdout",
     "output_type": "stream",
     "text": [
      "Iteration: 709. \n",
      "Test - Loss: 0.3219026029109955. Accuracy: 433.2206035379813\n",
      "Train -  Loss: 0.3204483985900879. Accuracy: 433.71276180564587\n",
      "\n",
      "Iteration: 710. \n",
      "Test - Loss: 0.32185328006744385. Accuracy: 433.2206035379813\n",
      "Train -  Loss: 0.3203980326652527. Accuracy: 433.72577078183946\n",
      "\n"
     ]
    },
    {
     "name": "stderr",
     "output_type": "stream",
     "text": [
      "Training Epochs:  71%|███████   | 712/1000 [01:18<00:31,  9.03it/s]"
     ]
    },
    {
     "name": "stdout",
     "output_type": "stream",
     "text": [
      "Iteration: 711. \n",
      "Test - Loss: 0.321804016828537. Accuracy: 433.2206035379813\n",
      "Train -  Loss: 0.32034772634506226. Accuracy: 433.7452842461298\n",
      "\n",
      "Iteration: 712. \n",
      "Test - Loss: 0.3217548429965973. Accuracy: 433.2206035379813\n",
      "Train -  Loss: 0.3202974796295166. Accuracy: 433.7452842461298\n",
      "\n"
     ]
    },
    {
     "name": "stderr",
     "output_type": "stream",
     "text": [
      "Training Epochs:  71%|███████▏  | 714/1000 [01:18<00:31,  9.06it/s]"
     ]
    },
    {
     "name": "stdout",
     "output_type": "stream",
     "text": [
      "Iteration: 713. \n",
      "Test - Loss: 0.3217056393623352. Accuracy: 433.16857440166496\n",
      "Train -  Loss: 0.32024720311164856. Accuracy: 433.75178873422664\n",
      "\n",
      "Iteration: 714. \n",
      "Test - Loss: 0.3216564655303955. Accuracy: 433.14255983350677\n",
      "Train -  Loss: 0.3201970160007477. Accuracy: 433.7582932223234\n",
      "\n"
     ]
    },
    {
     "name": "stderr",
     "output_type": "stream",
     "text": [
      "Training Epochs:  72%|███████▏  | 716/1000 [01:18<00:31,  9.05it/s]"
     ]
    },
    {
     "name": "stdout",
     "output_type": "stream",
     "text": [
      "Iteration: 715. \n",
      "Test - Loss: 0.3216073513031006. Accuracy: 433.16857440166496\n",
      "Train -  Loss: 0.3201468288898468. Accuracy: 433.7452842461298\n",
      "\n",
      "Iteration: 716. \n",
      "Test - Loss: 0.32155829668045044. Accuracy: 433.2206035379813\n",
      "Train -  Loss: 0.3200967013835907. Accuracy: 433.73877975803305\n",
      "\n"
     ]
    },
    {
     "name": "stderr",
     "output_type": "stream",
     "text": [
      "Training Epochs:  72%|███████▏  | 718/1000 [01:19<00:31,  9.09it/s]"
     ]
    },
    {
     "name": "stdout",
     "output_type": "stream",
     "text": [
      "Iteration: 717. \n",
      "Test - Loss: 0.3215092122554779. Accuracy: 433.2206035379813\n",
      "Train -  Loss: 0.3200465738773346. Accuracy: 433.73877975803305\n",
      "\n",
      "Iteration: 718. \n",
      "Test - Loss: 0.32146021723747253. Accuracy: 433.2206035379813\n",
      "Train -  Loss: 0.3199964761734009. Accuracy: 433.7452842461298\n",
      "\n"
     ]
    },
    {
     "name": "stderr",
     "output_type": "stream",
     "text": [
      "Training Epochs:  72%|███████▏  | 720/1000 [01:19<00:31,  8.94it/s]"
     ]
    },
    {
     "name": "stdout",
     "output_type": "stream",
     "text": [
      "Iteration: 719. \n",
      "Test - Loss: 0.32141122221946716. Accuracy: 433.2206035379813\n",
      "Train -  Loss: 0.3199464678764343. Accuracy: 433.7452842461298\n",
      "\n",
      "Iteration: 720. \n",
      "Test - Loss: 0.32136228680610657. Accuracy: 433.2206035379813\n",
      "Train -  Loss: 0.3198964297771454. Accuracy: 433.7452842461298\n",
      "\n"
     ]
    },
    {
     "name": "stderr",
     "output_type": "stream",
     "text": [
      "Training Epochs:  72%|███████▏  | 722/1000 [01:19<00:31,  8.91it/s]"
     ]
    },
    {
     "name": "stdout",
     "output_type": "stream",
     "text": [
      "Iteration: 721. \n",
      "Test - Loss: 0.3213133215904236. Accuracy: 433.2206035379813\n",
      "Train -  Loss: 0.3198464810848236. Accuracy: 433.75178873422664\n",
      "\n",
      "Iteration: 722. \n",
      "Test - Loss: 0.32126444578170776. Accuracy: 433.2206035379813\n",
      "Train -  Loss: 0.31979653239250183. Accuracy: 433.77780668661376\n",
      "\n"
     ]
    },
    {
     "name": "stderr",
     "output_type": "stream",
     "text": [
      "Training Epochs:  72%|███████▏  | 724/1000 [01:19<00:30,  8.97it/s]"
     ]
    },
    {
     "name": "stdout",
     "output_type": "stream",
     "text": [
      "Iteration: 723. \n",
      "Test - Loss: 0.3212156295776367. Accuracy: 433.2206035379813\n",
      "Train -  Loss: 0.31974658370018005. Accuracy: 433.7843111747105\n",
      "\n",
      "Iteration: 724. \n",
      "Test - Loss: 0.3211667239665985. Accuracy: 433.24661810613946\n",
      "Train -  Loss: 0.31969672441482544. Accuracy: 433.7843111747105\n",
      "\n"
     ]
    },
    {
     "name": "stderr",
     "output_type": "stream",
     "text": [
      "Training Epochs:  73%|███████▎  | 726/1000 [01:19<00:30,  9.00it/s]"
     ]
    },
    {
     "name": "stdout",
     "output_type": "stream",
     "text": [
      "Iteration: 725. \n",
      "Test - Loss: 0.32111796736717224. Accuracy: 433.24661810613946\n",
      "Train -  Loss: 0.3196468949317932. Accuracy: 433.79081566280735\n",
      "\n",
      "Iteration: 726. \n",
      "Test - Loss: 0.32106921076774597. Accuracy: 433.24661810613946\n",
      "Train -  Loss: 0.319597065448761. Accuracy: 433.7973201509041\n",
      "\n"
     ]
    },
    {
     "name": "stderr",
     "output_type": "stream",
     "text": [
      "Training Epochs:  73%|███████▎  | 728/1000 [01:20<00:30,  9.01it/s]"
     ]
    },
    {
     "name": "stdout",
     "output_type": "stream",
     "text": [
      "Iteration: 727. \n",
      "Test - Loss: 0.3210204839706421. Accuracy: 433.24661810613946\n",
      "Train -  Loss: 0.31954729557037354. Accuracy: 433.81683361519447\n",
      "\n",
      "Iteration: 728. \n",
      "Test - Loss: 0.3209717869758606. Accuracy: 433.24661810613946\n",
      "Train -  Loss: 0.3194975256919861. Accuracy: 433.84285156758165\n",
      "\n"
     ]
    },
    {
     "name": "stderr",
     "output_type": "stream",
     "text": [
      "Training Epochs:  73%|███████▎  | 730/1000 [01:20<00:29,  9.04it/s]"
     ]
    },
    {
     "name": "stdout",
     "output_type": "stream",
     "text": [
      "Iteration: 729. \n",
      "Test - Loss: 0.3209231197834015. Accuracy: 433.2726326742976\n",
      "Train -  Loss: 0.3194478154182434. Accuracy: 433.8558605437752\n",
      "\n",
      "Iteration: 730. \n",
      "Test - Loss: 0.32087451219558716. Accuracy: 433.2726326742976\n",
      "Train -  Loss: 0.3193981349468231. Accuracy: 433.88187849616236\n",
      "\n"
     ]
    },
    {
     "name": "stderr",
     "output_type": "stream",
     "text": [
      "Training Epochs:  73%|███████▎  | 732/1000 [01:20<00:29,  9.08it/s]"
     ]
    },
    {
     "name": "stdout",
     "output_type": "stream",
     "text": [
      "Iteration: 731. \n",
      "Test - Loss: 0.3208259344100952. Accuracy: 433.2726326742976\n",
      "Train -  Loss: 0.3193484842777252. Accuracy: 433.89488747235595\n",
      "\n",
      "Iteration: 732. \n",
      "Test - Loss: 0.3207773268222809. Accuracy: 433.2726326742976\n",
      "Train -  Loss: 0.3192988634109497. Accuracy: 433.9078964485495\n",
      "\n"
     ]
    },
    {
     "name": "stderr",
     "output_type": "stream",
     "text": [
      "Training Epochs:  73%|███████▎  | 734/1000 [01:20<00:29,  8.97it/s]"
     ]
    },
    {
     "name": "stdout",
     "output_type": "stream",
     "text": [
      "Iteration: 733. \n",
      "Test - Loss: 0.32072877883911133. Accuracy: 433.2726326742976\n",
      "Train -  Loss: 0.3192492723464966. Accuracy: 433.9144009366463\n",
      "\n",
      "Iteration: 734. \n",
      "Test - Loss: 0.32068026065826416. Accuracy: 433.2726326742976\n",
      "Train -  Loss: 0.31919971108436584. Accuracy: 433.93391440093666\n",
      "\n"
     ]
    },
    {
     "name": "stderr",
     "output_type": "stream",
     "text": [
      "Training Epochs:  74%|███████▎  | 736/1000 [01:21<00:28,  9.11it/s]"
     ]
    },
    {
     "name": "stdout",
     "output_type": "stream",
     "text": [
      "Iteration: 735. \n",
      "Test - Loss: 0.32063180208206177. Accuracy: 433.2726326742976\n",
      "Train -  Loss: 0.3191501796245575. Accuracy: 433.93391440093666\n",
      "\n",
      "Iteration: 736. \n",
      "Test - Loss: 0.32058337330818176. Accuracy: 433.24661810613946\n",
      "Train -  Loss: 0.31910067796707153. Accuracy: 433.953427865227\n",
      "\n"
     ]
    },
    {
     "name": "stderr",
     "output_type": "stream",
     "text": [
      "Training Epochs:  74%|███████▍  | 738/1000 [01:21<00:28,  9.09it/s]"
     ]
    },
    {
     "name": "stdout",
     "output_type": "stream",
     "text": [
      "Iteration: 737. \n",
      "Test - Loss: 0.32053494453430176. Accuracy: 433.2206035379813\n",
      "Train -  Loss: 0.31905123591423035. Accuracy: 433.9599323533238\n",
      "\n",
      "Iteration: 738. \n",
      "Test - Loss: 0.32048657536506653. Accuracy: 433.24661810613946\n",
      "Train -  Loss: 0.31900179386138916. Accuracy: 433.9599323533238\n",
      "\n"
     ]
    },
    {
     "name": "stderr",
     "output_type": "stream",
     "text": [
      "Training Epochs:  74%|███████▍  | 740/1000 [01:21<00:28,  9.12it/s]"
     ]
    },
    {
     "name": "stdout",
     "output_type": "stream",
     "text": [
      "Iteration: 739. \n",
      "Test - Loss: 0.3204382061958313. Accuracy: 433.2726326742976\n",
      "Train -  Loss: 0.31895241141319275. Accuracy: 433.97294132951737\n",
      "\n",
      "Iteration: 740. \n",
      "Test - Loss: 0.32038989663124084. Accuracy: 433.2726326742976\n",
      "Train -  Loss: 0.31890302896499634. Accuracy: 433.9924547938077\n",
      "\n"
     ]
    },
    {
     "name": "stderr",
     "output_type": "stream",
     "text": [
      "Training Epochs:  74%|███████▍  | 742/1000 [01:21<00:28,  9.18it/s]"
     ]
    },
    {
     "name": "stdout",
     "output_type": "stream",
     "text": [
      "Iteration: 741. \n",
      "Test - Loss: 0.3203415870666504. Accuracy: 433.2986472424558\n",
      "Train -  Loss: 0.3188537359237671. Accuracy: 433.9989592819045\n",
      "\n",
      "Iteration: 742. \n",
      "Test - Loss: 0.3202933669090271. Accuracy: 433.2986472424558\n",
      "Train -  Loss: 0.31880444288253784. Accuracy: 434.0119682580981\n",
      "\n"
     ]
    },
    {
     "name": "stderr",
     "output_type": "stream",
     "text": [
      "Training Epochs:  74%|███████▍  | 744/1000 [01:21<00:28,  9.13it/s]"
     ]
    },
    {
     "name": "stdout",
     "output_type": "stream",
     "text": [
      "Iteration: 743. \n",
      "Test - Loss: 0.3202451467514038. Accuracy: 433.2986472424558\n",
      "Train -  Loss: 0.318755179643631. Accuracy: 434.03148172238843\n",
      "\n",
      "Iteration: 744. \n",
      "Test - Loss: 0.3201969563961029. Accuracy: 433.3246618106139\n",
      "Train -  Loss: 0.31870588660240173. Accuracy: 434.03148172238843\n",
      "\n"
     ]
    },
    {
     "name": "stderr",
     "output_type": "stream",
     "text": [
      "Training Epochs:  75%|███████▍  | 746/1000 [01:22<00:27,  9.16it/s]"
     ]
    },
    {
     "name": "stdout",
     "output_type": "stream",
     "text": [
      "Iteration: 745. \n",
      "Test - Loss: 0.3201487958431244. Accuracy: 433.3506763787721\n",
      "Train -  Loss: 0.31865671277046204. Accuracy: 434.0574996747756\n",
      "\n",
      "Iteration: 746. \n",
      "Test - Loss: 0.32010066509246826. Accuracy: 433.3766909469303\n",
      "Train -  Loss: 0.31860750913619995. Accuracy: 434.0640041628724\n",
      "\n"
     ]
    },
    {
     "name": "stderr",
     "output_type": "stream",
     "text": [
      "Training Epochs:  75%|███████▍  | 748/1000 [01:22<00:27,  9.12it/s]"
     ]
    },
    {
     "name": "stdout",
     "output_type": "stream",
     "text": [
      "Iteration: 747. \n",
      "Test - Loss: 0.3200525939464569. Accuracy: 433.3766909469303\n",
      "Train -  Loss: 0.31855839490890503. Accuracy: 434.07050865096915\n",
      "\n",
      "Iteration: 748. \n",
      "Test - Loss: 0.32000452280044556. Accuracy: 433.3766909469303\n",
      "Train -  Loss: 0.3185092806816101. Accuracy: 434.0965266033563\n",
      "\n"
     ]
    },
    {
     "name": "stderr",
     "output_type": "stream",
     "text": [
      "Training Epochs:  75%|███████▌  | 750/1000 [01:22<00:27,  9.16it/s]"
     ]
    },
    {
     "name": "stdout",
     "output_type": "stream",
     "text": [
      "Iteration: 749. \n",
      "Test - Loss: 0.3199564814567566. Accuracy: 433.3766909469303\n",
      "Train -  Loss: 0.3184601962566376. Accuracy: 434.1095355795499\n",
      "\n",
      "Iteration: 750. \n",
      "Test - Loss: 0.31990846991539. Accuracy: 433.4287200832466\n",
      "Train -  Loss: 0.3184112012386322. Accuracy: 434.12254455574345\n",
      "\n"
     ]
    },
    {
     "name": "stderr",
     "output_type": "stream",
     "text": [
      "Training Epochs:  75%|███████▌  | 752/1000 [01:22<00:27,  9.11it/s]"
     ]
    },
    {
     "name": "stdout",
     "output_type": "stream",
     "text": [
      "Iteration: 751. \n",
      "Test - Loss: 0.3198604881763458. Accuracy: 433.4547346514048\n",
      "Train -  Loss: 0.31836217641830444. Accuracy: 434.13555353193703\n",
      "\n",
      "Iteration: 752. \n",
      "Test - Loss: 0.3198125958442688. Accuracy: 433.4027055150884\n",
      "Train -  Loss: 0.3183131814002991. Accuracy: 434.1550669962274\n",
      "\n"
     ]
    },
    {
     "name": "stderr",
     "output_type": "stream",
     "text": [
      "Training Epochs:  75%|███████▌  | 754/1000 [01:23<00:27,  9.07it/s]"
     ]
    },
    {
     "name": "stdout",
     "output_type": "stream",
     "text": [
      "Iteration: 753. \n",
      "Test - Loss: 0.319764643907547. Accuracy: 433.4287200832466\n",
      "Train -  Loss: 0.3182642161846161. Accuracy: 434.16157148432416\n",
      "\n",
      "Iteration: 754. \n",
      "Test - Loss: 0.31971678137779236. Accuracy: 433.4547346514048\n",
      "Train -  Loss: 0.3182153105735779. Accuracy: 434.18108494861457\n",
      "\n"
     ]
    },
    {
     "name": "stderr",
     "output_type": "stream",
     "text": [
      "Training Epochs:  76%|███████▌  | 756/1000 [01:23<00:26,  9.07it/s]"
     ]
    },
    {
     "name": "stdout",
     "output_type": "stream",
     "text": [
      "Iteration: 755. \n",
      "Test - Loss: 0.3196689486503601. Accuracy: 433.4547346514048\n",
      "Train -  Loss: 0.31816643476486206. Accuracy: 434.18758943671133\n",
      "\n",
      "Iteration: 756. \n",
      "Test - Loss: 0.31962114572525024. Accuracy: 433.5067637877211\n",
      "Train -  Loss: 0.31811758875846863. Accuracy: 434.18758943671133\n",
      "\n"
     ]
    },
    {
     "name": "stderr",
     "output_type": "stream",
     "text": [
      "Training Epochs:  76%|███████▌  | 758/1000 [01:23<00:26,  9.04it/s]"
     ]
    },
    {
     "name": "stdout",
     "output_type": "stream",
     "text": [
      "Iteration: 757. \n",
      "Test - Loss: 0.31957337260246277. Accuracy: 433.5067637877211\n",
      "Train -  Loss: 0.3180687725543976. Accuracy: 434.1940939248081\n",
      "\n",
      "Iteration: 758. \n",
      "Test - Loss: 0.3195255994796753. Accuracy: 433.5067637877211\n",
      "Train -  Loss: 0.31801995635032654. Accuracy: 434.2005984129049\n",
      "\n"
     ]
    },
    {
     "name": "stderr",
     "output_type": "stream",
     "text": [
      "Training Epochs:  76%|███████▌  | 760/1000 [01:23<00:26,  8.96it/s]"
     ]
    },
    {
     "name": "stdout",
     "output_type": "stream",
     "text": [
      "Iteration: 759. \n",
      "Test - Loss: 0.3194778859615326. Accuracy: 433.5327783558793\n",
      "Train -  Loss: 0.31797119975090027. Accuracy: 434.2071029010017\n",
      "\n",
      "Iteration: 760. \n",
      "Test - Loss: 0.3194302022457123. Accuracy: 433.55879292403745\n",
      "Train -  Loss: 0.3179225027561188. Accuracy: 434.21360738909846\n",
      "\n"
     ]
    },
    {
     "name": "stderr",
     "output_type": "stream",
     "text": [
      "Training Epochs:  76%|███████▌  | 762/1000 [01:23<00:26,  9.06it/s]"
     ]
    },
    {
     "name": "stdout",
     "output_type": "stream",
     "text": [
      "Iteration: 761. \n",
      "Test - Loss: 0.31938251852989197. Accuracy: 433.55879292403745\n",
      "Train -  Loss: 0.3178737759590149. Accuracy: 434.2526343176792\n",
      "\n",
      "Iteration: 762. \n",
      "Test - Loss: 0.3193349242210388. Accuracy: 433.55879292403745\n",
      "Train -  Loss: 0.3178251087665558. Accuracy: 434.2461298295824\n",
      "\n"
     ]
    },
    {
     "name": "stderr",
     "output_type": "stream",
     "text": [
      "Training Epochs:  76%|███████▋  | 764/1000 [01:24<00:25,  9.14it/s]"
     ]
    },
    {
     "name": "stdout",
     "output_type": "stream",
     "text": [
      "Iteration: 763. \n",
      "Test - Loss: 0.3192873001098633. Accuracy: 433.55879292403745\n",
      "Train -  Loss: 0.31777647137641907. Accuracy: 434.2461298295824\n",
      "\n",
      "Iteration: 764. \n",
      "Test - Loss: 0.3192397654056549. Accuracy: 433.55879292403745\n",
      "Train -  Loss: 0.31772786378860474. Accuracy: 434.2526343176792\n",
      "\n"
     ]
    },
    {
     "name": "stderr",
     "output_type": "stream",
     "text": [
      "Training Epochs:  77%|███████▋  | 766/1000 [01:24<00:25,  9.18it/s]"
     ]
    },
    {
     "name": "stdout",
     "output_type": "stream",
     "text": [
      "Iteration: 765. \n",
      "Test - Loss: 0.31919223070144653. Accuracy: 433.55879292403745\n",
      "Train -  Loss: 0.3176793158054352. Accuracy: 434.259138805776\n",
      "\n",
      "Iteration: 766. \n",
      "Test - Loss: 0.31914472579956055. Accuracy: 433.58480749219564\n",
      "Train -  Loss: 0.3176307678222656. Accuracy: 434.2526343176792\n",
      "\n"
     ]
    },
    {
     "name": "stderr",
     "output_type": "stream",
     "text": [
      "Training Epochs:  77%|███████▋  | 768/1000 [01:24<00:25,  9.10it/s]"
     ]
    },
    {
     "name": "stdout",
     "output_type": "stream",
     "text": [
      "Iteration: 767. \n",
      "Test - Loss: 0.31909725069999695. Accuracy: 433.58480749219564\n",
      "Train -  Loss: 0.31758224964141846. Accuracy: 434.23962534148563\n",
      "\n",
      "Iteration: 768. \n",
      "Test - Loss: 0.31904980540275574. Accuracy: 433.58480749219564\n",
      "Train -  Loss: 0.3175337612628937. Accuracy: 434.2526343176792\n",
      "\n"
     ]
    },
    {
     "name": "stderr",
     "output_type": "stream",
     "text": [
      "Training Epochs:  77%|███████▋  | 770/1000 [01:24<00:25,  9.05it/s]"
     ]
    },
    {
     "name": "stdout",
     "output_type": "stream",
     "text": [
      "Iteration: 769. \n",
      "Test - Loss: 0.3190024197101593. Accuracy: 433.6108220603538\n",
      "Train -  Loss: 0.31748533248901367. Accuracy: 434.259138805776\n",
      "\n",
      "Iteration: 770. \n",
      "Test - Loss: 0.31895503401756287. Accuracy: 433.6108220603538\n",
      "Train -  Loss: 0.31743690371513367. Accuracy: 434.27865227006635\n",
      "\n"
     ]
    },
    {
     "name": "stderr",
     "output_type": "stream",
     "text": [
      "Training Epochs:  77%|███████▋  | 772/1000 [01:25<00:24,  9.14it/s]"
     ]
    },
    {
     "name": "stdout",
     "output_type": "stream",
     "text": [
      "Iteration: 771. \n",
      "Test - Loss: 0.3189076781272888. Accuracy: 433.63683662851196\n",
      "Train -  Loss: 0.31738853454589844. Accuracy: 434.2851567581631\n",
      "\n",
      "Iteration: 772. \n",
      "Test - Loss: 0.31886041164398193. Accuracy: 433.63683662851196\n",
      "Train -  Loss: 0.3173401951789856. Accuracy: 434.31767919864706\n",
      "\n"
     ]
    },
    {
     "name": "stderr",
     "output_type": "stream",
     "text": [
      "Training Epochs:  77%|███████▋  | 774/1000 [01:25<00:24,  9.09it/s]"
     ]
    },
    {
     "name": "stdout",
     "output_type": "stream",
     "text": [
      "Iteration: 773. \n",
      "Test - Loss: 0.31881311535835266. Accuracy: 433.66285119667015\n",
      "Train -  Loss: 0.31729185581207275. Accuracy: 434.3241836867439\n",
      "\n",
      "Iteration: 774. \n",
      "Test - Loss: 0.3187658488750458. Accuracy: 433.66285119667015\n",
      "Train -  Loss: 0.3172435462474823. Accuracy: 434.33068817484065\n",
      "\n"
     ]
    },
    {
     "name": "stderr",
     "output_type": "stream",
     "text": [
      "Training Epochs:  78%|███████▊  | 776/1000 [01:25<00:24,  9.07it/s]"
     ]
    },
    {
     "name": "stdout",
     "output_type": "stream",
     "text": [
      "Iteration: 775. \n",
      "Test - Loss: 0.31871864199638367. Accuracy: 433.66285119667015\n",
      "Train -  Loss: 0.3171952962875366. Accuracy: 434.3371926629374\n",
      "\n",
      "Iteration: 776. \n",
      "Test - Loss: 0.31867143511772156. Accuracy: 433.66285119667015\n",
      "Train -  Loss: 0.31714704632759094. Accuracy: 434.350201639131\n",
      "\n"
     ]
    },
    {
     "name": "stderr",
     "output_type": "stream",
     "text": [
      "Training Epochs:  78%|███████▊  | 778/1000 [01:25<00:24,  8.96it/s]"
     ]
    },
    {
     "name": "stdout",
     "output_type": "stream",
     "text": [
      "Iteration: 777. \n",
      "Test - Loss: 0.3186242878437042. Accuracy: 433.66285119667015\n",
      "Train -  Loss: 0.3170988857746124. Accuracy: 434.3762195915181\n",
      "\n",
      "Iteration: 778. \n",
      "Test - Loss: 0.3185771703720093. Accuracy: 433.66285119667015\n",
      "Train -  Loss: 0.3170506954193115. Accuracy: 434.3892285677117\n",
      "\n"
     ]
    },
    {
     "name": "stderr",
     "output_type": "stream",
     "text": [
      "Training Epochs:  78%|███████▊  | 780/1000 [01:25<00:24,  9.03it/s]"
     ]
    },
    {
     "name": "stdout",
     "output_type": "stream",
     "text": [
      "Iteration: 779. \n",
      "Test - Loss: 0.3185300827026367. Accuracy: 433.66285119667015\n",
      "Train -  Loss: 0.3170025944709778. Accuracy: 434.40874203200207\n",
      "\n",
      "Iteration: 780. \n",
      "Test - Loss: 0.31848299503326416. Accuracy: 433.66285119667015\n",
      "Train -  Loss: 0.31695446372032166. Accuracy: 434.4282554962924\n",
      "\n"
     ]
    },
    {
     "name": "stderr",
     "output_type": "stream",
     "text": [
      "Training Epochs:  78%|███████▊  | 782/1000 [01:26<00:23,  9.10it/s]"
     ]
    },
    {
     "name": "stdout",
     "output_type": "stream",
     "text": [
      "Iteration: 781. \n",
      "Test - Loss: 0.318435937166214. Accuracy: 433.66285119667015\n",
      "Train -  Loss: 0.3169063925743103. Accuracy: 434.4282554962924\n",
      "\n",
      "Iteration: 782. \n",
      "Test - Loss: 0.3183889389038086. Accuracy: 433.71488033298647\n",
      "Train -  Loss: 0.31685832142829895. Accuracy: 434.441264472486\n",
      "\n"
     ]
    },
    {
     "name": "stderr",
     "output_type": "stream",
     "text": [
      "Training Epochs:  78%|███████▊  | 784/1000 [01:26<00:23,  9.12it/s]"
     ]
    },
    {
     "name": "stdout",
     "output_type": "stream",
     "text": [
      "Iteration: 783. \n",
      "Test - Loss: 0.3183419406414032. Accuracy: 433.74089490114466\n",
      "Train -  Loss: 0.31681033968925476. Accuracy: 434.4477689605828\n",
      "\n",
      "Iteration: 784. \n",
      "Test - Loss: 0.3182950019836426. Accuracy: 433.7669094693028\n",
      "Train -  Loss: 0.3167623281478882. Accuracy: 434.46077793677637\n",
      "\n"
     ]
    },
    {
     "name": "stderr",
     "output_type": "stream",
     "text": [
      "Training Epochs:  79%|███████▊  | 786/1000 [01:26<00:23,  9.01it/s]"
     ]
    },
    {
     "name": "stdout",
     "output_type": "stream",
     "text": [
      "Iteration: 785. \n",
      "Test - Loss: 0.31824806332588196. Accuracy: 433.792924037461\n",
      "Train -  Loss: 0.316714346408844. Accuracy: 434.4802914010667\n",
      "\n",
      "Iteration: 786. \n",
      "Test - Loss: 0.3182012140750885. Accuracy: 433.792924037461\n",
      "Train -  Loss: 0.3166664242744446. Accuracy: 434.48679588916355\n",
      "\n"
     ]
    },
    {
     "name": "stderr",
     "output_type": "stream",
     "text": [
      "Training Epochs:  79%|███████▉  | 788/1000 [01:26<00:23,  8.95it/s]"
     ]
    },
    {
     "name": "stdout",
     "output_type": "stream",
     "text": [
      "Iteration: 787. \n",
      "Test - Loss: 0.31815436482429504. Accuracy: 433.792924037461\n",
      "Train -  Loss: 0.31661853194236755. Accuracy: 434.4802914010667\n",
      "\n",
      "Iteration: 788. \n",
      "Test - Loss: 0.3181075155735016. Accuracy: 433.792924037461\n",
      "Train -  Loss: 0.3165706396102905. Accuracy: 434.4998048653571\n",
      "\n"
     ]
    },
    {
     "name": "stderr",
     "output_type": "stream",
     "text": [
      "Training Epochs:  79%|███████▉  | 790/1000 [01:27<00:23,  8.98it/s]"
     ]
    },
    {
     "name": "stdout",
     "output_type": "stream",
     "text": [
      "Iteration: 789. \n",
      "Test - Loss: 0.3180607259273529. Accuracy: 433.792924037461\n",
      "Train -  Loss: 0.31652283668518066. Accuracy: 434.51931832964743\n",
      "\n",
      "Iteration: 790. \n",
      "Test - Loss: 0.3180139362812042. Accuracy: 433.8449531737773\n",
      "Train -  Loss: 0.3164750039577484. Accuracy: 434.52582281774426\n",
      "\n"
     ]
    },
    {
     "name": "stderr",
     "output_type": "stream",
     "text": [
      "Training Epochs:  79%|███████▉  | 792/1000 [01:27<00:22,  9.06it/s]"
     ]
    },
    {
     "name": "stdout",
     "output_type": "stream",
     "text": [
      "Iteration: 791. \n",
      "Test - Loss: 0.3179672360420227. Accuracy: 433.8449531737773\n",
      "Train -  Loss: 0.3164272606372833. Accuracy: 434.532327305841\n",
      "\n",
      "Iteration: 792. \n",
      "Test - Loss: 0.3179205060005188. Accuracy: 433.81893860561917\n",
      "Train -  Loss: 0.31637951731681824. Accuracy: 434.53883179393785\n",
      "\n"
     ]
    },
    {
     "name": "stderr",
     "output_type": "stream",
     "text": [
      "Training Epochs:  79%|███████▉  | 794/1000 [01:27<00:22,  9.16it/s]"
     ]
    },
    {
     "name": "stdout",
     "output_type": "stream",
     "text": [
      "Iteration: 793. \n",
      "Test - Loss: 0.31787383556365967. Accuracy: 433.81893860561917\n",
      "Train -  Loss: 0.31633177399635315. Accuracy: 434.5453362820346\n",
      "\n",
      "Iteration: 794. \n",
      "Test - Loss: 0.31782713532447815. Accuracy: 433.792924037461\n",
      "Train -  Loss: 0.31628409028053284. Accuracy: 434.5518407701314\n",
      "\n"
     ]
    },
    {
     "name": "stderr",
     "output_type": "stream",
     "text": [
      "Training Epochs:  80%|███████▉  | 796/1000 [01:27<00:22,  8.93it/s]"
     ]
    },
    {
     "name": "stdout",
     "output_type": "stream",
     "text": [
      "Iteration: 795. \n",
      "Test - Loss: 0.3177805542945862. Accuracy: 433.8449531737773\n",
      "Train -  Loss: 0.3162364065647125. Accuracy: 434.57135423442173\n",
      "\n",
      "Iteration: 796. \n",
      "Test - Loss: 0.3177339732646942. Accuracy: 433.8449531737773\n",
      "Train -  Loss: 0.316188782453537. Accuracy: 434.5843632106153\n",
      "\n"
     ]
    },
    {
     "name": "stderr",
     "output_type": "stream",
     "text": [
      "Training Epochs:  80%|███████▉  | 798/1000 [01:27<00:22,  9.04it/s]"
     ]
    },
    {
     "name": "stdout",
     "output_type": "stream",
     "text": [
      "Iteration: 797. \n",
      "Test - Loss: 0.31768739223480225. Accuracy: 433.8449531737773\n",
      "Train -  Loss: 0.31614118814468384. Accuracy: 434.5908676987121\n",
      "\n",
      "Iteration: 798. \n",
      "Test - Loss: 0.31764090061187744. Accuracy: 433.8449531737773\n",
      "Train -  Loss: 0.3160936236381531. Accuracy: 434.5973721868089\n",
      "\n"
     ]
    },
    {
     "name": "stderr",
     "output_type": "stream",
     "text": [
      "Training Epochs:  80%|████████  | 800/1000 [01:28<00:21,  9.10it/s]"
     ]
    },
    {
     "name": "stdout",
     "output_type": "stream",
     "text": [
      "Iteration: 799. \n",
      "Test - Loss: 0.31759434938430786. Accuracy: 433.8449531737773\n",
      "Train -  Loss: 0.3160460591316223. Accuracy: 434.61038116300244\n",
      "\n",
      "Iteration: 800. \n",
      "Test - Loss: 0.31754791736602783. Accuracy: 433.8449531737773\n",
      "Train -  Loss: 0.31599855422973633. Accuracy: 434.6429036034864\n",
      "\n"
     ]
    },
    {
     "name": "stderr",
     "output_type": "stream",
     "text": [
      "Training Epochs:  80%|████████  | 802/1000 [01:28<00:22,  8.87it/s]"
     ]
    },
    {
     "name": "stdout",
     "output_type": "stream",
     "text": [
      "Iteration: 801. \n",
      "Test - Loss: 0.3175014853477478. Accuracy: 433.8449531737773\n",
      "Train -  Loss: 0.31595107913017273. Accuracy: 434.65591257968\n",
      "\n",
      "Iteration: 802. \n",
      "Test - Loss: 0.3174550533294678. Accuracy: 433.8709677419355\n",
      "Train -  Loss: 0.3159036338329315. Accuracy: 434.66241706777674\n",
      "\n"
     ]
    },
    {
     "name": "stderr",
     "output_type": "stream",
     "text": [
      "Training Epochs:  80%|████████  | 804/1000 [01:28<00:22,  8.83it/s]"
     ]
    },
    {
     "name": "stdout",
     "output_type": "stream",
     "text": [
      "Iteration: 803. \n",
      "Test - Loss: 0.3174086809158325. Accuracy: 433.8709677419355\n",
      "Train -  Loss: 0.3158561885356903. Accuracy: 434.65591257968\n",
      "\n",
      "Iteration: 804. \n",
      "Test - Loss: 0.31736233830451965. Accuracy: 433.8709677419355\n",
      "Train -  Loss: 0.31580880284309387. Accuracy: 434.6819305320671\n",
      "\n"
     ]
    },
    {
     "name": "stderr",
     "output_type": "stream",
     "text": [
      "Training Epochs:  81%|████████  | 806/1000 [01:28<00:21,  9.00it/s]"
     ]
    },
    {
     "name": "stdout",
     "output_type": "stream",
     "text": [
      "Iteration: 805. \n",
      "Test - Loss: 0.3173159956932068. Accuracy: 433.8709677419355\n",
      "Train -  Loss: 0.31576138734817505. Accuracy: 434.6819305320671\n",
      "\n",
      "Iteration: 806. \n",
      "Test - Loss: 0.3172697126865387. Accuracy: 433.8969823100937\n",
      "Train -  Loss: 0.3157140910625458. Accuracy: 434.6949395082607\n",
      "\n"
     ]
    },
    {
     "name": "stderr",
     "output_type": "stream",
     "text": [
      "Training Epochs:  81%|████████  | 808/1000 [01:29<00:21,  8.94it/s]"
     ]
    },
    {
     "name": "stdout",
     "output_type": "stream",
     "text": [
      "Iteration: 807. \n",
      "Test - Loss: 0.3172234296798706. Accuracy: 433.8969823100937\n",
      "Train -  Loss: 0.3156667947769165. Accuracy: 434.7014439963575\n",
      "\n",
      "Iteration: 808. \n",
      "Test - Loss: 0.3171771764755249. Accuracy: 433.8969823100937\n",
      "Train -  Loss: 0.31561946868896484. Accuracy: 434.7339664368414\n",
      "\n"
     ]
    },
    {
     "name": "stderr",
     "output_type": "stream",
     "text": [
      "Training Epochs:  81%|████████  | 810/1000 [01:29<00:21,  9.05it/s]"
     ]
    },
    {
     "name": "stdout",
     "output_type": "stream",
     "text": [
      "Iteration: 809. \n",
      "Test - Loss: 0.317130982875824. Accuracy: 433.8709677419355\n",
      "Train -  Loss: 0.31557226181030273. Accuracy: 434.75347990113175\n",
      "\n",
      "Iteration: 810. \n",
      "Test - Loss: 0.31708481907844543. Accuracy: 433.8969823100937\n",
      "Train -  Loss: 0.31552502512931824. Accuracy: 434.7599843892286\n",
      "\n"
     ]
    },
    {
     "name": "stderr",
     "output_type": "stream",
     "text": [
      "Training Epochs:  81%|████████  | 812/1000 [01:29<00:20,  9.09it/s]"
     ]
    },
    {
     "name": "stdout",
     "output_type": "stream",
     "text": [
      "Iteration: 811. \n",
      "Test - Loss: 0.3170386552810669. Accuracy: 433.9229968782518\n",
      "Train -  Loss: 0.3154778480529785. Accuracy: 434.7599843892286\n",
      "\n",
      "Iteration: 812. \n",
      "Test - Loss: 0.31699255108833313. Accuracy: 433.94901144641\n",
      "Train -  Loss: 0.3154307007789612. Accuracy: 434.7860023416157\n",
      "\n"
     ]
    },
    {
     "name": "stderr",
     "output_type": "stream",
     "text": [
      "Training Epochs:  81%|████████▏ | 814/1000 [01:29<00:20,  9.08it/s]"
     ]
    },
    {
     "name": "stdout",
     "output_type": "stream",
     "text": [
      "Iteration: 813. \n",
      "Test - Loss: 0.31694644689559937. Accuracy: 433.9750260145682\n",
      "Train -  Loss: 0.31538352370262146. Accuracy: 434.7990113178093\n",
      "\n",
      "Iteration: 814. \n",
      "Test - Loss: 0.316900372505188. Accuracy: 434.0010405827263\n",
      "Train -  Loss: 0.3153364360332489. Accuracy: 434.8120202940029\n",
      "\n"
     ]
    },
    {
     "name": "stderr",
     "output_type": "stream",
     "text": [
      "Training Epochs:  82%|████████▏ | 816/1000 [01:29<00:20,  9.02it/s]"
     ]
    },
    {
     "name": "stdout",
     "output_type": "stream",
     "text": [
      "Iteration: 815. \n",
      "Test - Loss: 0.316854327917099. Accuracy: 434.0010405827263\n",
      "Train -  Loss: 0.31528934836387634. Accuracy: 434.8250292701964\n",
      "\n",
      "Iteration: 816. \n",
      "Test - Loss: 0.3168083131313324. Accuracy: 433.9750260145682\n",
      "Train -  Loss: 0.31524232029914856. Accuracy: 434.8445427344868\n",
      "\n"
     ]
    },
    {
     "name": "stderr",
     "output_type": "stream",
     "text": [
      "Training Epochs:  82%|████████▏ | 818/1000 [01:30<00:19,  9.10it/s]"
     ]
    },
    {
     "name": "stdout",
     "output_type": "stream",
     "text": [
      "Iteration: 817. \n",
      "Test - Loss: 0.31676238775253296. Accuracy: 434.0010405827263\n",
      "Train -  Loss: 0.3151952922344208. Accuracy: 434.8445427344868\n",
      "\n",
      "Iteration: 818. \n",
      "Test - Loss: 0.31671640276908875. Accuracy: 434.0010405827263\n",
      "Train -  Loss: 0.3151482939720154. Accuracy: 434.8445427344868\n",
      "\n"
     ]
    },
    {
     "name": "stderr",
     "output_type": "stream",
     "text": [
      "Training Epochs:  82%|████████▏ | 820/1000 [01:30<00:19,  9.19it/s]"
     ]
    },
    {
     "name": "stdout",
     "output_type": "stream",
     "text": [
      "Iteration: 819. \n",
      "Test - Loss: 0.3166704773902893. Accuracy: 434.05306971904264\n",
      "Train -  Loss: 0.31510135531425476. Accuracy: 434.8510472225836\n",
      "\n",
      "Iteration: 820. \n",
      "Test - Loss: 0.31662461161613464. Accuracy: 434.0790842872008\n",
      "Train -  Loss: 0.31505441665649414. Accuracy: 434.85755171068035\n",
      "\n"
     ]
    },
    {
     "name": "stderr",
     "output_type": "stream",
     "text": [
      "Training Epochs:  82%|████████▏ | 822/1000 [01:30<00:19,  9.08it/s]"
     ]
    },
    {
     "name": "stdout",
     "output_type": "stream",
     "text": [
      "Iteration: 821. \n",
      "Test - Loss: 0.31657874584198. Accuracy: 434.105098855359\n",
      "Train -  Loss: 0.3150075078010559. Accuracy: 434.8510472225836\n",
      "\n",
      "Iteration: 822. \n",
      "Test - Loss: 0.3165329098701477. Accuracy: 434.0790842872008\n",
      "Train -  Loss: 0.31496062874794006. Accuracy: 434.8640561987772\n",
      "\n"
     ]
    },
    {
     "name": "stderr",
     "output_type": "stream",
     "text": [
      "Training Epochs:  82%|████████▏ | 824/1000 [01:30<00:19,  9.04it/s]"
     ]
    },
    {
     "name": "stdout",
     "output_type": "stream",
     "text": [
      "Iteration: 823. \n",
      "Test - Loss: 0.3164871037006378. Accuracy: 434.0790842872008\n",
      "Train -  Loss: 0.314913809299469. Accuracy: 434.87056068687394\n",
      "\n",
      "Iteration: 824. \n",
      "Test - Loss: 0.3164413571357727. Accuracy: 434.0790842872008\n",
      "Train -  Loss: 0.3148669898509979. Accuracy: 434.87056068687394\n",
      "\n"
     ]
    },
    {
     "name": "stderr",
     "output_type": "stream",
     "text": [
      "Training Epochs:  83%|████████▎ | 826/1000 [01:31<00:19,  9.09it/s]"
     ]
    },
    {
     "name": "stdout",
     "output_type": "stream",
     "text": [
      "Iteration: 825. \n",
      "Test - Loss: 0.3163956105709076. Accuracy: 434.105098855359\n",
      "Train -  Loss: 0.31482017040252686. Accuracy: 434.88356966306753\n",
      "\n",
      "Iteration: 826. \n",
      "Test - Loss: 0.3163498640060425. Accuracy: 434.105098855359\n",
      "Train -  Loss: 0.31477344036102295. Accuracy: 434.90958761545465\n",
      "\n"
     ]
    },
    {
     "name": "stderr",
     "output_type": "stream",
     "text": [
      "Training Epochs:  83%|████████▎ | 828/1000 [01:31<00:19,  9.00it/s]"
     ]
    },
    {
     "name": "stdout",
     "output_type": "stream",
     "text": [
      "Iteration: 827. \n",
      "Test - Loss: 0.3163042366504669. Accuracy: 434.105098855359\n",
      "Train -  Loss: 0.31472674012184143. Accuracy: 434.9030831273579\n",
      "\n",
      "Iteration: 828. \n",
      "Test - Loss: 0.3162585198879242. Accuracy: 434.13111342351715\n",
      "Train -  Loss: 0.3146800398826599. Accuracy: 434.9160921035515\n",
      "\n"
     ]
    },
    {
     "name": "stderr",
     "output_type": "stream",
     "text": [
      "Training Epochs:  83%|████████▎ | 830/1000 [01:31<00:18,  9.10it/s]"
     ]
    },
    {
     "name": "stdout",
     "output_type": "stream",
     "text": [
      "Iteration: 829. \n",
      "Test - Loss: 0.31621289253234863. Accuracy: 434.13111342351715\n",
      "Train -  Loss: 0.3146333396434784. Accuracy: 434.9160921035515\n",
      "\n",
      "Iteration: 830. \n",
      "Test - Loss: 0.31616729497909546. Accuracy: 434.13111342351715\n",
      "Train -  Loss: 0.31458669900894165. Accuracy: 434.929101079745\n",
      "\n"
     ]
    },
    {
     "name": "stderr",
     "output_type": "stream",
     "text": [
      "Training Epochs:  83%|████████▎ | 832/1000 [01:31<00:18,  9.03it/s]"
     ]
    },
    {
     "name": "stdout",
     "output_type": "stream",
     "text": [
      "Iteration: 831. \n",
      "Test - Loss: 0.3161217272281647. Accuracy: 434.13111342351715\n",
      "Train -  Loss: 0.3145400881767273. Accuracy: 434.93560556784183\n",
      "\n",
      "Iteration: 832. \n",
      "Test - Loss: 0.3160761594772339. Accuracy: 434.13111342351715\n",
      "Train -  Loss: 0.31449347734451294. Accuracy: 434.9421100559386\n",
      "\n"
     ]
    },
    {
     "name": "stderr",
     "output_type": "stream",
     "text": [
      "Training Epochs:  83%|████████▎ | 834/1000 [01:31<00:18,  9.02it/s]"
     ]
    },
    {
     "name": "stdout",
     "output_type": "stream",
     "text": [
      "Iteration: 833. \n",
      "Test - Loss: 0.3160306513309479. Accuracy: 434.15712799167534\n",
      "Train -  Loss: 0.31444692611694336. Accuracy: 434.96162352022895\n",
      "\n",
      "Iteration: 834. \n",
      "Test - Loss: 0.31598520278930664. Accuracy: 434.1831425598335\n",
      "Train -  Loss: 0.31440040469169617. Accuracy: 434.94861454403537\n",
      "\n"
     ]
    },
    {
     "name": "stderr",
     "output_type": "stream",
     "text": [
      "Training Epochs:  84%|████████▎ | 836/1000 [01:32<00:18,  9.11it/s]"
     ]
    },
    {
     "name": "stdout",
     "output_type": "stream",
     "text": [
      "Iteration: 835. \n",
      "Test - Loss: 0.315939724445343. Accuracy: 434.1831425598335\n",
      "Train -  Loss: 0.31435391306877136. Accuracy: 434.9551190321322\n",
      "\n",
      "Iteration: 836. \n",
      "Test - Loss: 0.3158942759037018. Accuracy: 434.1831425598335\n",
      "Train -  Loss: 0.31430745124816895. Accuracy: 434.9551190321322\n",
      "\n"
     ]
    },
    {
     "name": "stderr",
     "output_type": "stream",
     "text": [
      "Training Epochs:  84%|████████▍ | 838/1000 [01:32<00:17,  9.13it/s]"
     ]
    },
    {
     "name": "stdout",
     "output_type": "stream",
     "text": [
      "Iteration: 837. \n",
      "Test - Loss: 0.31584885716438293. Accuracy: 434.20915712799166\n",
      "Train -  Loss: 0.31426095962524414. Accuracy: 434.97463249642254\n",
      "\n",
      "Iteration: 838. \n",
      "Test - Loss: 0.31580349802970886. Accuracy: 434.26118626430804\n",
      "Train -  Loss: 0.3142145872116089. Accuracy: 434.9811369845193\n",
      "\n"
     ]
    },
    {
     "name": "stderr",
     "output_type": "stream",
     "text": [
      "Training Epochs:  84%|████████▍ | 840/1000 [01:32<00:18,  8.86it/s]"
     ]
    },
    {
     "name": "stdout",
     "output_type": "stream",
     "text": [
      "Iteration: 839. \n",
      "Test - Loss: 0.3157581090927124. Accuracy: 434.26118626430804\n",
      "Train -  Loss: 0.31416818499565125. Accuracy: 434.9811369845193\n",
      "\n",
      "Iteration: 840. \n",
      "Test - Loss: 0.3157128393650055. Accuracy: 434.28720083246617\n",
      "Train -  Loss: 0.314121812582016. Accuracy: 434.9941459607129\n",
      "\n"
     ]
    },
    {
     "name": "stderr",
     "output_type": "stream",
     "text": [
      "Training Epochs:  84%|████████▍ | 842/1000 [01:32<00:17,  8.95it/s]"
     ]
    },
    {
     "name": "stdout",
     "output_type": "stream",
     "text": [
      "Iteration: 841. \n",
      "Test - Loss: 0.3156675398349762. Accuracy: 434.31321540062436\n",
      "Train -  Loss: 0.3140754997730255. Accuracy: 434.9941459607129\n",
      "\n",
      "Iteration: 842. \n",
      "Test - Loss: 0.3156222701072693. Accuracy: 434.31321540062436\n",
      "Train -  Loss: 0.31402918696403503. Accuracy: 435.01365942500325\n",
      "\n"
     ]
    },
    {
     "name": "stderr",
     "output_type": "stream",
     "text": [
      "Training Epochs:  84%|████████▍ | 844/1000 [01:33<00:17,  9.05it/s]"
     ]
    },
    {
     "name": "stdout",
     "output_type": "stream",
     "text": [
      "Iteration: 843. \n",
      "Test - Loss: 0.31557703018188477. Accuracy: 434.28720083246617\n",
      "Train -  Loss: 0.31398287415504456. Accuracy: 435.00065044880967\n",
      "\n",
      "Iteration: 844. \n",
      "Test - Loss: 0.31553182005882263. Accuracy: 434.26118626430804\n",
      "Train -  Loss: 0.31393665075302124. Accuracy: 435.0071549369065\n",
      "\n"
     ]
    },
    {
     "name": "stderr",
     "output_type": "stream",
     "text": [
      "Training Epochs:  85%|████████▍ | 846/1000 [01:33<00:16,  9.15it/s]"
     ]
    },
    {
     "name": "stdout",
     "output_type": "stream",
     "text": [
      "Iteration: 845. \n",
      "Test - Loss: 0.3154866695404053. Accuracy: 434.28720083246617\n",
      "Train -  Loss: 0.3138904273509979. Accuracy: 435.01365942500325\n",
      "\n",
      "Iteration: 846. \n",
      "Test - Loss: 0.3154414892196655. Accuracy: 434.3392299687825\n",
      "Train -  Loss: 0.3138442635536194. Accuracy: 435.0201639131\n",
      "\n"
     ]
    },
    {
     "name": "stderr",
     "output_type": "stream",
     "text": [
      "Training Epochs:  85%|████████▍ | 848/1000 [01:33<00:16,  9.14it/s]"
     ]
    },
    {
     "name": "stdout",
     "output_type": "stream",
     "text": [
      "Iteration: 847. \n",
      "Test - Loss: 0.31539636850357056. Accuracy: 434.3652445369407\n",
      "Train -  Loss: 0.31379806995391846. Accuracy: 435.0396773773904\n",
      "\n",
      "Iteration: 848. \n",
      "Test - Loss: 0.315351277589798. Accuracy: 434.3392299687825\n",
      "Train -  Loss: 0.3137519061565399. Accuracy: 435.0461818654872\n",
      "\n"
     ]
    },
    {
     "name": "stderr",
     "output_type": "stream",
     "text": [
      "Training Epochs:  85%|████████▌ | 850/1000 [01:33<00:16,  9.04it/s]"
     ]
    },
    {
     "name": "stdout",
     "output_type": "stream",
     "text": [
      "Iteration: 849. \n",
      "Test - Loss: 0.3153061866760254. Accuracy: 434.3652445369407\n",
      "Train -  Loss: 0.31370583176612854. Accuracy: 435.05268635358397\n",
      "\n",
      "Iteration: 850. \n",
      "Test - Loss: 0.3152611255645752. Accuracy: 434.417273673257\n",
      "Train -  Loss: 0.3136597275733948. Accuracy: 435.0461818654872\n",
      "\n"
     ]
    },
    {
     "name": "stderr",
     "output_type": "stream",
     "text": [
      "Training Epochs:  85%|████████▌ | 852/1000 [01:33<00:16,  8.95it/s]"
     ]
    },
    {
     "name": "stdout",
     "output_type": "stream",
     "text": [
      "Iteration: 851. \n",
      "Test - Loss: 0.3152160942554474. Accuracy: 434.39125910509887\n",
      "Train -  Loss: 0.3136137127876282. Accuracy: 435.05268635358397\n",
      "\n",
      "Iteration: 852. \n",
      "Test - Loss: 0.31517115235328674. Accuracy: 434.417273673257\n",
      "Train -  Loss: 0.3135676681995392. Accuracy: 435.05268635358397\n",
      "\n"
     ]
    },
    {
     "name": "stderr",
     "output_type": "stream",
     "text": [
      "Training Epochs:  85%|████████▌ | 854/1000 [01:34<00:16,  8.93it/s]"
     ]
    },
    {
     "name": "stdout",
     "output_type": "stream",
     "text": [
      "Iteration: 853. \n",
      "Test - Loss: 0.3151261508464813. Accuracy: 434.417273673257\n",
      "Train -  Loss: 0.3135216534137726. Accuracy: 435.06569532977755\n",
      "\n",
      "Iteration: 854. \n",
      "Test - Loss: 0.3150812089443207. Accuracy: 434.4432882414152\n",
      "Train -  Loss: 0.31347566843032837. Accuracy: 435.07870430597114\n",
      "\n"
     ]
    },
    {
     "name": "stderr",
     "output_type": "stream",
     "text": [
      "Training Epochs:  86%|████████▌ | 856/1000 [01:34<00:16,  8.90it/s]"
     ]
    },
    {
     "name": "stdout",
     "output_type": "stream",
     "text": [
      "Iteration: 855. \n",
      "Test - Loss: 0.3150363266468048. Accuracy: 434.4432882414152\n",
      "Train -  Loss: 0.31342971324920654. Accuracy: 435.0982177702615\n",
      "\n",
      "Iteration: 856. \n",
      "Test - Loss: 0.31499144434928894. Accuracy: 434.4693028095734\n",
      "Train -  Loss: 0.3133838176727295. Accuracy: 435.0982177702615\n",
      "\n"
     ]
    },
    {
     "name": "stderr",
     "output_type": "stream",
     "text": [
      "Training Epochs:  86%|████████▌ | 858/1000 [01:34<00:15,  8.97it/s]"
     ]
    },
    {
     "name": "stdout",
     "output_type": "stream",
     "text": [
      "Iteration: 857. \n",
      "Test - Loss: 0.31494662165641785. Accuracy: 434.4953173777315\n",
      "Train -  Loss: 0.31333792209625244. Accuracy: 435.0917132821647\n",
      "\n",
      "Iteration: 858. \n",
      "Test - Loss: 0.314901739358902. Accuracy: 434.4953173777315\n",
      "Train -  Loss: 0.3132920265197754. Accuracy: 435.10472225835827\n",
      "\n"
     ]
    },
    {
     "name": "stderr",
     "output_type": "stream",
     "text": [
      "Training Epochs:  86%|████████▌ | 860/1000 [01:34<00:15,  9.03it/s]"
     ]
    },
    {
     "name": "stdout",
     "output_type": "stream",
     "text": [
      "Iteration: 859. \n",
      "Test - Loss: 0.31485694646835327. Accuracy: 434.5213319458897\n",
      "Train -  Loss: 0.3132462203502655. Accuracy: 435.1242357226486\n",
      "\n",
      "Iteration: 860. \n",
      "Test - Loss: 0.31481218338012695. Accuracy: 434.5213319458897\n",
      "Train -  Loss: 0.3132004141807556. Accuracy: 435.1242357226486\n",
      "\n"
     ]
    },
    {
     "name": "stderr",
     "output_type": "stream",
     "text": [
      "Training Epochs:  86%|████████▌ | 862/1000 [01:35<00:15,  9.06it/s]"
     ]
    },
    {
     "name": "stdout",
     "output_type": "stream",
     "text": [
      "Iteration: 861. \n",
      "Test - Loss: 0.314767450094223. Accuracy: 434.5473465140479\n",
      "Train -  Loss: 0.3131546378135681. Accuracy: 435.1242357226486\n",
      "\n",
      "Iteration: 862. \n",
      "Test - Loss: 0.3147227168083191. Accuracy: 434.5473465140479\n",
      "Train -  Loss: 0.3131088614463806. Accuracy: 435.1307402107454\n",
      "\n"
     ]
    },
    {
     "name": "stderr",
     "output_type": "stream",
     "text": [
      "Training Epochs:  86%|████████▋ | 864/1000 [01:35<00:14,  9.11it/s]"
     ]
    },
    {
     "name": "stdout",
     "output_type": "stream",
     "text": [
      "Iteration: 863. \n",
      "Test - Loss: 0.31467804312705994. Accuracy: 434.5473465140479\n",
      "Train -  Loss: 0.3130631446838379. Accuracy: 435.1372446988422\n",
      "\n",
      "Iteration: 864. \n",
      "Test - Loss: 0.3146333694458008. Accuracy: 434.5213319458897\n",
      "Train -  Loss: 0.31301742792129517. Accuracy: 435.15675816313257\n",
      "\n"
     ]
    },
    {
     "name": "stderr",
     "output_type": "stream",
     "text": [
      "Training Epochs:  87%|████████▋ | 866/1000 [01:35<00:14,  9.03it/s]"
     ]
    },
    {
     "name": "stdout",
     "output_type": "stream",
     "text": [
      "Iteration: 865. \n",
      "Test - Loss: 0.314588725566864. Accuracy: 434.5473465140479\n",
      "Train -  Loss: 0.3129717707633972. Accuracy: 435.15675816313257\n",
      "\n",
      "Iteration: 866. \n",
      "Test - Loss: 0.31454411149024963. Accuracy: 434.5473465140479\n",
      "Train -  Loss: 0.31292611360549927. Accuracy: 435.143749186939\n",
      "\n"
     ]
    },
    {
     "name": "stderr",
     "output_type": "stream",
     "text": [
      "Training Epochs:  87%|████████▋ | 868/1000 [01:35<00:14,  8.93it/s]"
     ]
    },
    {
     "name": "stdout",
     "output_type": "stream",
     "text": [
      "Iteration: 867. \n",
      "Test - Loss: 0.31449952721595764. Accuracy: 434.573361082206\n",
      "Train -  Loss: 0.3128804564476013. Accuracy: 435.16326265122933\n",
      "\n",
      "Iteration: 868. \n",
      "Test - Loss: 0.31445494294166565. Accuracy: 434.573361082206\n",
      "Train -  Loss: 0.31283488869667053. Accuracy: 435.1762716274229\n",
      "\n"
     ]
    },
    {
     "name": "stderr",
     "output_type": "stream",
     "text": [
      "Training Epochs:  87%|████████▋ | 870/1000 [01:35<00:14,  9.08it/s]"
     ]
    },
    {
     "name": "stdout",
     "output_type": "stream",
     "text": [
      "Iteration: 869. \n",
      "Test - Loss: 0.3144104480743408. Accuracy: 434.5993756503642\n",
      "Train -  Loss: 0.31278935074806213. Accuracy: 435.16976713932615\n",
      "\n",
      "Iteration: 870. \n",
      "Test - Loss: 0.3143659234046936. Accuracy: 434.6253902185224\n",
      "Train -  Loss: 0.31274381279945374. Accuracy: 435.1827761155197\n",
      "\n"
     ]
    },
    {
     "name": "stderr",
     "output_type": "stream",
     "text": [
      "Training Epochs:  87%|████████▋ | 872/1000 [01:36<00:14,  9.09it/s]"
     ]
    },
    {
     "name": "stdout",
     "output_type": "stream",
     "text": [
      "Iteration: 871. \n",
      "Test - Loss: 0.31432148814201355. Accuracy: 434.6774193548387\n",
      "Train -  Loss: 0.3126983046531677. Accuracy: 435.1892806036165\n",
      "\n",
      "Iteration: 872. \n",
      "Test - Loss: 0.3142770230770111. Accuracy: 434.6774193548387\n",
      "Train -  Loss: 0.3126528263092041. Accuracy: 435.1957850917133\n",
      "\n"
     ]
    },
    {
     "name": "stderr",
     "output_type": "stream",
     "text": [
      "Training Epochs:  87%|████████▋ | 874/1000 [01:36<00:14,  8.82it/s]"
     ]
    },
    {
     "name": "stdout",
     "output_type": "stream",
     "text": [
      "Iteration: 873. \n",
      "Test - Loss: 0.31423261761665344. Accuracy: 434.72944849115504\n",
      "Train -  Loss: 0.3126073479652405. Accuracy: 435.20228957981004\n",
      "\n",
      "Iteration: 874. \n",
      "Test - Loss: 0.3141882121562958. Accuracy: 434.72944849115504\n",
      "Train -  Loss: 0.31256192922592163. Accuracy: 435.20879406790687\n",
      "\n"
     ]
    },
    {
     "name": "stderr",
     "output_type": "stream",
     "text": [
      "Training Epochs:  88%|████████▊ | 876/1000 [01:36<00:13,  8.93it/s]"
     ]
    },
    {
     "name": "stdout",
     "output_type": "stream",
     "text": [
      "Iteration: 875. \n",
      "Test - Loss: 0.3141438364982605. Accuracy: 434.72944849115504\n",
      "Train -  Loss: 0.3125165104866028. Accuracy: 435.21529855600363\n",
      "\n",
      "Iteration: 876. \n",
      "Test - Loss: 0.3140994906425476. Accuracy: 434.75546305931323\n",
      "Train -  Loss: 0.3124711513519287. Accuracy: 435.2283075321972\n",
      "\n"
     ]
    },
    {
     "name": "stderr",
     "output_type": "stream",
     "text": [
      "Training Epochs:  88%|████████▊ | 878/1000 [01:36<00:13,  9.08it/s]"
     ]
    },
    {
     "name": "stdout",
     "output_type": "stream",
     "text": [
      "Iteration: 877. \n",
      "Test - Loss: 0.3140551745891571. Accuracy: 434.75546305931323\n",
      "Train -  Loss: 0.312425822019577. Accuracy: 435.2478209964876\n",
      "\n",
      "Iteration: 878. \n",
      "Test - Loss: 0.314010888338089. Accuracy: 434.75546305931323\n",
      "Train -  Loss: 0.31238049268722534. Accuracy: 435.2413165083908\n",
      "\n"
     ]
    },
    {
     "name": "stderr",
     "output_type": "stream",
     "text": [
      "Training Epochs:  88%|████████▊ | 880/1000 [01:37<00:13,  9.10it/s]"
     ]
    },
    {
     "name": "stdout",
     "output_type": "stream",
     "text": [
      "Iteration: 879. \n",
      "Test - Loss: 0.31396666169166565. Accuracy: 434.75546305931323\n",
      "Train -  Loss: 0.31233522295951843. Accuracy: 435.2413165083908\n",
      "\n",
      "Iteration: 880. \n",
      "Test - Loss: 0.31392237544059753. Accuracy: 434.75546305931323\n",
      "Train -  Loss: 0.31228992342948914. Accuracy: 435.25432548458434\n",
      "\n"
     ]
    },
    {
     "name": "stderr",
     "output_type": "stream",
     "text": [
      "Training Epochs:  88%|████████▊ | 882/1000 [01:37<00:13,  9.03it/s]"
     ]
    },
    {
     "name": "stdout",
     "output_type": "stream",
     "text": [
      "Iteration: 881. \n",
      "Test - Loss: 0.3138781785964966. Accuracy: 434.75546305931323\n",
      "Train -  Loss: 0.3122446835041046. Accuracy: 435.2738389488747\n",
      "\n",
      "Iteration: 882. \n",
      "Test - Loss: 0.313834011554718. Accuracy: 434.78147762747136\n",
      "Train -  Loss: 0.3121994733810425. Accuracy: 435.2738389488747\n",
      "\n"
     ]
    },
    {
     "name": "stderr",
     "output_type": "stream",
     "text": [
      "Training Epochs:  88%|████████▊ | 884/1000 [01:37<00:12,  9.11it/s]"
     ]
    },
    {
     "name": "stdout",
     "output_type": "stream",
     "text": [
      "Iteration: 883. \n",
      "Test - Loss: 0.31378984451293945. Accuracy: 434.78147762747136\n",
      "Train -  Loss: 0.31215429306030273. Accuracy: 435.2998569012619\n",
      "\n",
      "Iteration: 884. \n",
      "Test - Loss: 0.31374573707580566. Accuracy: 434.78147762747136\n",
      "Train -  Loss: 0.3121091425418854. Accuracy: 435.30636138935864\n",
      "\n"
     ]
    },
    {
     "name": "stderr",
     "output_type": "stream",
     "text": [
      "Training Epochs:  89%|████████▊ | 886/1000 [01:37<00:12,  9.05it/s]"
     ]
    },
    {
     "name": "stdout",
     "output_type": "stream",
     "text": [
      "Iteration: 885. \n",
      "Test - Loss: 0.3137016296386719. Accuracy: 434.78147762747136\n",
      "Train -  Loss: 0.312063992023468. Accuracy: 435.30636138935864\n",
      "\n",
      "Iteration: 886. \n",
      "Test - Loss: 0.3136575520038605. Accuracy: 434.80749219562955\n",
      "Train -  Loss: 0.31201890110969543. Accuracy: 435.31937036555223\n",
      "\n"
     ]
    },
    {
     "name": "stderr",
     "output_type": "stream",
     "text": [
      "Training Epochs:  89%|████████▉ | 888/1000 [01:37<00:12,  9.06it/s]"
     ]
    },
    {
     "name": "stdout",
     "output_type": "stream",
     "text": [
      "Iteration: 887. \n",
      "Test - Loss: 0.31361350417137146. Accuracy: 434.80749219562955\n",
      "Train -  Loss: 0.31197381019592285. Accuracy: 435.3323793417458\n",
      "\n",
      "Iteration: 888. \n",
      "Test - Loss: 0.31356948614120483. Accuracy: 434.80749219562955\n",
      "Train -  Loss: 0.31192877888679504. Accuracy: 435.3323793417458\n",
      "\n"
     ]
    },
    {
     "name": "stderr",
     "output_type": "stream",
     "text": [
      "Training Epochs:  89%|████████▉ | 890/1000 [01:38<00:12,  9.04it/s]"
     ]
    },
    {
     "name": "stdout",
     "output_type": "stream",
     "text": [
      "Iteration: 889. \n",
      "Test - Loss: 0.3135254681110382. Accuracy: 434.83350676378774\n",
      "Train -  Loss: 0.31188374757766724. Accuracy: 435.36490178222977\n",
      "\n",
      "Iteration: 890. \n",
      "Test - Loss: 0.31348150968551636. Accuracy: 434.85952133194587\n",
      "Train -  Loss: 0.3118387460708618. Accuracy: 435.3779107584233\n",
      "\n"
     ]
    },
    {
     "name": "stderr",
     "output_type": "stream",
     "text": [
      "Training Epochs:  89%|████████▉ | 892/1000 [01:38<00:11,  9.12it/s]"
     ]
    },
    {
     "name": "stdout",
     "output_type": "stream",
     "text": [
      "Iteration: 891. \n",
      "Test - Loss: 0.3134375512599945. Accuracy: 434.85952133194587\n",
      "Train -  Loss: 0.3117937743663788. Accuracy: 435.4039287108105\n",
      "\n",
      "Iteration: 892. \n",
      "Test - Loss: 0.31339365243911743. Accuracy: 434.85952133194587\n",
      "Train -  Loss: 0.31174883246421814. Accuracy: 435.4039287108105\n",
      "\n"
     ]
    },
    {
     "name": "stderr",
     "output_type": "stream",
     "text": [
      "Training Epochs:  89%|████████▉ | 894/1000 [01:38<00:11,  9.12it/s]"
     ]
    },
    {
     "name": "stdout",
     "output_type": "stream",
     "text": [
      "Iteration: 893. \n",
      "Test - Loss: 0.31334975361824036. Accuracy: 434.85952133194587\n",
      "Train -  Loss: 0.3117039203643799. Accuracy: 435.41043319890724\n",
      "\n",
      "Iteration: 894. \n",
      "Test - Loss: 0.31330588459968567. Accuracy: 434.85952133194587\n",
      "Train -  Loss: 0.3116590082645416. Accuracy: 435.416937687004\n",
      "\n"
     ]
    },
    {
     "name": "stderr",
     "output_type": "stream",
     "text": [
      "Training Epochs:  90%|████████▉ | 896/1000 [01:38<00:11,  9.17it/s]"
     ]
    },
    {
     "name": "stdout",
     "output_type": "stream",
     "text": [
      "Iteration: 895. \n",
      "Test - Loss: 0.31326204538345337. Accuracy: 434.85952133194587\n",
      "Train -  Loss: 0.31161415576934814. Accuracy: 435.4364511512944\n",
      "\n",
      "Iteration: 896. \n",
      "Test - Loss: 0.31321823596954346. Accuracy: 434.85952133194587\n",
      "Train -  Loss: 0.3115692734718323. Accuracy: 435.44946012748795\n",
      "\n"
     ]
    },
    {
     "name": "stderr",
     "output_type": "stream",
     "text": [
      "Training Epochs:  90%|████████▉ | 898/1000 [01:39<00:11,  9.07it/s]"
     ]
    },
    {
     "name": "stdout",
     "output_type": "stream",
     "text": [
      "Iteration: 897. \n",
      "Test - Loss: 0.3131744861602783. Accuracy: 434.85952133194587\n",
      "Train -  Loss: 0.31152448058128357. Accuracy: 435.46246910368154\n",
      "\n",
      "Iteration: 898. \n",
      "Test - Loss: 0.3131307065486908. Accuracy: 434.85952133194587\n",
      "Train -  Loss: 0.31147968769073486. Accuracy: 435.4689735917783\n",
      "\n"
     ]
    },
    {
     "name": "stderr",
     "output_type": "stream",
     "text": [
      "Training Epochs:  90%|█████████ | 900/1000 [01:39<00:10,  9.10it/s]"
     ]
    },
    {
     "name": "stdout",
     "output_type": "stream",
     "text": [
      "Iteration: 899. \n",
      "Test - Loss: 0.31308698654174805. Accuracy: 434.88553590010406\n",
      "Train -  Loss: 0.31143495440483093. Accuracy: 435.4689735917783\n",
      "\n",
      "Iteration: 900. \n",
      "Test - Loss: 0.3130432963371277. Accuracy: 434.88553590010406\n",
      "Train -  Loss: 0.3113901913166046. Accuracy: 435.4819825679719\n",
      "\n"
     ]
    },
    {
     "name": "stderr",
     "output_type": "stream",
     "text": [
      "Training Epochs:  90%|█████████ | 902/1000 [01:39<00:10,  9.03it/s]"
     ]
    },
    {
     "name": "stdout",
     "output_type": "stream",
     "text": [
      "Iteration: 901. \n",
      "Test - Loss: 0.31299957633018494. Accuracy: 434.88553590010406\n",
      "Train -  Loss: 0.31134548783302307. Accuracy: 435.4949915441655\n",
      "\n",
      "Iteration: 902. \n",
      "Test - Loss: 0.31295591592788696. Accuracy: 434.91155046826225\n",
      "Train -  Loss: 0.3113008141517639. Accuracy: 435.50149603226225\n",
      "\n"
     ]
    },
    {
     "name": "stderr",
     "output_type": "stream",
     "text": [
      "Training Epochs:  90%|█████████ | 904/1000 [01:39<00:10,  9.12it/s]"
     ]
    },
    {
     "name": "stdout",
     "output_type": "stream",
     "text": [
      "Iteration: 903. \n",
      "Test - Loss: 0.3129122853279114. Accuracy: 434.91155046826225\n",
      "Train -  Loss: 0.31125614047050476. Accuracy: 435.5210094965526\n",
      "\n",
      "Iteration: 904. \n",
      "Test - Loss: 0.3128686845302582. Accuracy: 434.91155046826225\n",
      "Train -  Loss: 0.31121155619621277. Accuracy: 435.5340184727462\n",
      "\n"
     ]
    },
    {
     "name": "stderr",
     "output_type": "stream",
     "text": [
      "Training Epochs:  91%|█████████ | 906/1000 [01:39<00:10,  8.92it/s]"
     ]
    },
    {
     "name": "stdout",
     "output_type": "stream",
     "text": [
      "Iteration: 905. \n",
      "Test - Loss: 0.31282511353492737. Accuracy: 434.91155046826225\n",
      "Train -  Loss: 0.311166912317276. Accuracy: 435.5340184727462\n",
      "\n",
      "Iteration: 906. \n",
      "Test - Loss: 0.31278154253959656. Accuracy: 434.91155046826225\n",
      "Train -  Loss: 0.3111223578453064. Accuracy: 435.54052296084296\n",
      "\n"
     ]
    },
    {
     "name": "stderr",
     "output_type": "stream",
     "text": [
      "Training Epochs:  91%|█████████ | 908/1000 [01:40<00:10,  9.02it/s]"
     ]
    },
    {
     "name": "stdout",
     "output_type": "stream",
     "text": [
      "Iteration: 907. \n",
      "Test - Loss: 0.3127380311489105. Accuracy: 434.9375650364204\n",
      "Train -  Loss: 0.3110778033733368. Accuracy: 435.54052296084296\n",
      "\n",
      "Iteration: 908. \n",
      "Test - Loss: 0.3126945197582245. Accuracy: 434.9375650364204\n",
      "Train -  Loss: 0.31103330850601196. Accuracy: 435.5600364251333\n",
      "\n"
     ]
    },
    {
     "name": "stderr",
     "output_type": "stream",
     "text": [
      "Training Epochs:  91%|█████████ | 910/1000 [01:40<00:09,  9.06it/s]"
     ]
    },
    {
     "name": "stdout",
     "output_type": "stream",
     "text": [
      "Iteration: 909. \n",
      "Test - Loss: 0.31265103816986084. Accuracy: 434.9375650364204\n",
      "Train -  Loss: 0.31098878383636475. Accuracy: 435.5730454013269\n",
      "\n",
      "Iteration: 910. \n",
      "Test - Loss: 0.3126075863838196. Accuracy: 434.98959417273676\n",
      "Train -  Loss: 0.3109443187713623. Accuracy: 435.5795498894237\n",
      "\n"
     ]
    },
    {
     "name": "stderr",
     "output_type": "stream",
     "text": [
      "Training Epochs:  91%|█████████ | 912/1000 [01:40<00:09,  9.09it/s]"
     ]
    },
    {
     "name": "stdout",
     "output_type": "stream",
     "text": [
      "Iteration: 911. \n",
      "Test - Loss: 0.3125641644001007. Accuracy: 435.0156087408949\n",
      "Train -  Loss: 0.31089988350868225. Accuracy: 435.59255886561726\n",
      "\n",
      "Iteration: 912. \n",
      "Test - Loss: 0.3125207722187042. Accuracy: 435.0156087408949\n",
      "Train -  Loss: 0.3108554482460022. Accuracy: 435.59255886561726\n",
      "\n"
     ]
    },
    {
     "name": "stderr",
     "output_type": "stream",
     "text": [
      "Training Epochs:  91%|█████████▏| 914/1000 [01:40<00:09,  9.11it/s]"
     ]
    },
    {
     "name": "stdout",
     "output_type": "stream",
     "text": [
      "Iteration: 913. \n",
      "Test - Loss: 0.31247738003730774. Accuracy: 435.0416233090531\n",
      "Train -  Loss: 0.3108110725879669. Accuracy: 435.60556784181085\n",
      "\n",
      "Iteration: 914. \n",
      "Test - Loss: 0.31243404746055603. Accuracy: 435.0676378772112\n",
      "Train -  Loss: 0.31076672673225403. Accuracy: 435.5990633537141\n",
      "\n"
     ]
    },
    {
     "name": "stderr",
     "output_type": "stream",
     "text": [
      "Training Epochs:  92%|█████████▏| 916/1000 [01:40<00:09,  9.06it/s]"
     ]
    },
    {
     "name": "stdout",
     "output_type": "stream",
     "text": [
      "Iteration: 915. \n",
      "Test - Loss: 0.3123907148838043. Accuracy: 435.0676378772112\n",
      "Train -  Loss: 0.31072235107421875. Accuracy: 435.6120723299076\n",
      "\n",
      "Iteration: 916. \n",
      "Test - Loss: 0.312347412109375. Accuracy: 435.0936524453694\n",
      "Train -  Loss: 0.31067803502082825. Accuracy: 435.6250813061012\n",
      "\n"
     ]
    },
    {
     "name": "stderr",
     "output_type": "stream",
     "text": [
      "Training Epochs:  92%|█████████▏| 918/1000 [01:41<00:09,  8.75it/s]"
     ]
    },
    {
     "name": "stdout",
     "output_type": "stream",
     "text": [
      "Iteration: 917. \n",
      "Test - Loss: 0.31230416893959045. Accuracy: 435.1196670135276\n",
      "Train -  Loss: 0.3106337785720825. Accuracy: 435.631585794198\n",
      "\n",
      "Iteration: 918. \n",
      "Test - Loss: 0.3122608959674835. Accuracy: 435.1196670135276\n",
      "Train -  Loss: 0.3105894923210144. Accuracy: 435.6250813061012\n",
      "\n"
     ]
    },
    {
     "name": "stderr",
     "output_type": "stream",
     "text": [
      "Training Epochs:  92%|█████████▏| 920/1000 [01:41<00:08,  8.96it/s]"
     ]
    },
    {
     "name": "stdout",
     "output_type": "stream",
     "text": [
      "Iteration: 919. \n",
      "Test - Loss: 0.3122176229953766. Accuracy: 435.1196670135276\n",
      "Train -  Loss: 0.31054526567459106. Accuracy: 435.6380902822948\n",
      "\n",
      "Iteration: 920. \n",
      "Test - Loss: 0.3121744990348816. Accuracy: 435.1456815816857\n",
      "Train -  Loss: 0.3105010390281677. Accuracy: 435.65760374658515\n",
      "\n"
     ]
    },
    {
     "name": "stderr",
     "output_type": "stream",
     "text": [
      "Training Epochs:  92%|█████████▏| 922/1000 [01:41<00:08,  8.93it/s]"
     ]
    },
    {
     "name": "stdout",
     "output_type": "stream",
     "text": [
      "Iteration: 921. \n",
      "Test - Loss: 0.31213128566741943. Accuracy: 435.1456815816857\n",
      "Train -  Loss: 0.31045687198638916. Accuracy: 435.6771172108755\n",
      "\n",
      "Iteration: 922. \n",
      "Test - Loss: 0.31208816170692444. Accuracy: 435.1456815816857\n",
      "Train -  Loss: 0.3104126751422882. Accuracy: 435.6771172108755\n",
      "\n"
     ]
    },
    {
     "name": "stderr",
     "output_type": "stream",
     "text": [
      "Training Epochs:  92%|█████████▏| 924/1000 [01:41<00:08,  8.99it/s]"
     ]
    },
    {
     "name": "stdout",
     "output_type": "stream",
     "text": [
      "Iteration: 923. \n",
      "Test - Loss: 0.31204503774642944. Accuracy: 435.1196670135276\n",
      "Train -  Loss: 0.3103685677051544. Accuracy: 435.6836216989723\n",
      "\n",
      "Iteration: 924. \n",
      "Test - Loss: 0.31200191378593445. Accuracy: 435.1196670135276\n",
      "Train -  Loss: 0.31032446026802063. Accuracy: 435.6901261870691\n",
      "\n"
     ]
    },
    {
     "name": "stderr",
     "output_type": "stream",
     "text": [
      "Training Epochs:  93%|█████████▎| 926/1000 [01:42<00:08,  8.97it/s]"
     ]
    },
    {
     "name": "stdout",
     "output_type": "stream",
     "text": [
      "Iteration: 925. \n",
      "Test - Loss: 0.31195884943008423. Accuracy: 435.1456815816857\n",
      "Train -  Loss: 0.31028038263320923. Accuracy: 435.70963965135945\n",
      "\n",
      "Iteration: 926. \n",
      "Test - Loss: 0.3119158148765564. Accuracy: 435.1456815816857\n",
      "Train -  Loss: 0.3102363049983978. Accuracy: 435.7161441394562\n",
      "\n"
     ]
    },
    {
     "name": "stderr",
     "output_type": "stream",
     "text": [
      "Training Epochs:  93%|█████████▎| 928/1000 [01:42<00:08,  8.98it/s]"
     ]
    },
    {
     "name": "stdout",
     "output_type": "stream",
     "text": [
      "Iteration: 927. \n",
      "Test - Loss: 0.31187278032302856. Accuracy: 435.1456815816857\n",
      "Train -  Loss: 0.3101922869682312. Accuracy: 435.722648627553\n",
      "\n",
      "Iteration: 928. \n",
      "Test - Loss: 0.3118297755718231. Accuracy: 435.1456815816857\n",
      "Train -  Loss: 0.3101482689380646. Accuracy: 435.7291531156498\n",
      "\n"
     ]
    },
    {
     "name": "stderr",
     "output_type": "stream",
     "text": [
      "Training Epochs:  93%|█████████▎| 930/1000 [01:42<00:07,  9.05it/s]"
     ]
    },
    {
     "name": "stdout",
     "output_type": "stream",
     "text": [
      "Iteration: 929. \n",
      "Test - Loss: 0.31178680062294006. Accuracy: 435.1977107180021\n",
      "Train -  Loss: 0.31010428071022034. Accuracy: 435.7161441394562\n",
      "\n",
      "Iteration: 930. \n",
      "Test - Loss: 0.3117438554763794. Accuracy: 435.1977107180021\n",
      "Train -  Loss: 0.3100603222846985. Accuracy: 435.722648627553\n",
      "\n"
     ]
    },
    {
     "name": "stderr",
     "output_type": "stream",
     "text": [
      "Training Epochs:  93%|█████████▎| 932/1000 [01:42<00:07,  9.14it/s]"
     ]
    },
    {
     "name": "stdout",
     "output_type": "stream",
     "text": [
      "Iteration: 931. \n",
      "Test - Loss: 0.3117009401321411. Accuracy: 435.22372528616023\n",
      "Train -  Loss: 0.310016393661499. Accuracy: 435.722648627553\n",
      "\n",
      "Iteration: 932. \n",
      "Test - Loss: 0.31165802478790283. Accuracy: 435.2497398543184\n",
      "Train -  Loss: 0.30997246503829956. Accuracy: 435.7291531156498\n",
      "\n"
     ]
    },
    {
     "name": "stderr",
     "output_type": "stream",
     "text": [
      "Training Epochs:  93%|█████████▎| 934/1000 [01:43<00:07,  9.06it/s]"
     ]
    },
    {
     "name": "stdout",
     "output_type": "stream",
     "text": [
      "Iteration: 933. \n",
      "Test - Loss: 0.31161513924598694. Accuracy: 435.30176899063474\n",
      "Train -  Loss: 0.3099285960197449. Accuracy: 435.7291531156498\n",
      "\n",
      "Iteration: 934. \n",
      "Test - Loss: 0.3115723133087158. Accuracy: 435.32778355879293\n",
      "Train -  Loss: 0.3098847568035126. Accuracy: 435.7291531156498\n",
      "\n"
     ]
    },
    {
     "name": "stderr",
     "output_type": "stream",
     "text": [
      "Training Epochs:  94%|█████████▎| 936/1000 [01:43<00:07,  9.08it/s]"
     ]
    },
    {
     "name": "stdout",
     "output_type": "stream",
     "text": [
      "Iteration: 935. \n",
      "Test - Loss: 0.3115294873714447. Accuracy: 435.3537981269511\n",
      "Train -  Loss: 0.3098408877849579. Accuracy: 435.7291531156498\n",
      "\n",
      "Iteration: 936. \n",
      "Test - Loss: 0.3114866614341736. Accuracy: 435.3537981269511\n",
      "Train -  Loss: 0.309797078371048. Accuracy: 435.7291531156498\n",
      "\n"
     ]
    },
    {
     "name": "stderr",
     "output_type": "stream",
     "text": [
      "Training Epochs:  94%|█████████▍| 938/1000 [01:43<00:06,  9.09it/s]"
     ]
    },
    {
     "name": "stdout",
     "output_type": "stream",
     "text": [
      "Iteration: 937. \n",
      "Test - Loss: 0.31144389510154724. Accuracy: 435.3537981269511\n",
      "Train -  Loss: 0.30975329875946045. Accuracy: 435.7356576037466\n",
      "\n",
      "Iteration: 938. \n",
      "Test - Loss: 0.3114011287689209. Accuracy: 435.37981269510925\n",
      "Train -  Loss: 0.3097095191478729. Accuracy: 435.7356576037466\n",
      "\n"
     ]
    },
    {
     "name": "stderr",
     "output_type": "stream",
     "text": [
      "Training Epochs:  94%|█████████▍| 940/1000 [01:43<00:06,  9.10it/s]"
     ]
    },
    {
     "name": "stdout",
     "output_type": "stream",
     "text": [
      "Iteration: 939. \n",
      "Test - Loss: 0.31135842204093933. Accuracy: 435.40582726326744\n",
      "Train -  Loss: 0.3096657991409302. Accuracy: 435.74866657994016\n",
      "\n",
      "Iteration: 940. \n",
      "Test - Loss: 0.31131571531295776. Accuracy: 435.4318418314256\n",
      "Train -  Loss: 0.3096221089363098. Accuracy: 435.76167555613375\n",
      "\n"
     ]
    },
    {
     "name": "stderr",
     "output_type": "stream",
     "text": [
      "Training Epochs:  94%|█████████▍| 942/1000 [01:43<00:06,  9.10it/s]"
     ]
    },
    {
     "name": "stdout",
     "output_type": "stream",
     "text": [
      "Iteration: 941. \n",
      "Test - Loss: 0.3112730383872986. Accuracy: 435.4318418314256\n",
      "Train -  Loss: 0.30957841873168945. Accuracy: 435.7746845323273\n",
      "\n",
      "Iteration: 942. \n",
      "Test - Loss: 0.3112303614616394. Accuracy: 435.4318418314256\n",
      "Train -  Loss: 0.3095347583293915. Accuracy: 435.7746845323273\n",
      "\n"
     ]
    },
    {
     "name": "stderr",
     "output_type": "stream",
     "text": [
      "Training Epochs:  94%|█████████▍| 944/1000 [01:44<00:06,  9.11it/s]"
     ]
    },
    {
     "name": "stdout",
     "output_type": "stream",
     "text": [
      "Iteration: 943. \n",
      "Test - Loss: 0.3111877739429474. Accuracy: 435.45785639958376\n",
      "Train -  Loss: 0.3094911277294159. Accuracy: 435.7876935085209\n",
      "\n",
      "Iteration: 944. \n",
      "Test - Loss: 0.31114518642425537. Accuracy: 435.4318418314256\n",
      "Train -  Loss: 0.3094475269317627. Accuracy: 435.79419799661764\n",
      "\n"
     ]
    },
    {
     "name": "stderr",
     "output_type": "stream",
     "text": [
      "Training Epochs:  95%|█████████▍| 946/1000 [01:44<00:05,  9.07it/s]"
     ]
    },
    {
     "name": "stdout",
     "output_type": "stream",
     "text": [
      "Iteration: 945. \n",
      "Test - Loss: 0.31110259890556335. Accuracy: 435.4318418314256\n",
      "Train -  Loss: 0.3094039261341095. Accuracy: 435.8202159490048\n",
      "\n",
      "Iteration: 946. \n",
      "Test - Loss: 0.3110600411891937. Accuracy: 435.4318418314256\n",
      "Train -  Loss: 0.3093603849411011. Accuracy: 435.81371146090805\n",
      "\n"
     ]
    },
    {
     "name": "stderr",
     "output_type": "stream",
     "text": [
      "Training Epochs:  95%|█████████▍| 948/1000 [01:44<00:05,  8.89it/s]"
     ]
    },
    {
     "name": "stdout",
     "output_type": "stream",
     "text": [
      "Iteration: 947. \n",
      "Test - Loss: 0.3110175132751465. Accuracy: 435.4318418314256\n",
      "Train -  Loss: 0.30931684374809265. Accuracy: 435.8202159490048\n",
      "\n",
      "Iteration: 948. \n",
      "Test - Loss: 0.31097501516342163. Accuracy: 435.4318418314256\n",
      "Train -  Loss: 0.3092733323574066. Accuracy: 435.8202159490048\n",
      "\n"
     ]
    },
    {
     "name": "stderr",
     "output_type": "stream",
     "text": [
      "Training Epochs:  95%|█████████▌| 950/1000 [01:44<00:05,  9.03it/s]"
     ]
    },
    {
     "name": "stdout",
     "output_type": "stream",
     "text": [
      "Iteration: 949. \n",
      "Test - Loss: 0.3109325170516968. Accuracy: 435.45785639958376\n",
      "Train -  Loss: 0.30922985076904297. Accuracy: 435.8267204371016\n",
      "\n",
      "Iteration: 950. \n",
      "Test - Loss: 0.3108900487422943. Accuracy: 435.45785639958376\n",
      "Train -  Loss: 0.3091863989830017. Accuracy: 435.84623390139194\n",
      "\n"
     ]
    },
    {
     "name": "stderr",
     "output_type": "stream",
     "text": [
      "Training Epochs:  95%|█████████▌| 952/1000 [01:44<00:05,  8.95it/s]"
     ]
    },
    {
     "name": "stdout",
     "output_type": "stream",
     "text": [
      "Iteration: 951. \n",
      "Test - Loss: 0.3108476400375366. Accuracy: 435.45785639958376\n",
      "Train -  Loss: 0.30914294719696045. Accuracy: 435.85273838948876\n",
      "\n",
      "Iteration: 952. \n",
      "Test - Loss: 0.31080523133277893. Accuracy: 435.45785639958376\n",
      "Train -  Loss: 0.30909955501556396. Accuracy: 435.85924287758553\n",
      "\n"
     ]
    },
    {
     "name": "stderr",
     "output_type": "stream",
     "text": [
      "Training Epochs:  95%|█████████▌| 954/1000 [01:45<00:05,  8.97it/s]"
     ]
    },
    {
     "name": "stdout",
     "output_type": "stream",
     "text": [
      "Iteration: 953. \n",
      "Test - Loss: 0.31076285243034363. Accuracy: 435.45785639958376\n",
      "Train -  Loss: 0.3090561628341675. Accuracy: 435.8657473656823\n",
      "\n",
      "Iteration: 954. \n",
      "Test - Loss: 0.3107205033302307. Accuracy: 435.45785639958376\n",
      "Train -  Loss: 0.30901283025741577. Accuracy: 435.8657473656823\n",
      "\n"
     ]
    },
    {
     "name": "stderr",
     "output_type": "stream",
     "text": [
      "Training Epochs:  96%|█████████▌| 956/1000 [01:45<00:04,  9.02it/s]"
     ]
    },
    {
     "name": "stdout",
     "output_type": "stream",
     "text": [
      "Iteration: 955. \n",
      "Test - Loss: 0.3106781542301178. Accuracy: 435.48387096774195\n",
      "Train -  Loss: 0.3089694678783417. Accuracy: 435.8657473656823\n",
      "\n",
      "Iteration: 956. \n",
      "Test - Loss: 0.31063583493232727. Accuracy: 435.48387096774195\n",
      "Train -  Loss: 0.30892613530158997. Accuracy: 435.8852608299727\n",
      "\n"
     ]
    },
    {
     "name": "stderr",
     "output_type": "stream",
     "text": [
      "Training Epochs:  96%|█████████▌| 958/1000 [01:45<00:04,  9.04it/s]"
     ]
    },
    {
     "name": "stdout",
     "output_type": "stream",
     "text": [
      "Iteration: 957. \n",
      "Test - Loss: 0.3105935752391815. Accuracy: 435.48387096774195\n",
      "Train -  Loss: 0.3088828921318054. Accuracy: 435.8917653180695\n",
      "\n",
      "Iteration: 958. \n",
      "Test - Loss: 0.3105512857437134. Accuracy: 435.48387096774195\n",
      "Train -  Loss: 0.3088396191596985. Accuracy: 435.90477429426306\n",
      "\n"
     ]
    },
    {
     "name": "stderr",
     "output_type": "stream",
     "text": [
      "Training Epochs:  96%|█████████▌| 960/1000 [01:45<00:04,  8.93it/s]"
     ]
    },
    {
     "name": "stdout",
     "output_type": "stream",
     "text": [
      "Iteration: 959. \n",
      "Test - Loss: 0.3105090856552124. Accuracy: 435.48387096774195\n",
      "Train -  Loss: 0.30879637598991394. Accuracy: 435.9242877585534\n",
      "\n",
      "Iteration: 960. \n",
      "Test - Loss: 0.31046685576438904. Accuracy: 435.5098855359001\n",
      "Train -  Loss: 0.3087531626224518. Accuracy: 435.9307922466502\n",
      "\n"
     ]
    },
    {
     "name": "stderr",
     "output_type": "stream",
     "text": [
      "Training Epochs:  96%|█████████▌| 962/1000 [01:46<00:04,  8.81it/s]"
     ]
    },
    {
     "name": "stdout",
     "output_type": "stream",
     "text": [
      "Iteration: 961. \n",
      "Test - Loss: 0.31042468547821045. Accuracy: 435.53590010405827\n",
      "Train -  Loss: 0.308709979057312. Accuracy: 435.95681019903736\n",
      "\n",
      "Iteration: 962. \n",
      "Test - Loss: 0.3103824853897095. Accuracy: 435.53590010405827\n",
      "Train -  Loss: 0.30866679549217224. Accuracy: 435.9698191752309\n",
      "\n"
     ]
    },
    {
     "name": "stderr",
     "output_type": "stream",
     "text": [
      "Training Epochs:  96%|█████████▋| 964/1000 [01:46<00:03,  9.03it/s]"
     ]
    },
    {
     "name": "stdout",
     "output_type": "stream",
     "text": [
      "Iteration: 963. \n",
      "Test - Loss: 0.31034034490585327. Accuracy: 435.5879292403746\n",
      "Train -  Loss: 0.30862367153167725. Accuracy: 435.9698191752309\n",
      "\n",
      "Iteration: 964. \n",
      "Test - Loss: 0.31029826402664185. Accuracy: 435.56191467221646\n",
      "Train -  Loss: 0.30858054757118225. Accuracy: 435.9698191752309\n",
      "\n"
     ]
    },
    {
     "name": "stderr",
     "output_type": "stream",
     "text": [
      "Training Epochs:  97%|█████████▋| 966/1000 [01:46<00:03,  8.98it/s]"
     ]
    },
    {
     "name": "stdout",
     "output_type": "stream",
     "text": [
      "Iteration: 965. \n",
      "Test - Loss: 0.31025615334510803. Accuracy: 435.56191467221646\n",
      "Train -  Loss: 0.30853745341300964. Accuracy: 435.9698191752309\n",
      "\n",
      "Iteration: 966. \n",
      "Test - Loss: 0.310214102268219. Accuracy: 435.6139438085328\n",
      "Train -  Loss: 0.3084943890571594. Accuracy: 435.96331468713413\n",
      "\n"
     ]
    },
    {
     "name": "stderr",
     "output_type": "stream",
     "text": [
      "Training Epochs:  97%|█████████▋| 968/1000 [01:46<00:03,  8.86it/s]"
     ]
    },
    {
     "name": "stdout",
     "output_type": "stream",
     "text": [
      "Iteration: 967. \n",
      "Test - Loss: 0.31017205119132996. Accuracy: 435.6139438085328\n",
      "Train -  Loss: 0.3084513247013092. Accuracy: 435.96331468713413\n",
      "\n",
      "Iteration: 968. \n",
      "Test - Loss: 0.3101300299167633. Accuracy: 435.6139438085328\n",
      "Train -  Loss: 0.30840831995010376. Accuracy: 435.9698191752309\n",
      "\n"
     ]
    },
    {
     "name": "stderr",
     "output_type": "stream",
     "text": [
      "Training Epochs:  97%|█████████▋| 970/1000 [01:47<00:03,  8.89it/s]"
     ]
    },
    {
     "name": "stdout",
     "output_type": "stream",
     "text": [
      "Iteration: 969. \n",
      "Test - Loss: 0.31008800864219666. Accuracy: 435.6139438085328\n",
      "Train -  Loss: 0.3083653450012207. Accuracy: 435.9958371276181\n",
      "\n",
      "Iteration: 970. \n",
      "Test - Loss: 0.31004607677459717. Accuracy: 435.5879292403746\n",
      "Train -  Loss: 0.30832234025001526. Accuracy: 436.0088461038116\n",
      "\n"
     ]
    },
    {
     "name": "stderr",
     "output_type": "stream",
     "text": [
      "Training Epochs:  97%|█████████▋| 972/1000 [01:47<00:03,  9.03it/s]"
     ]
    },
    {
     "name": "stdout",
     "output_type": "stream",
     "text": [
      "Iteration: 971. \n",
      "Test - Loss: 0.3100041151046753. Accuracy: 435.5879292403746\n",
      "Train -  Loss: 0.3082793951034546. Accuracy: 436.0218550800052\n",
      "\n",
      "Iteration: 972. \n",
      "Test - Loss: 0.3099621832370758. Accuracy: 435.5879292403746\n",
      "Train -  Loss: 0.3082364797592163. Accuracy: 436.028359568102\n",
      "\n"
     ]
    },
    {
     "name": "stderr",
     "output_type": "stream",
     "text": [
      "Training Epochs:  97%|█████████▋| 974/1000 [01:47<00:02,  9.01it/s]"
     ]
    },
    {
     "name": "stdout",
     "output_type": "stream",
     "text": [
      "Iteration: 973. \n",
      "Test - Loss: 0.3099203109741211. Accuracy: 435.5879292403746\n",
      "Train -  Loss: 0.3081935942173004. Accuracy: 436.028359568102\n",
      "\n",
      "Iteration: 974. \n",
      "Test - Loss: 0.309878408908844. Accuracy: 435.6139438085328\n",
      "Train -  Loss: 0.3081507086753845. Accuracy: 436.04136854429555\n",
      "\n"
     ]
    },
    {
     "name": "stderr",
     "output_type": "stream",
     "text": [
      "Training Epochs:  98%|█████████▊| 976/1000 [01:47<00:02,  9.00it/s]"
     ]
    },
    {
     "name": "stdout",
     "output_type": "stream",
     "text": [
      "Iteration: 975. \n",
      "Test - Loss: 0.30983656644821167. Accuracy: 435.63995837669097\n",
      "Train -  Loss: 0.308107852935791. Accuracy: 436.0478730323924\n",
      "\n",
      "Iteration: 976. \n",
      "Test - Loss: 0.30979475378990173. Accuracy: 435.6659729448491\n",
      "Train -  Loss: 0.3080650269985199. Accuracy: 436.0738909847795\n",
      "\n"
     ]
    },
    {
     "name": "stderr",
     "output_type": "stream",
     "text": [
      "Training Epochs:  98%|█████████▊| 978/1000 [01:47<00:02,  9.06it/s]"
     ]
    },
    {
     "name": "stdout",
     "output_type": "stream",
     "text": [
      "Iteration: 977. \n",
      "Test - Loss: 0.3097529411315918. Accuracy: 435.6919875130073\n",
      "Train -  Loss: 0.30802223086357117. Accuracy: 436.0608820085859\n",
      "\n",
      "Iteration: 978. \n",
      "Test - Loss: 0.30971112847328186. Accuracy: 435.7180020811655\n",
      "Train -  Loss: 0.30797943472862244. Accuracy: 436.06738649668273\n",
      "\n"
     ]
    },
    {
     "name": "stderr",
     "output_type": "stream",
     "text": [
      "Training Epochs:  98%|█████████▊| 980/1000 [01:48<00:02,  9.02it/s]"
     ]
    },
    {
     "name": "stdout",
     "output_type": "stream",
     "text": [
      "Iteration: 979. \n",
      "Test - Loss: 0.3096694052219391. Accuracy: 435.7180020811655\n",
      "Train -  Loss: 0.3079366683959961. Accuracy: 436.0738909847795\n",
      "\n",
      "Iteration: 980. \n",
      "Test - Loss: 0.3096277117729187. Accuracy: 435.7440166493236\n",
      "Train -  Loss: 0.3078939616680145. Accuracy: 436.0868999609731\n",
      "\n"
     ]
    },
    {
     "name": "stderr",
     "output_type": "stream",
     "text": [
      "Training Epochs:  98%|█████████▊| 982/1000 [01:48<00:02,  8.96it/s]"
     ]
    },
    {
     "name": "stdout",
     "output_type": "stream",
     "text": [
      "Iteration: 981. \n",
      "Test - Loss: 0.30958595871925354. Accuracy: 435.79604578563993\n",
      "Train -  Loss: 0.30785122513771057. Accuracy: 436.10641342526344\n",
      "\n",
      "Iteration: 982. \n",
      "Test - Loss: 0.30954429507255554. Accuracy: 435.79604578563993\n",
      "Train -  Loss: 0.3078085482120514. Accuracy: 436.10641342526344\n",
      "\n"
     ]
    },
    {
     "name": "stderr",
     "output_type": "stream",
     "text": [
      "Training Epochs:  98%|█████████▊| 984/1000 [01:48<00:01,  9.02it/s]"
     ]
    },
    {
     "name": "stdout",
     "output_type": "stream",
     "text": [
      "Iteration: 983. \n",
      "Test - Loss: 0.30950263142585754. Accuracy: 435.79604578563993\n",
      "Train -  Loss: 0.3077658712863922. Accuracy: 436.1129179133602\n",
      "\n",
      "Iteration: 984. \n",
      "Test - Loss: 0.30946099758148193. Accuracy: 435.79604578563993\n",
      "Train -  Loss: 0.3077232241630554. Accuracy: 436.1129179133602\n",
      "\n"
     ]
    },
    {
     "name": "stderr",
     "output_type": "stream",
     "text": [
      "Training Epochs:  99%|█████████▊| 986/1000 [01:48<00:01,  9.08it/s]"
     ]
    },
    {
     "name": "stdout",
     "output_type": "stream",
     "text": [
      "Iteration: 985. \n",
      "Test - Loss: 0.3094193935394287. Accuracy: 435.87408949011444\n",
      "Train -  Loss: 0.30768057703971863. Accuracy: 436.0999089371666\n",
      "\n",
      "Iteration: 986. \n",
      "Test - Loss: 0.3093777894973755. Accuracy: 435.87408949011444\n",
      "Train -  Loss: 0.307638019323349. Accuracy: 436.0738909847795\n",
      "\n"
     ]
    },
    {
     "name": "stderr",
     "output_type": "stream",
     "text": [
      "Training Epochs:  99%|█████████▉| 988/1000 [01:48<00:01,  9.13it/s]"
     ]
    },
    {
     "name": "stdout",
     "output_type": "stream",
     "text": [
      "Iteration: 987. \n",
      "Test - Loss: 0.30933621525764465. Accuracy: 435.90010405827263\n",
      "Train -  Loss: 0.30759546160697937. Accuracy: 436.08039547287626\n",
      "\n",
      "Iteration: 988. \n",
      "Test - Loss: 0.3092946708202362. Accuracy: 435.90010405827263\n",
      "Train -  Loss: 0.30755287408828735. Accuracy: 436.0999089371666\n",
      "\n"
     ]
    },
    {
     "name": "stderr",
     "output_type": "stream",
     "text": [
      "Training Epochs:  99%|█████████▉| 990/1000 [01:49<00:01,  9.09it/s]"
     ]
    },
    {
     "name": "stdout",
     "output_type": "stream",
     "text": [
      "Iteration: 989. \n",
      "Test - Loss: 0.30925315618515015. Accuracy: 435.90010405827263\n",
      "Train -  Loss: 0.3075103461742401. Accuracy: 436.1259268895538\n",
      "\n",
      "Iteration: 990. \n",
      "Test - Loss: 0.3092116415500641. Accuracy: 435.9261186264308\n",
      "Train -  Loss: 0.30746787786483765. Accuracy: 436.1389358657474\n",
      "\n"
     ]
    },
    {
     "name": "stderr",
     "output_type": "stream",
     "text": [
      "Training Epochs:  99%|█████████▉| 992/1000 [01:49<00:00,  9.06it/s]"
     ]
    },
    {
     "name": "stdout",
     "output_type": "stream",
     "text": [
      "Iteration: 991. \n",
      "Test - Loss: 0.3091701865196228. Accuracy: 435.9261186264308\n",
      "Train -  Loss: 0.3074253797531128. Accuracy: 436.1519448419409\n",
      "\n",
      "Iteration: 992. \n",
      "Test - Loss: 0.3091287314891815. Accuracy: 435.9261186264308\n",
      "Train -  Loss: 0.3073829710483551. Accuracy: 436.1649538181345\n",
      "\n"
     ]
    },
    {
     "name": "stderr",
     "output_type": "stream",
     "text": [
      "Training Epochs:  99%|█████████▉| 994/1000 [01:49<00:00,  9.12it/s]"
     ]
    },
    {
     "name": "stdout",
     "output_type": "stream",
     "text": [
      "Iteration: 993. \n",
      "Test - Loss: 0.30908727645874023. Accuracy: 435.97814776274714\n",
      "Train -  Loss: 0.30734050273895264. Accuracy: 436.18446728242486\n",
      "\n",
      "Iteration: 994. \n",
      "Test - Loss: 0.3090459108352661. Accuracy: 435.97814776274714\n",
      "Train -  Loss: 0.30729809403419495. Accuracy: 436.18446728242486\n",
      "\n"
     ]
    },
    {
     "name": "stderr",
     "output_type": "stream",
     "text": [
      "Training Epochs: 100%|█████████▉| 996/1000 [01:49<00:00,  8.97it/s]"
     ]
    },
    {
     "name": "stdout",
     "output_type": "stream",
     "text": [
      "Iteration: 995. \n",
      "Test - Loss: 0.3090044856071472. Accuracy: 435.97814776274714\n",
      "Train -  Loss: 0.30725571513175964. Accuracy: 436.1909717705217\n",
      "\n",
      "Iteration: 996. \n",
      "Test - Loss: 0.3089631497859955. Accuracy: 436.00416233090533\n",
      "Train -  Loss: 0.30721336603164673. Accuracy: 436.1909717705217\n",
      "\n"
     ]
    },
    {
     "name": "stderr",
     "output_type": "stream",
     "text": [
      "Training Epochs: 100%|█████████▉| 998/1000 [01:50<00:00,  9.03it/s]"
     ]
    },
    {
     "name": "stdout",
     "output_type": "stream",
     "text": [
      "Iteration: 997. \n",
      "Test - Loss: 0.30892181396484375. Accuracy: 436.00416233090533\n",
      "Train -  Loss: 0.3071710169315338. Accuracy: 436.1909717705217\n",
      "\n",
      "Iteration: 998. \n",
      "Test - Loss: 0.3088805079460144. Accuracy: 436.03017689906346\n",
      "Train -  Loss: 0.3071287274360657. Accuracy: 436.19747625861845\n",
      "\n"
     ]
    },
    {
     "name": "stderr",
     "output_type": "stream",
     "text": [
      "Training Epochs: 100%|██████████| 1000/1000 [01:50<00:00,  9.06it/s]"
     ]
    },
    {
     "name": "stdout",
     "output_type": "stream",
     "text": [
      "Iteration: 999. \n",
      "Test - Loss: 0.30883920192718506. Accuracy: 436.108220603538\n",
      "Train -  Loss: 0.30708640813827515. Accuracy: 436.21048523481204\n",
      "\n",
      "Iteration: 1000. \n",
      "Test - Loss: 0.3087979555130005. Accuracy: 436.108220603538\n",
      "Train -  Loss: 0.3070441782474518. Accuracy: 436.21048523481204\n",
      "\n"
     ]
    },
    {
     "name": "stderr",
     "output_type": "stream",
     "text": [
      "\n"
     ]
    }
   ],
   "source": [
    "epochs = 1000\n",
    "\n",
    "losses = []\n",
    "losses_test = []\n",
    "Iterations = []\n",
    "iter = 0\n",
    "for epoch in tqdm(range(int(epochs)),desc='Training Epochs'):\n",
    "    x = X_train\n",
    "    labels = y_train\n",
    "    optimizer.zero_grad() # Setting our stored gradients equal to zero\n",
    "    outputs = model(X_train)\n",
    "    loss = criterion(torch.squeeze(outputs), labels) # [200,1] -squeeze-> [200]\n",
    "    \n",
    "    loss.backward() # Computes the gradient of the given tensor w.r.t. graph leaves \n",
    "    \n",
    "    optimizer.step() # Updates weights and biases with the optimizer (SGD)\n",
    "    \n",
    "    iter+=1\n",
    "    \n",
    "        # calculate Accuracy\n",
    "    with torch.no_grad():\n",
    "        # Calculating the loss and accuracy for the test dataset\n",
    "        correct_test = 0\n",
    "        total_test = 0\n",
    "        outputs_test = torch.squeeze(model(X_test).cpu())\n",
    "        loss_test = criterion(outputs_test.cpu(), y_test.cpu())\n",
    "        \n",
    "        predicted_test = outputs_test.round().detach().cpu().numpy()\n",
    "        total_test += y_test.size(0)\n",
    "        correct_test += np.sum(predicted_test == y_test.detach().cpu().numpy())\n",
    "        accuracy_test = 100 * correct_test/total_test\n",
    "        losses_test.append(loss_test.item())\n",
    "        \n",
    "        # Calculating the loss and accuracy for the train dataset\n",
    "        total = 0\n",
    "        correct = 0\n",
    "        total += y_train.size(0)\n",
    "        correct += np.sum(torch.squeeze(outputs).round().detach().cpu().numpy() == y_train.detach().cpu().numpy())\n",
    "        accuracy = 100 * correct/total\n",
    "        losses.append(loss.item())\n",
    "        Iterations.append(iter)\n",
    "\n",
    "        if iter%1==0:\n",
    "            print(f\"Iteration: {iter}. \\nTest - Loss: {loss_test.item()}. Accuracy: {accuracy_test}\")\n",
    "            print(f\"Train -  Loss: {loss.item()}. Accuracy: {accuracy}\\n\")"
   ]
  },
  {
   "cell_type": "code",
   "execution_count": 73,
   "metadata": {},
   "outputs": [
    {
     "data": {
      "text/plain": [
       "[<matplotlib.lines.Line2D at 0x7fc1aa29c5b0>]"
      ]
     },
     "execution_count": 73,
     "metadata": {},
     "output_type": "execute_result"
    },
    {
     "data": {
      "image/png": "[encoded data removed]",
      "text/plain": [
       "<Figure size 432x288 with 1 Axes>"
      ]
     },
     "metadata": {
      "needs_background": "light"
     },
     "output_type": "display_data"
    }
   ],
   "source": [
    "import matplotlib.pyplot as plt \n",
    "plt.plot(Iterations, losses, label=\"Train\")"
   ]
  },
  {
   "cell_type": "code",
   "execution_count": 58,
   "metadata": {},
   "outputs": [
    {
     "data": {
      "text/plain": [
       "[]"
      ]
     },
     "execution_count": 58,
     "metadata": {},
     "output_type": "execute_result"
    }
   ],
   "source": [
    "losses"
   ]
  },
  {
   "cell_type": "code",
   "execution_count": null,
   "metadata": {},
   "outputs": [],
   "source": []
  }
 ],
 "metadata": {
  "kernelspec": {
   "display_name": "Python 3",
   "language": "python",
   "name": "python3"
  },
  "language_info": {
   "codemirror_mode": {
    "name": "ipython",
    "version": 3
   },
   "file_extension": ".py",
   "mimetype": "text/x-python",
   "name": "python",
   "nbconvert_exporter": "python",
   "pygments_lexer": "ipython3",
   "version": "3.10.6"
  },
  "orig_nbformat": 4
 },
 "nbformat": 4,
 "nbformat_minor": 2
}
